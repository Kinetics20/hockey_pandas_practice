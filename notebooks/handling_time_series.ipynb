{
 "cells": [
  {
   "cell_type": "code",
   "id": "initial_id",
   "metadata": {
    "collapsed": true,
    "ExecuteTime": {
     "end_time": "2025-03-23T10:30:50.761917Z",
     "start_time": "2025-03-23T10:30:50.208138Z"
    }
   },
   "source": [
    "import pandas as pd\n",
    "\n",
    "\n",
    "from settings import INTERIM"
   ],
   "outputs": [],
   "execution_count": 1
  },
  {
   "metadata": {
    "ExecuteTime": {
     "end_time": "2025-03-23T10:39:38.310821Z",
     "start_time": "2025-03-23T10:39:38.301179Z"
    }
   },
   "cell_type": "code",
   "source": [
    "master = pd.read_pickle(INTERIM / 'master.pkl')\n",
    "team_splits = pd.read_pickle(INTERIM / 'teams_splits_multi_index.pkl')"
   ],
   "id": "c66ba73502ca9bae",
   "outputs": [],
   "execution_count": 6
  },
  {
   "metadata": {
    "ExecuteTime": {
     "end_time": "2025-03-23T10:39:41.028940Z",
     "start_time": "2025-03-23T10:39:40.994275Z"
    }
   },
   "cell_type": "code",
   "source": "master.head()",
   "id": "8e085d3b5b6150ad",
   "outputs": [
    {
     "data": {
      "text/plain": [
       "          firstName     lastName pos  birthYear  birthMon  birthDay  \\\n",
       "playerID                                                              \n",
       "aaltoan01     Antti        Aalto   C     1975.0       3.0       4.0   \n",
       "abdelju01    Justin   Abdelkader   L     1987.0       2.0      25.0   \n",
       "abidra01      Ramzi         Abid   L     1980.0       3.0      24.0   \n",
       "abrahth01    Thommy  Abrahamsson   D     1947.0       4.0      12.0   \n",
       "actonke01     Keith        Acton   C     1958.0       4.0      15.0   \n",
       "\n",
       "          birthCountry birthState     birthCity  \n",
       "playerID                                         \n",
       "aaltoan01      Finland        NaN  Lappeenranta  \n",
       "abdelju01          USA         MI      Muskegon  \n",
       "abidra01        Canada         QC      Montreal  \n",
       "abrahth01       Sweden        NaN       Leksand  \n",
       "actonke01       Canada         ON   Stouffville  "
      ],
      "text/html": [
       "<div>\n",
       "<style scoped>\n",
       "    .dataframe tbody tr th:only-of-type {\n",
       "        vertical-align: middle;\n",
       "    }\n",
       "\n",
       "    .dataframe tbody tr th {\n",
       "        vertical-align: top;\n",
       "    }\n",
       "\n",
       "    .dataframe thead th {\n",
       "        text-align: right;\n",
       "    }\n",
       "</style>\n",
       "<table border=\"1\" class=\"dataframe\">\n",
       "  <thead>\n",
       "    <tr style=\"text-align: right;\">\n",
       "      <th></th>\n",
       "      <th>firstName</th>\n",
       "      <th>lastName</th>\n",
       "      <th>pos</th>\n",
       "      <th>birthYear</th>\n",
       "      <th>birthMon</th>\n",
       "      <th>birthDay</th>\n",
       "      <th>birthCountry</th>\n",
       "      <th>birthState</th>\n",
       "      <th>birthCity</th>\n",
       "    </tr>\n",
       "    <tr>\n",
       "      <th>playerID</th>\n",
       "      <th></th>\n",
       "      <th></th>\n",
       "      <th></th>\n",
       "      <th></th>\n",
       "      <th></th>\n",
       "      <th></th>\n",
       "      <th></th>\n",
       "      <th></th>\n",
       "      <th></th>\n",
       "    </tr>\n",
       "  </thead>\n",
       "  <tbody>\n",
       "    <tr>\n",
       "      <th>aaltoan01</th>\n",
       "      <td>Antti</td>\n",
       "      <td>Aalto</td>\n",
       "      <td>C</td>\n",
       "      <td>1975.0</td>\n",
       "      <td>3.0</td>\n",
       "      <td>4.0</td>\n",
       "      <td>Finland</td>\n",
       "      <td>NaN</td>\n",
       "      <td>Lappeenranta</td>\n",
       "    </tr>\n",
       "    <tr>\n",
       "      <th>abdelju01</th>\n",
       "      <td>Justin</td>\n",
       "      <td>Abdelkader</td>\n",
       "      <td>L</td>\n",
       "      <td>1987.0</td>\n",
       "      <td>2.0</td>\n",
       "      <td>25.0</td>\n",
       "      <td>USA</td>\n",
       "      <td>MI</td>\n",
       "      <td>Muskegon</td>\n",
       "    </tr>\n",
       "    <tr>\n",
       "      <th>abidra01</th>\n",
       "      <td>Ramzi</td>\n",
       "      <td>Abid</td>\n",
       "      <td>L</td>\n",
       "      <td>1980.0</td>\n",
       "      <td>3.0</td>\n",
       "      <td>24.0</td>\n",
       "      <td>Canada</td>\n",
       "      <td>QC</td>\n",
       "      <td>Montreal</td>\n",
       "    </tr>\n",
       "    <tr>\n",
       "      <th>abrahth01</th>\n",
       "      <td>Thommy</td>\n",
       "      <td>Abrahamsson</td>\n",
       "      <td>D</td>\n",
       "      <td>1947.0</td>\n",
       "      <td>4.0</td>\n",
       "      <td>12.0</td>\n",
       "      <td>Sweden</td>\n",
       "      <td>NaN</td>\n",
       "      <td>Leksand</td>\n",
       "    </tr>\n",
       "    <tr>\n",
       "      <th>actonke01</th>\n",
       "      <td>Keith</td>\n",
       "      <td>Acton</td>\n",
       "      <td>C</td>\n",
       "      <td>1958.0</td>\n",
       "      <td>4.0</td>\n",
       "      <td>15.0</td>\n",
       "      <td>Canada</td>\n",
       "      <td>ON</td>\n",
       "      <td>Stouffville</td>\n",
       "    </tr>\n",
       "  </tbody>\n",
       "</table>\n",
       "</div>"
      ]
     },
     "execution_count": 7,
     "metadata": {},
     "output_type": "execute_result"
    }
   ],
   "execution_count": 7
  },
  {
   "metadata": {
    "ExecuteTime": {
     "end_time": "2025-03-23T10:39:45.172657Z",
     "start_time": "2025-03-23T10:39:45.143729Z"
    }
   },
   "cell_type": "code",
   "source": [
    "master['birthDate'] = pd.to_datetime(arg={\n",
    "    'year': master.birthYear,\n",
    "    'month': master.birthMon,\n",
    "    'day': master.birthDay,\n",
    "})"
   ],
   "id": "d15b5477e7359b67",
   "outputs": [],
   "execution_count": 8
  },
  {
   "metadata": {
    "ExecuteTime": {
     "end_time": "2025-03-23T10:39:55.122639Z",
     "start_time": "2025-03-23T10:39:55.100893Z"
    }
   },
   "cell_type": "code",
   "source": "master.head()",
   "id": "6d24af5e8e5fbd30",
   "outputs": [
    {
     "data": {
      "text/plain": [
       "          firstName     lastName pos  birthYear  birthMon  birthDay  \\\n",
       "playerID                                                              \n",
       "aaltoan01     Antti        Aalto   C     1975.0       3.0       4.0   \n",
       "abdelju01    Justin   Abdelkader   L     1987.0       2.0      25.0   \n",
       "abidra01      Ramzi         Abid   L     1980.0       3.0      24.0   \n",
       "abrahth01    Thommy  Abrahamsson   D     1947.0       4.0      12.0   \n",
       "actonke01     Keith        Acton   C     1958.0       4.0      15.0   \n",
       "\n",
       "          birthCountry birthState     birthCity  birthDate  \n",
       "playerID                                                    \n",
       "aaltoan01      Finland        NaN  Lappeenranta 1975-03-04  \n",
       "abdelju01          USA         MI      Muskegon 1987-02-25  \n",
       "abidra01        Canada         QC      Montreal 1980-03-24  \n",
       "abrahth01       Sweden        NaN       Leksand 1947-04-12  \n",
       "actonke01       Canada         ON   Stouffville 1958-04-15  "
      ],
      "text/html": [
       "<div>\n",
       "<style scoped>\n",
       "    .dataframe tbody tr th:only-of-type {\n",
       "        vertical-align: middle;\n",
       "    }\n",
       "\n",
       "    .dataframe tbody tr th {\n",
       "        vertical-align: top;\n",
       "    }\n",
       "\n",
       "    .dataframe thead th {\n",
       "        text-align: right;\n",
       "    }\n",
       "</style>\n",
       "<table border=\"1\" class=\"dataframe\">\n",
       "  <thead>\n",
       "    <tr style=\"text-align: right;\">\n",
       "      <th></th>\n",
       "      <th>firstName</th>\n",
       "      <th>lastName</th>\n",
       "      <th>pos</th>\n",
       "      <th>birthYear</th>\n",
       "      <th>birthMon</th>\n",
       "      <th>birthDay</th>\n",
       "      <th>birthCountry</th>\n",
       "      <th>birthState</th>\n",
       "      <th>birthCity</th>\n",
       "      <th>birthDate</th>\n",
       "    </tr>\n",
       "    <tr>\n",
       "      <th>playerID</th>\n",
       "      <th></th>\n",
       "      <th></th>\n",
       "      <th></th>\n",
       "      <th></th>\n",
       "      <th></th>\n",
       "      <th></th>\n",
       "      <th></th>\n",
       "      <th></th>\n",
       "      <th></th>\n",
       "      <th></th>\n",
       "    </tr>\n",
       "  </thead>\n",
       "  <tbody>\n",
       "    <tr>\n",
       "      <th>aaltoan01</th>\n",
       "      <td>Antti</td>\n",
       "      <td>Aalto</td>\n",
       "      <td>C</td>\n",
       "      <td>1975.0</td>\n",
       "      <td>3.0</td>\n",
       "      <td>4.0</td>\n",
       "      <td>Finland</td>\n",
       "      <td>NaN</td>\n",
       "      <td>Lappeenranta</td>\n",
       "      <td>1975-03-04</td>\n",
       "    </tr>\n",
       "    <tr>\n",
       "      <th>abdelju01</th>\n",
       "      <td>Justin</td>\n",
       "      <td>Abdelkader</td>\n",
       "      <td>L</td>\n",
       "      <td>1987.0</td>\n",
       "      <td>2.0</td>\n",
       "      <td>25.0</td>\n",
       "      <td>USA</td>\n",
       "      <td>MI</td>\n",
       "      <td>Muskegon</td>\n",
       "      <td>1987-02-25</td>\n",
       "    </tr>\n",
       "    <tr>\n",
       "      <th>abidra01</th>\n",
       "      <td>Ramzi</td>\n",
       "      <td>Abid</td>\n",
       "      <td>L</td>\n",
       "      <td>1980.0</td>\n",
       "      <td>3.0</td>\n",
       "      <td>24.0</td>\n",
       "      <td>Canada</td>\n",
       "      <td>QC</td>\n",
       "      <td>Montreal</td>\n",
       "      <td>1980-03-24</td>\n",
       "    </tr>\n",
       "    <tr>\n",
       "      <th>abrahth01</th>\n",
       "      <td>Thommy</td>\n",
       "      <td>Abrahamsson</td>\n",
       "      <td>D</td>\n",
       "      <td>1947.0</td>\n",
       "      <td>4.0</td>\n",
       "      <td>12.0</td>\n",
       "      <td>Sweden</td>\n",
       "      <td>NaN</td>\n",
       "      <td>Leksand</td>\n",
       "      <td>1947-04-12</td>\n",
       "    </tr>\n",
       "    <tr>\n",
       "      <th>actonke01</th>\n",
       "      <td>Keith</td>\n",
       "      <td>Acton</td>\n",
       "      <td>C</td>\n",
       "      <td>1958.0</td>\n",
       "      <td>4.0</td>\n",
       "      <td>15.0</td>\n",
       "      <td>Canada</td>\n",
       "      <td>ON</td>\n",
       "      <td>Stouffville</td>\n",
       "      <td>1958-04-15</td>\n",
       "    </tr>\n",
       "  </tbody>\n",
       "</table>\n",
       "</div>"
      ]
     },
     "execution_count": 9,
     "metadata": {},
     "output_type": "execute_result"
    }
   ],
   "execution_count": 9
  },
  {
   "metadata": {
    "ExecuteTime": {
     "end_time": "2025-03-23T10:40:27.587705Z",
     "start_time": "2025-03-23T10:40:27.572715Z"
    }
   },
   "cell_type": "code",
   "source": [
    "master.drop(columns=['birthYear', 'birthMon', 'birthDay'], inplace=True)\n",
    "master.head()"
   ],
   "id": "3bd2ced3fd6d7a72",
   "outputs": [
    {
     "data": {
      "text/plain": [
       "          firstName     lastName pos birthCountry birthState     birthCity  \\\n",
       "playerID                                                                     \n",
       "aaltoan01     Antti        Aalto   C      Finland        NaN  Lappeenranta   \n",
       "abdelju01    Justin   Abdelkader   L          USA         MI      Muskegon   \n",
       "abidra01      Ramzi         Abid   L       Canada         QC      Montreal   \n",
       "abrahth01    Thommy  Abrahamsson   D       Sweden        NaN       Leksand   \n",
       "actonke01     Keith        Acton   C       Canada         ON   Stouffville   \n",
       "\n",
       "           birthDate  \n",
       "playerID              \n",
       "aaltoan01 1975-03-04  \n",
       "abdelju01 1987-02-25  \n",
       "abidra01  1980-03-24  \n",
       "abrahth01 1947-04-12  \n",
       "actonke01 1958-04-15  "
      ],
      "text/html": [
       "<div>\n",
       "<style scoped>\n",
       "    .dataframe tbody tr th:only-of-type {\n",
       "        vertical-align: middle;\n",
       "    }\n",
       "\n",
       "    .dataframe tbody tr th {\n",
       "        vertical-align: top;\n",
       "    }\n",
       "\n",
       "    .dataframe thead th {\n",
       "        text-align: right;\n",
       "    }\n",
       "</style>\n",
       "<table border=\"1\" class=\"dataframe\">\n",
       "  <thead>\n",
       "    <tr style=\"text-align: right;\">\n",
       "      <th></th>\n",
       "      <th>firstName</th>\n",
       "      <th>lastName</th>\n",
       "      <th>pos</th>\n",
       "      <th>birthCountry</th>\n",
       "      <th>birthState</th>\n",
       "      <th>birthCity</th>\n",
       "      <th>birthDate</th>\n",
       "    </tr>\n",
       "    <tr>\n",
       "      <th>playerID</th>\n",
       "      <th></th>\n",
       "      <th></th>\n",
       "      <th></th>\n",
       "      <th></th>\n",
       "      <th></th>\n",
       "      <th></th>\n",
       "      <th></th>\n",
       "    </tr>\n",
       "  </thead>\n",
       "  <tbody>\n",
       "    <tr>\n",
       "      <th>aaltoan01</th>\n",
       "      <td>Antti</td>\n",
       "      <td>Aalto</td>\n",
       "      <td>C</td>\n",
       "      <td>Finland</td>\n",
       "      <td>NaN</td>\n",
       "      <td>Lappeenranta</td>\n",
       "      <td>1975-03-04</td>\n",
       "    </tr>\n",
       "    <tr>\n",
       "      <th>abdelju01</th>\n",
       "      <td>Justin</td>\n",
       "      <td>Abdelkader</td>\n",
       "      <td>L</td>\n",
       "      <td>USA</td>\n",
       "      <td>MI</td>\n",
       "      <td>Muskegon</td>\n",
       "      <td>1987-02-25</td>\n",
       "    </tr>\n",
       "    <tr>\n",
       "      <th>abidra01</th>\n",
       "      <td>Ramzi</td>\n",
       "      <td>Abid</td>\n",
       "      <td>L</td>\n",
       "      <td>Canada</td>\n",
       "      <td>QC</td>\n",
       "      <td>Montreal</td>\n",
       "      <td>1980-03-24</td>\n",
       "    </tr>\n",
       "    <tr>\n",
       "      <th>abrahth01</th>\n",
       "      <td>Thommy</td>\n",
       "      <td>Abrahamsson</td>\n",
       "      <td>D</td>\n",
       "      <td>Sweden</td>\n",
       "      <td>NaN</td>\n",
       "      <td>Leksand</td>\n",
       "      <td>1947-04-12</td>\n",
       "    </tr>\n",
       "    <tr>\n",
       "      <th>actonke01</th>\n",
       "      <td>Keith</td>\n",
       "      <td>Acton</td>\n",
       "      <td>C</td>\n",
       "      <td>Canada</td>\n",
       "      <td>ON</td>\n",
       "      <td>Stouffville</td>\n",
       "      <td>1958-04-15</td>\n",
       "    </tr>\n",
       "  </tbody>\n",
       "</table>\n",
       "</div>"
      ]
     },
     "execution_count": 10,
     "metadata": {},
     "output_type": "execute_result"
    }
   ],
   "execution_count": 10
  },
  {
   "metadata": {
    "ExecuteTime": {
     "end_time": "2025-03-23T10:41:45.743528Z",
     "start_time": "2025-03-23T10:41:45.735195Z"
    }
   },
   "cell_type": "code",
   "source": [
    "ts = master.iloc[0, -1]\n",
    "ts"
   ],
   "id": "7589e465662d09f7",
   "outputs": [
    {
     "data": {
      "text/plain": [
       "Timestamp('1975-03-04 00:00:00')"
      ]
     },
     "execution_count": 11,
     "metadata": {},
     "output_type": "execute_result"
    }
   ],
   "execution_count": 11
  },
  {
   "metadata": {
    "ExecuteTime": {
     "end_time": "2025-03-23T10:43:24.026136Z",
     "start_time": "2025-03-23T10:43:24.016929Z"
    }
   },
   "cell_type": "code",
   "source": "ts.day_name()",
   "id": "a17ea2f2f7af4862",
   "outputs": [
    {
     "data": {
      "text/plain": [
       "'Tuesday'"
      ]
     },
     "execution_count": 12,
     "metadata": {},
     "output_type": "execute_result"
    }
   ],
   "execution_count": 12
  },
  {
   "metadata": {
    "ExecuteTime": {
     "end_time": "2025-03-23T10:43:33.904895Z",
     "start_time": "2025-03-23T10:43:33.887060Z"
    }
   },
   "cell_type": "code",
   "source": "ts.day",
   "id": "6186ef4219ea0b71",
   "outputs": [
    {
     "data": {
      "text/plain": [
       "4"
      ]
     },
     "execution_count": 13,
     "metadata": {},
     "output_type": "execute_result"
    }
   ],
   "execution_count": 13
  },
  {
   "metadata": {
    "ExecuteTime": {
     "end_time": "2025-03-23T10:44:15.285644Z",
     "start_time": "2025-03-23T10:44:15.278810Z"
    }
   },
   "cell_type": "code",
   "source": "ts.month_name()",
   "id": "2f30a286d04f2e03",
   "outputs": [
    {
     "data": {
      "text/plain": [
       "'March'"
      ]
     },
     "execution_count": 14,
     "metadata": {},
     "output_type": "execute_result"
    }
   ],
   "execution_count": 14
  },
  {
   "metadata": {
    "ExecuteTime": {
     "end_time": "2025-03-23T10:44:31.313288Z",
     "start_time": "2025-03-23T10:44:31.306052Z"
    }
   },
   "cell_type": "code",
   "source": "ts.year",
   "id": "4ba75275846c70a4",
   "outputs": [
    {
     "data": {
      "text/plain": [
       "1975"
      ]
     },
     "execution_count": 15,
     "metadata": {},
     "output_type": "execute_result"
    }
   ],
   "execution_count": 15
  },
  {
   "metadata": {
    "ExecuteTime": {
     "end_time": "2025-03-23T10:45:53.252789Z",
     "start_time": "2025-03-23T10:45:53.242908Z"
    }
   },
   "cell_type": "code",
   "source": [
    "tsz = ts.tz_localize('America/Toronto')\n",
    "tsz"
   ],
   "id": "cf17d36de30758d5",
   "outputs": [
    {
     "data": {
      "text/plain": [
       "Timestamp('1975-03-04 00:00:00-0500', tz='America/Toronto')"
      ]
     },
     "execution_count": 17,
     "metadata": {},
     "output_type": "execute_result"
    }
   ],
   "execution_count": 17
  },
  {
   "metadata": {
    "ExecuteTime": {
     "end_time": "2025-03-23T10:46:56.069903Z",
     "start_time": "2025-03-23T10:46:56.057613Z"
    }
   },
   "cell_type": "code",
   "source": "tsz.tz_convert('Europe/London')",
   "id": "3bc352cef8c139ef",
   "outputs": [
    {
     "data": {
      "text/plain": [
       "Timestamp('1975-03-04 05:00:00+0000', tz='Europe/London')"
      ]
     },
     "execution_count": 18,
     "metadata": {},
     "output_type": "execute_result"
    }
   ],
   "execution_count": 18
  },
  {
   "metadata": {
    "ExecuteTime": {
     "end_time": "2025-03-23T10:53:54.496537Z",
     "start_time": "2025-03-23T10:53:54.483833Z"
    }
   },
   "cell_type": "code",
   "source": "master['birthDate'].dt.strftime('%Y-%m-%d')",
   "id": "64d93d93a9ca281e",
   "outputs": [
    {
     "data": {
      "text/plain": [
       "playerID\n",
       "aaltoan01    1975-03-04\n",
       "abdelju01    1987-02-25\n",
       "abidra01     1980-03-24\n",
       "abrahth01    1947-04-12\n",
       "actonke01    1958-04-15\n",
       "                ...    \n",
       "zubruda01    1978-06-16\n",
       "zuccama01    1987-09-01\n",
       "zuckeja01    1992-01-16\n",
       "zukemi01     1954-04-16\n",
       "zyuzian01    1978-01-21\n",
       "Name: birthDate, Length: 4627, dtype: object"
      ]
     },
     "execution_count": 22,
     "metadata": {},
     "output_type": "execute_result"
    }
   ],
   "execution_count": 22
  },
  {
   "metadata": {
    "ExecuteTime": {
     "end_time": "2025-03-23T10:50:44.518002Z",
     "start_time": "2025-03-23T10:50:44.506177Z"
    }
   },
   "cell_type": "code",
   "source": "master['lastName'].str.upper()",
   "id": "67b7e3acb290b975",
   "outputs": [
    {
     "data": {
      "text/plain": [
       "playerID\n",
       "aaltoan01          AALTO\n",
       "abdelju01     ABDELKADER\n",
       "abidra01            ABID\n",
       "abrahth01    ABRAHAMSSON\n",
       "actonke01          ACTON\n",
       "                ...     \n",
       "zubruda01         ZUBRUS\n",
       "zuccama01     ZUCCARELLO\n",
       "zuckeja01         ZUCKER\n",
       "zukemi01            ZUKE\n",
       "zyuzian01         ZYUZIN\n",
       "Name: lastName, Length: 4627, dtype: object"
      ]
     },
     "execution_count": 19,
     "metadata": {},
     "output_type": "execute_result"
    }
   ],
   "execution_count": 19
  },
  {
   "metadata": {
    "ExecuteTime": {
     "end_time": "2025-03-23T10:54:08.885217Z",
     "start_time": "2025-03-23T10:54:08.874836Z"
    }
   },
   "cell_type": "code",
   "source": "strings = master['birthDate'].dt.strftime('%Y-%m-%d')",
   "id": "235fcaf9ce02309a",
   "outputs": [],
   "execution_count": 23
  },
  {
   "metadata": {
    "ExecuteTime": {
     "end_time": "2025-03-23T10:54:47.016019Z",
     "start_time": "2025-03-23T10:54:47.004305Z"
    }
   },
   "cell_type": "code",
   "source": [
    "dates = pd.to_datetime(strings)\n",
    "dates.head()"
   ],
   "id": "db017b67c4f3b353",
   "outputs": [
    {
     "data": {
      "text/plain": [
       "playerID\n",
       "aaltoan01   1975-03-04\n",
       "abdelju01   1987-02-25\n",
       "abidra01    1980-03-24\n",
       "abrahth01   1947-04-12\n",
       "actonke01   1958-04-15\n",
       "Name: birthDate, dtype: datetime64[ns]"
      ]
     },
     "execution_count": 24,
     "metadata": {},
     "output_type": "execute_result"
    }
   ],
   "execution_count": 24
  },
  {
   "metadata": {
    "ExecuteTime": {
     "end_time": "2025-03-23T10:56:12.619335Z",
     "start_time": "2025-03-23T10:56:12.605001Z"
    }
   },
   "cell_type": "code",
   "source": [
    "strings = strings.str.replace('-', 'xx')\n",
    "strings.head()"
   ],
   "id": "11e013a8251fa6b1",
   "outputs": [
    {
     "data": {
      "text/plain": [
       "playerID\n",
       "aaltoan01    1975xx03xx04\n",
       "abdelju01    1987xx02xx25\n",
       "abidra01     1980xx03xx24\n",
       "abrahth01    1947xx04xx12\n",
       "actonke01    1958xx04xx15\n",
       "Name: birthDate, dtype: object"
      ]
     },
     "execution_count": 25,
     "metadata": {},
     "output_type": "execute_result"
    }
   ],
   "execution_count": 25
  },
  {
   "metadata": {
    "ExecuteTime": {
     "end_time": "2025-03-23T10:56:39.275544Z",
     "start_time": "2025-03-23T10:56:38.858221Z"
    }
   },
   "cell_type": "code",
   "source": "pd.to_datetime(strings)",
   "id": "55777ceee519c5bb",
   "outputs": [
    {
     "name": "stderr",
     "output_type": "stream",
     "text": [
      "/tmp/ipykernel_12917/2181269185.py:1: UserWarning: Could not infer format, so each element will be parsed individually, falling back to `dateutil`. To ensure parsing is consistent and as-expected, please specify a format.\n",
      "  pd.to_datetime(strings)\n"
     ]
    },
    {
     "ename": "DateParseError",
     "evalue": "Unknown datetime string format, unable to parse: 1975xx03xx04, at position 0",
     "output_type": "error",
     "traceback": [
      "\u001B[31m---------------------------------------------------------------------------\u001B[39m",
      "\u001B[31mDateParseError\u001B[39m                            Traceback (most recent call last)",
      "\u001B[36mCell\u001B[39m\u001B[36m \u001B[39m\u001B[32mIn[26]\u001B[39m\u001B[32m, line 1\u001B[39m\n\u001B[32m----> \u001B[39m\u001B[32m1\u001B[39m \u001B[43mpd\u001B[49m\u001B[43m.\u001B[49m\u001B[43mto_datetime\u001B[49m\u001B[43m(\u001B[49m\u001B[43mstrings\u001B[49m\u001B[43m)\u001B[49m\n",
      "\u001B[36mFile \u001B[39m\u001B[32m~/projects/data_science/hockey_df/.venv/lib/python3.13/site-packages/pandas/core/tools/datetimes.py:1067\u001B[39m, in \u001B[36mto_datetime\u001B[39m\u001B[34m(arg, errors, dayfirst, yearfirst, utc, format, exact, unit, infer_datetime_format, origin, cache)\u001B[39m\n\u001B[32m   1065\u001B[39m         result = arg.map(cache_array)\n\u001B[32m   1066\u001B[39m     \u001B[38;5;28;01melse\u001B[39;00m:\n\u001B[32m-> \u001B[39m\u001B[32m1067\u001B[39m         values = \u001B[43mconvert_listlike\u001B[49m\u001B[43m(\u001B[49m\u001B[43marg\u001B[49m\u001B[43m.\u001B[49m\u001B[43m_values\u001B[49m\u001B[43m,\u001B[49m\u001B[43m \u001B[49m\u001B[38;5;28;43mformat\u001B[39;49m\u001B[43m)\u001B[49m\n\u001B[32m   1068\u001B[39m         result = arg._constructor(values, index=arg.index, name=arg.name)\n\u001B[32m   1069\u001B[39m \u001B[38;5;28;01melif\u001B[39;00m \u001B[38;5;28misinstance\u001B[39m(arg, (ABCDataFrame, abc.MutableMapping)):\n",
      "\u001B[36mFile \u001B[39m\u001B[32m~/projects/data_science/hockey_df/.venv/lib/python3.13/site-packages/pandas/core/tools/datetimes.py:435\u001B[39m, in \u001B[36m_convert_listlike_datetimes\u001B[39m\u001B[34m(arg, format, name, utc, unit, errors, dayfirst, yearfirst, exact)\u001B[39m\n\u001B[32m    432\u001B[39m \u001B[38;5;28;01mif\u001B[39;00m \u001B[38;5;28mformat\u001B[39m \u001B[38;5;129;01mis\u001B[39;00m \u001B[38;5;129;01mnot\u001B[39;00m \u001B[38;5;28;01mNone\u001B[39;00m \u001B[38;5;129;01mand\u001B[39;00m \u001B[38;5;28mformat\u001B[39m != \u001B[33m\"\u001B[39m\u001B[33mmixed\u001B[39m\u001B[33m\"\u001B[39m:\n\u001B[32m    433\u001B[39m     \u001B[38;5;28;01mreturn\u001B[39;00m _array_strptime_with_fallback(arg, name, utc, \u001B[38;5;28mformat\u001B[39m, exact, errors)\n\u001B[32m--> \u001B[39m\u001B[32m435\u001B[39m result, tz_parsed = \u001B[43mobjects_to_datetime64\u001B[49m\u001B[43m(\u001B[49m\n\u001B[32m    436\u001B[39m \u001B[43m    \u001B[49m\u001B[43marg\u001B[49m\u001B[43m,\u001B[49m\n\u001B[32m    437\u001B[39m \u001B[43m    \u001B[49m\u001B[43mdayfirst\u001B[49m\u001B[43m=\u001B[49m\u001B[43mdayfirst\u001B[49m\u001B[43m,\u001B[49m\n\u001B[32m    438\u001B[39m \u001B[43m    \u001B[49m\u001B[43myearfirst\u001B[49m\u001B[43m=\u001B[49m\u001B[43myearfirst\u001B[49m\u001B[43m,\u001B[49m\n\u001B[32m    439\u001B[39m \u001B[43m    \u001B[49m\u001B[43mutc\u001B[49m\u001B[43m=\u001B[49m\u001B[43mutc\u001B[49m\u001B[43m,\u001B[49m\n\u001B[32m    440\u001B[39m \u001B[43m    \u001B[49m\u001B[43merrors\u001B[49m\u001B[43m=\u001B[49m\u001B[43merrors\u001B[49m\u001B[43m,\u001B[49m\n\u001B[32m    441\u001B[39m \u001B[43m    \u001B[49m\u001B[43mallow_object\u001B[49m\u001B[43m=\u001B[49m\u001B[38;5;28;43;01mTrue\u001B[39;49;00m\u001B[43m,\u001B[49m\n\u001B[32m    442\u001B[39m \u001B[43m\u001B[49m\u001B[43m)\u001B[49m\n\u001B[32m    444\u001B[39m \u001B[38;5;28;01mif\u001B[39;00m tz_parsed \u001B[38;5;129;01mis\u001B[39;00m \u001B[38;5;129;01mnot\u001B[39;00m \u001B[38;5;28;01mNone\u001B[39;00m:\n\u001B[32m    445\u001B[39m     \u001B[38;5;66;03m# We can take a shortcut since the datetime64 numpy array\u001B[39;00m\n\u001B[32m    446\u001B[39m     \u001B[38;5;66;03m# is in UTC\u001B[39;00m\n\u001B[32m    447\u001B[39m     out_unit = np.datetime_data(result.dtype)[\u001B[32m0\u001B[39m]\n",
      "\u001B[36mFile \u001B[39m\u001B[32m~/projects/data_science/hockey_df/.venv/lib/python3.13/site-packages/pandas/core/arrays/datetimes.py:2398\u001B[39m, in \u001B[36mobjects_to_datetime64\u001B[39m\u001B[34m(data, dayfirst, yearfirst, utc, errors, allow_object, out_unit)\u001B[39m\n\u001B[32m   2395\u001B[39m \u001B[38;5;66;03m# if str-dtype, convert\u001B[39;00m\n\u001B[32m   2396\u001B[39m data = np.asarray(data, dtype=np.object_)\n\u001B[32m-> \u001B[39m\u001B[32m2398\u001B[39m result, tz_parsed = \u001B[43mtslib\u001B[49m\u001B[43m.\u001B[49m\u001B[43marray_to_datetime\u001B[49m\u001B[43m(\u001B[49m\n\u001B[32m   2399\u001B[39m \u001B[43m    \u001B[49m\u001B[43mdata\u001B[49m\u001B[43m,\u001B[49m\n\u001B[32m   2400\u001B[39m \u001B[43m    \u001B[49m\u001B[43merrors\u001B[49m\u001B[43m=\u001B[49m\u001B[43merrors\u001B[49m\u001B[43m,\u001B[49m\n\u001B[32m   2401\u001B[39m \u001B[43m    \u001B[49m\u001B[43mutc\u001B[49m\u001B[43m=\u001B[49m\u001B[43mutc\u001B[49m\u001B[43m,\u001B[49m\n\u001B[32m   2402\u001B[39m \u001B[43m    \u001B[49m\u001B[43mdayfirst\u001B[49m\u001B[43m=\u001B[49m\u001B[43mdayfirst\u001B[49m\u001B[43m,\u001B[49m\n\u001B[32m   2403\u001B[39m \u001B[43m    \u001B[49m\u001B[43myearfirst\u001B[49m\u001B[43m=\u001B[49m\u001B[43myearfirst\u001B[49m\u001B[43m,\u001B[49m\n\u001B[32m   2404\u001B[39m \u001B[43m    \u001B[49m\u001B[43mcreso\u001B[49m\u001B[43m=\u001B[49m\u001B[43mabbrev_to_npy_unit\u001B[49m\u001B[43m(\u001B[49m\u001B[43mout_unit\u001B[49m\u001B[43m)\u001B[49m\u001B[43m,\u001B[49m\n\u001B[32m   2405\u001B[39m \u001B[43m\u001B[49m\u001B[43m)\u001B[49m\n\u001B[32m   2407\u001B[39m \u001B[38;5;28;01mif\u001B[39;00m tz_parsed \u001B[38;5;129;01mis\u001B[39;00m \u001B[38;5;129;01mnot\u001B[39;00m \u001B[38;5;28;01mNone\u001B[39;00m:\n\u001B[32m   2408\u001B[39m     \u001B[38;5;66;03m# We can take a shortcut since the datetime64 numpy array\u001B[39;00m\n\u001B[32m   2409\u001B[39m     \u001B[38;5;66;03m#  is in UTC\u001B[39;00m\n\u001B[32m   2410\u001B[39m     \u001B[38;5;28;01mreturn\u001B[39;00m result, tz_parsed\n",
      "\u001B[36mFile \u001B[39m\u001B[32mtslib.pyx:414\u001B[39m, in \u001B[36mpandas._libs.tslib.array_to_datetime\u001B[39m\u001B[34m()\u001B[39m\n",
      "\u001B[36mFile \u001B[39m\u001B[32mtslib.pyx:596\u001B[39m, in \u001B[36mpandas._libs.tslib.array_to_datetime\u001B[39m\u001B[34m()\u001B[39m\n",
      "\u001B[36mFile \u001B[39m\u001B[32mtslib.pyx:553\u001B[39m, in \u001B[36mpandas._libs.tslib.array_to_datetime\u001B[39m\u001B[34m()\u001B[39m\n",
      "\u001B[36mFile \u001B[39m\u001B[32mconversion.pyx:641\u001B[39m, in \u001B[36mpandas._libs.tslibs.conversion.convert_str_to_tsobject\u001B[39m\u001B[34m()\u001B[39m\n",
      "\u001B[36mFile \u001B[39m\u001B[32mparsing.pyx:336\u001B[39m, in \u001B[36mpandas._libs.tslibs.parsing.parse_datetime_string\u001B[39m\u001B[34m()\u001B[39m\n",
      "\u001B[36mFile \u001B[39m\u001B[32mparsing.pyx:666\u001B[39m, in \u001B[36mpandas._libs.tslibs.parsing.dateutil_parse\u001B[39m\u001B[34m()\u001B[39m\n",
      "\u001B[31mDateParseError\u001B[39m: Unknown datetime string format, unable to parse: 1975xx03xx04, at position 0"
     ]
    }
   ],
   "execution_count": 26
  },
  {
   "metadata": {
    "ExecuteTime": {
     "end_time": "2025-03-23T10:57:15.637644Z",
     "start_time": "2025-03-23T10:57:15.584237Z"
    }
   },
   "cell_type": "code",
   "source": "pd.to_datetime(strings, format='%Yxx%mxx%d')",
   "id": "d66b4a59ef20ef38",
   "outputs": [
    {
     "data": {
      "text/plain": [
       "playerID\n",
       "aaltoan01   1975-03-04\n",
       "abdelju01   1987-02-25\n",
       "abidra01    1980-03-24\n",
       "abrahth01   1947-04-12\n",
       "actonke01   1958-04-15\n",
       "               ...    \n",
       "zubruda01   1978-06-16\n",
       "zuccama01   1987-09-01\n",
       "zuckeja01   1992-01-16\n",
       "zukemi01    1954-04-16\n",
       "zyuzian01   1978-01-21\n",
       "Name: birthDate, Length: 4627, dtype: datetime64[ns]"
      ]
     },
     "execution_count": 27,
     "metadata": {},
     "output_type": "execute_result"
    }
   ],
   "execution_count": 27
  },
  {
   "metadata": {
    "ExecuteTime": {
     "end_time": "2025-03-23T10:58:14.577845Z",
     "start_time": "2025-03-23T10:58:14.572971Z"
    }
   },
   "cell_type": "code",
   "source": [
    "strings_errors = strings.copy()\n",
    "strings_errors.iloc[34] = 'xx123'"
   ],
   "id": "bea36f8abeeb85bd",
   "outputs": [],
   "execution_count": 28
  },
  {
   "metadata": {
    "ExecuteTime": {
     "end_time": "2025-03-23T10:58:31.534869Z",
     "start_time": "2025-03-23T10:58:31.517725Z"
    }
   },
   "cell_type": "code",
   "source": "strings_errors.head()",
   "id": "ab2de64fcb3f3fd6",
   "outputs": [
    {
     "data": {
      "text/plain": [
       "playerID\n",
       "aaltoan01    1975xx03xx04\n",
       "abdelju01    1987xx02xx25\n",
       "abidra01     1980xx03xx24\n",
       "abrahth01    1947xx04xx12\n",
       "actonke01    1958xx04xx15\n",
       "Name: birthDate, dtype: object"
      ]
     },
     "execution_count": 29,
     "metadata": {},
     "output_type": "execute_result"
    }
   ],
   "execution_count": 29
  },
  {
   "metadata": {
    "ExecuteTime": {
     "end_time": "2025-03-23T10:59:14.547843Z",
     "start_time": "2025-03-23T10:59:14.346018Z"
    }
   },
   "cell_type": "code",
   "source": "pd.to_datetime(strings_errors, format='%Yxx%mxx%d')",
   "id": "8218ffe02a2c7081",
   "outputs": [
    {
     "ename": "ValueError",
     "evalue": "time data \"xx123\" doesn't match format \"%Yxx%mxx%d\", at position 34. You might want to try:\n    - passing `format` if your strings have a consistent format;\n    - passing `format='ISO8601'` if your strings are all ISO8601 but not necessarily in exactly the same format;\n    - passing `format='mixed'`, and the format will be inferred for each element individually. You might want to use `dayfirst` alongside this.",
     "output_type": "error",
     "traceback": [
      "\u001B[31m---------------------------------------------------------------------------\u001B[39m",
      "\u001B[31mValueError\u001B[39m                                Traceback (most recent call last)",
      "\u001B[36mCell\u001B[39m\u001B[36m \u001B[39m\u001B[32mIn[30]\u001B[39m\u001B[32m, line 1\u001B[39m\n\u001B[32m----> \u001B[39m\u001B[32m1\u001B[39m \u001B[43mpd\u001B[49m\u001B[43m.\u001B[49m\u001B[43mto_datetime\u001B[49m\u001B[43m(\u001B[49m\u001B[43mstrings_errors\u001B[49m\u001B[43m,\u001B[49m\u001B[43m \u001B[49m\u001B[38;5;28;43mformat\u001B[39;49m\u001B[43m=\u001B[49m\u001B[33;43m'\u001B[39;49m\u001B[33;43m%\u001B[39;49m\u001B[33;43mYxx\u001B[39;49m\u001B[33;43m%\u001B[39;49m\u001B[33;43mmxx\u001B[39;49m\u001B[38;5;132;43;01m%d\u001B[39;49;00m\u001B[33;43m'\u001B[39;49m\u001B[43m)\u001B[49m\n",
      "\u001B[36mFile \u001B[39m\u001B[32m~/projects/data_science/hockey_df/.venv/lib/python3.13/site-packages/pandas/core/tools/datetimes.py:1067\u001B[39m, in \u001B[36mto_datetime\u001B[39m\u001B[34m(arg, errors, dayfirst, yearfirst, utc, format, exact, unit, infer_datetime_format, origin, cache)\u001B[39m\n\u001B[32m   1065\u001B[39m         result = arg.map(cache_array)\n\u001B[32m   1066\u001B[39m     \u001B[38;5;28;01melse\u001B[39;00m:\n\u001B[32m-> \u001B[39m\u001B[32m1067\u001B[39m         values = \u001B[43mconvert_listlike\u001B[49m\u001B[43m(\u001B[49m\u001B[43marg\u001B[49m\u001B[43m.\u001B[49m\u001B[43m_values\u001B[49m\u001B[43m,\u001B[49m\u001B[43m \u001B[49m\u001B[38;5;28;43mformat\u001B[39;49m\u001B[43m)\u001B[49m\n\u001B[32m   1068\u001B[39m         result = arg._constructor(values, index=arg.index, name=arg.name)\n\u001B[32m   1069\u001B[39m \u001B[38;5;28;01melif\u001B[39;00m \u001B[38;5;28misinstance\u001B[39m(arg, (ABCDataFrame, abc.MutableMapping)):\n",
      "\u001B[36mFile \u001B[39m\u001B[32m~/projects/data_science/hockey_df/.venv/lib/python3.13/site-packages/pandas/core/tools/datetimes.py:433\u001B[39m, in \u001B[36m_convert_listlike_datetimes\u001B[39m\u001B[34m(arg, format, name, utc, unit, errors, dayfirst, yearfirst, exact)\u001B[39m\n\u001B[32m    431\u001B[39m \u001B[38;5;66;03m# `format` could be inferred, or user didn't ask for mixed-format parsing.\u001B[39;00m\n\u001B[32m    432\u001B[39m \u001B[38;5;28;01mif\u001B[39;00m \u001B[38;5;28mformat\u001B[39m \u001B[38;5;129;01mis\u001B[39;00m \u001B[38;5;129;01mnot\u001B[39;00m \u001B[38;5;28;01mNone\u001B[39;00m \u001B[38;5;129;01mand\u001B[39;00m \u001B[38;5;28mformat\u001B[39m != \u001B[33m\"\u001B[39m\u001B[33mmixed\u001B[39m\u001B[33m\"\u001B[39m:\n\u001B[32m--> \u001B[39m\u001B[32m433\u001B[39m     \u001B[38;5;28;01mreturn\u001B[39;00m \u001B[43m_array_strptime_with_fallback\u001B[49m\u001B[43m(\u001B[49m\u001B[43marg\u001B[49m\u001B[43m,\u001B[49m\u001B[43m \u001B[49m\u001B[43mname\u001B[49m\u001B[43m,\u001B[49m\u001B[43m \u001B[49m\u001B[43mutc\u001B[49m\u001B[43m,\u001B[49m\u001B[43m \u001B[49m\u001B[38;5;28;43mformat\u001B[39;49m\u001B[43m,\u001B[49m\u001B[43m \u001B[49m\u001B[43mexact\u001B[49m\u001B[43m,\u001B[49m\u001B[43m \u001B[49m\u001B[43merrors\u001B[49m\u001B[43m)\u001B[49m\n\u001B[32m    435\u001B[39m result, tz_parsed = objects_to_datetime64(\n\u001B[32m    436\u001B[39m     arg,\n\u001B[32m    437\u001B[39m     dayfirst=dayfirst,\n\u001B[32m   (...)\u001B[39m\u001B[32m    441\u001B[39m     allow_object=\u001B[38;5;28;01mTrue\u001B[39;00m,\n\u001B[32m    442\u001B[39m )\n\u001B[32m    444\u001B[39m \u001B[38;5;28;01mif\u001B[39;00m tz_parsed \u001B[38;5;129;01mis\u001B[39;00m \u001B[38;5;129;01mnot\u001B[39;00m \u001B[38;5;28;01mNone\u001B[39;00m:\n\u001B[32m    445\u001B[39m     \u001B[38;5;66;03m# We can take a shortcut since the datetime64 numpy array\u001B[39;00m\n\u001B[32m    446\u001B[39m     \u001B[38;5;66;03m# is in UTC\u001B[39;00m\n",
      "\u001B[36mFile \u001B[39m\u001B[32m~/projects/data_science/hockey_df/.venv/lib/python3.13/site-packages/pandas/core/tools/datetimes.py:467\u001B[39m, in \u001B[36m_array_strptime_with_fallback\u001B[39m\u001B[34m(arg, name, utc, fmt, exact, errors)\u001B[39m\n\u001B[32m    456\u001B[39m \u001B[38;5;28;01mdef\u001B[39;00m\u001B[38;5;250m \u001B[39m\u001B[34m_array_strptime_with_fallback\u001B[39m(\n\u001B[32m    457\u001B[39m     arg,\n\u001B[32m    458\u001B[39m     name,\n\u001B[32m   (...)\u001B[39m\u001B[32m    462\u001B[39m     errors: \u001B[38;5;28mstr\u001B[39m,\n\u001B[32m    463\u001B[39m ) -> Index:\n\u001B[32m    464\u001B[39m \u001B[38;5;250m    \u001B[39m\u001B[33;03m\"\"\"\u001B[39;00m\n\u001B[32m    465\u001B[39m \u001B[33;03m    Call array_strptime, with fallback behavior depending on 'errors'.\u001B[39;00m\n\u001B[32m    466\u001B[39m \u001B[33;03m    \"\"\"\u001B[39;00m\n\u001B[32m--> \u001B[39m\u001B[32m467\u001B[39m     result, tz_out = \u001B[43marray_strptime\u001B[49m\u001B[43m(\u001B[49m\u001B[43marg\u001B[49m\u001B[43m,\u001B[49m\u001B[43m \u001B[49m\u001B[43mfmt\u001B[49m\u001B[43m,\u001B[49m\u001B[43m \u001B[49m\u001B[43mexact\u001B[49m\u001B[43m=\u001B[49m\u001B[43mexact\u001B[49m\u001B[43m,\u001B[49m\u001B[43m \u001B[49m\u001B[43merrors\u001B[49m\u001B[43m=\u001B[49m\u001B[43merrors\u001B[49m\u001B[43m,\u001B[49m\u001B[43m \u001B[49m\u001B[43mutc\u001B[49m\u001B[43m=\u001B[49m\u001B[43mutc\u001B[49m\u001B[43m)\u001B[49m\n\u001B[32m    468\u001B[39m     \u001B[38;5;28;01mif\u001B[39;00m tz_out \u001B[38;5;129;01mis\u001B[39;00m \u001B[38;5;129;01mnot\u001B[39;00m \u001B[38;5;28;01mNone\u001B[39;00m:\n\u001B[32m    469\u001B[39m         unit = np.datetime_data(result.dtype)[\u001B[32m0\u001B[39m]\n",
      "\u001B[36mFile \u001B[39m\u001B[32mstrptime.pyx:501\u001B[39m, in \u001B[36mpandas._libs.tslibs.strptime.array_strptime\u001B[39m\u001B[34m()\u001B[39m\n",
      "\u001B[36mFile \u001B[39m\u001B[32mstrptime.pyx:451\u001B[39m, in \u001B[36mpandas._libs.tslibs.strptime.array_strptime\u001B[39m\u001B[34m()\u001B[39m\n",
      "\u001B[36mFile \u001B[39m\u001B[32mstrptime.pyx:583\u001B[39m, in \u001B[36mpandas._libs.tslibs.strptime._parse_with_format\u001B[39m\u001B[34m()\u001B[39m\n",
      "\u001B[31mValueError\u001B[39m: time data \"xx123\" doesn't match format \"%Yxx%mxx%d\", at position 34. You might want to try:\n    - passing `format` if your strings have a consistent format;\n    - passing `format='ISO8601'` if your strings are all ISO8601 but not necessarily in exactly the same format;\n    - passing `format='mixed'`, and the format will be inferred for each element individually. You might want to use `dayfirst` alongside this."
     ]
    }
   ],
   "execution_count": 30
  },
  {
   "metadata": {
    "ExecuteTime": {
     "end_time": "2025-03-23T11:00:17.540749Z",
     "start_time": "2025-03-23T11:00:17.328365Z"
    }
   },
   "cell_type": "code",
   "source": "pd.to_datetime(strings_errors, format='mixed')",
   "id": "c5832d295d97c5cb",
   "outputs": [
    {
     "ename": "DateParseError",
     "evalue": "Unknown datetime string format, unable to parse: 1975xx03xx04, at position 0",
     "output_type": "error",
     "traceback": [
      "\u001B[31m---------------------------------------------------------------------------\u001B[39m",
      "\u001B[31mDateParseError\u001B[39m                            Traceback (most recent call last)",
      "\u001B[36mCell\u001B[39m\u001B[36m \u001B[39m\u001B[32mIn[31]\u001B[39m\u001B[32m, line 1\u001B[39m\n\u001B[32m----> \u001B[39m\u001B[32m1\u001B[39m \u001B[43mpd\u001B[49m\u001B[43m.\u001B[49m\u001B[43mto_datetime\u001B[49m\u001B[43m(\u001B[49m\u001B[43mstrings_errors\u001B[49m\u001B[43m,\u001B[49m\u001B[43m \u001B[49m\u001B[38;5;28;43mformat\u001B[39;49m\u001B[43m=\u001B[49m\u001B[33;43m'\u001B[39;49m\u001B[33;43mmixed\u001B[39;49m\u001B[33;43m'\u001B[39;49m\u001B[43m)\u001B[49m\n",
      "\u001B[36mFile \u001B[39m\u001B[32m~/projects/data_science/hockey_df/.venv/lib/python3.13/site-packages/pandas/core/tools/datetimes.py:1067\u001B[39m, in \u001B[36mto_datetime\u001B[39m\u001B[34m(arg, errors, dayfirst, yearfirst, utc, format, exact, unit, infer_datetime_format, origin, cache)\u001B[39m\n\u001B[32m   1065\u001B[39m         result = arg.map(cache_array)\n\u001B[32m   1066\u001B[39m     \u001B[38;5;28;01melse\u001B[39;00m:\n\u001B[32m-> \u001B[39m\u001B[32m1067\u001B[39m         values = \u001B[43mconvert_listlike\u001B[49m\u001B[43m(\u001B[49m\u001B[43marg\u001B[49m\u001B[43m.\u001B[49m\u001B[43m_values\u001B[49m\u001B[43m,\u001B[49m\u001B[43m \u001B[49m\u001B[38;5;28;43mformat\u001B[39;49m\u001B[43m)\u001B[49m\n\u001B[32m   1068\u001B[39m         result = arg._constructor(values, index=arg.index, name=arg.name)\n\u001B[32m   1069\u001B[39m \u001B[38;5;28;01melif\u001B[39;00m \u001B[38;5;28misinstance\u001B[39m(arg, (ABCDataFrame, abc.MutableMapping)):\n",
      "\u001B[36mFile \u001B[39m\u001B[32m~/projects/data_science/hockey_df/.venv/lib/python3.13/site-packages/pandas/core/tools/datetimes.py:435\u001B[39m, in \u001B[36m_convert_listlike_datetimes\u001B[39m\u001B[34m(arg, format, name, utc, unit, errors, dayfirst, yearfirst, exact)\u001B[39m\n\u001B[32m    432\u001B[39m \u001B[38;5;28;01mif\u001B[39;00m \u001B[38;5;28mformat\u001B[39m \u001B[38;5;129;01mis\u001B[39;00m \u001B[38;5;129;01mnot\u001B[39;00m \u001B[38;5;28;01mNone\u001B[39;00m \u001B[38;5;129;01mand\u001B[39;00m \u001B[38;5;28mformat\u001B[39m != \u001B[33m\"\u001B[39m\u001B[33mmixed\u001B[39m\u001B[33m\"\u001B[39m:\n\u001B[32m    433\u001B[39m     \u001B[38;5;28;01mreturn\u001B[39;00m _array_strptime_with_fallback(arg, name, utc, \u001B[38;5;28mformat\u001B[39m, exact, errors)\n\u001B[32m--> \u001B[39m\u001B[32m435\u001B[39m result, tz_parsed = \u001B[43mobjects_to_datetime64\u001B[49m\u001B[43m(\u001B[49m\n\u001B[32m    436\u001B[39m \u001B[43m    \u001B[49m\u001B[43marg\u001B[49m\u001B[43m,\u001B[49m\n\u001B[32m    437\u001B[39m \u001B[43m    \u001B[49m\u001B[43mdayfirst\u001B[49m\u001B[43m=\u001B[49m\u001B[43mdayfirst\u001B[49m\u001B[43m,\u001B[49m\n\u001B[32m    438\u001B[39m \u001B[43m    \u001B[49m\u001B[43myearfirst\u001B[49m\u001B[43m=\u001B[49m\u001B[43myearfirst\u001B[49m\u001B[43m,\u001B[49m\n\u001B[32m    439\u001B[39m \u001B[43m    \u001B[49m\u001B[43mutc\u001B[49m\u001B[43m=\u001B[49m\u001B[43mutc\u001B[49m\u001B[43m,\u001B[49m\n\u001B[32m    440\u001B[39m \u001B[43m    \u001B[49m\u001B[43merrors\u001B[49m\u001B[43m=\u001B[49m\u001B[43merrors\u001B[49m\u001B[43m,\u001B[49m\n\u001B[32m    441\u001B[39m \u001B[43m    \u001B[49m\u001B[43mallow_object\u001B[49m\u001B[43m=\u001B[49m\u001B[38;5;28;43;01mTrue\u001B[39;49;00m\u001B[43m,\u001B[49m\n\u001B[32m    442\u001B[39m \u001B[43m\u001B[49m\u001B[43m)\u001B[49m\n\u001B[32m    444\u001B[39m \u001B[38;5;28;01mif\u001B[39;00m tz_parsed \u001B[38;5;129;01mis\u001B[39;00m \u001B[38;5;129;01mnot\u001B[39;00m \u001B[38;5;28;01mNone\u001B[39;00m:\n\u001B[32m    445\u001B[39m     \u001B[38;5;66;03m# We can take a shortcut since the datetime64 numpy array\u001B[39;00m\n\u001B[32m    446\u001B[39m     \u001B[38;5;66;03m# is in UTC\u001B[39;00m\n\u001B[32m    447\u001B[39m     out_unit = np.datetime_data(result.dtype)[\u001B[32m0\u001B[39m]\n",
      "\u001B[36mFile \u001B[39m\u001B[32m~/projects/data_science/hockey_df/.venv/lib/python3.13/site-packages/pandas/core/arrays/datetimes.py:2398\u001B[39m, in \u001B[36mobjects_to_datetime64\u001B[39m\u001B[34m(data, dayfirst, yearfirst, utc, errors, allow_object, out_unit)\u001B[39m\n\u001B[32m   2395\u001B[39m \u001B[38;5;66;03m# if str-dtype, convert\u001B[39;00m\n\u001B[32m   2396\u001B[39m data = np.asarray(data, dtype=np.object_)\n\u001B[32m-> \u001B[39m\u001B[32m2398\u001B[39m result, tz_parsed = \u001B[43mtslib\u001B[49m\u001B[43m.\u001B[49m\u001B[43marray_to_datetime\u001B[49m\u001B[43m(\u001B[49m\n\u001B[32m   2399\u001B[39m \u001B[43m    \u001B[49m\u001B[43mdata\u001B[49m\u001B[43m,\u001B[49m\n\u001B[32m   2400\u001B[39m \u001B[43m    \u001B[49m\u001B[43merrors\u001B[49m\u001B[43m=\u001B[49m\u001B[43merrors\u001B[49m\u001B[43m,\u001B[49m\n\u001B[32m   2401\u001B[39m \u001B[43m    \u001B[49m\u001B[43mutc\u001B[49m\u001B[43m=\u001B[49m\u001B[43mutc\u001B[49m\u001B[43m,\u001B[49m\n\u001B[32m   2402\u001B[39m \u001B[43m    \u001B[49m\u001B[43mdayfirst\u001B[49m\u001B[43m=\u001B[49m\u001B[43mdayfirst\u001B[49m\u001B[43m,\u001B[49m\n\u001B[32m   2403\u001B[39m \u001B[43m    \u001B[49m\u001B[43myearfirst\u001B[49m\u001B[43m=\u001B[49m\u001B[43myearfirst\u001B[49m\u001B[43m,\u001B[49m\n\u001B[32m   2404\u001B[39m \u001B[43m    \u001B[49m\u001B[43mcreso\u001B[49m\u001B[43m=\u001B[49m\u001B[43mabbrev_to_npy_unit\u001B[49m\u001B[43m(\u001B[49m\u001B[43mout_unit\u001B[49m\u001B[43m)\u001B[49m\u001B[43m,\u001B[49m\n\u001B[32m   2405\u001B[39m \u001B[43m\u001B[49m\u001B[43m)\u001B[49m\n\u001B[32m   2407\u001B[39m \u001B[38;5;28;01mif\u001B[39;00m tz_parsed \u001B[38;5;129;01mis\u001B[39;00m \u001B[38;5;129;01mnot\u001B[39;00m \u001B[38;5;28;01mNone\u001B[39;00m:\n\u001B[32m   2408\u001B[39m     \u001B[38;5;66;03m# We can take a shortcut since the datetime64 numpy array\u001B[39;00m\n\u001B[32m   2409\u001B[39m     \u001B[38;5;66;03m#  is in UTC\u001B[39;00m\n\u001B[32m   2410\u001B[39m     \u001B[38;5;28;01mreturn\u001B[39;00m result, tz_parsed\n",
      "\u001B[36mFile \u001B[39m\u001B[32mtslib.pyx:414\u001B[39m, in \u001B[36mpandas._libs.tslib.array_to_datetime\u001B[39m\u001B[34m()\u001B[39m\n",
      "\u001B[36mFile \u001B[39m\u001B[32mtslib.pyx:596\u001B[39m, in \u001B[36mpandas._libs.tslib.array_to_datetime\u001B[39m\u001B[34m()\u001B[39m\n",
      "\u001B[36mFile \u001B[39m\u001B[32mtslib.pyx:553\u001B[39m, in \u001B[36mpandas._libs.tslib.array_to_datetime\u001B[39m\u001B[34m()\u001B[39m\n",
      "\u001B[36mFile \u001B[39m\u001B[32mconversion.pyx:641\u001B[39m, in \u001B[36mpandas._libs.tslibs.conversion.convert_str_to_tsobject\u001B[39m\u001B[34m()\u001B[39m\n",
      "\u001B[36mFile \u001B[39m\u001B[32mparsing.pyx:336\u001B[39m, in \u001B[36mpandas._libs.tslibs.parsing.parse_datetime_string\u001B[39m\u001B[34m()\u001B[39m\n",
      "\u001B[36mFile \u001B[39m\u001B[32mparsing.pyx:666\u001B[39m, in \u001B[36mpandas._libs.tslibs.parsing.dateutil_parse\u001B[39m\u001B[34m()\u001B[39m\n",
      "\u001B[31mDateParseError\u001B[39m: Unknown datetime string format, unable to parse: 1975xx03xx04, at position 0"
     ]
    }
   ],
   "execution_count": 31
  },
  {
   "metadata": {
    "ExecuteTime": {
     "end_time": "2025-03-23T11:07:05.322722Z",
     "start_time": "2025-03-23T11:07:05.315375Z"
    }
   },
   "cell_type": "code",
   "source": "strings_errors.head()",
   "id": "efa5fef983c36cc5",
   "outputs": [
    {
     "data": {
      "text/plain": [
       "playerID\n",
       "aaltoan01    1975xx03xx04\n",
       "abdelju01    1987xx02xx25\n",
       "abidra01     1980xx03xx24\n",
       "abrahth01    1947xx04xx12\n",
       "actonke01    1958xx04xx15\n",
       "Name: birthDate, dtype: object"
      ]
     },
     "execution_count": 36,
     "metadata": {},
     "output_type": "execute_result"
    }
   ],
   "execution_count": 36
  },
  {
   "metadata": {
    "ExecuteTime": {
     "end_time": "2025-03-23T11:02:20.146819Z",
     "start_time": "2025-03-23T11:02:20.109177Z"
    }
   },
   "cell_type": "code",
   "source": [
    "parsed = pd.to_datetime(strings_errors, format='%Yxx%mxx%d', errors='coerce')\n",
    "parsed.iloc[34]\n"
   ],
   "id": "b53aa7602fb96aa3",
   "outputs": [
    {
     "data": {
      "text/plain": [
       "NaT"
      ]
     },
     "execution_count": 32,
     "metadata": {},
     "output_type": "execute_result"
    }
   ],
   "execution_count": 32
  },
  {
   "metadata": {
    "ExecuteTime": {
     "end_time": "2025-03-23T11:07:36.161413Z",
     "start_time": "2025-03-23T11:07:36.147878Z"
    }
   },
   "cell_type": "code",
   "source": [
    "parsed = pd.to_datetime(strings_errors, format='%Yxx%mxx%d', errors='ignore')\n",
    "parsed.iloc[32:40]"
   ],
   "id": "7ac0ac5ed87ffc3e",
   "outputs": [
    {
     "name": "stderr",
     "output_type": "stream",
     "text": [
      "/tmp/ipykernel_12917/3065392550.py:1: FutureWarning: errors='ignore' is deprecated and will raise in a future version. Use to_datetime without passing `errors` and catch exceptions explicitly instead\n",
      "  parsed = pd.to_datetime(strings_errors, format='%Yxx%mxx%d', errors='ignore')\n"
     ]
    },
    {
     "data": {
      "text/plain": [
       "playerID\n",
       "alleyst01    1953xx12xx29\n",
       "allisda01    1959xx04xx14\n",
       "allisja01           xx123\n",
       "allisja02    1975xx05xx13\n",
       "allismi01    1961xx03xx28\n",
       "allisra01    1959xx03xx04\n",
       "almonco01    1989xx07xx24\n",
       "alzneka01    1988xx09xx24\n",
       "Name: birthDate, dtype: object"
      ]
     },
     "execution_count": 37,
     "metadata": {},
     "output_type": "execute_result"
    }
   ],
   "execution_count": 37
  },
  {
   "metadata": {
    "ExecuteTime": {
     "end_time": "2025-03-23T11:03:38.101231Z",
     "start_time": "2025-03-23T11:03:38.093946Z"
    }
   },
   "cell_type": "code",
   "source": "pd.__version__",
   "id": "42fa4b31cd212db8",
   "outputs": [
    {
     "data": {
      "text/plain": [
       "'2.2.3'"
      ]
     },
     "execution_count": 34,
     "metadata": {},
     "output_type": "execute_result"
    }
   ],
   "execution_count": 34
  },
  {
   "metadata": {
    "ExecuteTime": {
     "end_time": "2025-03-23T11:11:53.664666Z",
     "start_time": "2025-03-23T11:11:53.654407Z"
    }
   },
   "cell_type": "code",
   "source": [
    "birth_dates = pd.Series(master.index, index=master.birthDate)\n",
    "birth_dates.head()"
   ],
   "id": "fb9074d31a806d63",
   "outputs": [
    {
     "data": {
      "text/plain": [
       "birthDate\n",
       "1975-03-04    aaltoan01\n",
       "1987-02-25    abdelju01\n",
       "1980-03-24     abidra01\n",
       "1947-04-12    abrahth01\n",
       "1958-04-15    actonke01\n",
       "Name: playerID, dtype: object"
      ]
     },
     "execution_count": 40,
     "metadata": {},
     "output_type": "execute_result"
    }
   ],
   "execution_count": 40
  },
  {
   "metadata": {
    "ExecuteTime": {
     "end_time": "2025-03-23T11:14:10.445605Z",
     "start_time": "2025-03-23T11:14:10.440724Z"
    }
   },
   "cell_type": "code",
   "source": "birth_dates.sort_index(inplace=True)",
   "id": "3d19df6366acf35d",
   "outputs": [],
   "execution_count": 41
  },
  {
   "metadata": {
    "ExecuteTime": {
     "end_time": "2025-03-23T11:14:17.691850Z",
     "start_time": "2025-03-23T11:14:17.685140Z"
    }
   },
   "cell_type": "code",
   "source": "birth_dates.head()",
   "id": "b8ef51bfa026b7b8",
   "outputs": [
    {
     "data": {
      "text/plain": [
       "birthDate\n",
       "1940-01-27    harpete01\n",
       "1940-03-22     keonda01\n",
       "1940-10-03    ratelje01\n",
       "1942-02-20    esposph01\n",
       "1943-04-23    esposto01\n",
       "Name: playerID, dtype: object"
      ]
     },
     "execution_count": 42,
     "metadata": {},
     "output_type": "execute_result"
    }
   ],
   "execution_count": 42
  },
  {
   "metadata": {
    "ExecuteTime": {
     "end_time": "2025-03-23T11:16:55.782403Z",
     "start_time": "2025-03-23T11:16:55.760920Z"
    }
   },
   "cell_type": "code",
   "source": "birth_dates.loc['1980']",
   "id": "a195e052b3ffe23e",
   "outputs": [
    {
     "data": {
      "text/plain": [
       "birthDate\n",
       "1980-01-02    zalesmi01\n",
       "1980-01-10    stanara01\n",
       "1980-01-13    bouckty01\n",
       "1980-01-13     ruppmi01\n",
       "1980-01-15    papinju01\n",
       "                ...    \n",
       "1980-11-24    fritzmi01\n",
       "1980-11-25    lilesjo01\n",
       "1980-12-02     wardjo02\n",
       "1980-12-09    baydary01\n",
       "1980-12-30    lysakbr01\n",
       "Name: playerID, Length: 145, dtype: object"
      ]
     },
     "execution_count": 44,
     "metadata": {},
     "output_type": "execute_result"
    }
   ],
   "execution_count": 44
  },
  {
   "metadata": {
    "ExecuteTime": {
     "end_time": "2025-03-23T11:18:23.876725Z",
     "start_time": "2025-03-23T11:18:23.865773Z"
    }
   },
   "cell_type": "code",
   "source": "birth_dates.loc['1980-07-24']",
   "id": "d9c7e283b650f1b7",
   "outputs": [
    {
     "data": {
      "text/plain": [
       "birthDate\n",
       "1980-07-24    jillsje01\n",
       "1980-07-24    printda01\n",
       "Name: playerID, dtype: object"
      ]
     },
     "execution_count": 46,
     "metadata": {},
     "output_type": "execute_result"
    }
   ],
   "execution_count": 46
  },
  {
   "metadata": {
    "ExecuteTime": {
     "end_time": "2025-03-23T11:20:15.771807Z",
     "start_time": "2025-03-23T11:20:15.760702Z"
    }
   },
   "cell_type": "code",
   "source": "birth_dates.loc['1980-07-24':'1980-07-29']",
   "id": "e750838f53d66e5",
   "outputs": [
    {
     "data": {
      "text/plain": [
       "birthDate\n",
       "1980-07-24    jillsje01\n",
       "1980-07-24    printda01\n",
       "Name: playerID, dtype: object"
      ]
     },
     "execution_count": 47,
     "metadata": {},
     "output_type": "execute_result"
    }
   ],
   "execution_count": 47
  },
  {
   "metadata": {},
   "cell_type": "code",
   "outputs": [],
   "execution_count": null,
   "source": "",
   "id": "cbd5bfc208a7e5be"
  }
 ],
 "metadata": {
  "kernelspec": {
   "display_name": "Python 3",
   "language": "python",
   "name": "python3"
  },
  "language_info": {
   "codemirror_mode": {
    "name": "ipython",
    "version": 2
   },
   "file_extension": ".py",
   "mimetype": "text/x-python",
   "name": "python",
   "nbconvert_exporter": "python",
   "pygments_lexer": "ipython2",
   "version": "2.7.6"
  }
 },
 "nbformat": 4,
 "nbformat_minor": 5
}
