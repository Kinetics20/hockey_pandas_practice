{
 "cells": [
  {
   "cell_type": "code",
   "id": "initial_id",
   "metadata": {
    "collapsed": true,
    "ExecuteTime": {
     "end_time": "2025-03-28T19:03:32.084825Z",
     "start_time": "2025-03-28T19:03:30.624195Z"
    }
   },
   "source": [
    "import pandas as pd\n",
    "\n",
    "\n",
    "from settings import INTERIM"
   ],
   "outputs": [],
   "execution_count": 1
  },
  {
   "metadata": {
    "ExecuteTime": {
     "end_time": "2025-03-28T19:04:12.442446Z",
     "start_time": "2025-03-28T19:04:12.422828Z"
    }
   },
   "cell_type": "code",
   "source": [
    "master = pd.read_pickle(INTERIM / 'master.pkl')\n",
    "team_splits = pd.read_pickle(INTERIM / 'teams_splits_multi_index.pkl')"
   ],
   "id": "5d73566c6f6b5153",
   "outputs": [],
   "execution_count": 2
  },
  {
   "metadata": {
    "ExecuteTime": {
     "end_time": "2025-03-28T19:04:47.914996Z",
     "start_time": "2025-03-28T19:04:47.863429Z"
    }
   },
   "cell_type": "code",
   "source": "master.head()",
   "id": "f2cbd1255d536a30",
   "outputs": [
    {
     "data": {
      "text/plain": [
       "          firstName     lastName pos  birthYear  birthMon  birthDay  \\\n",
       "playerID                                                              \n",
       "aaltoan01     Antti        Aalto   C     1975.0       3.0       4.0   \n",
       "abdelju01    Justin   Abdelkader   L     1987.0       2.0      25.0   \n",
       "abidra01      Ramzi         Abid   L     1980.0       3.0      24.0   \n",
       "abrahth01    Thommy  Abrahamsson   D     1947.0       4.0      12.0   \n",
       "actonke01     Keith        Acton   C     1958.0       4.0      15.0   \n",
       "\n",
       "          birthCountry birthState     birthCity  \n",
       "playerID                                         \n",
       "aaltoan01      Finland        NaN  Lappeenranta  \n",
       "abdelju01          USA         MI      Muskegon  \n",
       "abidra01        Canada         QC      Montreal  \n",
       "abrahth01       Sweden        NaN       Leksand  \n",
       "actonke01       Canada         ON   Stouffville  "
      ],
      "text/html": [
       "<div>\n",
       "<style scoped>\n",
       "    .dataframe tbody tr th:only-of-type {\n",
       "        vertical-align: middle;\n",
       "    }\n",
       "\n",
       "    .dataframe tbody tr th {\n",
       "        vertical-align: top;\n",
       "    }\n",
       "\n",
       "    .dataframe thead th {\n",
       "        text-align: right;\n",
       "    }\n",
       "</style>\n",
       "<table border=\"1\" class=\"dataframe\">\n",
       "  <thead>\n",
       "    <tr style=\"text-align: right;\">\n",
       "      <th></th>\n",
       "      <th>firstName</th>\n",
       "      <th>lastName</th>\n",
       "      <th>pos</th>\n",
       "      <th>birthYear</th>\n",
       "      <th>birthMon</th>\n",
       "      <th>birthDay</th>\n",
       "      <th>birthCountry</th>\n",
       "      <th>birthState</th>\n",
       "      <th>birthCity</th>\n",
       "    </tr>\n",
       "    <tr>\n",
       "      <th>playerID</th>\n",
       "      <th></th>\n",
       "      <th></th>\n",
       "      <th></th>\n",
       "      <th></th>\n",
       "      <th></th>\n",
       "      <th></th>\n",
       "      <th></th>\n",
       "      <th></th>\n",
       "      <th></th>\n",
       "    </tr>\n",
       "  </thead>\n",
       "  <tbody>\n",
       "    <tr>\n",
       "      <th>aaltoan01</th>\n",
       "      <td>Antti</td>\n",
       "      <td>Aalto</td>\n",
       "      <td>C</td>\n",
       "      <td>1975.0</td>\n",
       "      <td>3.0</td>\n",
       "      <td>4.0</td>\n",
       "      <td>Finland</td>\n",
       "      <td>NaN</td>\n",
       "      <td>Lappeenranta</td>\n",
       "    </tr>\n",
       "    <tr>\n",
       "      <th>abdelju01</th>\n",
       "      <td>Justin</td>\n",
       "      <td>Abdelkader</td>\n",
       "      <td>L</td>\n",
       "      <td>1987.0</td>\n",
       "      <td>2.0</td>\n",
       "      <td>25.0</td>\n",
       "      <td>USA</td>\n",
       "      <td>MI</td>\n",
       "      <td>Muskegon</td>\n",
       "    </tr>\n",
       "    <tr>\n",
       "      <th>abidra01</th>\n",
       "      <td>Ramzi</td>\n",
       "      <td>Abid</td>\n",
       "      <td>L</td>\n",
       "      <td>1980.0</td>\n",
       "      <td>3.0</td>\n",
       "      <td>24.0</td>\n",
       "      <td>Canada</td>\n",
       "      <td>QC</td>\n",
       "      <td>Montreal</td>\n",
       "    </tr>\n",
       "    <tr>\n",
       "      <th>abrahth01</th>\n",
       "      <td>Thommy</td>\n",
       "      <td>Abrahamsson</td>\n",
       "      <td>D</td>\n",
       "      <td>1947.0</td>\n",
       "      <td>4.0</td>\n",
       "      <td>12.0</td>\n",
       "      <td>Sweden</td>\n",
       "      <td>NaN</td>\n",
       "      <td>Leksand</td>\n",
       "    </tr>\n",
       "    <tr>\n",
       "      <th>actonke01</th>\n",
       "      <td>Keith</td>\n",
       "      <td>Acton</td>\n",
       "      <td>C</td>\n",
       "      <td>1958.0</td>\n",
       "      <td>4.0</td>\n",
       "      <td>15.0</td>\n",
       "      <td>Canada</td>\n",
       "      <td>ON</td>\n",
       "      <td>Stouffville</td>\n",
       "    </tr>\n",
       "  </tbody>\n",
       "</table>\n",
       "</div>"
      ]
     },
     "execution_count": 3,
     "metadata": {},
     "output_type": "execute_result"
    }
   ],
   "execution_count": 3
  },
  {
   "metadata": {
    "ExecuteTime": {
     "end_time": "2025-03-28T19:07:18.667797Z",
     "start_time": "2025-03-28T19:07:18.644046Z"
    }
   },
   "cell_type": "code",
   "source": [
    "master['birthDate'] = pd.to_datetime(arg={\n",
    "    'year': master.birthYear,\n",
    "    'month': master.birthMon,\n",
    "    'day': master.birthDay,\n",
    "})"
   ],
   "id": "598e5d3718b5987f",
   "outputs": [],
   "execution_count": 4
  },
  {
   "metadata": {
    "ExecuteTime": {
     "end_time": "2025-03-28T19:07:29.684410Z",
     "start_time": "2025-03-28T19:07:29.665747Z"
    }
   },
   "cell_type": "code",
   "source": "master.head()",
   "id": "a815b99b638def1a",
   "outputs": [
    {
     "data": {
      "text/plain": [
       "          firstName     lastName pos  birthYear  birthMon  birthDay  \\\n",
       "playerID                                                              \n",
       "aaltoan01     Antti        Aalto   C     1975.0       3.0       4.0   \n",
       "abdelju01    Justin   Abdelkader   L     1987.0       2.0      25.0   \n",
       "abidra01      Ramzi         Abid   L     1980.0       3.0      24.0   \n",
       "abrahth01    Thommy  Abrahamsson   D     1947.0       4.0      12.0   \n",
       "actonke01     Keith        Acton   C     1958.0       4.0      15.0   \n",
       "\n",
       "          birthCountry birthState     birthCity  birthDate  \n",
       "playerID                                                    \n",
       "aaltoan01      Finland        NaN  Lappeenranta 1975-03-04  \n",
       "abdelju01          USA         MI      Muskegon 1987-02-25  \n",
       "abidra01        Canada         QC      Montreal 1980-03-24  \n",
       "abrahth01       Sweden        NaN       Leksand 1947-04-12  \n",
       "actonke01       Canada         ON   Stouffville 1958-04-15  "
      ],
      "text/html": [
       "<div>\n",
       "<style scoped>\n",
       "    .dataframe tbody tr th:only-of-type {\n",
       "        vertical-align: middle;\n",
       "    }\n",
       "\n",
       "    .dataframe tbody tr th {\n",
       "        vertical-align: top;\n",
       "    }\n",
       "\n",
       "    .dataframe thead th {\n",
       "        text-align: right;\n",
       "    }\n",
       "</style>\n",
       "<table border=\"1\" class=\"dataframe\">\n",
       "  <thead>\n",
       "    <tr style=\"text-align: right;\">\n",
       "      <th></th>\n",
       "      <th>firstName</th>\n",
       "      <th>lastName</th>\n",
       "      <th>pos</th>\n",
       "      <th>birthYear</th>\n",
       "      <th>birthMon</th>\n",
       "      <th>birthDay</th>\n",
       "      <th>birthCountry</th>\n",
       "      <th>birthState</th>\n",
       "      <th>birthCity</th>\n",
       "      <th>birthDate</th>\n",
       "    </tr>\n",
       "    <tr>\n",
       "      <th>playerID</th>\n",
       "      <th></th>\n",
       "      <th></th>\n",
       "      <th></th>\n",
       "      <th></th>\n",
       "      <th></th>\n",
       "      <th></th>\n",
       "      <th></th>\n",
       "      <th></th>\n",
       "      <th></th>\n",
       "      <th></th>\n",
       "    </tr>\n",
       "  </thead>\n",
       "  <tbody>\n",
       "    <tr>\n",
       "      <th>aaltoan01</th>\n",
       "      <td>Antti</td>\n",
       "      <td>Aalto</td>\n",
       "      <td>C</td>\n",
       "      <td>1975.0</td>\n",
       "      <td>3.0</td>\n",
       "      <td>4.0</td>\n",
       "      <td>Finland</td>\n",
       "      <td>NaN</td>\n",
       "      <td>Lappeenranta</td>\n",
       "      <td>1975-03-04</td>\n",
       "    </tr>\n",
       "    <tr>\n",
       "      <th>abdelju01</th>\n",
       "      <td>Justin</td>\n",
       "      <td>Abdelkader</td>\n",
       "      <td>L</td>\n",
       "      <td>1987.0</td>\n",
       "      <td>2.0</td>\n",
       "      <td>25.0</td>\n",
       "      <td>USA</td>\n",
       "      <td>MI</td>\n",
       "      <td>Muskegon</td>\n",
       "      <td>1987-02-25</td>\n",
       "    </tr>\n",
       "    <tr>\n",
       "      <th>abidra01</th>\n",
       "      <td>Ramzi</td>\n",
       "      <td>Abid</td>\n",
       "      <td>L</td>\n",
       "      <td>1980.0</td>\n",
       "      <td>3.0</td>\n",
       "      <td>24.0</td>\n",
       "      <td>Canada</td>\n",
       "      <td>QC</td>\n",
       "      <td>Montreal</td>\n",
       "      <td>1980-03-24</td>\n",
       "    </tr>\n",
       "    <tr>\n",
       "      <th>abrahth01</th>\n",
       "      <td>Thommy</td>\n",
       "      <td>Abrahamsson</td>\n",
       "      <td>D</td>\n",
       "      <td>1947.0</td>\n",
       "      <td>4.0</td>\n",
       "      <td>12.0</td>\n",
       "      <td>Sweden</td>\n",
       "      <td>NaN</td>\n",
       "      <td>Leksand</td>\n",
       "      <td>1947-04-12</td>\n",
       "    </tr>\n",
       "    <tr>\n",
       "      <th>actonke01</th>\n",
       "      <td>Keith</td>\n",
       "      <td>Acton</td>\n",
       "      <td>C</td>\n",
       "      <td>1958.0</td>\n",
       "      <td>4.0</td>\n",
       "      <td>15.0</td>\n",
       "      <td>Canada</td>\n",
       "      <td>ON</td>\n",
       "      <td>Stouffville</td>\n",
       "      <td>1958-04-15</td>\n",
       "    </tr>\n",
       "  </tbody>\n",
       "</table>\n",
       "</div>"
      ]
     },
     "execution_count": 5,
     "metadata": {},
     "output_type": "execute_result"
    }
   ],
   "execution_count": 5
  },
  {
   "metadata": {
    "ExecuteTime": {
     "end_time": "2025-03-28T19:08:05.218666Z",
     "start_time": "2025-03-28T19:08:05.212416Z"
    }
   },
   "cell_type": "code",
   "source": "master.index",
   "id": "cfe43f40ef5ecc34",
   "outputs": [
    {
     "data": {
      "text/plain": [
       "Index(['aaltoan01', 'abdelju01', 'abidra01', 'abrahth01', 'actonke01',\n",
       "       'adamlu01', 'adamru01', 'adamsbr01', 'adamscr01', 'adamsgr01',\n",
       "       ...\n",
       "       'zolniha01', 'zombori01', 'zubaran01', 'zubovil01', 'zubovse01',\n",
       "       'zubruda01', 'zuccama01', 'zuckeja01', 'zukemi01', 'zyuzian01'],\n",
       "      dtype='object', name='playerID', length=4627)"
      ]
     },
     "execution_count": 6,
     "metadata": {},
     "output_type": "execute_result"
    }
   ],
   "execution_count": 6
  },
  {
   "metadata": {
    "ExecuteTime": {
     "end_time": "2025-03-28T19:08:25.393892Z",
     "start_time": "2025-03-28T19:08:25.384554Z"
    }
   },
   "cell_type": "code",
   "source": "master.index.name",
   "id": "340054580f5de3ea",
   "outputs": [
    {
     "data": {
      "text/plain": [
       "'playerID'"
      ]
     },
     "execution_count": 7,
     "metadata": {},
     "output_type": "execute_result"
    }
   ],
   "execution_count": 7
  },
  {
   "metadata": {
    "ExecuteTime": {
     "end_time": "2025-03-28T19:11:33.379400Z",
     "start_time": "2025-03-28T19:11:33.354547Z"
    }
   },
   "cell_type": "code",
   "source": [
    "master.drop(columns=['birthYear', 'birthMon', 'birthDay'], inplace=True)\n",
    "master.head()"
   ],
   "id": "9dc3b729e801eaf3",
   "outputs": [
    {
     "data": {
      "text/plain": [
       "          firstName     lastName pos birthCountry birthState     birthCity  \\\n",
       "playerID                                                                     \n",
       "aaltoan01     Antti        Aalto   C      Finland        NaN  Lappeenranta   \n",
       "abdelju01    Justin   Abdelkader   L          USA         MI      Muskegon   \n",
       "abidra01      Ramzi         Abid   L       Canada         QC      Montreal   \n",
       "abrahth01    Thommy  Abrahamsson   D       Sweden        NaN       Leksand   \n",
       "actonke01     Keith        Acton   C       Canada         ON   Stouffville   \n",
       "\n",
       "           birthDate  \n",
       "playerID              \n",
       "aaltoan01 1975-03-04  \n",
       "abdelju01 1987-02-25  \n",
       "abidra01  1980-03-24  \n",
       "abrahth01 1947-04-12  \n",
       "actonke01 1958-04-15  "
      ],
      "text/html": [
       "<div>\n",
       "<style scoped>\n",
       "    .dataframe tbody tr th:only-of-type {\n",
       "        vertical-align: middle;\n",
       "    }\n",
       "\n",
       "    .dataframe tbody tr th {\n",
       "        vertical-align: top;\n",
       "    }\n",
       "\n",
       "    .dataframe thead th {\n",
       "        text-align: right;\n",
       "    }\n",
       "</style>\n",
       "<table border=\"1\" class=\"dataframe\">\n",
       "  <thead>\n",
       "    <tr style=\"text-align: right;\">\n",
       "      <th></th>\n",
       "      <th>firstName</th>\n",
       "      <th>lastName</th>\n",
       "      <th>pos</th>\n",
       "      <th>birthCountry</th>\n",
       "      <th>birthState</th>\n",
       "      <th>birthCity</th>\n",
       "      <th>birthDate</th>\n",
       "    </tr>\n",
       "    <tr>\n",
       "      <th>playerID</th>\n",
       "      <th></th>\n",
       "      <th></th>\n",
       "      <th></th>\n",
       "      <th></th>\n",
       "      <th></th>\n",
       "      <th></th>\n",
       "      <th></th>\n",
       "    </tr>\n",
       "  </thead>\n",
       "  <tbody>\n",
       "    <tr>\n",
       "      <th>aaltoan01</th>\n",
       "      <td>Antti</td>\n",
       "      <td>Aalto</td>\n",
       "      <td>C</td>\n",
       "      <td>Finland</td>\n",
       "      <td>NaN</td>\n",
       "      <td>Lappeenranta</td>\n",
       "      <td>1975-03-04</td>\n",
       "    </tr>\n",
       "    <tr>\n",
       "      <th>abdelju01</th>\n",
       "      <td>Justin</td>\n",
       "      <td>Abdelkader</td>\n",
       "      <td>L</td>\n",
       "      <td>USA</td>\n",
       "      <td>MI</td>\n",
       "      <td>Muskegon</td>\n",
       "      <td>1987-02-25</td>\n",
       "    </tr>\n",
       "    <tr>\n",
       "      <th>abidra01</th>\n",
       "      <td>Ramzi</td>\n",
       "      <td>Abid</td>\n",
       "      <td>L</td>\n",
       "      <td>Canada</td>\n",
       "      <td>QC</td>\n",
       "      <td>Montreal</td>\n",
       "      <td>1980-03-24</td>\n",
       "    </tr>\n",
       "    <tr>\n",
       "      <th>abrahth01</th>\n",
       "      <td>Thommy</td>\n",
       "      <td>Abrahamsson</td>\n",
       "      <td>D</td>\n",
       "      <td>Sweden</td>\n",
       "      <td>NaN</td>\n",
       "      <td>Leksand</td>\n",
       "      <td>1947-04-12</td>\n",
       "    </tr>\n",
       "    <tr>\n",
       "      <th>actonke01</th>\n",
       "      <td>Keith</td>\n",
       "      <td>Acton</td>\n",
       "      <td>C</td>\n",
       "      <td>Canada</td>\n",
       "      <td>ON</td>\n",
       "      <td>Stouffville</td>\n",
       "      <td>1958-04-15</td>\n",
       "    </tr>\n",
       "  </tbody>\n",
       "</table>\n",
       "</div>"
      ]
     },
     "execution_count": 8,
     "metadata": {},
     "output_type": "execute_result"
    }
   ],
   "execution_count": 8
  },
  {
   "metadata": {
    "ExecuteTime": {
     "end_time": "2025-03-28T19:13:20.308982Z",
     "start_time": "2025-03-28T19:13:20.302428Z"
    }
   },
   "cell_type": "code",
   "source": [
    "ts = master.iloc[0, -1]\n",
    "ts"
   ],
   "id": "684e45aa5bdf8ee7",
   "outputs": [
    {
     "data": {
      "text/plain": [
       "Timestamp('1975-03-04 00:00:00')"
      ]
     },
     "execution_count": 9,
     "metadata": {},
     "output_type": "execute_result"
    }
   ],
   "execution_count": 9
  },
  {
   "metadata": {
    "ExecuteTime": {
     "end_time": "2025-03-28T19:17:40.148662Z",
     "start_time": "2025-03-28T19:17:40.140848Z"
    }
   },
   "cell_type": "code",
   "source": "ts.day_name()",
   "id": "4234ddf0136f1f8a",
   "outputs": [
    {
     "data": {
      "text/plain": [
       "'Tuesday'"
      ]
     },
     "execution_count": 10,
     "metadata": {},
     "output_type": "execute_result"
    }
   ],
   "execution_count": 10
  },
  {
   "metadata": {
    "ExecuteTime": {
     "end_time": "2025-03-28T19:26:39.365329Z",
     "start_time": "2025-03-28T19:26:39.314748Z"
    }
   },
   "cell_type": "code",
   "source": [
    "tsz = ts.tz_localize('America/Toronto')\n",
    "tsz"
   ],
   "id": "2169df6aa1ff3063",
   "outputs": [
    {
     "data": {
      "text/plain": [
       "Timestamp('1975-03-04 00:00:00-0500', tz='America/Toronto')"
      ]
     },
     "execution_count": 11,
     "metadata": {},
     "output_type": "execute_result"
    }
   ],
   "execution_count": 11
  },
  {
   "metadata": {
    "ExecuteTime": {
     "end_time": "2025-03-28T19:27:40.970024Z",
     "start_time": "2025-03-28T19:27:40.957261Z"
    }
   },
   "cell_type": "code",
   "source": "tsz.tz_convert('Europe/London')",
   "id": "c9bdee1489459a82",
   "outputs": [
    {
     "data": {
      "text/plain": [
       "Timestamp('1975-03-04 05:00:00+0000', tz='Europe/London')"
      ]
     },
     "execution_count": 12,
     "metadata": {},
     "output_type": "execute_result"
    }
   ],
   "execution_count": 12
  },
  {
   "metadata": {
    "ExecuteTime": {
     "end_time": "2025-03-28T19:28:33.430464Z",
     "start_time": "2025-03-28T19:28:33.421452Z"
    }
   },
   "cell_type": "code",
   "source": "master['lastName'].str.upper()",
   "id": "bcba3e211c37f36a",
   "outputs": [
    {
     "data": {
      "text/plain": [
       "playerID\n",
       "aaltoan01          AALTO\n",
       "abdelju01     ABDELKADER\n",
       "abidra01            ABID\n",
       "abrahth01    ABRAHAMSSON\n",
       "actonke01          ACTON\n",
       "                ...     \n",
       "zubruda01         ZUBRUS\n",
       "zuccama01     ZUCCARELLO\n",
       "zuckeja01         ZUCKER\n",
       "zukemi01            ZUKE\n",
       "zyuzian01         ZYUZIN\n",
       "Name: lastName, Length: 4627, dtype: object"
      ]
     },
     "execution_count": 13,
     "metadata": {},
     "output_type": "execute_result"
    }
   ],
   "execution_count": 13
  },
  {
   "metadata": {
    "ExecuteTime": {
     "end_time": "2025-03-28T19:29:55.131232Z",
     "start_time": "2025-03-28T19:29:55.116865Z"
    }
   },
   "cell_type": "code",
   "source": "master['birthDate'].dt.strftime('%Y-%m-%d')",
   "id": "4fa16a03b1f6468d",
   "outputs": [
    {
     "data": {
      "text/plain": [
       "playerID\n",
       "aaltoan01    1975-03-04\n",
       "abdelju01    1987-02-25\n",
       "abidra01     1980-03-24\n",
       "abrahth01    1947-04-12\n",
       "actonke01    1958-04-15\n",
       "                ...    \n",
       "zubruda01    1978-06-16\n",
       "zuccama01    1987-09-01\n",
       "zuckeja01    1992-01-16\n",
       "zukemi01     1954-04-16\n",
       "zyuzian01    1978-01-21\n",
       "Name: birthDate, Length: 4627, dtype: object"
      ]
     },
     "execution_count": 14,
     "metadata": {},
     "output_type": "execute_result"
    }
   ],
   "execution_count": 14
  },
  {
   "metadata": {
    "ExecuteTime": {
     "end_time": "2025-03-28T19:33:54.126914Z",
     "start_time": "2025-03-28T19:33:54.073148Z"
    }
   },
   "cell_type": "code",
   "source": "master['birthDate'].dt.strftime('%d-%m-%Y - Minutes: %M')",
   "id": "c28093f3b411e407",
   "outputs": [
    {
     "data": {
      "text/plain": [
       "playerID\n",
       "aaltoan01    04-03-1975 - Minutes: 00\n",
       "abdelju01    25-02-1987 - Minutes: 00\n",
       "abidra01     24-03-1980 - Minutes: 00\n",
       "abrahth01    12-04-1947 - Minutes: 00\n",
       "actonke01    15-04-1958 - Minutes: 00\n",
       "                       ...           \n",
       "zubruda01    16-06-1978 - Minutes: 00\n",
       "zuccama01    01-09-1987 - Minutes: 00\n",
       "zuckeja01    16-01-1992 - Minutes: 00\n",
       "zukemi01     16-04-1954 - Minutes: 00\n",
       "zyuzian01    21-01-1978 - Minutes: 00\n",
       "Name: birthDate, Length: 4627, dtype: object"
      ]
     },
     "execution_count": 15,
     "metadata": {},
     "output_type": "execute_result"
    }
   ],
   "execution_count": 15
  },
  {
   "metadata": {
    "ExecuteTime": {
     "end_time": "2025-03-28T19:38:10.500718Z",
     "start_time": "2025-03-28T19:38:10.489798Z"
    }
   },
   "cell_type": "code",
   "source": "strings = master['birthDate'].dt.strftime('%Y-%m-%d')",
   "id": "feae2fb606663ce9",
   "outputs": [],
   "execution_count": 16
  },
  {
   "metadata": {
    "ExecuteTime": {
     "end_time": "2025-03-28T19:38:40.964665Z",
     "start_time": "2025-03-28T19:38:40.952441Z"
    }
   },
   "cell_type": "code",
   "source": "strings.head()",
   "id": "2fd4d0a73ef4034",
   "outputs": [
    {
     "data": {
      "text/plain": [
       "playerID\n",
       "aaltoan01    1975-03-04\n",
       "abdelju01    1987-02-25\n",
       "abidra01     1980-03-24\n",
       "abrahth01    1947-04-12\n",
       "actonke01    1958-04-15\n",
       "Name: birthDate, dtype: object"
      ]
     },
     "execution_count": 18,
     "metadata": {},
     "output_type": "execute_result"
    }
   ],
   "execution_count": 18
  },
  {
   "metadata": {
    "ExecuteTime": {
     "end_time": "2025-03-28T19:39:23.797371Z",
     "start_time": "2025-03-28T19:39:23.780212Z"
    }
   },
   "cell_type": "code",
   "source": "strings.info()",
   "id": "45780baa64a11e8c",
   "outputs": [
    {
     "name": "stdout",
     "output_type": "stream",
     "text": [
      "<class 'pandas.core.series.Series'>\n",
      "Index: 4627 entries, aaltoan01 to zyuzian01\n",
      "Series name: birthDate\n",
      "Non-Null Count  Dtype \n",
      "--------------  ----- \n",
      "4627 non-null   object\n",
      "dtypes: object(1)\n",
      "memory usage: 201.3+ KB\n"
     ]
    }
   ],
   "execution_count": 21
  },
  {
   "metadata": {
    "ExecuteTime": {
     "end_time": "2025-03-28T19:42:17.127686Z",
     "start_time": "2025-03-28T19:42:17.109723Z"
    }
   },
   "cell_type": "code",
   "source": [
    "dates = pd.to_datetime(strings)\n",
    "dates.head()"
   ],
   "id": "48c3468764b9f7d7",
   "outputs": [
    {
     "data": {
      "text/plain": [
       "playerID\n",
       "aaltoan01   1975-03-04\n",
       "abdelju01   1987-02-25\n",
       "abidra01    1980-03-24\n",
       "abrahth01   1947-04-12\n",
       "actonke01   1958-04-15\n",
       "Name: birthDate, dtype: datetime64[ns]"
      ]
     },
     "execution_count": 22,
     "metadata": {},
     "output_type": "execute_result"
    }
   ],
   "execution_count": 22
  },
  {
   "metadata": {
    "ExecuteTime": {
     "end_time": "2025-03-28T19:42:34.195485Z",
     "start_time": "2025-03-28T19:42:34.181585Z"
    }
   },
   "cell_type": "code",
   "source": "dates.info()",
   "id": "1f926cfb29b07169",
   "outputs": [
    {
     "name": "stdout",
     "output_type": "stream",
     "text": [
      "<class 'pandas.core.series.Series'>\n",
      "Index: 4627 entries, aaltoan01 to zyuzian01\n",
      "Series name: birthDate\n",
      "Non-Null Count  Dtype         \n",
      "--------------  -----         \n",
      "4627 non-null   datetime64[ns]\n",
      "dtypes: datetime64[ns](1)\n",
      "memory usage: 201.3+ KB\n"
     ]
    }
   ],
   "execution_count": 24
  },
  {
   "metadata": {
    "ExecuteTime": {
     "end_time": "2025-03-28T19:45:01.922251Z",
     "start_time": "2025-03-28T19:45:01.911325Z"
    }
   },
   "cell_type": "code",
   "source": [
    "strings = strings.str.replace('-', 'xx')\n",
    "strings.head()"
   ],
   "id": "438cb7ffe5253e30",
   "outputs": [
    {
     "data": {
      "text/plain": [
       "playerID\n",
       "aaltoan01    1975xx03xx04\n",
       "abdelju01    1987xx02xx25\n",
       "abidra01     1980xx03xx24\n",
       "abrahth01    1947xx04xx12\n",
       "actonke01    1958xx04xx15\n",
       "Name: birthDate, dtype: object"
      ]
     },
     "execution_count": 25,
     "metadata": {},
     "output_type": "execute_result"
    }
   ],
   "execution_count": 25
  },
  {
   "metadata": {
    "ExecuteTime": {
     "end_time": "2025-03-28T19:46:16.067721Z",
     "start_time": "2025-03-28T19:46:16.058765Z"
    }
   },
   "cell_type": "code",
   "source": [
    "strings = strings.str.replace('-', 'xx')\n",
    "strings.head()"
   ],
   "id": "25cf0853c373dbfb",
   "outputs": [
    {
     "data": {
      "text/plain": [
       "playerID\n",
       "aaltoan01    1975xx03xx04\n",
       "abdelju01    1987xx02xx25\n",
       "abidra01     1980xx03xx24\n",
       "abrahth01    1947xx04xx12\n",
       "actonke01    1958xx04xx15\n",
       "Name: birthDate, dtype: object"
      ]
     },
     "execution_count": 26,
     "metadata": {},
     "output_type": "execute_result"
    }
   ],
   "execution_count": 26
  },
  {
   "metadata": {
    "ExecuteTime": {
     "end_time": "2025-03-28T19:47:22.843574Z",
     "start_time": "2025-03-28T19:47:22.812196Z"
    }
   },
   "cell_type": "code",
   "source": "pd.to_datetime(strings, format='%Yxx%mxx%d')",
   "id": "55298f6d8d9a9e87",
   "outputs": [
    {
     "data": {
      "text/plain": [
       "playerID\n",
       "aaltoan01   1975-03-04\n",
       "abdelju01   1987-02-25\n",
       "abidra01    1980-03-24\n",
       "abrahth01   1947-04-12\n",
       "actonke01   1958-04-15\n",
       "               ...    \n",
       "zubruda01   1978-06-16\n",
       "zuccama01   1987-09-01\n",
       "zuckeja01   1992-01-16\n",
       "zukemi01    1954-04-16\n",
       "zyuzian01   1978-01-21\n",
       "Name: birthDate, Length: 4627, dtype: datetime64[ns]"
      ]
     },
     "execution_count": 27,
     "metadata": {},
     "output_type": "execute_result"
    }
   ],
   "execution_count": 27
  },
  {
   "metadata": {
    "ExecuteTime": {
     "end_time": "2025-03-28T19:49:39.845458Z",
     "start_time": "2025-03-28T19:49:39.839614Z"
    }
   },
   "cell_type": "code",
   "source": [
    "strings_errors = strings.copy()\n",
    "strings_errors.iloc[34] = 'xx123'"
   ],
   "id": "6158db5d35a20a7f",
   "outputs": [],
   "execution_count": 28
  },
  {
   "metadata": {
    "ExecuteTime": {
     "end_time": "2025-03-28T19:49:46.288673Z",
     "start_time": "2025-03-28T19:49:46.281234Z"
    }
   },
   "cell_type": "code",
   "source": "strings_errors.head()",
   "id": "3265f48b49144bf8",
   "outputs": [
    {
     "data": {
      "text/plain": [
       "playerID\n",
       "aaltoan01    1975xx03xx04\n",
       "abdelju01    1987xx02xx25\n",
       "abidra01     1980xx03xx24\n",
       "abrahth01    1947xx04xx12\n",
       "actonke01    1958xx04xx15\n",
       "Name: birthDate, dtype: object"
      ]
     },
     "execution_count": 29,
     "metadata": {},
     "output_type": "execute_result"
    }
   ],
   "execution_count": 29
  },
  {
   "metadata": {
    "ExecuteTime": {
     "end_time": "2025-03-28T19:53:06.556059Z",
     "start_time": "2025-03-28T19:53:06.287228Z"
    }
   },
   "cell_type": "code",
   "source": "pd.to_datetime(strings_errors, format='%Yxx%mxx%d')",
   "id": "70645b80c94408d4",
   "outputs": [
    {
     "ename": "ValueError",
     "evalue": "time data \"xx123\" doesn't match format \"%Yxx%mxx%d\", at position 34. You might want to try:\n    - passing `format` if your strings have a consistent format;\n    - passing `format='ISO8601'` if your strings are all ISO8601 but not necessarily in exactly the same format;\n    - passing `format='mixed'`, and the format will be inferred for each element individually. You might want to use `dayfirst` alongside this.",
     "output_type": "error",
     "traceback": [
      "\u001B[31m---------------------------------------------------------------------------\u001B[39m",
      "\u001B[31mValueError\u001B[39m                                Traceback (most recent call last)",
      "\u001B[36mCell\u001B[39m\u001B[36m \u001B[39m\u001B[32mIn[30]\u001B[39m\u001B[32m, line 1\u001B[39m\n\u001B[32m----> \u001B[39m\u001B[32m1\u001B[39m \u001B[43mpd\u001B[49m\u001B[43m.\u001B[49m\u001B[43mto_datetime\u001B[49m\u001B[43m(\u001B[49m\u001B[43mstrings_errors\u001B[49m\u001B[43m,\u001B[49m\u001B[43m \u001B[49m\u001B[38;5;28;43mformat\u001B[39;49m\u001B[43m=\u001B[49m\u001B[33;43m'\u001B[39;49m\u001B[33;43m%\u001B[39;49m\u001B[33;43mYxx\u001B[39;49m\u001B[33;43m%\u001B[39;49m\u001B[33;43mmxx\u001B[39;49m\u001B[38;5;132;43;01m%d\u001B[39;49;00m\u001B[33;43m'\u001B[39;49m\u001B[43m)\u001B[49m\n",
      "\u001B[36mFile \u001B[39m\u001B[32m~/projects/data_science/hockey_df/.venv/lib/python3.13/site-packages/pandas/core/tools/datetimes.py:1067\u001B[39m, in \u001B[36mto_datetime\u001B[39m\u001B[34m(arg, errors, dayfirst, yearfirst, utc, format, exact, unit, infer_datetime_format, origin, cache)\u001B[39m\n\u001B[32m   1065\u001B[39m         result = arg.map(cache_array)\n\u001B[32m   1066\u001B[39m     \u001B[38;5;28;01melse\u001B[39;00m:\n\u001B[32m-> \u001B[39m\u001B[32m1067\u001B[39m         values = \u001B[43mconvert_listlike\u001B[49m\u001B[43m(\u001B[49m\u001B[43marg\u001B[49m\u001B[43m.\u001B[49m\u001B[43m_values\u001B[49m\u001B[43m,\u001B[49m\u001B[43m \u001B[49m\u001B[38;5;28;43mformat\u001B[39;49m\u001B[43m)\u001B[49m\n\u001B[32m   1068\u001B[39m         result = arg._constructor(values, index=arg.index, name=arg.name)\n\u001B[32m   1069\u001B[39m \u001B[38;5;28;01melif\u001B[39;00m \u001B[38;5;28misinstance\u001B[39m(arg, (ABCDataFrame, abc.MutableMapping)):\n",
      "\u001B[36mFile \u001B[39m\u001B[32m~/projects/data_science/hockey_df/.venv/lib/python3.13/site-packages/pandas/core/tools/datetimes.py:433\u001B[39m, in \u001B[36m_convert_listlike_datetimes\u001B[39m\u001B[34m(arg, format, name, utc, unit, errors, dayfirst, yearfirst, exact)\u001B[39m\n\u001B[32m    431\u001B[39m \u001B[38;5;66;03m# `format` could be inferred, or user didn't ask for mixed-format parsing.\u001B[39;00m\n\u001B[32m    432\u001B[39m \u001B[38;5;28;01mif\u001B[39;00m \u001B[38;5;28mformat\u001B[39m \u001B[38;5;129;01mis\u001B[39;00m \u001B[38;5;129;01mnot\u001B[39;00m \u001B[38;5;28;01mNone\u001B[39;00m \u001B[38;5;129;01mand\u001B[39;00m \u001B[38;5;28mformat\u001B[39m != \u001B[33m\"\u001B[39m\u001B[33mmixed\u001B[39m\u001B[33m\"\u001B[39m:\n\u001B[32m--> \u001B[39m\u001B[32m433\u001B[39m     \u001B[38;5;28;01mreturn\u001B[39;00m \u001B[43m_array_strptime_with_fallback\u001B[49m\u001B[43m(\u001B[49m\u001B[43marg\u001B[49m\u001B[43m,\u001B[49m\u001B[43m \u001B[49m\u001B[43mname\u001B[49m\u001B[43m,\u001B[49m\u001B[43m \u001B[49m\u001B[43mutc\u001B[49m\u001B[43m,\u001B[49m\u001B[43m \u001B[49m\u001B[38;5;28;43mformat\u001B[39;49m\u001B[43m,\u001B[49m\u001B[43m \u001B[49m\u001B[43mexact\u001B[49m\u001B[43m,\u001B[49m\u001B[43m \u001B[49m\u001B[43merrors\u001B[49m\u001B[43m)\u001B[49m\n\u001B[32m    435\u001B[39m result, tz_parsed = objects_to_datetime64(\n\u001B[32m    436\u001B[39m     arg,\n\u001B[32m    437\u001B[39m     dayfirst=dayfirst,\n\u001B[32m   (...)\u001B[39m\u001B[32m    441\u001B[39m     allow_object=\u001B[38;5;28;01mTrue\u001B[39;00m,\n\u001B[32m    442\u001B[39m )\n\u001B[32m    444\u001B[39m \u001B[38;5;28;01mif\u001B[39;00m tz_parsed \u001B[38;5;129;01mis\u001B[39;00m \u001B[38;5;129;01mnot\u001B[39;00m \u001B[38;5;28;01mNone\u001B[39;00m:\n\u001B[32m    445\u001B[39m     \u001B[38;5;66;03m# We can take a shortcut since the datetime64 numpy array\u001B[39;00m\n\u001B[32m    446\u001B[39m     \u001B[38;5;66;03m# is in UTC\u001B[39;00m\n",
      "\u001B[36mFile \u001B[39m\u001B[32m~/projects/data_science/hockey_df/.venv/lib/python3.13/site-packages/pandas/core/tools/datetimes.py:467\u001B[39m, in \u001B[36m_array_strptime_with_fallback\u001B[39m\u001B[34m(arg, name, utc, fmt, exact, errors)\u001B[39m\n\u001B[32m    456\u001B[39m \u001B[38;5;28;01mdef\u001B[39;00m\u001B[38;5;250m \u001B[39m\u001B[34m_array_strptime_with_fallback\u001B[39m(\n\u001B[32m    457\u001B[39m     arg,\n\u001B[32m    458\u001B[39m     name,\n\u001B[32m   (...)\u001B[39m\u001B[32m    462\u001B[39m     errors: \u001B[38;5;28mstr\u001B[39m,\n\u001B[32m    463\u001B[39m ) -> Index:\n\u001B[32m    464\u001B[39m \u001B[38;5;250m    \u001B[39m\u001B[33;03m\"\"\"\u001B[39;00m\n\u001B[32m    465\u001B[39m \u001B[33;03m    Call array_strptime, with fallback behavior depending on 'errors'.\u001B[39;00m\n\u001B[32m    466\u001B[39m \u001B[33;03m    \"\"\"\u001B[39;00m\n\u001B[32m--> \u001B[39m\u001B[32m467\u001B[39m     result, tz_out = \u001B[43marray_strptime\u001B[49m\u001B[43m(\u001B[49m\u001B[43marg\u001B[49m\u001B[43m,\u001B[49m\u001B[43m \u001B[49m\u001B[43mfmt\u001B[49m\u001B[43m,\u001B[49m\u001B[43m \u001B[49m\u001B[43mexact\u001B[49m\u001B[43m=\u001B[49m\u001B[43mexact\u001B[49m\u001B[43m,\u001B[49m\u001B[43m \u001B[49m\u001B[43merrors\u001B[49m\u001B[43m=\u001B[49m\u001B[43merrors\u001B[49m\u001B[43m,\u001B[49m\u001B[43m \u001B[49m\u001B[43mutc\u001B[49m\u001B[43m=\u001B[49m\u001B[43mutc\u001B[49m\u001B[43m)\u001B[49m\n\u001B[32m    468\u001B[39m     \u001B[38;5;28;01mif\u001B[39;00m tz_out \u001B[38;5;129;01mis\u001B[39;00m \u001B[38;5;129;01mnot\u001B[39;00m \u001B[38;5;28;01mNone\u001B[39;00m:\n\u001B[32m    469\u001B[39m         unit = np.datetime_data(result.dtype)[\u001B[32m0\u001B[39m]\n",
      "\u001B[36mFile \u001B[39m\u001B[32mstrptime.pyx:501\u001B[39m, in \u001B[36mpandas._libs.tslibs.strptime.array_strptime\u001B[39m\u001B[34m()\u001B[39m\n",
      "\u001B[36mFile \u001B[39m\u001B[32mstrptime.pyx:451\u001B[39m, in \u001B[36mpandas._libs.tslibs.strptime.array_strptime\u001B[39m\u001B[34m()\u001B[39m\n",
      "\u001B[36mFile \u001B[39m\u001B[32mstrptime.pyx:583\u001B[39m, in \u001B[36mpandas._libs.tslibs.strptime._parse_with_format\u001B[39m\u001B[34m()\u001B[39m\n",
      "\u001B[31mValueError\u001B[39m: time data \"xx123\" doesn't match format \"%Yxx%mxx%d\", at position 34. You might want to try:\n    - passing `format` if your strings have a consistent format;\n    - passing `format='ISO8601'` if your strings are all ISO8601 but not necessarily in exactly the same format;\n    - passing `format='mixed'`, and the format will be inferred for each element individually. You might want to use `dayfirst` alongside this."
     ]
    }
   ],
   "execution_count": 30
  },
  {
   "metadata": {
    "ExecuteTime": {
     "end_time": "2025-03-28T19:53:20.728989Z",
     "start_time": "2025-03-28T19:53:20.469968Z"
    }
   },
   "cell_type": "code",
   "source": "pd.to_datetime(strings_errors, format='mixed')",
   "id": "21d514275fd81b43",
   "outputs": [
    {
     "ename": "DateParseError",
     "evalue": "Unknown datetime string format, unable to parse: 1975xx03xx04, at position 0",
     "output_type": "error",
     "traceback": [
      "\u001B[31m---------------------------------------------------------------------------\u001B[39m",
      "\u001B[31mDateParseError\u001B[39m                            Traceback (most recent call last)",
      "\u001B[36mCell\u001B[39m\u001B[36m \u001B[39m\u001B[32mIn[31]\u001B[39m\u001B[32m, line 1\u001B[39m\n\u001B[32m----> \u001B[39m\u001B[32m1\u001B[39m \u001B[43mpd\u001B[49m\u001B[43m.\u001B[49m\u001B[43mto_datetime\u001B[49m\u001B[43m(\u001B[49m\u001B[43mstrings_errors\u001B[49m\u001B[43m,\u001B[49m\u001B[43m \u001B[49m\u001B[38;5;28;43mformat\u001B[39;49m\u001B[43m=\u001B[49m\u001B[33;43m'\u001B[39;49m\u001B[33;43mmixed\u001B[39;49m\u001B[33;43m'\u001B[39;49m\u001B[43m)\u001B[49m\n",
      "\u001B[36mFile \u001B[39m\u001B[32m~/projects/data_science/hockey_df/.venv/lib/python3.13/site-packages/pandas/core/tools/datetimes.py:1067\u001B[39m, in \u001B[36mto_datetime\u001B[39m\u001B[34m(arg, errors, dayfirst, yearfirst, utc, format, exact, unit, infer_datetime_format, origin, cache)\u001B[39m\n\u001B[32m   1065\u001B[39m         result = arg.map(cache_array)\n\u001B[32m   1066\u001B[39m     \u001B[38;5;28;01melse\u001B[39;00m:\n\u001B[32m-> \u001B[39m\u001B[32m1067\u001B[39m         values = \u001B[43mconvert_listlike\u001B[49m\u001B[43m(\u001B[49m\u001B[43marg\u001B[49m\u001B[43m.\u001B[49m\u001B[43m_values\u001B[49m\u001B[43m,\u001B[49m\u001B[43m \u001B[49m\u001B[38;5;28;43mformat\u001B[39;49m\u001B[43m)\u001B[49m\n\u001B[32m   1068\u001B[39m         result = arg._constructor(values, index=arg.index, name=arg.name)\n\u001B[32m   1069\u001B[39m \u001B[38;5;28;01melif\u001B[39;00m \u001B[38;5;28misinstance\u001B[39m(arg, (ABCDataFrame, abc.MutableMapping)):\n",
      "\u001B[36mFile \u001B[39m\u001B[32m~/projects/data_science/hockey_df/.venv/lib/python3.13/site-packages/pandas/core/tools/datetimes.py:435\u001B[39m, in \u001B[36m_convert_listlike_datetimes\u001B[39m\u001B[34m(arg, format, name, utc, unit, errors, dayfirst, yearfirst, exact)\u001B[39m\n\u001B[32m    432\u001B[39m \u001B[38;5;28;01mif\u001B[39;00m \u001B[38;5;28mformat\u001B[39m \u001B[38;5;129;01mis\u001B[39;00m \u001B[38;5;129;01mnot\u001B[39;00m \u001B[38;5;28;01mNone\u001B[39;00m \u001B[38;5;129;01mand\u001B[39;00m \u001B[38;5;28mformat\u001B[39m != \u001B[33m\"\u001B[39m\u001B[33mmixed\u001B[39m\u001B[33m\"\u001B[39m:\n\u001B[32m    433\u001B[39m     \u001B[38;5;28;01mreturn\u001B[39;00m _array_strptime_with_fallback(arg, name, utc, \u001B[38;5;28mformat\u001B[39m, exact, errors)\n\u001B[32m--> \u001B[39m\u001B[32m435\u001B[39m result, tz_parsed = \u001B[43mobjects_to_datetime64\u001B[49m\u001B[43m(\u001B[49m\n\u001B[32m    436\u001B[39m \u001B[43m    \u001B[49m\u001B[43marg\u001B[49m\u001B[43m,\u001B[49m\n\u001B[32m    437\u001B[39m \u001B[43m    \u001B[49m\u001B[43mdayfirst\u001B[49m\u001B[43m=\u001B[49m\u001B[43mdayfirst\u001B[49m\u001B[43m,\u001B[49m\n\u001B[32m    438\u001B[39m \u001B[43m    \u001B[49m\u001B[43myearfirst\u001B[49m\u001B[43m=\u001B[49m\u001B[43myearfirst\u001B[49m\u001B[43m,\u001B[49m\n\u001B[32m    439\u001B[39m \u001B[43m    \u001B[49m\u001B[43mutc\u001B[49m\u001B[43m=\u001B[49m\u001B[43mutc\u001B[49m\u001B[43m,\u001B[49m\n\u001B[32m    440\u001B[39m \u001B[43m    \u001B[49m\u001B[43merrors\u001B[49m\u001B[43m=\u001B[49m\u001B[43merrors\u001B[49m\u001B[43m,\u001B[49m\n\u001B[32m    441\u001B[39m \u001B[43m    \u001B[49m\u001B[43mallow_object\u001B[49m\u001B[43m=\u001B[49m\u001B[38;5;28;43;01mTrue\u001B[39;49;00m\u001B[43m,\u001B[49m\n\u001B[32m    442\u001B[39m \u001B[43m\u001B[49m\u001B[43m)\u001B[49m\n\u001B[32m    444\u001B[39m \u001B[38;5;28;01mif\u001B[39;00m tz_parsed \u001B[38;5;129;01mis\u001B[39;00m \u001B[38;5;129;01mnot\u001B[39;00m \u001B[38;5;28;01mNone\u001B[39;00m:\n\u001B[32m    445\u001B[39m     \u001B[38;5;66;03m# We can take a shortcut since the datetime64 numpy array\u001B[39;00m\n\u001B[32m    446\u001B[39m     \u001B[38;5;66;03m# is in UTC\u001B[39;00m\n\u001B[32m    447\u001B[39m     out_unit = np.datetime_data(result.dtype)[\u001B[32m0\u001B[39m]\n",
      "\u001B[36mFile \u001B[39m\u001B[32m~/projects/data_science/hockey_df/.venv/lib/python3.13/site-packages/pandas/core/arrays/datetimes.py:2398\u001B[39m, in \u001B[36mobjects_to_datetime64\u001B[39m\u001B[34m(data, dayfirst, yearfirst, utc, errors, allow_object, out_unit)\u001B[39m\n\u001B[32m   2395\u001B[39m \u001B[38;5;66;03m# if str-dtype, convert\u001B[39;00m\n\u001B[32m   2396\u001B[39m data = np.asarray(data, dtype=np.object_)\n\u001B[32m-> \u001B[39m\u001B[32m2398\u001B[39m result, tz_parsed = \u001B[43mtslib\u001B[49m\u001B[43m.\u001B[49m\u001B[43marray_to_datetime\u001B[49m\u001B[43m(\u001B[49m\n\u001B[32m   2399\u001B[39m \u001B[43m    \u001B[49m\u001B[43mdata\u001B[49m\u001B[43m,\u001B[49m\n\u001B[32m   2400\u001B[39m \u001B[43m    \u001B[49m\u001B[43merrors\u001B[49m\u001B[43m=\u001B[49m\u001B[43merrors\u001B[49m\u001B[43m,\u001B[49m\n\u001B[32m   2401\u001B[39m \u001B[43m    \u001B[49m\u001B[43mutc\u001B[49m\u001B[43m=\u001B[49m\u001B[43mutc\u001B[49m\u001B[43m,\u001B[49m\n\u001B[32m   2402\u001B[39m \u001B[43m    \u001B[49m\u001B[43mdayfirst\u001B[49m\u001B[43m=\u001B[49m\u001B[43mdayfirst\u001B[49m\u001B[43m,\u001B[49m\n\u001B[32m   2403\u001B[39m \u001B[43m    \u001B[49m\u001B[43myearfirst\u001B[49m\u001B[43m=\u001B[49m\u001B[43myearfirst\u001B[49m\u001B[43m,\u001B[49m\n\u001B[32m   2404\u001B[39m \u001B[43m    \u001B[49m\u001B[43mcreso\u001B[49m\u001B[43m=\u001B[49m\u001B[43mabbrev_to_npy_unit\u001B[49m\u001B[43m(\u001B[49m\u001B[43mout_unit\u001B[49m\u001B[43m)\u001B[49m\u001B[43m,\u001B[49m\n\u001B[32m   2405\u001B[39m \u001B[43m\u001B[49m\u001B[43m)\u001B[49m\n\u001B[32m   2407\u001B[39m \u001B[38;5;28;01mif\u001B[39;00m tz_parsed \u001B[38;5;129;01mis\u001B[39;00m \u001B[38;5;129;01mnot\u001B[39;00m \u001B[38;5;28;01mNone\u001B[39;00m:\n\u001B[32m   2408\u001B[39m     \u001B[38;5;66;03m# We can take a shortcut since the datetime64 numpy array\u001B[39;00m\n\u001B[32m   2409\u001B[39m     \u001B[38;5;66;03m#  is in UTC\u001B[39;00m\n\u001B[32m   2410\u001B[39m     \u001B[38;5;28;01mreturn\u001B[39;00m result, tz_parsed\n",
      "\u001B[36mFile \u001B[39m\u001B[32mtslib.pyx:414\u001B[39m, in \u001B[36mpandas._libs.tslib.array_to_datetime\u001B[39m\u001B[34m()\u001B[39m\n",
      "\u001B[36mFile \u001B[39m\u001B[32mtslib.pyx:596\u001B[39m, in \u001B[36mpandas._libs.tslib.array_to_datetime\u001B[39m\u001B[34m()\u001B[39m\n",
      "\u001B[36mFile \u001B[39m\u001B[32mtslib.pyx:553\u001B[39m, in \u001B[36mpandas._libs.tslib.array_to_datetime\u001B[39m\u001B[34m()\u001B[39m\n",
      "\u001B[36mFile \u001B[39m\u001B[32mconversion.pyx:641\u001B[39m, in \u001B[36mpandas._libs.tslibs.conversion.convert_str_to_tsobject\u001B[39m\u001B[34m()\u001B[39m\n",
      "\u001B[36mFile \u001B[39m\u001B[32mparsing.pyx:336\u001B[39m, in \u001B[36mpandas._libs.tslibs.parsing.parse_datetime_string\u001B[39m\u001B[34m()\u001B[39m\n",
      "\u001B[36mFile \u001B[39m\u001B[32mparsing.pyx:666\u001B[39m, in \u001B[36mpandas._libs.tslibs.parsing.dateutil_parse\u001B[39m\u001B[34m()\u001B[39m\n",
      "\u001B[31mDateParseError\u001B[39m: Unknown datetime string format, unable to parse: 1975xx03xx04, at position 0"
     ]
    }
   ],
   "execution_count": 31
  },
  {
   "metadata": {
    "ExecuteTime": {
     "end_time": "2025-03-28T19:55:14.978675Z",
     "start_time": "2025-03-28T19:55:14.950990Z"
    }
   },
   "cell_type": "code",
   "source": [
    "parsed = pd.to_datetime(strings_errors, format='%Yxx%mxx%d', errors='coerce')\n",
    "parsed.iloc[34]"
   ],
   "id": "8d1c9b5316d713e",
   "outputs": [
    {
     "data": {
      "text/plain": [
       "NaT"
      ]
     },
     "execution_count": 32,
     "metadata": {},
     "output_type": "execute_result"
    }
   ],
   "execution_count": 32
  },
  {
   "metadata": {
    "ExecuteTime": {
     "end_time": "2025-03-28T19:55:29.107273Z",
     "start_time": "2025-03-28T19:55:29.097338Z"
    }
   },
   "cell_type": "code",
   "source": [
    "parsed = pd.to_datetime(strings_errors, format='%Yxx%mxx%d', errors='ignore')\n",
    "parsed.iloc[32:40]"
   ],
   "id": "bdb8d5cd020d2ee6",
   "outputs": [
    {
     "name": "stderr",
     "output_type": "stream",
     "text": [
      "/tmp/ipykernel_4426/3065392550.py:1: FutureWarning: errors='ignore' is deprecated and will raise in a future version. Use to_datetime without passing `errors` and catch exceptions explicitly instead\n",
      "  parsed = pd.to_datetime(strings_errors, format='%Yxx%mxx%d', errors='ignore')\n"
     ]
    },
    {
     "data": {
      "text/plain": [
       "playerID\n",
       "alleyst01    1953xx12xx29\n",
       "allisda01    1959xx04xx14\n",
       "allisja01           xx123\n",
       "allisja02    1975xx05xx13\n",
       "allismi01    1961xx03xx28\n",
       "allisra01    1959xx03xx04\n",
       "almonco01    1989xx07xx24\n",
       "alzneka01    1988xx09xx24\n",
       "Name: birthDate, dtype: object"
      ]
     },
     "execution_count": 33,
     "metadata": {},
     "output_type": "execute_result"
    }
   ],
   "execution_count": 33
  },
  {
   "metadata": {
    "ExecuteTime": {
     "end_time": "2025-03-28T20:08:00.127923Z",
     "start_time": "2025-03-28T20:08:00.120266Z"
    }
   },
   "cell_type": "code",
   "source": [
    "birth_dates = pd.Series(master.index, index=master.birthDate)\n",
    "birth_dates.head()"
   ],
   "id": "892d66a7b9e493d1",
   "outputs": [
    {
     "data": {
      "text/plain": [
       "birthDate\n",
       "1975-03-04    aaltoan01\n",
       "1987-02-25    abdelju01\n",
       "1980-03-24     abidra01\n",
       "1947-04-12    abrahth01\n",
       "1958-04-15    actonke01\n",
       "Name: playerID, dtype: object"
      ]
     },
     "execution_count": 34,
     "metadata": {},
     "output_type": "execute_result"
    }
   ],
   "execution_count": 34
  },
  {
   "metadata": {
    "ExecuteTime": {
     "end_time": "2025-03-28T20:08:30.244454Z",
     "start_time": "2025-03-28T20:08:30.233714Z"
    }
   },
   "cell_type": "code",
   "source": "birth_dates.index.name",
   "id": "f902d87b7f80f6eb",
   "outputs": [
    {
     "data": {
      "text/plain": [
       "'birthDate'"
      ]
     },
     "execution_count": 36,
     "metadata": {},
     "output_type": "execute_result"
    }
   ],
   "execution_count": 36
  },
  {
   "metadata": {
    "ExecuteTime": {
     "end_time": "2025-03-28T20:09:23.042772Z",
     "start_time": "2025-03-28T20:09:23.034332Z"
    }
   },
   "cell_type": "code",
   "source": "birth_dates.info()",
   "id": "146053f02f312ff3",
   "outputs": [
    {
     "name": "stdout",
     "output_type": "stream",
     "text": [
      "<class 'pandas.core.series.Series'>\n",
      "DatetimeIndex: 4627 entries, 1975-03-04 to 1978-01-21\n",
      "Series name: playerID\n",
      "Non-Null Count  Dtype \n",
      "--------------  ----- \n",
      "4627 non-null   object\n",
      "dtypes: object(1)\n",
      "memory usage: 72.3+ KB\n"
     ]
    }
   ],
   "execution_count": 42
  },
  {
   "metadata": {
    "ExecuteTime": {
     "end_time": "2025-03-28T20:11:05.354537Z",
     "start_time": "2025-03-28T20:11:05.344275Z"
    }
   },
   "cell_type": "code",
   "source": "birth_dates.sort_index(inplace=True)",
   "id": "eb6f420be59d1145",
   "outputs": [],
   "execution_count": 43
  },
  {
   "metadata": {
    "ExecuteTime": {
     "end_time": "2025-03-28T20:11:11.507704Z",
     "start_time": "2025-03-28T20:11:11.500198Z"
    }
   },
   "cell_type": "code",
   "source": "birth_dates.head()",
   "id": "3e0e2bf9ddbded4c",
   "outputs": [
    {
     "data": {
      "text/plain": [
       "birthDate\n",
       "1940-01-27    harpete01\n",
       "1940-03-22     keonda01\n",
       "1940-10-03    ratelje01\n",
       "1942-02-20    esposph01\n",
       "1943-04-23    esposto01\n",
       "Name: playerID, dtype: object"
      ]
     },
     "execution_count": 44,
     "metadata": {},
     "output_type": "execute_result"
    }
   ],
   "execution_count": 44
  },
  {
   "metadata": {
    "ExecuteTime": {
     "end_time": "2025-03-28T20:11:43.685916Z",
     "start_time": "2025-03-28T20:11:43.650451Z"
    }
   },
   "cell_type": "code",
   "source": "birth_dates.loc['1980']",
   "id": "3caeb6abe6bfb84e",
   "outputs": [
    {
     "data": {
      "text/plain": [
       "birthDate\n",
       "1980-01-02    zalesmi01\n",
       "1980-01-10    stanara01\n",
       "1980-01-13    bouckty01\n",
       "1980-01-13     ruppmi01\n",
       "1980-01-15    papinju01\n",
       "                ...    \n",
       "1980-11-24    fritzmi01\n",
       "1980-11-25    lilesjo01\n",
       "1980-12-02     wardjo02\n",
       "1980-12-09    baydary01\n",
       "1980-12-30    lysakbr01\n",
       "Name: playerID, Length: 145, dtype: object"
      ]
     },
     "execution_count": 45,
     "metadata": {},
     "output_type": "execute_result"
    }
   ],
   "execution_count": 45
  },
  {
   "metadata": {
    "ExecuteTime": {
     "end_time": "2025-03-28T20:18:38.792138Z",
     "start_time": "2025-03-28T20:18:38.758691Z"
    }
   },
   "cell_type": "code",
   "source": "birth_dates.resample('1ME').count().head()",
   "id": "36ea2301e1ab2efa",
   "outputs": [
    {
     "data": {
      "text/plain": [
       "birthDate\n",
       "1940-01-31    1\n",
       "1940-02-29    0\n",
       "1940-03-31    1\n",
       "1940-04-30    0\n",
       "1940-05-31    0\n",
       "Freq: ME, Name: playerID, dtype: int64"
      ]
     },
     "execution_count": 46,
     "metadata": {},
     "output_type": "execute_result"
    }
   ],
   "execution_count": 46
  },
  {
   "metadata": {
    "ExecuteTime": {
     "end_time": "2025-03-28T20:20:37.003269Z",
     "start_time": "2025-03-28T20:20:36.891524Z"
    }
   },
   "cell_type": "code",
   "source": "birth_dates.resample('1W').count().head()",
   "id": "10f7589ceb435b36",
   "outputs": [
    {
     "data": {
      "text/plain": [
       "birthDate\n",
       "1940-01-28    1\n",
       "1940-02-04    0\n",
       "1940-02-11    0\n",
       "1940-02-18    0\n",
       "1940-02-25    0\n",
       "Freq: W-SUN, Name: playerID, dtype: int64"
      ]
     },
     "execution_count": 47,
     "metadata": {},
     "output_type": "execute_result"
    }
   ],
   "execution_count": 47
  },
  {
   "metadata": {
    "ExecuteTime": {
     "end_time": "2025-03-28T20:24:16.486141Z",
     "start_time": "2025-03-28T20:24:16.478528Z"
    }
   },
   "cell_type": "code",
   "source": "birth_dates.shift(1, freq='D')",
   "id": "adfc2b946970d1b3",
   "outputs": [
    {
     "data": {
      "text/plain": [
       "birthDate\n",
       "1940-01-28    harpete01\n",
       "1940-03-23     keonda01\n",
       "1940-10-04    ratelje01\n",
       "1942-02-21    esposph01\n",
       "1943-04-24    esposto01\n",
       "                ...    \n",
       "1992-11-24    landega01\n",
       "1992-12-08    coutuse01\n",
       "1993-03-16    scheima01\n",
       "1993-04-13    nugenry01\n",
       "1993-04-19    zibanmi01\n",
       "Name: playerID, Length: 4627, dtype: object"
      ]
     },
     "execution_count": 48,
     "metadata": {},
     "output_type": "execute_result"
    }
   ],
   "execution_count": 48
  },
  {
   "metadata": {
    "ExecuteTime": {
     "end_time": "2025-03-28T20:24:27.675857Z",
     "start_time": "2025-03-28T20:24:27.662610Z"
    }
   },
   "cell_type": "code",
   "source": "team_splits.head()",
   "id": "278931fb65581a53",
   "outputs": [
    {
     "data": {
      "text/plain": [
       "                             W    L    T  OL\n",
       "name          year months                   \n",
       "Boston Bruins 1980 Sep     NaN  NaN  NaN NaN\n",
       "                   Oct     2.0  7.0  1.0 NaN\n",
       "                   Nov     5.0  3.0  5.0 NaN\n",
       "                   Dec     6.0  6.0  1.0 NaN\n",
       "                   Jan     9.0  4.0  1.0 NaN"
      ],
      "text/html": [
       "<div>\n",
       "<style scoped>\n",
       "    .dataframe tbody tr th:only-of-type {\n",
       "        vertical-align: middle;\n",
       "    }\n",
       "\n",
       "    .dataframe tbody tr th {\n",
       "        vertical-align: top;\n",
       "    }\n",
       "\n",
       "    .dataframe thead th {\n",
       "        text-align: right;\n",
       "    }\n",
       "</style>\n",
       "<table border=\"1\" class=\"dataframe\">\n",
       "  <thead>\n",
       "    <tr style=\"text-align: right;\">\n",
       "      <th></th>\n",
       "      <th></th>\n",
       "      <th></th>\n",
       "      <th>W</th>\n",
       "      <th>L</th>\n",
       "      <th>T</th>\n",
       "      <th>OL</th>\n",
       "    </tr>\n",
       "    <tr>\n",
       "      <th>name</th>\n",
       "      <th>year</th>\n",
       "      <th>months</th>\n",
       "      <th></th>\n",
       "      <th></th>\n",
       "      <th></th>\n",
       "      <th></th>\n",
       "    </tr>\n",
       "  </thead>\n",
       "  <tbody>\n",
       "    <tr>\n",
       "      <th rowspan=\"5\" valign=\"top\">Boston Bruins</th>\n",
       "      <th rowspan=\"5\" valign=\"top\">1980</th>\n",
       "      <th>Sep</th>\n",
       "      <td>NaN</td>\n",
       "      <td>NaN</td>\n",
       "      <td>NaN</td>\n",
       "      <td>NaN</td>\n",
       "    </tr>\n",
       "    <tr>\n",
       "      <th>Oct</th>\n",
       "      <td>2.0</td>\n",
       "      <td>7.0</td>\n",
       "      <td>1.0</td>\n",
       "      <td>NaN</td>\n",
       "    </tr>\n",
       "    <tr>\n",
       "      <th>Nov</th>\n",
       "      <td>5.0</td>\n",
       "      <td>3.0</td>\n",
       "      <td>5.0</td>\n",
       "      <td>NaN</td>\n",
       "    </tr>\n",
       "    <tr>\n",
       "      <th>Dec</th>\n",
       "      <td>6.0</td>\n",
       "      <td>6.0</td>\n",
       "      <td>1.0</td>\n",
       "      <td>NaN</td>\n",
       "    </tr>\n",
       "    <tr>\n",
       "      <th>Jan</th>\n",
       "      <td>9.0</td>\n",
       "      <td>4.0</td>\n",
       "      <td>1.0</td>\n",
       "      <td>NaN</td>\n",
       "    </tr>\n",
       "  </tbody>\n",
       "</table>\n",
       "</div>"
      ]
     },
     "execution_count": 49,
     "metadata": {},
     "output_type": "execute_result"
    }
   ],
   "execution_count": 49
  },
  {
   "metadata": {
    "ExecuteTime": {
     "end_time": "2025-03-28T20:25:11.890745Z",
     "start_time": "2025-03-28T20:25:11.883213Z"
    }
   },
   "cell_type": "code",
   "source": "pd.Period('1980-Sep')",
   "id": "7f2e4132c925e865",
   "outputs": [
    {
     "data": {
      "text/plain": [
       "Period('1980-09', 'M')"
      ]
     },
     "execution_count": 50,
     "metadata": {},
     "output_type": "execute_result"
    }
   ],
   "execution_count": 50
  },
  {
   "metadata": {
    "ExecuteTime": {
     "end_time": "2025-03-28T20:26:53.566266Z",
     "start_time": "2025-03-28T20:26:53.558507Z"
    }
   },
   "cell_type": "code",
   "source": "team_splits.index.levels[1] * 2",
   "id": "ab49dd06c4a76df8",
   "outputs": [
    {
     "data": {
      "text/plain": [
       "Index([3960, 3962, 3964, 3966, 3968, 3970, 3972, 3974, 3976, 3978, 3980, 3982,\n",
       "       3984, 3986, 3988, 3990, 3992, 3994, 3996, 3998, 4000, 4002, 4004, 4006,\n",
       "       4010, 4012, 4014, 4016, 4018, 4020, 4022],\n",
       "      dtype='int64', name='year')"
      ]
     },
     "execution_count": 51,
     "metadata": {},
     "output_type": "execute_result"
    }
   ],
   "execution_count": 51
  },
  {
   "metadata": {
    "ExecuteTime": {
     "end_time": "2025-03-28T20:27:21.556790Z",
     "start_time": "2025-03-28T20:27:21.542471Z"
    }
   },
   "cell_type": "code",
   "source": "team_splits.head()",
   "id": "af73281974d15781",
   "outputs": [
    {
     "data": {
      "text/plain": [
       "                             W    L    T  OL\n",
       "name          year months                   \n",
       "Boston Bruins 1980 Sep     NaN  NaN  NaN NaN\n",
       "                   Oct     2.0  7.0  1.0 NaN\n",
       "                   Nov     5.0  3.0  5.0 NaN\n",
       "                   Dec     6.0  6.0  1.0 NaN\n",
       "                   Jan     9.0  4.0  1.0 NaN"
      ],
      "text/html": [
       "<div>\n",
       "<style scoped>\n",
       "    .dataframe tbody tr th:only-of-type {\n",
       "        vertical-align: middle;\n",
       "    }\n",
       "\n",
       "    .dataframe tbody tr th {\n",
       "        vertical-align: top;\n",
       "    }\n",
       "\n",
       "    .dataframe thead th {\n",
       "        text-align: right;\n",
       "    }\n",
       "</style>\n",
       "<table border=\"1\" class=\"dataframe\">\n",
       "  <thead>\n",
       "    <tr style=\"text-align: right;\">\n",
       "      <th></th>\n",
       "      <th></th>\n",
       "      <th></th>\n",
       "      <th>W</th>\n",
       "      <th>L</th>\n",
       "      <th>T</th>\n",
       "      <th>OL</th>\n",
       "    </tr>\n",
       "    <tr>\n",
       "      <th>name</th>\n",
       "      <th>year</th>\n",
       "      <th>months</th>\n",
       "      <th></th>\n",
       "      <th></th>\n",
       "      <th></th>\n",
       "      <th></th>\n",
       "    </tr>\n",
       "  </thead>\n",
       "  <tbody>\n",
       "    <tr>\n",
       "      <th rowspan=\"5\" valign=\"top\">Boston Bruins</th>\n",
       "      <th rowspan=\"5\" valign=\"top\">1980</th>\n",
       "      <th>Sep</th>\n",
       "      <td>NaN</td>\n",
       "      <td>NaN</td>\n",
       "      <td>NaN</td>\n",
       "      <td>NaN</td>\n",
       "    </tr>\n",
       "    <tr>\n",
       "      <th>Oct</th>\n",
       "      <td>2.0</td>\n",
       "      <td>7.0</td>\n",
       "      <td>1.0</td>\n",
       "      <td>NaN</td>\n",
       "    </tr>\n",
       "    <tr>\n",
       "      <th>Nov</th>\n",
       "      <td>5.0</td>\n",
       "      <td>3.0</td>\n",
       "      <td>5.0</td>\n",
       "      <td>NaN</td>\n",
       "    </tr>\n",
       "    <tr>\n",
       "      <th>Dec</th>\n",
       "      <td>6.0</td>\n",
       "      <td>6.0</td>\n",
       "      <td>1.0</td>\n",
       "      <td>NaN</td>\n",
       "    </tr>\n",
       "    <tr>\n",
       "      <th>Jan</th>\n",
       "      <td>9.0</td>\n",
       "      <td>4.0</td>\n",
       "      <td>1.0</td>\n",
       "      <td>NaN</td>\n",
       "    </tr>\n",
       "  </tbody>\n",
       "</table>\n",
       "</div>"
      ]
     },
     "execution_count": 52,
     "metadata": {},
     "output_type": "execute_result"
    }
   ],
   "execution_count": 52
  },
  {
   "metadata": {
    "ExecuteTime": {
     "end_time": "2025-03-28T20:29:13.442492Z",
     "start_time": "2025-03-28T20:29:13.429259Z"
    }
   },
   "cell_type": "code",
   "source": "team_splits.head(2).apply(lambda x:print(x), axis=1)",
   "id": "16b934dbab79419b",
   "outputs": [
    {
     "name": "stdout",
     "output_type": "stream",
     "text": [
      "W    NaN\n",
      "L    NaN\n",
      "T    NaN\n",
      "OL   NaN\n",
      "Name: (Boston Bruins, 1980, Sep), dtype: float64\n",
      "W     2.0\n",
      "L     7.0\n",
      "T     1.0\n",
      "OL    NaN\n",
      "Name: (Boston Bruins, 1980, Oct), dtype: float64\n"
     ]
    },
    {
     "data": {
      "text/plain": [
       "name           year  months\n",
       "Boston Bruins  1980  Sep       None\n",
       "                     Oct       None\n",
       "dtype: object"
      ]
     },
     "execution_count": 53,
     "metadata": {},
     "output_type": "execute_result"
    }
   ],
   "execution_count": 53
  },
  {
   "metadata": {
    "ExecuteTime": {
     "end_time": "2025-03-28T20:31:35.542456Z",
     "start_time": "2025-03-28T20:31:35.529232Z"
    }
   },
   "cell_type": "code",
   "source": [
    "team_splits = team_splits.reset_index()\n",
    "team_splits.head()"
   ],
   "id": "ecd83ea52bf182a8",
   "outputs": [
    {
     "data": {
      "text/plain": [
       "            name  year months    W    L    T  OL\n",
       "0  Boston Bruins  1980    Sep  NaN  NaN  NaN NaN\n",
       "1  Boston Bruins  1980    Oct  2.0  7.0  1.0 NaN\n",
       "2  Boston Bruins  1980    Nov  5.0  3.0  5.0 NaN\n",
       "3  Boston Bruins  1980    Dec  6.0  6.0  1.0 NaN\n",
       "4  Boston Bruins  1980    Jan  9.0  4.0  1.0 NaN"
      ],
      "text/html": [
       "<div>\n",
       "<style scoped>\n",
       "    .dataframe tbody tr th:only-of-type {\n",
       "        vertical-align: middle;\n",
       "    }\n",
       "\n",
       "    .dataframe tbody tr th {\n",
       "        vertical-align: top;\n",
       "    }\n",
       "\n",
       "    .dataframe thead th {\n",
       "        text-align: right;\n",
       "    }\n",
       "</style>\n",
       "<table border=\"1\" class=\"dataframe\">\n",
       "  <thead>\n",
       "    <tr style=\"text-align: right;\">\n",
       "      <th></th>\n",
       "      <th>name</th>\n",
       "      <th>year</th>\n",
       "      <th>months</th>\n",
       "      <th>W</th>\n",
       "      <th>L</th>\n",
       "      <th>T</th>\n",
       "      <th>OL</th>\n",
       "    </tr>\n",
       "  </thead>\n",
       "  <tbody>\n",
       "    <tr>\n",
       "      <th>0</th>\n",
       "      <td>Boston Bruins</td>\n",
       "      <td>1980</td>\n",
       "      <td>Sep</td>\n",
       "      <td>NaN</td>\n",
       "      <td>NaN</td>\n",
       "      <td>NaN</td>\n",
       "      <td>NaN</td>\n",
       "    </tr>\n",
       "    <tr>\n",
       "      <th>1</th>\n",
       "      <td>Boston Bruins</td>\n",
       "      <td>1980</td>\n",
       "      <td>Oct</td>\n",
       "      <td>2.0</td>\n",
       "      <td>7.0</td>\n",
       "      <td>1.0</td>\n",
       "      <td>NaN</td>\n",
       "    </tr>\n",
       "    <tr>\n",
       "      <th>2</th>\n",
       "      <td>Boston Bruins</td>\n",
       "      <td>1980</td>\n",
       "      <td>Nov</td>\n",
       "      <td>5.0</td>\n",
       "      <td>3.0</td>\n",
       "      <td>5.0</td>\n",
       "      <td>NaN</td>\n",
       "    </tr>\n",
       "    <tr>\n",
       "      <th>3</th>\n",
       "      <td>Boston Bruins</td>\n",
       "      <td>1980</td>\n",
       "      <td>Dec</td>\n",
       "      <td>6.0</td>\n",
       "      <td>6.0</td>\n",
       "      <td>1.0</td>\n",
       "      <td>NaN</td>\n",
       "    </tr>\n",
       "    <tr>\n",
       "      <th>4</th>\n",
       "      <td>Boston Bruins</td>\n",
       "      <td>1980</td>\n",
       "      <td>Jan</td>\n",
       "      <td>9.0</td>\n",
       "      <td>4.0</td>\n",
       "      <td>1.0</td>\n",
       "      <td>NaN</td>\n",
       "    </tr>\n",
       "  </tbody>\n",
       "</table>\n",
       "</div>"
      ]
     },
     "execution_count": 54,
     "metadata": {},
     "output_type": "execute_result"
    }
   ],
   "execution_count": 54
  },
  {
   "metadata": {
    "ExecuteTime": {
     "end_time": "2025-03-28T20:32:22.662659Z",
     "start_time": "2025-03-28T20:32:21.550127Z"
    }
   },
   "cell_type": "code",
   "source": "dates = team_splits.apply(lambda row: pd.Period(f'{row.year}-{row.months}'), axis=1)",
   "id": "41083e6c43b77e8f",
   "outputs": [],
   "execution_count": 55
  },
  {
   "metadata": {
    "ExecuteTime": {
     "end_time": "2025-03-28T20:32:30.037732Z",
     "start_time": "2025-03-28T20:32:30.030804Z"
    }
   },
   "cell_type": "code",
   "source": "dates.head()",
   "id": "52a150e26c71f412",
   "outputs": [
    {
     "data": {
      "text/plain": [
       "0    1980-09\n",
       "1    1980-10\n",
       "2    1980-11\n",
       "3    1980-12\n",
       "4    1980-01\n",
       "dtype: period[M]"
      ]
     },
     "execution_count": 56,
     "metadata": {},
     "output_type": "execute_result"
    }
   ],
   "execution_count": 56
  },
  {
   "metadata": {
    "ExecuteTime": {
     "end_time": "2025-03-28T20:35:49.591892Z",
     "start_time": "2025-03-28T20:35:49.580218Z"
    }
   },
   "cell_type": "code",
   "source": "team_splits = team_splits.assign(month=dates)",
   "id": "bf1551e02d9edfc9",
   "outputs": [],
   "execution_count": 57
  },
  {
   "metadata": {
    "ExecuteTime": {
     "end_time": "2025-03-28T20:37:06.947663Z",
     "start_time": "2025-03-28T20:37:06.935631Z"
    }
   },
   "cell_type": "code",
   "source": "team_splits.head()",
   "id": "43d6b6cb2c82a41a",
   "outputs": [
    {
     "data": {
      "text/plain": [
       "            name  year months    W    L    T  OL    month\n",
       "0  Boston Bruins  1980    Sep  NaN  NaN  NaN NaN  1980-09\n",
       "1  Boston Bruins  1980    Oct  2.0  7.0  1.0 NaN  1980-10\n",
       "2  Boston Bruins  1980    Nov  5.0  3.0  5.0 NaN  1980-11\n",
       "3  Boston Bruins  1980    Dec  6.0  6.0  1.0 NaN  1980-12\n",
       "4  Boston Bruins  1980    Jan  9.0  4.0  1.0 NaN  1980-01"
      ],
      "text/html": [
       "<div>\n",
       "<style scoped>\n",
       "    .dataframe tbody tr th:only-of-type {\n",
       "        vertical-align: middle;\n",
       "    }\n",
       "\n",
       "    .dataframe tbody tr th {\n",
       "        vertical-align: top;\n",
       "    }\n",
       "\n",
       "    .dataframe thead th {\n",
       "        text-align: right;\n",
       "    }\n",
       "</style>\n",
       "<table border=\"1\" class=\"dataframe\">\n",
       "  <thead>\n",
       "    <tr style=\"text-align: right;\">\n",
       "      <th></th>\n",
       "      <th>name</th>\n",
       "      <th>year</th>\n",
       "      <th>months</th>\n",
       "      <th>W</th>\n",
       "      <th>L</th>\n",
       "      <th>T</th>\n",
       "      <th>OL</th>\n",
       "      <th>month</th>\n",
       "    </tr>\n",
       "  </thead>\n",
       "  <tbody>\n",
       "    <tr>\n",
       "      <th>0</th>\n",
       "      <td>Boston Bruins</td>\n",
       "      <td>1980</td>\n",
       "      <td>Sep</td>\n",
       "      <td>NaN</td>\n",
       "      <td>NaN</td>\n",
       "      <td>NaN</td>\n",
       "      <td>NaN</td>\n",
       "      <td>1980-09</td>\n",
       "    </tr>\n",
       "    <tr>\n",
       "      <th>1</th>\n",
       "      <td>Boston Bruins</td>\n",
       "      <td>1980</td>\n",
       "      <td>Oct</td>\n",
       "      <td>2.0</td>\n",
       "      <td>7.0</td>\n",
       "      <td>1.0</td>\n",
       "      <td>NaN</td>\n",
       "      <td>1980-10</td>\n",
       "    </tr>\n",
       "    <tr>\n",
       "      <th>2</th>\n",
       "      <td>Boston Bruins</td>\n",
       "      <td>1980</td>\n",
       "      <td>Nov</td>\n",
       "      <td>5.0</td>\n",
       "      <td>3.0</td>\n",
       "      <td>5.0</td>\n",
       "      <td>NaN</td>\n",
       "      <td>1980-11</td>\n",
       "    </tr>\n",
       "    <tr>\n",
       "      <th>3</th>\n",
       "      <td>Boston Bruins</td>\n",
       "      <td>1980</td>\n",
       "      <td>Dec</td>\n",
       "      <td>6.0</td>\n",
       "      <td>6.0</td>\n",
       "      <td>1.0</td>\n",
       "      <td>NaN</td>\n",
       "      <td>1980-12</td>\n",
       "    </tr>\n",
       "    <tr>\n",
       "      <th>4</th>\n",
       "      <td>Boston Bruins</td>\n",
       "      <td>1980</td>\n",
       "      <td>Jan</td>\n",
       "      <td>9.0</td>\n",
       "      <td>4.0</td>\n",
       "      <td>1.0</td>\n",
       "      <td>NaN</td>\n",
       "      <td>1980-01</td>\n",
       "    </tr>\n",
       "  </tbody>\n",
       "</table>\n",
       "</div>"
      ]
     },
     "execution_count": 58,
     "metadata": {},
     "output_type": "execute_result"
    }
   ],
   "execution_count": 58
  },
  {
   "metadata": {
    "ExecuteTime": {
     "end_time": "2025-03-28T20:38:56.435529Z",
     "start_time": "2025-03-28T20:38:56.429141Z"
    }
   },
   "cell_type": "code",
   "source": "team_splits.drop('year', axis=1, inplace=True)",
   "id": "a3b1968ae8492219",
   "outputs": [],
   "execution_count": 59
  },
  {
   "metadata": {
    "ExecuteTime": {
     "end_time": "2025-03-28T20:39:03.111308Z",
     "start_time": "2025-03-28T20:39:03.098471Z"
    }
   },
   "cell_type": "code",
   "source": "team_splits.head()",
   "id": "3196f4518461e388",
   "outputs": [
    {
     "data": {
      "text/plain": [
       "            name months    W    L    T  OL    month\n",
       "0  Boston Bruins    Sep  NaN  NaN  NaN NaN  1980-09\n",
       "1  Boston Bruins    Oct  2.0  7.0  1.0 NaN  1980-10\n",
       "2  Boston Bruins    Nov  5.0  3.0  5.0 NaN  1980-11\n",
       "3  Boston Bruins    Dec  6.0  6.0  1.0 NaN  1980-12\n",
       "4  Boston Bruins    Jan  9.0  4.0  1.0 NaN  1980-01"
      ],
      "text/html": [
       "<div>\n",
       "<style scoped>\n",
       "    .dataframe tbody tr th:only-of-type {\n",
       "        vertical-align: middle;\n",
       "    }\n",
       "\n",
       "    .dataframe tbody tr th {\n",
       "        vertical-align: top;\n",
       "    }\n",
       "\n",
       "    .dataframe thead th {\n",
       "        text-align: right;\n",
       "    }\n",
       "</style>\n",
       "<table border=\"1\" class=\"dataframe\">\n",
       "  <thead>\n",
       "    <tr style=\"text-align: right;\">\n",
       "      <th></th>\n",
       "      <th>name</th>\n",
       "      <th>months</th>\n",
       "      <th>W</th>\n",
       "      <th>L</th>\n",
       "      <th>T</th>\n",
       "      <th>OL</th>\n",
       "      <th>month</th>\n",
       "    </tr>\n",
       "  </thead>\n",
       "  <tbody>\n",
       "    <tr>\n",
       "      <th>0</th>\n",
       "      <td>Boston Bruins</td>\n",
       "      <td>Sep</td>\n",
       "      <td>NaN</td>\n",
       "      <td>NaN</td>\n",
       "      <td>NaN</td>\n",
       "      <td>NaN</td>\n",
       "      <td>1980-09</td>\n",
       "    </tr>\n",
       "    <tr>\n",
       "      <th>1</th>\n",
       "      <td>Boston Bruins</td>\n",
       "      <td>Oct</td>\n",
       "      <td>2.0</td>\n",
       "      <td>7.0</td>\n",
       "      <td>1.0</td>\n",
       "      <td>NaN</td>\n",
       "      <td>1980-10</td>\n",
       "    </tr>\n",
       "    <tr>\n",
       "      <th>2</th>\n",
       "      <td>Boston Bruins</td>\n",
       "      <td>Nov</td>\n",
       "      <td>5.0</td>\n",
       "      <td>3.0</td>\n",
       "      <td>5.0</td>\n",
       "      <td>NaN</td>\n",
       "      <td>1980-11</td>\n",
       "    </tr>\n",
       "    <tr>\n",
       "      <th>3</th>\n",
       "      <td>Boston Bruins</td>\n",
       "      <td>Dec</td>\n",
       "      <td>6.0</td>\n",
       "      <td>6.0</td>\n",
       "      <td>1.0</td>\n",
       "      <td>NaN</td>\n",
       "      <td>1980-12</td>\n",
       "    </tr>\n",
       "    <tr>\n",
       "      <th>4</th>\n",
       "      <td>Boston Bruins</td>\n",
       "      <td>Jan</td>\n",
       "      <td>9.0</td>\n",
       "      <td>4.0</td>\n",
       "      <td>1.0</td>\n",
       "      <td>NaN</td>\n",
       "      <td>1980-01</td>\n",
       "    </tr>\n",
       "  </tbody>\n",
       "</table>\n",
       "</div>"
      ]
     },
     "execution_count": 60,
     "metadata": {},
     "output_type": "execute_result"
    }
   ],
   "execution_count": 60
  },
  {
   "metadata": {
    "ExecuteTime": {
     "end_time": "2025-03-28T20:41:15.457403Z",
     "start_time": "2025-03-28T20:41:15.452654Z"
    }
   },
   "cell_type": "code",
   "source": "team_splits.set_index('month', inplace=True)",
   "id": "13eb41232e2916d4",
   "outputs": [],
   "execution_count": 61
  },
  {
   "metadata": {
    "ExecuteTime": {
     "end_time": "2025-03-28T20:41:30.667354Z",
     "start_time": "2025-03-28T20:41:30.659355Z"
    }
   },
   "cell_type": "code",
   "source": "team_splits.drop('months', axis=1, inplace=True)",
   "id": "9e4bc7b6ed1f7f03",
   "outputs": [],
   "execution_count": 62
  },
  {
   "metadata": {
    "ExecuteTime": {
     "end_time": "2025-03-28T20:43:00.384215Z",
     "start_time": "2025-03-28T20:43:00.373181Z"
    }
   },
   "cell_type": "code",
   "source": "team_splits.head()",
   "id": "82f106ba80ac810e",
   "outputs": [
    {
     "data": {
      "text/plain": [
       "                  name    W    L    T  OL\n",
       "month                                    \n",
       "1980-09  Boston Bruins  NaN  NaN  NaN NaN\n",
       "1980-10  Boston Bruins  2.0  7.0  1.0 NaN\n",
       "1980-11  Boston Bruins  5.0  3.0  5.0 NaN\n",
       "1980-12  Boston Bruins  6.0  6.0  1.0 NaN\n",
       "1980-01  Boston Bruins  9.0  4.0  1.0 NaN"
      ],
      "text/html": [
       "<div>\n",
       "<style scoped>\n",
       "    .dataframe tbody tr th:only-of-type {\n",
       "        vertical-align: middle;\n",
       "    }\n",
       "\n",
       "    .dataframe tbody tr th {\n",
       "        vertical-align: top;\n",
       "    }\n",
       "\n",
       "    .dataframe thead th {\n",
       "        text-align: right;\n",
       "    }\n",
       "</style>\n",
       "<table border=\"1\" class=\"dataframe\">\n",
       "  <thead>\n",
       "    <tr style=\"text-align: right;\">\n",
       "      <th></th>\n",
       "      <th>name</th>\n",
       "      <th>W</th>\n",
       "      <th>L</th>\n",
       "      <th>T</th>\n",
       "      <th>OL</th>\n",
       "    </tr>\n",
       "    <tr>\n",
       "      <th>month</th>\n",
       "      <th></th>\n",
       "      <th></th>\n",
       "      <th></th>\n",
       "      <th></th>\n",
       "      <th></th>\n",
       "    </tr>\n",
       "  </thead>\n",
       "  <tbody>\n",
       "    <tr>\n",
       "      <th>1980-09</th>\n",
       "      <td>Boston Bruins</td>\n",
       "      <td>NaN</td>\n",
       "      <td>NaN</td>\n",
       "      <td>NaN</td>\n",
       "      <td>NaN</td>\n",
       "    </tr>\n",
       "    <tr>\n",
       "      <th>1980-10</th>\n",
       "      <td>Boston Bruins</td>\n",
       "      <td>2.0</td>\n",
       "      <td>7.0</td>\n",
       "      <td>1.0</td>\n",
       "      <td>NaN</td>\n",
       "    </tr>\n",
       "    <tr>\n",
       "      <th>1980-11</th>\n",
       "      <td>Boston Bruins</td>\n",
       "      <td>5.0</td>\n",
       "      <td>3.0</td>\n",
       "      <td>5.0</td>\n",
       "      <td>NaN</td>\n",
       "    </tr>\n",
       "    <tr>\n",
       "      <th>1980-12</th>\n",
       "      <td>Boston Bruins</td>\n",
       "      <td>6.0</td>\n",
       "      <td>6.0</td>\n",
       "      <td>1.0</td>\n",
       "      <td>NaN</td>\n",
       "    </tr>\n",
       "    <tr>\n",
       "      <th>1980-01</th>\n",
       "      <td>Boston Bruins</td>\n",
       "      <td>9.0</td>\n",
       "      <td>4.0</td>\n",
       "      <td>1.0</td>\n",
       "      <td>NaN</td>\n",
       "    </tr>\n",
       "  </tbody>\n",
       "</table>\n",
       "</div>"
      ]
     },
     "execution_count": 63,
     "metadata": {},
     "output_type": "execute_result"
    }
   ],
   "execution_count": 63
  },
  {
   "metadata": {
    "ExecuteTime": {
     "end_time": "2025-03-28T20:46:21.759821Z",
     "start_time": "2025-03-28T20:46:21.754251Z"
    }
   },
   "cell_type": "code",
   "source": "team_splits.index = team_splits.index.to_timestamp()",
   "id": "2350aee44bbdf402",
   "outputs": [],
   "execution_count": 64
  },
  {
   "metadata": {
    "ExecuteTime": {
     "end_time": "2025-03-28T20:47:46.778076Z",
     "start_time": "2025-03-28T20:47:46.763737Z"
    }
   },
   "cell_type": "code",
   "source": "team_splits.head()",
   "id": "225355ba483eabd",
   "outputs": [
    {
     "data": {
      "text/plain": [
       "                     name    W    L    T  OL\n",
       "month                                       \n",
       "1980-09-01  Boston Bruins  NaN  NaN  NaN NaN\n",
       "1980-10-01  Boston Bruins  2.0  7.0  1.0 NaN\n",
       "1980-11-01  Boston Bruins  5.0  3.0  5.0 NaN\n",
       "1980-12-01  Boston Bruins  6.0  6.0  1.0 NaN\n",
       "1980-01-01  Boston Bruins  9.0  4.0  1.0 NaN"
      ],
      "text/html": [
       "<div>\n",
       "<style scoped>\n",
       "    .dataframe tbody tr th:only-of-type {\n",
       "        vertical-align: middle;\n",
       "    }\n",
       "\n",
       "    .dataframe tbody tr th {\n",
       "        vertical-align: top;\n",
       "    }\n",
       "\n",
       "    .dataframe thead th {\n",
       "        text-align: right;\n",
       "    }\n",
       "</style>\n",
       "<table border=\"1\" class=\"dataframe\">\n",
       "  <thead>\n",
       "    <tr style=\"text-align: right;\">\n",
       "      <th></th>\n",
       "      <th>name</th>\n",
       "      <th>W</th>\n",
       "      <th>L</th>\n",
       "      <th>T</th>\n",
       "      <th>OL</th>\n",
       "    </tr>\n",
       "    <tr>\n",
       "      <th>month</th>\n",
       "      <th></th>\n",
       "      <th></th>\n",
       "      <th></th>\n",
       "      <th></th>\n",
       "      <th></th>\n",
       "    </tr>\n",
       "  </thead>\n",
       "  <tbody>\n",
       "    <tr>\n",
       "      <th>1980-09-01</th>\n",
       "      <td>Boston Bruins</td>\n",
       "      <td>NaN</td>\n",
       "      <td>NaN</td>\n",
       "      <td>NaN</td>\n",
       "      <td>NaN</td>\n",
       "    </tr>\n",
       "    <tr>\n",
       "      <th>1980-10-01</th>\n",
       "      <td>Boston Bruins</td>\n",
       "      <td>2.0</td>\n",
       "      <td>7.0</td>\n",
       "      <td>1.0</td>\n",
       "      <td>NaN</td>\n",
       "    </tr>\n",
       "    <tr>\n",
       "      <th>1980-11-01</th>\n",
       "      <td>Boston Bruins</td>\n",
       "      <td>5.0</td>\n",
       "      <td>3.0</td>\n",
       "      <td>5.0</td>\n",
       "      <td>NaN</td>\n",
       "    </tr>\n",
       "    <tr>\n",
       "      <th>1980-12-01</th>\n",
       "      <td>Boston Bruins</td>\n",
       "      <td>6.0</td>\n",
       "      <td>6.0</td>\n",
       "      <td>1.0</td>\n",
       "      <td>NaN</td>\n",
       "    </tr>\n",
       "    <tr>\n",
       "      <th>1980-01-01</th>\n",
       "      <td>Boston Bruins</td>\n",
       "      <td>9.0</td>\n",
       "      <td>4.0</td>\n",
       "      <td>1.0</td>\n",
       "      <td>NaN</td>\n",
       "    </tr>\n",
       "  </tbody>\n",
       "</table>\n",
       "</div>"
      ]
     },
     "execution_count": 65,
     "metadata": {},
     "output_type": "execute_result"
    }
   ],
   "execution_count": 65
  },
  {
   "metadata": {
    "ExecuteTime": {
     "end_time": "2025-03-28T20:49:41.607535Z",
     "start_time": "2025-03-28T20:49:41.418407Z"
    }
   },
   "cell_type": "code",
   "source": "team_splits.groupby('name').resample('QE').sum()",
   "id": "94010b44a5ccbaf6",
   "outputs": [
    {
     "data": {
      "text/plain": [
       "                                                             name     W     L  \\\n",
       "name          month                                                             \n",
       "Anaheim Ducks 2006-03-31  Anaheim DucksAnaheim DucksAnaheim Ducks  19.0  13.0   \n",
       "              2006-06-30                            Anaheim Ducks   1.0   0.0   \n",
       "              2006-09-30                            Anaheim Ducks   0.0   0.0   \n",
       "              2006-12-31  Anaheim DucksAnaheim DucksAnaheim Ducks  28.0   7.0   \n",
       "              2007-03-31  Anaheim DucksAnaheim DucksAnaheim Ducks  26.0  10.0   \n",
       "...                                                           ...   ...   ...   \n",
       "Winnipeg Jets 2010-12-31                                        0   0.0   0.0   \n",
       "              2011-03-31  Winnipeg JetsWinnipeg JetsWinnipeg Jets  17.0  20.0   \n",
       "              2011-06-30                            Winnipeg Jets   1.0   1.0   \n",
       "              2011-09-30                            Winnipeg Jets   0.0   0.0   \n",
       "              2011-12-31  Winnipeg JetsWinnipeg JetsWinnipeg Jets  19.0  14.0   \n",
       "\n",
       "                            T   OL  \n",
       "name          month                 \n",
       "Anaheim Ducks 2006-03-31  0.0  6.0  \n",
       "              2006-06-30  0.0  2.0  \n",
       "              2006-09-30  0.0  0.0  \n",
       "              2006-12-31  0.0  6.0  \n",
       "              2007-03-31  0.0  3.0  \n",
       "...                       ...  ...  \n",
       "Winnipeg Jets 2010-12-31  0.0  0.0  \n",
       "              2011-03-31  0.0  4.0  \n",
       "              2011-06-30  0.0  1.0  \n",
       "              2011-09-30  0.0  0.0  \n",
       "              2011-12-31  0.0  5.0  \n",
       "\n",
       "[3348 rows x 5 columns]"
      ],
      "text/html": [
       "<div>\n",
       "<style scoped>\n",
       "    .dataframe tbody tr th:only-of-type {\n",
       "        vertical-align: middle;\n",
       "    }\n",
       "\n",
       "    .dataframe tbody tr th {\n",
       "        vertical-align: top;\n",
       "    }\n",
       "\n",
       "    .dataframe thead th {\n",
       "        text-align: right;\n",
       "    }\n",
       "</style>\n",
       "<table border=\"1\" class=\"dataframe\">\n",
       "  <thead>\n",
       "    <tr style=\"text-align: right;\">\n",
       "      <th></th>\n",
       "      <th></th>\n",
       "      <th>name</th>\n",
       "      <th>W</th>\n",
       "      <th>L</th>\n",
       "      <th>T</th>\n",
       "      <th>OL</th>\n",
       "    </tr>\n",
       "    <tr>\n",
       "      <th>name</th>\n",
       "      <th>month</th>\n",
       "      <th></th>\n",
       "      <th></th>\n",
       "      <th></th>\n",
       "      <th></th>\n",
       "      <th></th>\n",
       "    </tr>\n",
       "  </thead>\n",
       "  <tbody>\n",
       "    <tr>\n",
       "      <th rowspan=\"5\" valign=\"top\">Anaheim Ducks</th>\n",
       "      <th>2006-03-31</th>\n",
       "      <td>Anaheim DucksAnaheim DucksAnaheim Ducks</td>\n",
       "      <td>19.0</td>\n",
       "      <td>13.0</td>\n",
       "      <td>0.0</td>\n",
       "      <td>6.0</td>\n",
       "    </tr>\n",
       "    <tr>\n",
       "      <th>2006-06-30</th>\n",
       "      <td>Anaheim Ducks</td>\n",
       "      <td>1.0</td>\n",
       "      <td>0.0</td>\n",
       "      <td>0.0</td>\n",
       "      <td>2.0</td>\n",
       "    </tr>\n",
       "    <tr>\n",
       "      <th>2006-09-30</th>\n",
       "      <td>Anaheim Ducks</td>\n",
       "      <td>0.0</td>\n",
       "      <td>0.0</td>\n",
       "      <td>0.0</td>\n",
       "      <td>0.0</td>\n",
       "    </tr>\n",
       "    <tr>\n",
       "      <th>2006-12-31</th>\n",
       "      <td>Anaheim DucksAnaheim DucksAnaheim Ducks</td>\n",
       "      <td>28.0</td>\n",
       "      <td>7.0</td>\n",
       "      <td>0.0</td>\n",
       "      <td>6.0</td>\n",
       "    </tr>\n",
       "    <tr>\n",
       "      <th>2007-03-31</th>\n",
       "      <td>Anaheim DucksAnaheim DucksAnaheim Ducks</td>\n",
       "      <td>26.0</td>\n",
       "      <td>10.0</td>\n",
       "      <td>0.0</td>\n",
       "      <td>3.0</td>\n",
       "    </tr>\n",
       "    <tr>\n",
       "      <th>...</th>\n",
       "      <th>...</th>\n",
       "      <td>...</td>\n",
       "      <td>...</td>\n",
       "      <td>...</td>\n",
       "      <td>...</td>\n",
       "      <td>...</td>\n",
       "    </tr>\n",
       "    <tr>\n",
       "      <th rowspan=\"5\" valign=\"top\">Winnipeg Jets</th>\n",
       "      <th>2010-12-31</th>\n",
       "      <td>0</td>\n",
       "      <td>0.0</td>\n",
       "      <td>0.0</td>\n",
       "      <td>0.0</td>\n",
       "      <td>0.0</td>\n",
       "    </tr>\n",
       "    <tr>\n",
       "      <th>2011-03-31</th>\n",
       "      <td>Winnipeg JetsWinnipeg JetsWinnipeg Jets</td>\n",
       "      <td>17.0</td>\n",
       "      <td>20.0</td>\n",
       "      <td>0.0</td>\n",
       "      <td>4.0</td>\n",
       "    </tr>\n",
       "    <tr>\n",
       "      <th>2011-06-30</th>\n",
       "      <td>Winnipeg Jets</td>\n",
       "      <td>1.0</td>\n",
       "      <td>1.0</td>\n",
       "      <td>0.0</td>\n",
       "      <td>1.0</td>\n",
       "    </tr>\n",
       "    <tr>\n",
       "      <th>2011-09-30</th>\n",
       "      <td>Winnipeg Jets</td>\n",
       "      <td>0.0</td>\n",
       "      <td>0.0</td>\n",
       "      <td>0.0</td>\n",
       "      <td>0.0</td>\n",
       "    </tr>\n",
       "    <tr>\n",
       "      <th>2011-12-31</th>\n",
       "      <td>Winnipeg JetsWinnipeg JetsWinnipeg Jets</td>\n",
       "      <td>19.0</td>\n",
       "      <td>14.0</td>\n",
       "      <td>0.0</td>\n",
       "      <td>5.0</td>\n",
       "    </tr>\n",
       "  </tbody>\n",
       "</table>\n",
       "<p>3348 rows × 5 columns</p>\n",
       "</div>"
      ]
     },
     "execution_count": 66,
     "metadata": {},
     "output_type": "execute_result"
    }
   ],
   "execution_count": 66
  },
  {
   "metadata": {
    "ExecuteTime": {
     "end_time": "2025-03-28T20:51:33.812566Z",
     "start_time": "2025-03-28T20:51:33.642234Z"
    }
   },
   "cell_type": "code",
   "source": "team_splits.groupby('name')[['W', 'L', 'T', 'OL']].resample('QE').sum()",
   "id": "20cb9b5ef9b68db",
   "outputs": [
    {
     "data": {
      "text/plain": [
       "                             W     L    T   OL\n",
       "name          month                           \n",
       "Anaheim Ducks 2006-03-31  19.0  13.0  0.0  6.0\n",
       "              2006-06-30   1.0   0.0  0.0  2.0\n",
       "              2006-09-30   0.0   0.0  0.0  0.0\n",
       "              2006-12-31  28.0   7.0  0.0  6.0\n",
       "              2007-03-31  26.0  10.0  0.0  3.0\n",
       "...                        ...   ...  ...  ...\n",
       "Winnipeg Jets 2010-12-31   0.0   0.0  0.0  0.0\n",
       "              2011-03-31  17.0  20.0  0.0  4.0\n",
       "              2011-06-30   1.0   1.0  0.0  1.0\n",
       "              2011-09-30   0.0   0.0  0.0  0.0\n",
       "              2011-12-31  19.0  14.0  0.0  5.0\n",
       "\n",
       "[3348 rows x 4 columns]"
      ],
      "text/html": [
       "<div>\n",
       "<style scoped>\n",
       "    .dataframe tbody tr th:only-of-type {\n",
       "        vertical-align: middle;\n",
       "    }\n",
       "\n",
       "    .dataframe tbody tr th {\n",
       "        vertical-align: top;\n",
       "    }\n",
       "\n",
       "    .dataframe thead th {\n",
       "        text-align: right;\n",
       "    }\n",
       "</style>\n",
       "<table border=\"1\" class=\"dataframe\">\n",
       "  <thead>\n",
       "    <tr style=\"text-align: right;\">\n",
       "      <th></th>\n",
       "      <th></th>\n",
       "      <th>W</th>\n",
       "      <th>L</th>\n",
       "      <th>T</th>\n",
       "      <th>OL</th>\n",
       "    </tr>\n",
       "    <tr>\n",
       "      <th>name</th>\n",
       "      <th>month</th>\n",
       "      <th></th>\n",
       "      <th></th>\n",
       "      <th></th>\n",
       "      <th></th>\n",
       "    </tr>\n",
       "  </thead>\n",
       "  <tbody>\n",
       "    <tr>\n",
       "      <th rowspan=\"5\" valign=\"top\">Anaheim Ducks</th>\n",
       "      <th>2006-03-31</th>\n",
       "      <td>19.0</td>\n",
       "      <td>13.0</td>\n",
       "      <td>0.0</td>\n",
       "      <td>6.0</td>\n",
       "    </tr>\n",
       "    <tr>\n",
       "      <th>2006-06-30</th>\n",
       "      <td>1.0</td>\n",
       "      <td>0.0</td>\n",
       "      <td>0.0</td>\n",
       "      <td>2.0</td>\n",
       "    </tr>\n",
       "    <tr>\n",
       "      <th>2006-09-30</th>\n",
       "      <td>0.0</td>\n",
       "      <td>0.0</td>\n",
       "      <td>0.0</td>\n",
       "      <td>0.0</td>\n",
       "    </tr>\n",
       "    <tr>\n",
       "      <th>2006-12-31</th>\n",
       "      <td>28.0</td>\n",
       "      <td>7.0</td>\n",
       "      <td>0.0</td>\n",
       "      <td>6.0</td>\n",
       "    </tr>\n",
       "    <tr>\n",
       "      <th>2007-03-31</th>\n",
       "      <td>26.0</td>\n",
       "      <td>10.0</td>\n",
       "      <td>0.0</td>\n",
       "      <td>3.0</td>\n",
       "    </tr>\n",
       "    <tr>\n",
       "      <th>...</th>\n",
       "      <th>...</th>\n",
       "      <td>...</td>\n",
       "      <td>...</td>\n",
       "      <td>...</td>\n",
       "      <td>...</td>\n",
       "    </tr>\n",
       "    <tr>\n",
       "      <th rowspan=\"5\" valign=\"top\">Winnipeg Jets</th>\n",
       "      <th>2010-12-31</th>\n",
       "      <td>0.0</td>\n",
       "      <td>0.0</td>\n",
       "      <td>0.0</td>\n",
       "      <td>0.0</td>\n",
       "    </tr>\n",
       "    <tr>\n",
       "      <th>2011-03-31</th>\n",
       "      <td>17.0</td>\n",
       "      <td>20.0</td>\n",
       "      <td>0.0</td>\n",
       "      <td>4.0</td>\n",
       "    </tr>\n",
       "    <tr>\n",
       "      <th>2011-06-30</th>\n",
       "      <td>1.0</td>\n",
       "      <td>1.0</td>\n",
       "      <td>0.0</td>\n",
       "      <td>1.0</td>\n",
       "    </tr>\n",
       "    <tr>\n",
       "      <th>2011-09-30</th>\n",
       "      <td>0.0</td>\n",
       "      <td>0.0</td>\n",
       "      <td>0.0</td>\n",
       "      <td>0.0</td>\n",
       "    </tr>\n",
       "    <tr>\n",
       "      <th>2011-12-31</th>\n",
       "      <td>19.0</td>\n",
       "      <td>14.0</td>\n",
       "      <td>0.0</td>\n",
       "      <td>5.0</td>\n",
       "    </tr>\n",
       "  </tbody>\n",
       "</table>\n",
       "<p>3348 rows × 4 columns</p>\n",
       "</div>"
      ]
     },
     "execution_count": 67,
     "metadata": {},
     "output_type": "execute_result"
    }
   ],
   "execution_count": 67
  },
  {
   "metadata": {
    "ExecuteTime": {
     "end_time": "2025-03-28T20:54:56.796176Z",
     "start_time": "2025-03-28T20:54:56.622776Z"
    }
   },
   "cell_type": "code",
   "source": "team_splits.groupby('name')[['W', 'L', 'T', 'OL']].resample('QE').mean()",
   "id": "19d1932ef849549",
   "outputs": [
    {
     "data": {
      "text/plain": [
       "                                 W         L   T        OL\n",
       "name          month                                       \n",
       "Anaheim Ducks 2006-03-31  6.333333  4.333333 NaN  2.000000\n",
       "              2006-06-30  1.000000  0.000000 NaN  2.000000\n",
       "              2006-09-30       NaN       NaN NaN       NaN\n",
       "              2006-12-31  9.333333  2.333333 NaN  2.000000\n",
       "              2007-03-31  8.666667  3.333333 NaN  1.000000\n",
       "...                            ...       ...  ..       ...\n",
       "Winnipeg Jets 2010-12-31       NaN       NaN NaN       NaN\n",
       "              2011-03-31  5.666667  6.666667 NaN  1.333333\n",
       "              2011-06-30  1.000000  1.000000 NaN  1.000000\n",
       "              2011-09-30       NaN       NaN NaN       NaN\n",
       "              2011-12-31  6.333333  4.666667 NaN  1.666667\n",
       "\n",
       "[3348 rows x 4 columns]"
      ],
      "text/html": [
       "<div>\n",
       "<style scoped>\n",
       "    .dataframe tbody tr th:only-of-type {\n",
       "        vertical-align: middle;\n",
       "    }\n",
       "\n",
       "    .dataframe tbody tr th {\n",
       "        vertical-align: top;\n",
       "    }\n",
       "\n",
       "    .dataframe thead th {\n",
       "        text-align: right;\n",
       "    }\n",
       "</style>\n",
       "<table border=\"1\" class=\"dataframe\">\n",
       "  <thead>\n",
       "    <tr style=\"text-align: right;\">\n",
       "      <th></th>\n",
       "      <th></th>\n",
       "      <th>W</th>\n",
       "      <th>L</th>\n",
       "      <th>T</th>\n",
       "      <th>OL</th>\n",
       "    </tr>\n",
       "    <tr>\n",
       "      <th>name</th>\n",
       "      <th>month</th>\n",
       "      <th></th>\n",
       "      <th></th>\n",
       "      <th></th>\n",
       "      <th></th>\n",
       "    </tr>\n",
       "  </thead>\n",
       "  <tbody>\n",
       "    <tr>\n",
       "      <th rowspan=\"5\" valign=\"top\">Anaheim Ducks</th>\n",
       "      <th>2006-03-31</th>\n",
       "      <td>6.333333</td>\n",
       "      <td>4.333333</td>\n",
       "      <td>NaN</td>\n",
       "      <td>2.000000</td>\n",
       "    </tr>\n",
       "    <tr>\n",
       "      <th>2006-06-30</th>\n",
       "      <td>1.000000</td>\n",
       "      <td>0.000000</td>\n",
       "      <td>NaN</td>\n",
       "      <td>2.000000</td>\n",
       "    </tr>\n",
       "    <tr>\n",
       "      <th>2006-09-30</th>\n",
       "      <td>NaN</td>\n",
       "      <td>NaN</td>\n",
       "      <td>NaN</td>\n",
       "      <td>NaN</td>\n",
       "    </tr>\n",
       "    <tr>\n",
       "      <th>2006-12-31</th>\n",
       "      <td>9.333333</td>\n",
       "      <td>2.333333</td>\n",
       "      <td>NaN</td>\n",
       "      <td>2.000000</td>\n",
       "    </tr>\n",
       "    <tr>\n",
       "      <th>2007-03-31</th>\n",
       "      <td>8.666667</td>\n",
       "      <td>3.333333</td>\n",
       "      <td>NaN</td>\n",
       "      <td>1.000000</td>\n",
       "    </tr>\n",
       "    <tr>\n",
       "      <th>...</th>\n",
       "      <th>...</th>\n",
       "      <td>...</td>\n",
       "      <td>...</td>\n",
       "      <td>...</td>\n",
       "      <td>...</td>\n",
       "    </tr>\n",
       "    <tr>\n",
       "      <th rowspan=\"5\" valign=\"top\">Winnipeg Jets</th>\n",
       "      <th>2010-12-31</th>\n",
       "      <td>NaN</td>\n",
       "      <td>NaN</td>\n",
       "      <td>NaN</td>\n",
       "      <td>NaN</td>\n",
       "    </tr>\n",
       "    <tr>\n",
       "      <th>2011-03-31</th>\n",
       "      <td>5.666667</td>\n",
       "      <td>6.666667</td>\n",
       "      <td>NaN</td>\n",
       "      <td>1.333333</td>\n",
       "    </tr>\n",
       "    <tr>\n",
       "      <th>2011-06-30</th>\n",
       "      <td>1.000000</td>\n",
       "      <td>1.000000</td>\n",
       "      <td>NaN</td>\n",
       "      <td>1.000000</td>\n",
       "    </tr>\n",
       "    <tr>\n",
       "      <th>2011-09-30</th>\n",
       "      <td>NaN</td>\n",
       "      <td>NaN</td>\n",
       "      <td>NaN</td>\n",
       "      <td>NaN</td>\n",
       "    </tr>\n",
       "    <tr>\n",
       "      <th>2011-12-31</th>\n",
       "      <td>6.333333</td>\n",
       "      <td>4.666667</td>\n",
       "      <td>NaN</td>\n",
       "      <td>1.666667</td>\n",
       "    </tr>\n",
       "  </tbody>\n",
       "</table>\n",
       "<p>3348 rows × 4 columns</p>\n",
       "</div>"
      ]
     },
     "execution_count": 68,
     "metadata": {},
     "output_type": "execute_result"
    }
   ],
   "execution_count": 68
  },
  {
   "metadata": {
    "ExecuteTime": {
     "end_time": "2025-03-28T20:56:41.522552Z",
     "start_time": "2025-03-28T20:56:41.320586Z"
    }
   },
   "cell_type": "code",
   "source": "team_splits.groupby('name').resample('QE').mean()",
   "id": "26a4ae304ecdbd6",
   "outputs": [
    {
     "data": {
      "text/plain": [
       "                                 W         L   T        OL\n",
       "name          month                                       \n",
       "Anaheim Ducks 2006-03-31  6.333333  4.333333 NaN  2.000000\n",
       "              2006-06-30  1.000000  0.000000 NaN  2.000000\n",
       "              2006-09-30       NaN       NaN NaN       NaN\n",
       "              2006-12-31  9.333333  2.333333 NaN  2.000000\n",
       "              2007-03-31  8.666667  3.333333 NaN  1.000000\n",
       "...                            ...       ...  ..       ...\n",
       "Winnipeg Jets 2010-12-31       NaN       NaN NaN       NaN\n",
       "              2011-03-31  5.666667  6.666667 NaN  1.333333\n",
       "              2011-06-30  1.000000  1.000000 NaN  1.000000\n",
       "              2011-09-30       NaN       NaN NaN       NaN\n",
       "              2011-12-31  6.333333  4.666667 NaN  1.666667\n",
       "\n",
       "[3348 rows x 4 columns]"
      ],
      "text/html": [
       "<div>\n",
       "<style scoped>\n",
       "    .dataframe tbody tr th:only-of-type {\n",
       "        vertical-align: middle;\n",
       "    }\n",
       "\n",
       "    .dataframe tbody tr th {\n",
       "        vertical-align: top;\n",
       "    }\n",
       "\n",
       "    .dataframe thead th {\n",
       "        text-align: right;\n",
       "    }\n",
       "</style>\n",
       "<table border=\"1\" class=\"dataframe\">\n",
       "  <thead>\n",
       "    <tr style=\"text-align: right;\">\n",
       "      <th></th>\n",
       "      <th></th>\n",
       "      <th>W</th>\n",
       "      <th>L</th>\n",
       "      <th>T</th>\n",
       "      <th>OL</th>\n",
       "    </tr>\n",
       "    <tr>\n",
       "      <th>name</th>\n",
       "      <th>month</th>\n",
       "      <th></th>\n",
       "      <th></th>\n",
       "      <th></th>\n",
       "      <th></th>\n",
       "    </tr>\n",
       "  </thead>\n",
       "  <tbody>\n",
       "    <tr>\n",
       "      <th rowspan=\"5\" valign=\"top\">Anaheim Ducks</th>\n",
       "      <th>2006-03-31</th>\n",
       "      <td>6.333333</td>\n",
       "      <td>4.333333</td>\n",
       "      <td>NaN</td>\n",
       "      <td>2.000000</td>\n",
       "    </tr>\n",
       "    <tr>\n",
       "      <th>2006-06-30</th>\n",
       "      <td>1.000000</td>\n",
       "      <td>0.000000</td>\n",
       "      <td>NaN</td>\n",
       "      <td>2.000000</td>\n",
       "    </tr>\n",
       "    <tr>\n",
       "      <th>2006-09-30</th>\n",
       "      <td>NaN</td>\n",
       "      <td>NaN</td>\n",
       "      <td>NaN</td>\n",
       "      <td>NaN</td>\n",
       "    </tr>\n",
       "    <tr>\n",
       "      <th>2006-12-31</th>\n",
       "      <td>9.333333</td>\n",
       "      <td>2.333333</td>\n",
       "      <td>NaN</td>\n",
       "      <td>2.000000</td>\n",
       "    </tr>\n",
       "    <tr>\n",
       "      <th>2007-03-31</th>\n",
       "      <td>8.666667</td>\n",
       "      <td>3.333333</td>\n",
       "      <td>NaN</td>\n",
       "      <td>1.000000</td>\n",
       "    </tr>\n",
       "    <tr>\n",
       "      <th>...</th>\n",
       "      <th>...</th>\n",
       "      <td>...</td>\n",
       "      <td>...</td>\n",
       "      <td>...</td>\n",
       "      <td>...</td>\n",
       "    </tr>\n",
       "    <tr>\n",
       "      <th rowspan=\"5\" valign=\"top\">Winnipeg Jets</th>\n",
       "      <th>2010-12-31</th>\n",
       "      <td>NaN</td>\n",
       "      <td>NaN</td>\n",
       "      <td>NaN</td>\n",
       "      <td>NaN</td>\n",
       "    </tr>\n",
       "    <tr>\n",
       "      <th>2011-03-31</th>\n",
       "      <td>5.666667</td>\n",
       "      <td>6.666667</td>\n",
       "      <td>NaN</td>\n",
       "      <td>1.333333</td>\n",
       "    </tr>\n",
       "    <tr>\n",
       "      <th>2011-06-30</th>\n",
       "      <td>1.000000</td>\n",
       "      <td>1.000000</td>\n",
       "      <td>NaN</td>\n",
       "      <td>1.000000</td>\n",
       "    </tr>\n",
       "    <tr>\n",
       "      <th>2011-09-30</th>\n",
       "      <td>NaN</td>\n",
       "      <td>NaN</td>\n",
       "      <td>NaN</td>\n",
       "      <td>NaN</td>\n",
       "    </tr>\n",
       "    <tr>\n",
       "      <th>2011-12-31</th>\n",
       "      <td>6.333333</td>\n",
       "      <td>4.666667</td>\n",
       "      <td>NaN</td>\n",
       "      <td>1.666667</td>\n",
       "    </tr>\n",
       "  </tbody>\n",
       "</table>\n",
       "<p>3348 rows × 4 columns</p>\n",
       "</div>"
      ]
     },
     "execution_count": 69,
     "metadata": {},
     "output_type": "execute_result"
    }
   ],
   "execution_count": 69
  },
  {
   "metadata": {
    "ExecuteTime": {
     "end_time": "2025-03-28T20:57:01.403267Z",
     "start_time": "2025-03-28T20:57:01.376578Z"
    }
   },
   "cell_type": "code",
   "source": "team_splits.describe()",
   "id": "7a49950cec5971d2",
   "outputs": [
    {
     "data": {
      "text/plain": [
       "                 W            L            T           OL\n",
       "count  5435.000000  5435.000000  3963.000000  2508.000000\n",
       "mean      5.296412     4.804968     1.524603     1.064992\n",
       "std       2.535993     2.444273     1.242479     1.091799\n",
       "min       0.000000     0.000000     0.000000     0.000000\n",
       "25%       3.000000     3.000000     1.000000     0.000000\n",
       "50%       5.000000     5.000000     1.000000     1.000000\n",
       "75%       7.000000     6.000000     2.000000     2.000000\n",
       "max      13.000000    14.000000     8.000000     6.000000"
      ],
      "text/html": [
       "<div>\n",
       "<style scoped>\n",
       "    .dataframe tbody tr th:only-of-type {\n",
       "        vertical-align: middle;\n",
       "    }\n",
       "\n",
       "    .dataframe tbody tr th {\n",
       "        vertical-align: top;\n",
       "    }\n",
       "\n",
       "    .dataframe thead th {\n",
       "        text-align: right;\n",
       "    }\n",
       "</style>\n",
       "<table border=\"1\" class=\"dataframe\">\n",
       "  <thead>\n",
       "    <tr style=\"text-align: right;\">\n",
       "      <th></th>\n",
       "      <th>W</th>\n",
       "      <th>L</th>\n",
       "      <th>T</th>\n",
       "      <th>OL</th>\n",
       "    </tr>\n",
       "  </thead>\n",
       "  <tbody>\n",
       "    <tr>\n",
       "      <th>count</th>\n",
       "      <td>5435.000000</td>\n",
       "      <td>5435.000000</td>\n",
       "      <td>3963.000000</td>\n",
       "      <td>2508.000000</td>\n",
       "    </tr>\n",
       "    <tr>\n",
       "      <th>mean</th>\n",
       "      <td>5.296412</td>\n",
       "      <td>4.804968</td>\n",
       "      <td>1.524603</td>\n",
       "      <td>1.064992</td>\n",
       "    </tr>\n",
       "    <tr>\n",
       "      <th>std</th>\n",
       "      <td>2.535993</td>\n",
       "      <td>2.444273</td>\n",
       "      <td>1.242479</td>\n",
       "      <td>1.091799</td>\n",
       "    </tr>\n",
       "    <tr>\n",
       "      <th>min</th>\n",
       "      <td>0.000000</td>\n",
       "      <td>0.000000</td>\n",
       "      <td>0.000000</td>\n",
       "      <td>0.000000</td>\n",
       "    </tr>\n",
       "    <tr>\n",
       "      <th>25%</th>\n",
       "      <td>3.000000</td>\n",
       "      <td>3.000000</td>\n",
       "      <td>1.000000</td>\n",
       "      <td>0.000000</td>\n",
       "    </tr>\n",
       "    <tr>\n",
       "      <th>50%</th>\n",
       "      <td>5.000000</td>\n",
       "      <td>5.000000</td>\n",
       "      <td>1.000000</td>\n",
       "      <td>1.000000</td>\n",
       "    </tr>\n",
       "    <tr>\n",
       "      <th>75%</th>\n",
       "      <td>7.000000</td>\n",
       "      <td>6.000000</td>\n",
       "      <td>2.000000</td>\n",
       "      <td>2.000000</td>\n",
       "    </tr>\n",
       "    <tr>\n",
       "      <th>max</th>\n",
       "      <td>13.000000</td>\n",
       "      <td>14.000000</td>\n",
       "      <td>8.000000</td>\n",
       "      <td>6.000000</td>\n",
       "    </tr>\n",
       "  </tbody>\n",
       "</table>\n",
       "</div>"
      ]
     },
     "execution_count": 70,
     "metadata": {},
     "output_type": "execute_result"
    }
   ],
   "execution_count": 70
  },
  {
   "metadata": {},
   "cell_type": "code",
   "outputs": [],
   "execution_count": null,
   "source": "",
   "id": "5ea645f101b67f9a"
  }
 ],
 "metadata": {
  "kernelspec": {
   "display_name": "Python 3",
   "language": "python",
   "name": "python3"
  },
  "language_info": {
   "codemirror_mode": {
    "name": "ipython",
    "version": 2
   },
   "file_extension": ".py",
   "mimetype": "text/x-python",
   "name": "python",
   "nbconvert_exporter": "python",
   "pygments_lexer": "ipython2",
   "version": "2.7.6"
  }
 },
 "nbformat": 4,
 "nbformat_minor": 5
}
