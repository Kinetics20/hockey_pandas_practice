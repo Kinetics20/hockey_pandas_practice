{
 "cells": [
  {
   "cell_type": "code",
   "id": "initial_id",
   "metadata": {
    "collapsed": true,
    "ExecuteTime": {
     "end_time": "2025-03-22T14:23:27.958926Z",
     "start_time": "2025-03-22T14:23:27.469206Z"
    }
   },
   "source": [
    "import pandas as pd\n",
    "\n",
    "from settings import INTERIM\n",
    "\n",
    "import matplotlib.pyplot as plt"
   ],
   "outputs": [],
   "execution_count": 25
  },
  {
   "metadata": {
    "ExecuteTime": {
     "end_time": "2025-03-22T13:51:07.847744Z",
     "start_time": "2025-03-22T13:51:07.828245Z"
    }
   },
   "cell_type": "code",
   "source": [
    "scoring = pd.read_pickle(INTERIM / 'master_score.pkl')\n",
    "team_splits = pd.read_pickle(INTERIM / 'teams_team_splits.pkl')"
   ],
   "id": "b6b02f11098cdaec",
   "outputs": [],
   "execution_count": 2
  },
  {
   "metadata": {
    "ExecuteTime": {
     "end_time": "2025-03-22T13:51:17.675290Z",
     "start_time": "2025-03-22T13:51:17.637535Z"
    }
   },
   "cell_type": "code",
   "source": "scoring.head()",
   "id": "cab6311cab4582a",
   "outputs": [
    {
     "data": {
      "text/plain": [
       "  firstName    lastName pos   playerID  year tmID    GP    G     A   Pts  \\\n",
       "0     Antti       Aalto   C  aaltoan01  1997  ANA   3.0  0.0   0.0   0.0   \n",
       "1     Antti       Aalto   C  aaltoan01  1998  ANA  73.0  3.0   5.0   8.0   \n",
       "2     Antti       Aalto   C  aaltoan01  1999  ANA  63.0  7.0  11.0  18.0   \n",
       "3     Antti       Aalto   C  aaltoan01  2000  ANA  12.0  1.0   1.0   2.0   \n",
       "4    Justin  Abdelkader   L  abdelju01  2007  DET   2.0  0.0   0.0   0.0   \n",
       "\n",
       "     SOG  \n",
       "0    1.0  \n",
       "1   61.0  \n",
       "2  102.0  \n",
       "3   18.0  \n",
       "4    6.0  "
      ],
      "text/html": [
       "<div>\n",
       "<style scoped>\n",
       "    .dataframe tbody tr th:only-of-type {\n",
       "        vertical-align: middle;\n",
       "    }\n",
       "\n",
       "    .dataframe tbody tr th {\n",
       "        vertical-align: top;\n",
       "    }\n",
       "\n",
       "    .dataframe thead th {\n",
       "        text-align: right;\n",
       "    }\n",
       "</style>\n",
       "<table border=\"1\" class=\"dataframe\">\n",
       "  <thead>\n",
       "    <tr style=\"text-align: right;\">\n",
       "      <th></th>\n",
       "      <th>firstName</th>\n",
       "      <th>lastName</th>\n",
       "      <th>pos</th>\n",
       "      <th>playerID</th>\n",
       "      <th>year</th>\n",
       "      <th>tmID</th>\n",
       "      <th>GP</th>\n",
       "      <th>G</th>\n",
       "      <th>A</th>\n",
       "      <th>Pts</th>\n",
       "      <th>SOG</th>\n",
       "    </tr>\n",
       "  </thead>\n",
       "  <tbody>\n",
       "    <tr>\n",
       "      <th>0</th>\n",
       "      <td>Antti</td>\n",
       "      <td>Aalto</td>\n",
       "      <td>C</td>\n",
       "      <td>aaltoan01</td>\n",
       "      <td>1997</td>\n",
       "      <td>ANA</td>\n",
       "      <td>3.0</td>\n",
       "      <td>0.0</td>\n",
       "      <td>0.0</td>\n",
       "      <td>0.0</td>\n",
       "      <td>1.0</td>\n",
       "    </tr>\n",
       "    <tr>\n",
       "      <th>1</th>\n",
       "      <td>Antti</td>\n",
       "      <td>Aalto</td>\n",
       "      <td>C</td>\n",
       "      <td>aaltoan01</td>\n",
       "      <td>1998</td>\n",
       "      <td>ANA</td>\n",
       "      <td>73.0</td>\n",
       "      <td>3.0</td>\n",
       "      <td>5.0</td>\n",
       "      <td>8.0</td>\n",
       "      <td>61.0</td>\n",
       "    </tr>\n",
       "    <tr>\n",
       "      <th>2</th>\n",
       "      <td>Antti</td>\n",
       "      <td>Aalto</td>\n",
       "      <td>C</td>\n",
       "      <td>aaltoan01</td>\n",
       "      <td>1999</td>\n",
       "      <td>ANA</td>\n",
       "      <td>63.0</td>\n",
       "      <td>7.0</td>\n",
       "      <td>11.0</td>\n",
       "      <td>18.0</td>\n",
       "      <td>102.0</td>\n",
       "    </tr>\n",
       "    <tr>\n",
       "      <th>3</th>\n",
       "      <td>Antti</td>\n",
       "      <td>Aalto</td>\n",
       "      <td>C</td>\n",
       "      <td>aaltoan01</td>\n",
       "      <td>2000</td>\n",
       "      <td>ANA</td>\n",
       "      <td>12.0</td>\n",
       "      <td>1.0</td>\n",
       "      <td>1.0</td>\n",
       "      <td>2.0</td>\n",
       "      <td>18.0</td>\n",
       "    </tr>\n",
       "    <tr>\n",
       "      <th>4</th>\n",
       "      <td>Justin</td>\n",
       "      <td>Abdelkader</td>\n",
       "      <td>L</td>\n",
       "      <td>abdelju01</td>\n",
       "      <td>2007</td>\n",
       "      <td>DET</td>\n",
       "      <td>2.0</td>\n",
       "      <td>0.0</td>\n",
       "      <td>0.0</td>\n",
       "      <td>0.0</td>\n",
       "      <td>6.0</td>\n",
       "    </tr>\n",
       "  </tbody>\n",
       "</table>\n",
       "</div>"
      ]
     },
     "execution_count": 3,
     "metadata": {},
     "output_type": "execute_result"
    }
   ],
   "execution_count": 3
  },
  {
   "metadata": {
    "ExecuteTime": {
     "end_time": "2025-03-22T13:53:32.339054Z",
     "start_time": "2025-03-22T13:53:32.329682Z"
    }
   },
   "cell_type": "code",
   "source": "three_years= scoring.loc[(scoring['year'] > 2000) & (scoring['year'] < 2004)]",
   "id": "c93904db63aff842",
   "outputs": [],
   "execution_count": 4
  },
  {
   "metadata": {
    "ExecuteTime": {
     "end_time": "2025-03-22T13:53:41.899187Z",
     "start_time": "2025-03-22T13:53:41.883160Z"
    }
   },
   "cell_type": "code",
   "source": "three_years.head()",
   "id": "4417e5be48cc37ec",
   "outputs": [
    {
     "data": {
      "text/plain": [
       "   firstName lastName pos   playerID  year tmID    GP     G     A   Pts    SOG\n",
       "9      Ramzi     Abid   L   abidra01  2002  PHO  30.0  10.0   8.0  18.0   52.0\n",
       "10     Ramzi     Abid   L   abidra01  2002  PIT   3.0   0.0   0.0   0.0    7.0\n",
       "11     Ramzi     Abid   L   abidra01  2003  PIT  16.0   3.0   2.0   5.0   35.0\n",
       "39     Craig    Adams   R  adamscr01  2001  CAR  33.0   0.0   1.0   1.0   17.0\n",
       "40     Craig    Adams   R  adamscr01  2002  CAR  81.0   6.0  12.0  18.0  107.0"
      ],
      "text/html": [
       "<div>\n",
       "<style scoped>\n",
       "    .dataframe tbody tr th:only-of-type {\n",
       "        vertical-align: middle;\n",
       "    }\n",
       "\n",
       "    .dataframe tbody tr th {\n",
       "        vertical-align: top;\n",
       "    }\n",
       "\n",
       "    .dataframe thead th {\n",
       "        text-align: right;\n",
       "    }\n",
       "</style>\n",
       "<table border=\"1\" class=\"dataframe\">\n",
       "  <thead>\n",
       "    <tr style=\"text-align: right;\">\n",
       "      <th></th>\n",
       "      <th>firstName</th>\n",
       "      <th>lastName</th>\n",
       "      <th>pos</th>\n",
       "      <th>playerID</th>\n",
       "      <th>year</th>\n",
       "      <th>tmID</th>\n",
       "      <th>GP</th>\n",
       "      <th>G</th>\n",
       "      <th>A</th>\n",
       "      <th>Pts</th>\n",
       "      <th>SOG</th>\n",
       "    </tr>\n",
       "  </thead>\n",
       "  <tbody>\n",
       "    <tr>\n",
       "      <th>9</th>\n",
       "      <td>Ramzi</td>\n",
       "      <td>Abid</td>\n",
       "      <td>L</td>\n",
       "      <td>abidra01</td>\n",
       "      <td>2002</td>\n",
       "      <td>PHO</td>\n",
       "      <td>30.0</td>\n",
       "      <td>10.0</td>\n",
       "      <td>8.0</td>\n",
       "      <td>18.0</td>\n",
       "      <td>52.0</td>\n",
       "    </tr>\n",
       "    <tr>\n",
       "      <th>10</th>\n",
       "      <td>Ramzi</td>\n",
       "      <td>Abid</td>\n",
       "      <td>L</td>\n",
       "      <td>abidra01</td>\n",
       "      <td>2002</td>\n",
       "      <td>PIT</td>\n",
       "      <td>3.0</td>\n",
       "      <td>0.0</td>\n",
       "      <td>0.0</td>\n",
       "      <td>0.0</td>\n",
       "      <td>7.0</td>\n",
       "    </tr>\n",
       "    <tr>\n",
       "      <th>11</th>\n",
       "      <td>Ramzi</td>\n",
       "      <td>Abid</td>\n",
       "      <td>L</td>\n",
       "      <td>abidra01</td>\n",
       "      <td>2003</td>\n",
       "      <td>PIT</td>\n",
       "      <td>16.0</td>\n",
       "      <td>3.0</td>\n",
       "      <td>2.0</td>\n",
       "      <td>5.0</td>\n",
       "      <td>35.0</td>\n",
       "    </tr>\n",
       "    <tr>\n",
       "      <th>39</th>\n",
       "      <td>Craig</td>\n",
       "      <td>Adams</td>\n",
       "      <td>R</td>\n",
       "      <td>adamscr01</td>\n",
       "      <td>2001</td>\n",
       "      <td>CAR</td>\n",
       "      <td>33.0</td>\n",
       "      <td>0.0</td>\n",
       "      <td>1.0</td>\n",
       "      <td>1.0</td>\n",
       "      <td>17.0</td>\n",
       "    </tr>\n",
       "    <tr>\n",
       "      <th>40</th>\n",
       "      <td>Craig</td>\n",
       "      <td>Adams</td>\n",
       "      <td>R</td>\n",
       "      <td>adamscr01</td>\n",
       "      <td>2002</td>\n",
       "      <td>CAR</td>\n",
       "      <td>81.0</td>\n",
       "      <td>6.0</td>\n",
       "      <td>12.0</td>\n",
       "      <td>18.0</td>\n",
       "      <td>107.0</td>\n",
       "    </tr>\n",
       "  </tbody>\n",
       "</table>\n",
       "</div>"
      ]
     },
     "execution_count": 5,
     "metadata": {},
     "output_type": "execute_result"
    }
   ],
   "execution_count": 5
  },
  {
   "metadata": {
    "ExecuteTime": {
     "end_time": "2025-03-22T13:57:28.599468Z",
     "start_time": "2025-03-22T13:57:28.588745Z"
    }
   },
   "cell_type": "code",
   "source": "three_years = three_years.drop_duplicates(subset=['playerID', 'year'])",
   "id": "a332a7837f243e86",
   "outputs": [],
   "execution_count": 6
  },
  {
   "metadata": {
    "ExecuteTime": {
     "end_time": "2025-03-22T14:01:28.014349Z",
     "start_time": "2025-03-22T14:01:28.003890Z"
    }
   },
   "cell_type": "code",
   "source": [
    "counts = three_years['playerID'].value_counts()\n",
    "counts"
   ],
   "id": "88d4e5071037ac22",
   "outputs": [
    {
     "data": {
      "text/plain": [
       "playerID\n",
       "zyuzian01    3\n",
       "zubruda01    3\n",
       "adamscr01    3\n",
       "adamske01    3\n",
       "aebisda01    3\n",
       "            ..\n",
       "lilesjo01    1\n",
       "lintnri01    1\n",
       "aulinja01    1\n",
       "babchan01    1\n",
       "balejjo01    1\n",
       "Name: count, Length: 1320, dtype: int64"
      ]
     },
     "execution_count": 7,
     "metadata": {},
     "output_type": "execute_result"
    }
   ],
   "execution_count": 7
  },
  {
   "metadata": {
    "ExecuteTime": {
     "end_time": "2025-03-22T14:05:39.952379Z",
     "start_time": "2025-03-22T14:05:39.942350Z"
    }
   },
   "cell_type": "code",
   "source": [
    "index = counts.loc[counts == 3].sample(3).index\n",
    "index"
   ],
   "id": "cb982276646ed801",
   "outputs": [
    {
     "data": {
      "text/plain": [
       "Index(['nedoran01', 'gonchse01', 'kapanni01'], dtype='object', name='playerID')"
      ]
     },
     "execution_count": 9,
     "metadata": {},
     "output_type": "execute_result"
    }
   ],
   "execution_count": 9
  },
  {
   "metadata": {
    "ExecuteTime": {
     "end_time": "2025-03-22T14:09:24.345905Z",
     "start_time": "2025-03-22T14:09:24.309090Z"
    }
   },
   "cell_type": "code",
   "source": [
    "df_3 = three_years.loc[three_years['playerID'].isin(index)]\n",
    "df_3\n"
   ],
   "id": "22364d15666394a4",
   "outputs": [
    {
     "data": {
      "text/plain": [
       "      firstName  lastName pos   playerID  year tmID    GP     G     A   Pts  \\\n",
       "8688     Sergei   Gonchar   D  gonchse01  2001  WAS  76.0  26.0  33.0  59.0   \n",
       "8689     Sergei   Gonchar   D  gonchse01  2002  WAS  82.0  18.0  49.0  67.0   \n",
       "8690     Sergei   Gonchar   D  gonchse01  2003  WAS  56.0   7.0  42.0  49.0   \n",
       "11982      Niko   Kapanen   C  kapanni01  2001  DAL   9.0   0.0   1.0   1.0   \n",
       "11983      Niko   Kapanen   C  kapanni01  2002  DAL  82.0   5.0  29.0  34.0   \n",
       "11984      Niko   Kapanen   C  kapanni01  2003  DAL  67.0   1.0   5.0   6.0   \n",
       "18352    Andrej  Nedorost   C  nedoran01  2001  CBS   7.0   0.0   2.0   2.0   \n",
       "18353    Andrej  Nedorost   C  nedoran01  2002  CBS  12.0   0.0   1.0   1.0   \n",
       "18354    Andrej  Nedorost   C  nedoran01  2003  CBS   9.0   2.0   0.0   2.0   \n",
       "\n",
       "         SOG  \n",
       "8688   216.0  \n",
       "8689   224.0  \n",
       "8690   127.0  \n",
       "11982    3.0  \n",
       "11983   80.0  \n",
       "11984   57.0  \n",
       "18352   12.0  \n",
       "18353   10.0  \n",
       "18354   16.0  "
      ],
      "text/html": [
       "<div>\n",
       "<style scoped>\n",
       "    .dataframe tbody tr th:only-of-type {\n",
       "        vertical-align: middle;\n",
       "    }\n",
       "\n",
       "    .dataframe tbody tr th {\n",
       "        vertical-align: top;\n",
       "    }\n",
       "\n",
       "    .dataframe thead th {\n",
       "        text-align: right;\n",
       "    }\n",
       "</style>\n",
       "<table border=\"1\" class=\"dataframe\">\n",
       "  <thead>\n",
       "    <tr style=\"text-align: right;\">\n",
       "      <th></th>\n",
       "      <th>firstName</th>\n",
       "      <th>lastName</th>\n",
       "      <th>pos</th>\n",
       "      <th>playerID</th>\n",
       "      <th>year</th>\n",
       "      <th>tmID</th>\n",
       "      <th>GP</th>\n",
       "      <th>G</th>\n",
       "      <th>A</th>\n",
       "      <th>Pts</th>\n",
       "      <th>SOG</th>\n",
       "    </tr>\n",
       "  </thead>\n",
       "  <tbody>\n",
       "    <tr>\n",
       "      <th>8688</th>\n",
       "      <td>Sergei</td>\n",
       "      <td>Gonchar</td>\n",
       "      <td>D</td>\n",
       "      <td>gonchse01</td>\n",
       "      <td>2001</td>\n",
       "      <td>WAS</td>\n",
       "      <td>76.0</td>\n",
       "      <td>26.0</td>\n",
       "      <td>33.0</td>\n",
       "      <td>59.0</td>\n",
       "      <td>216.0</td>\n",
       "    </tr>\n",
       "    <tr>\n",
       "      <th>8689</th>\n",
       "      <td>Sergei</td>\n",
       "      <td>Gonchar</td>\n",
       "      <td>D</td>\n",
       "      <td>gonchse01</td>\n",
       "      <td>2002</td>\n",
       "      <td>WAS</td>\n",
       "      <td>82.0</td>\n",
       "      <td>18.0</td>\n",
       "      <td>49.0</td>\n",
       "      <td>67.0</td>\n",
       "      <td>224.0</td>\n",
       "    </tr>\n",
       "    <tr>\n",
       "      <th>8690</th>\n",
       "      <td>Sergei</td>\n",
       "      <td>Gonchar</td>\n",
       "      <td>D</td>\n",
       "      <td>gonchse01</td>\n",
       "      <td>2003</td>\n",
       "      <td>WAS</td>\n",
       "      <td>56.0</td>\n",
       "      <td>7.0</td>\n",
       "      <td>42.0</td>\n",
       "      <td>49.0</td>\n",
       "      <td>127.0</td>\n",
       "    </tr>\n",
       "    <tr>\n",
       "      <th>11982</th>\n",
       "      <td>Niko</td>\n",
       "      <td>Kapanen</td>\n",
       "      <td>C</td>\n",
       "      <td>kapanni01</td>\n",
       "      <td>2001</td>\n",
       "      <td>DAL</td>\n",
       "      <td>9.0</td>\n",
       "      <td>0.0</td>\n",
       "      <td>1.0</td>\n",
       "      <td>1.0</td>\n",
       "      <td>3.0</td>\n",
       "    </tr>\n",
       "    <tr>\n",
       "      <th>11983</th>\n",
       "      <td>Niko</td>\n",
       "      <td>Kapanen</td>\n",
       "      <td>C</td>\n",
       "      <td>kapanni01</td>\n",
       "      <td>2002</td>\n",
       "      <td>DAL</td>\n",
       "      <td>82.0</td>\n",
       "      <td>5.0</td>\n",
       "      <td>29.0</td>\n",
       "      <td>34.0</td>\n",
       "      <td>80.0</td>\n",
       "    </tr>\n",
       "    <tr>\n",
       "      <th>11984</th>\n",
       "      <td>Niko</td>\n",
       "      <td>Kapanen</td>\n",
       "      <td>C</td>\n",
       "      <td>kapanni01</td>\n",
       "      <td>2003</td>\n",
       "      <td>DAL</td>\n",
       "      <td>67.0</td>\n",
       "      <td>1.0</td>\n",
       "      <td>5.0</td>\n",
       "      <td>6.0</td>\n",
       "      <td>57.0</td>\n",
       "    </tr>\n",
       "    <tr>\n",
       "      <th>18352</th>\n",
       "      <td>Andrej</td>\n",
       "      <td>Nedorost</td>\n",
       "      <td>C</td>\n",
       "      <td>nedoran01</td>\n",
       "      <td>2001</td>\n",
       "      <td>CBS</td>\n",
       "      <td>7.0</td>\n",
       "      <td>0.0</td>\n",
       "      <td>2.0</td>\n",
       "      <td>2.0</td>\n",
       "      <td>12.0</td>\n",
       "    </tr>\n",
       "    <tr>\n",
       "      <th>18353</th>\n",
       "      <td>Andrej</td>\n",
       "      <td>Nedorost</td>\n",
       "      <td>C</td>\n",
       "      <td>nedoran01</td>\n",
       "      <td>2002</td>\n",
       "      <td>CBS</td>\n",
       "      <td>12.0</td>\n",
       "      <td>0.0</td>\n",
       "      <td>1.0</td>\n",
       "      <td>1.0</td>\n",
       "      <td>10.0</td>\n",
       "    </tr>\n",
       "    <tr>\n",
       "      <th>18354</th>\n",
       "      <td>Andrej</td>\n",
       "      <td>Nedorost</td>\n",
       "      <td>C</td>\n",
       "      <td>nedoran01</td>\n",
       "      <td>2003</td>\n",
       "      <td>CBS</td>\n",
       "      <td>9.0</td>\n",
       "      <td>2.0</td>\n",
       "      <td>0.0</td>\n",
       "      <td>2.0</td>\n",
       "      <td>16.0</td>\n",
       "    </tr>\n",
       "  </tbody>\n",
       "</table>\n",
       "</div>"
      ]
     },
     "execution_count": 10,
     "metadata": {},
     "output_type": "execute_result"
    }
   ],
   "execution_count": 10
  },
  {
   "metadata": {
    "ExecuteTime": {
     "end_time": "2025-03-22T14:11:25.240329Z",
     "start_time": "2025-03-22T14:11:25.229438Z"
    }
   },
   "cell_type": "code",
   "source": [
    "basic_df_3 = df_3[['playerID', 'year', 'G']]\n",
    "basic_df_3"
   ],
   "id": "5bc802d6287b22fb",
   "outputs": [
    {
     "data": {
      "text/plain": [
       "        playerID  year     G\n",
       "8688   gonchse01  2001  26.0\n",
       "8689   gonchse01  2002  18.0\n",
       "8690   gonchse01  2003   7.0\n",
       "11982  kapanni01  2001   0.0\n",
       "11983  kapanni01  2002   5.0\n",
       "11984  kapanni01  2003   1.0\n",
       "18352  nedoran01  2001   0.0\n",
       "18353  nedoran01  2002   0.0\n",
       "18354  nedoran01  2003   2.0"
      ],
      "text/html": [
       "<div>\n",
       "<style scoped>\n",
       "    .dataframe tbody tr th:only-of-type {\n",
       "        vertical-align: middle;\n",
       "    }\n",
       "\n",
       "    .dataframe tbody tr th {\n",
       "        vertical-align: top;\n",
       "    }\n",
       "\n",
       "    .dataframe thead th {\n",
       "        text-align: right;\n",
       "    }\n",
       "</style>\n",
       "<table border=\"1\" class=\"dataframe\">\n",
       "  <thead>\n",
       "    <tr style=\"text-align: right;\">\n",
       "      <th></th>\n",
       "      <th>playerID</th>\n",
       "      <th>year</th>\n",
       "      <th>G</th>\n",
       "    </tr>\n",
       "  </thead>\n",
       "  <tbody>\n",
       "    <tr>\n",
       "      <th>8688</th>\n",
       "      <td>gonchse01</td>\n",
       "      <td>2001</td>\n",
       "      <td>26.0</td>\n",
       "    </tr>\n",
       "    <tr>\n",
       "      <th>8689</th>\n",
       "      <td>gonchse01</td>\n",
       "      <td>2002</td>\n",
       "      <td>18.0</td>\n",
       "    </tr>\n",
       "    <tr>\n",
       "      <th>8690</th>\n",
       "      <td>gonchse01</td>\n",
       "      <td>2003</td>\n",
       "      <td>7.0</td>\n",
       "    </tr>\n",
       "    <tr>\n",
       "      <th>11982</th>\n",
       "      <td>kapanni01</td>\n",
       "      <td>2001</td>\n",
       "      <td>0.0</td>\n",
       "    </tr>\n",
       "    <tr>\n",
       "      <th>11983</th>\n",
       "      <td>kapanni01</td>\n",
       "      <td>2002</td>\n",
       "      <td>5.0</td>\n",
       "    </tr>\n",
       "    <tr>\n",
       "      <th>11984</th>\n",
       "      <td>kapanni01</td>\n",
       "      <td>2003</td>\n",
       "      <td>1.0</td>\n",
       "    </tr>\n",
       "    <tr>\n",
       "      <th>18352</th>\n",
       "      <td>nedoran01</td>\n",
       "      <td>2001</td>\n",
       "      <td>0.0</td>\n",
       "    </tr>\n",
       "    <tr>\n",
       "      <th>18353</th>\n",
       "      <td>nedoran01</td>\n",
       "      <td>2002</td>\n",
       "      <td>0.0</td>\n",
       "    </tr>\n",
       "    <tr>\n",
       "      <th>18354</th>\n",
       "      <td>nedoran01</td>\n",
       "      <td>2003</td>\n",
       "      <td>2.0</td>\n",
       "    </tr>\n",
       "  </tbody>\n",
       "</table>\n",
       "</div>"
      ]
     },
     "execution_count": 11,
     "metadata": {},
     "output_type": "execute_result"
    }
   ],
   "execution_count": 11
  },
  {
   "metadata": {
    "ExecuteTime": {
     "end_time": "2025-03-22T14:18:39.517691Z",
     "start_time": "2025-03-22T14:18:39.508822Z"
    }
   },
   "cell_type": "code",
   "source": "pivot = basic_df_3.pivot(index='playerID', columns='year', values='G')\n",
   "id": "92008fb101fd69aa",
   "outputs": [],
   "execution_count": 15
  },
  {
   "metadata": {
    "ExecuteTime": {
     "end_time": "2025-03-22T14:18:49.574319Z",
     "start_time": "2025-03-22T14:18:49.566658Z"
    }
   },
   "cell_type": "code",
   "source": "pivot.index",
   "id": "b51aa9da82a0c992",
   "outputs": [
    {
     "data": {
      "text/plain": [
       "Index(['gonchse01', 'kapanni01', 'nedoran01'], dtype='object', name='playerID')"
      ]
     },
     "execution_count": 16,
     "metadata": {},
     "output_type": "execute_result"
    }
   ],
   "execution_count": 16
  },
  {
   "metadata": {
    "ExecuteTime": {
     "end_time": "2025-03-22T14:19:14.649080Z",
     "start_time": "2025-03-22T14:19:14.641207Z"
    }
   },
   "cell_type": "code",
   "source": "pivot.columns",
   "id": "5483551751355294",
   "outputs": [
    {
     "data": {
      "text/plain": [
       "Index([2001, 2002, 2003], dtype='int64', name='year')"
      ]
     },
     "execution_count": 17,
     "metadata": {},
     "output_type": "execute_result"
    }
   ],
   "execution_count": 17
  },
  {
   "metadata": {
    "ExecuteTime": {
     "end_time": "2025-03-22T14:20:33.456934Z",
     "start_time": "2025-03-22T14:20:33.452041Z"
    }
   },
   "cell_type": "code",
   "source": "pivot.index.name = None",
   "id": "8af0ed93c65ec0cb",
   "outputs": [],
   "execution_count": 20
  },
  {
   "metadata": {
    "ExecuteTime": {
     "end_time": "2025-03-22T14:20:39.591496Z",
     "start_time": "2025-03-22T14:20:39.586847Z"
    }
   },
   "cell_type": "code",
   "source": "pivot.columns.name = None",
   "id": "dd57959cb956e3b1",
   "outputs": [],
   "execution_count": 21
  },
  {
   "metadata": {
    "ExecuteTime": {
     "end_time": "2025-03-22T14:20:47.265380Z",
     "start_time": "2025-03-22T14:20:47.250891Z"
    }
   },
   "cell_type": "code",
   "source": "pivot",
   "id": "22a7ac023fbffd47",
   "outputs": [
    {
     "data": {
      "text/plain": [
       "           2001  2002  2003\n",
       "gonchse01  26.0  18.0   7.0\n",
       "kapanni01   0.0   5.0   1.0\n",
       "nedoran01   0.0   0.0   2.0"
      ],
      "text/html": [
       "<div>\n",
       "<style scoped>\n",
       "    .dataframe tbody tr th:only-of-type {\n",
       "        vertical-align: middle;\n",
       "    }\n",
       "\n",
       "    .dataframe tbody tr th {\n",
       "        vertical-align: top;\n",
       "    }\n",
       "\n",
       "    .dataframe thead th {\n",
       "        text-align: right;\n",
       "    }\n",
       "</style>\n",
       "<table border=\"1\" class=\"dataframe\">\n",
       "  <thead>\n",
       "    <tr style=\"text-align: right;\">\n",
       "      <th></th>\n",
       "      <th>2001</th>\n",
       "      <th>2002</th>\n",
       "      <th>2003</th>\n",
       "    </tr>\n",
       "  </thead>\n",
       "  <tbody>\n",
       "    <tr>\n",
       "      <th>gonchse01</th>\n",
       "      <td>26.0</td>\n",
       "      <td>18.0</td>\n",
       "      <td>7.0</td>\n",
       "    </tr>\n",
       "    <tr>\n",
       "      <th>kapanni01</th>\n",
       "      <td>0.0</td>\n",
       "      <td>5.0</td>\n",
       "      <td>1.0</td>\n",
       "    </tr>\n",
       "    <tr>\n",
       "      <th>nedoran01</th>\n",
       "      <td>0.0</td>\n",
       "      <td>0.0</td>\n",
       "      <td>2.0</td>\n",
       "    </tr>\n",
       "  </tbody>\n",
       "</table>\n",
       "</div>"
      ]
     },
     "execution_count": 22,
     "metadata": {},
     "output_type": "execute_result"
    }
   ],
   "execution_count": 22
  },
  {
   "metadata": {
    "ExecuteTime": {
     "end_time": "2025-03-22T14:21:56.411112Z",
     "start_time": "2025-03-22T14:21:56.405257Z"
    }
   },
   "cell_type": "code",
   "source": [
    "pivot.index.name = 'playerID'\n",
    "pivot.index.columns = 'year'"
   ],
   "id": "80c9e0af5f71eee4",
   "outputs": [],
   "execution_count": 23
  },
  {
   "metadata": {
    "ExecuteTime": {
     "end_time": "2025-03-22T14:27:07.638829Z",
     "start_time": "2025-03-22T14:27:07.083796Z"
    }
   },
   "cell_type": "code",
   "source": [
    "\n",
    "ax1, ax2 = basic_df_3.set_index('playerID').plot(kind='bar', subplots=True)\n",
    "\n",
    "plt.show"
   ],
   "id": "340e02eadc31acd0",
   "outputs": [
    {
     "data": {
      "text/plain": [
       "<function matplotlib.pyplot.show(close=None, block=None)>"
      ]
     },
     "execution_count": 27,
     "metadata": {},
     "output_type": "execute_result"
    },
    {
     "data": {
      "text/plain": [
       "<Figure size 640x480 with 2 Axes>"
      ],
      "image/png": "[encoded data removed]"
     },
     "metadata": {},
     "output_type": "display_data"
    }
   ],
   "execution_count": 27
  },
  {
   "metadata": {
    "ExecuteTime": {
     "end_time": "2025-03-22T14:28:29.790387Z",
     "start_time": "2025-03-22T14:28:29.569419Z"
    }
   },
   "cell_type": "code",
   "source": [
    "fig, ax = plt.subplots(figsize=(5, 3))\n",
    "pivot.plot(ax=ax, kind='bar')\n",
    "plt.show()"
   ],
   "id": "6fb685d9457724b0",
   "outputs": [
    {
     "data": {
      "text/plain": [
       "<Figure size 500x300 with 1 Axes>"
      ],
      "image/png": "[encoded data removed]"
     },
     "metadata": {},
     "output_type": "display_data"
    }
   ],
   "execution_count": 28
  },
  {
   "metadata": {
    "ExecuteTime": {
     "end_time": "2025-03-22T14:29:31.355641Z",
     "start_time": "2025-03-22T14:29:31.341728Z"
    }
   },
   "cell_type": "code",
   "source": "pivot.melt()",
   "id": "efcdb8c908b1cbd1",
   "outputs": [
    {
     "data": {
      "text/plain": [
       "   variable  value\n",
       "0      2001   26.0\n",
       "1      2001    0.0\n",
       "2      2001    0.0\n",
       "3      2002   18.0\n",
       "4      2002    5.0\n",
       "5      2002    0.0\n",
       "6      2003    7.0\n",
       "7      2003    1.0\n",
       "8      2003    2.0"
      ],
      "text/html": [
       "<div>\n",
       "<style scoped>\n",
       "    .dataframe tbody tr th:only-of-type {\n",
       "        vertical-align: middle;\n",
       "    }\n",
       "\n",
       "    .dataframe tbody tr th {\n",
       "        vertical-align: top;\n",
       "    }\n",
       "\n",
       "    .dataframe thead th {\n",
       "        text-align: right;\n",
       "    }\n",
       "</style>\n",
       "<table border=\"1\" class=\"dataframe\">\n",
       "  <thead>\n",
       "    <tr style=\"text-align: right;\">\n",
       "      <th></th>\n",
       "      <th>variable</th>\n",
       "      <th>value</th>\n",
       "    </tr>\n",
       "  </thead>\n",
       "  <tbody>\n",
       "    <tr>\n",
       "      <th>0</th>\n",
       "      <td>2001</td>\n",
       "      <td>26.0</td>\n",
       "    </tr>\n",
       "    <tr>\n",
       "      <th>1</th>\n",
       "      <td>2001</td>\n",
       "      <td>0.0</td>\n",
       "    </tr>\n",
       "    <tr>\n",
       "      <th>2</th>\n",
       "      <td>2001</td>\n",
       "      <td>0.0</td>\n",
       "    </tr>\n",
       "    <tr>\n",
       "      <th>3</th>\n",
       "      <td>2002</td>\n",
       "      <td>18.0</td>\n",
       "    </tr>\n",
       "    <tr>\n",
       "      <th>4</th>\n",
       "      <td>2002</td>\n",
       "      <td>5.0</td>\n",
       "    </tr>\n",
       "    <tr>\n",
       "      <th>5</th>\n",
       "      <td>2002</td>\n",
       "      <td>0.0</td>\n",
       "    </tr>\n",
       "    <tr>\n",
       "      <th>6</th>\n",
       "      <td>2003</td>\n",
       "      <td>7.0</td>\n",
       "    </tr>\n",
       "    <tr>\n",
       "      <th>7</th>\n",
       "      <td>2003</td>\n",
       "      <td>1.0</td>\n",
       "    </tr>\n",
       "    <tr>\n",
       "      <th>8</th>\n",
       "      <td>2003</td>\n",
       "      <td>2.0</td>\n",
       "    </tr>\n",
       "  </tbody>\n",
       "</table>\n",
       "</div>"
      ]
     },
     "execution_count": 29,
     "metadata": {},
     "output_type": "execute_result"
    }
   ],
   "execution_count": 29
  },
  {
   "metadata": {
    "ExecuteTime": {
     "end_time": "2025-03-22T14:37:03.525838Z",
     "start_time": "2025-03-22T14:37:03.519716Z"
    }
   },
   "cell_type": "code",
   "source": "pivot.reset_index(inplace=True)",
   "id": "8ab6ea5266b487cb",
   "outputs": [],
   "execution_count": 31
  },
  {
   "metadata": {
    "ExecuteTime": {
     "end_time": "2025-03-22T14:37:06.636175Z",
     "start_time": "2025-03-22T14:37:06.616836Z"
    }
   },
   "cell_type": "code",
   "source": "pivot.melt(id_vars='playerID')",
   "id": "670bedad874f9a0d",
   "outputs": [
    {
     "data": {
      "text/plain": [
       "    playerID variable  value\n",
       "0  gonchse01     2001   26.0\n",
       "1  kapanni01     2001    0.0\n",
       "2  nedoran01     2001    0.0\n",
       "3  gonchse01     2002   18.0\n",
       "4  kapanni01     2002    5.0\n",
       "5  nedoran01     2002    0.0\n",
       "6  gonchse01     2003    7.0\n",
       "7  kapanni01     2003    1.0\n",
       "8  nedoran01     2003    2.0"
      ],
      "text/html": [
       "<div>\n",
       "<style scoped>\n",
       "    .dataframe tbody tr th:only-of-type {\n",
       "        vertical-align: middle;\n",
       "    }\n",
       "\n",
       "    .dataframe tbody tr th {\n",
       "        vertical-align: top;\n",
       "    }\n",
       "\n",
       "    .dataframe thead th {\n",
       "        text-align: right;\n",
       "    }\n",
       "</style>\n",
       "<table border=\"1\" class=\"dataframe\">\n",
       "  <thead>\n",
       "    <tr style=\"text-align: right;\">\n",
       "      <th></th>\n",
       "      <th>playerID</th>\n",
       "      <th>variable</th>\n",
       "      <th>value</th>\n",
       "    </tr>\n",
       "  </thead>\n",
       "  <tbody>\n",
       "    <tr>\n",
       "      <th>0</th>\n",
       "      <td>gonchse01</td>\n",
       "      <td>2001</td>\n",
       "      <td>26.0</td>\n",
       "    </tr>\n",
       "    <tr>\n",
       "      <th>1</th>\n",
       "      <td>kapanni01</td>\n",
       "      <td>2001</td>\n",
       "      <td>0.0</td>\n",
       "    </tr>\n",
       "    <tr>\n",
       "      <th>2</th>\n",
       "      <td>nedoran01</td>\n",
       "      <td>2001</td>\n",
       "      <td>0.0</td>\n",
       "    </tr>\n",
       "    <tr>\n",
       "      <th>3</th>\n",
       "      <td>gonchse01</td>\n",
       "      <td>2002</td>\n",
       "      <td>18.0</td>\n",
       "    </tr>\n",
       "    <tr>\n",
       "      <th>4</th>\n",
       "      <td>kapanni01</td>\n",
       "      <td>2002</td>\n",
       "      <td>5.0</td>\n",
       "    </tr>\n",
       "    <tr>\n",
       "      <th>5</th>\n",
       "      <td>nedoran01</td>\n",
       "      <td>2002</td>\n",
       "      <td>0.0</td>\n",
       "    </tr>\n",
       "    <tr>\n",
       "      <th>6</th>\n",
       "      <td>gonchse01</td>\n",
       "      <td>2003</td>\n",
       "      <td>7.0</td>\n",
       "    </tr>\n",
       "    <tr>\n",
       "      <th>7</th>\n",
       "      <td>kapanni01</td>\n",
       "      <td>2003</td>\n",
       "      <td>1.0</td>\n",
       "    </tr>\n",
       "    <tr>\n",
       "      <th>8</th>\n",
       "      <td>nedoran01</td>\n",
       "      <td>2003</td>\n",
       "      <td>2.0</td>\n",
       "    </tr>\n",
       "  </tbody>\n",
       "</table>\n",
       "</div>"
      ]
     },
     "execution_count": 32,
     "metadata": {},
     "output_type": "execute_result"
    }
   ],
   "execution_count": 32
  },
  {
   "metadata": {
    "ExecuteTime": {
     "end_time": "2025-03-22T14:38:26.091169Z",
     "start_time": "2025-03-22T14:38:26.071802Z"
    }
   },
   "cell_type": "code",
   "source": "pivot.melt(id_vars='playerID', var_name='year', value_name='goals')",
   "id": "65c091d1a035f4a3",
   "outputs": [
    {
     "data": {
      "text/plain": [
       "    playerID  year  goals\n",
       "0  gonchse01  2001   26.0\n",
       "1  kapanni01  2001    0.0\n",
       "2  nedoran01  2001    0.0\n",
       "3  gonchse01  2002   18.0\n",
       "4  kapanni01  2002    5.0\n",
       "5  nedoran01  2002    0.0\n",
       "6  gonchse01  2003    7.0\n",
       "7  kapanni01  2003    1.0\n",
       "8  nedoran01  2003    2.0"
      ],
      "text/html": [
       "<div>\n",
       "<style scoped>\n",
       "    .dataframe tbody tr th:only-of-type {\n",
       "        vertical-align: middle;\n",
       "    }\n",
       "\n",
       "    .dataframe tbody tr th {\n",
       "        vertical-align: top;\n",
       "    }\n",
       "\n",
       "    .dataframe thead th {\n",
       "        text-align: right;\n",
       "    }\n",
       "</style>\n",
       "<table border=\"1\" class=\"dataframe\">\n",
       "  <thead>\n",
       "    <tr style=\"text-align: right;\">\n",
       "      <th></th>\n",
       "      <th>playerID</th>\n",
       "      <th>year</th>\n",
       "      <th>goals</th>\n",
       "    </tr>\n",
       "  </thead>\n",
       "  <tbody>\n",
       "    <tr>\n",
       "      <th>0</th>\n",
       "      <td>gonchse01</td>\n",
       "      <td>2001</td>\n",
       "      <td>26.0</td>\n",
       "    </tr>\n",
       "    <tr>\n",
       "      <th>1</th>\n",
       "      <td>kapanni01</td>\n",
       "      <td>2001</td>\n",
       "      <td>0.0</td>\n",
       "    </tr>\n",
       "    <tr>\n",
       "      <th>2</th>\n",
       "      <td>nedoran01</td>\n",
       "      <td>2001</td>\n",
       "      <td>0.0</td>\n",
       "    </tr>\n",
       "    <tr>\n",
       "      <th>3</th>\n",
       "      <td>gonchse01</td>\n",
       "      <td>2002</td>\n",
       "      <td>18.0</td>\n",
       "    </tr>\n",
       "    <tr>\n",
       "      <th>4</th>\n",
       "      <td>kapanni01</td>\n",
       "      <td>2002</td>\n",
       "      <td>5.0</td>\n",
       "    </tr>\n",
       "    <tr>\n",
       "      <th>5</th>\n",
       "      <td>nedoran01</td>\n",
       "      <td>2002</td>\n",
       "      <td>0.0</td>\n",
       "    </tr>\n",
       "    <tr>\n",
       "      <th>6</th>\n",
       "      <td>gonchse01</td>\n",
       "      <td>2003</td>\n",
       "      <td>7.0</td>\n",
       "    </tr>\n",
       "    <tr>\n",
       "      <th>7</th>\n",
       "      <td>kapanni01</td>\n",
       "      <td>2003</td>\n",
       "      <td>1.0</td>\n",
       "    </tr>\n",
       "    <tr>\n",
       "      <th>8</th>\n",
       "      <td>nedoran01</td>\n",
       "      <td>2003</td>\n",
       "      <td>2.0</td>\n",
       "    </tr>\n",
       "  </tbody>\n",
       "</table>\n",
       "</div>"
      ]
     },
     "execution_count": 33,
     "metadata": {},
     "output_type": "execute_result"
    }
   ],
   "execution_count": 33
  },
  {
   "metadata": {},
   "cell_type": "code",
   "outputs": [],
   "execution_count": null,
   "source": "pivot.melt(id_vars='playerID', value_vars=[201, 2002],var_name='year', value_name='goals')",
   "id": "9e6f021b3e94a487"
  },
  {
   "metadata": {
    "ExecuteTime": {
     "end_time": "2025-03-22T14:42:21.691077Z",
     "start_time": "2025-03-22T14:42:21.679292Z"
    }
   },
   "cell_type": "code",
   "source": [
    "larger_df_3 = df_3[['playerID', 'tmID', 'year', 'G']]\n",
    "larger_df_3"
   ],
   "id": "93a16a25b4197d57",
   "outputs": [
    {
     "data": {
      "text/plain": [
       "        playerID tmID  year     G\n",
       "8688   gonchse01  WAS  2001  26.0\n",
       "8689   gonchse01  WAS  2002  18.0\n",
       "8690   gonchse01  WAS  2003   7.0\n",
       "11982  kapanni01  DAL  2001   0.0\n",
       "11983  kapanni01  DAL  2002   5.0\n",
       "11984  kapanni01  DAL  2003   1.0\n",
       "18352  nedoran01  CBS  2001   0.0\n",
       "18353  nedoran01  CBS  2002   0.0\n",
       "18354  nedoran01  CBS  2003   2.0"
      ],
      "text/html": [
       "<div>\n",
       "<style scoped>\n",
       "    .dataframe tbody tr th:only-of-type {\n",
       "        vertical-align: middle;\n",
       "    }\n",
       "\n",
       "    .dataframe tbody tr th {\n",
       "        vertical-align: top;\n",
       "    }\n",
       "\n",
       "    .dataframe thead th {\n",
       "        text-align: right;\n",
       "    }\n",
       "</style>\n",
       "<table border=\"1\" class=\"dataframe\">\n",
       "  <thead>\n",
       "    <tr style=\"text-align: right;\">\n",
       "      <th></th>\n",
       "      <th>playerID</th>\n",
       "      <th>tmID</th>\n",
       "      <th>year</th>\n",
       "      <th>G</th>\n",
       "    </tr>\n",
       "  </thead>\n",
       "  <tbody>\n",
       "    <tr>\n",
       "      <th>8688</th>\n",
       "      <td>gonchse01</td>\n",
       "      <td>WAS</td>\n",
       "      <td>2001</td>\n",
       "      <td>26.0</td>\n",
       "    </tr>\n",
       "    <tr>\n",
       "      <th>8689</th>\n",
       "      <td>gonchse01</td>\n",
       "      <td>WAS</td>\n",
       "      <td>2002</td>\n",
       "      <td>18.0</td>\n",
       "    </tr>\n",
       "    <tr>\n",
       "      <th>8690</th>\n",
       "      <td>gonchse01</td>\n",
       "      <td>WAS</td>\n",
       "      <td>2003</td>\n",
       "      <td>7.0</td>\n",
       "    </tr>\n",
       "    <tr>\n",
       "      <th>11982</th>\n",
       "      <td>kapanni01</td>\n",
       "      <td>DAL</td>\n",
       "      <td>2001</td>\n",
       "      <td>0.0</td>\n",
       "    </tr>\n",
       "    <tr>\n",
       "      <th>11983</th>\n",
       "      <td>kapanni01</td>\n",
       "      <td>DAL</td>\n",
       "      <td>2002</td>\n",
       "      <td>5.0</td>\n",
       "    </tr>\n",
       "    <tr>\n",
       "      <th>11984</th>\n",
       "      <td>kapanni01</td>\n",
       "      <td>DAL</td>\n",
       "      <td>2003</td>\n",
       "      <td>1.0</td>\n",
       "    </tr>\n",
       "    <tr>\n",
       "      <th>18352</th>\n",
       "      <td>nedoran01</td>\n",
       "      <td>CBS</td>\n",
       "      <td>2001</td>\n",
       "      <td>0.0</td>\n",
       "    </tr>\n",
       "    <tr>\n",
       "      <th>18353</th>\n",
       "      <td>nedoran01</td>\n",
       "      <td>CBS</td>\n",
       "      <td>2002</td>\n",
       "      <td>0.0</td>\n",
       "    </tr>\n",
       "    <tr>\n",
       "      <th>18354</th>\n",
       "      <td>nedoran01</td>\n",
       "      <td>CBS</td>\n",
       "      <td>2003</td>\n",
       "      <td>2.0</td>\n",
       "    </tr>\n",
       "  </tbody>\n",
       "</table>\n",
       "</div>"
      ]
     },
     "execution_count": 34,
     "metadata": {},
     "output_type": "execute_result"
    }
   ],
   "execution_count": 34
  },
  {
   "metadata": {
    "ExecuteTime": {
     "end_time": "2025-03-22T14:45:59.074634Z",
     "start_time": "2025-03-22T14:45:59.055040Z"
    }
   },
   "cell_type": "code",
   "source": "larger_df_3.pivot(index=['playerID', 'tmID'], columns='year', values='G')",
   "id": "ebcc68e0998a1c45",
   "outputs": [
    {
     "data": {
      "text/plain": [
       "year            2001  2002  2003\n",
       "playerID  tmID                  \n",
       "gonchse01 WAS   26.0  18.0   7.0\n",
       "kapanni01 DAL    0.0   5.0   1.0\n",
       "nedoran01 CBS    0.0   0.0   2.0"
      ],
      "text/html": [
       "<div>\n",
       "<style scoped>\n",
       "    .dataframe tbody tr th:only-of-type {\n",
       "        vertical-align: middle;\n",
       "    }\n",
       "\n",
       "    .dataframe tbody tr th {\n",
       "        vertical-align: top;\n",
       "    }\n",
       "\n",
       "    .dataframe thead th {\n",
       "        text-align: right;\n",
       "    }\n",
       "</style>\n",
       "<table border=\"1\" class=\"dataframe\">\n",
       "  <thead>\n",
       "    <tr style=\"text-align: right;\">\n",
       "      <th></th>\n",
       "      <th>year</th>\n",
       "      <th>2001</th>\n",
       "      <th>2002</th>\n",
       "      <th>2003</th>\n",
       "    </tr>\n",
       "    <tr>\n",
       "      <th>playerID</th>\n",
       "      <th>tmID</th>\n",
       "      <th></th>\n",
       "      <th></th>\n",
       "      <th></th>\n",
       "    </tr>\n",
       "  </thead>\n",
       "  <tbody>\n",
       "    <tr>\n",
       "      <th>gonchse01</th>\n",
       "      <th>WAS</th>\n",
       "      <td>26.0</td>\n",
       "      <td>18.0</td>\n",
       "      <td>7.0</td>\n",
       "    </tr>\n",
       "    <tr>\n",
       "      <th>kapanni01</th>\n",
       "      <th>DAL</th>\n",
       "      <td>0.0</td>\n",
       "      <td>5.0</td>\n",
       "      <td>1.0</td>\n",
       "    </tr>\n",
       "    <tr>\n",
       "      <th>nedoran01</th>\n",
       "      <th>CBS</th>\n",
       "      <td>0.0</td>\n",
       "      <td>0.0</td>\n",
       "      <td>2.0</td>\n",
       "    </tr>\n",
       "  </tbody>\n",
       "</table>\n",
       "</div>"
      ]
     },
     "execution_count": 35,
     "metadata": {},
     "output_type": "execute_result"
    }
   ],
   "execution_count": 35
  },
  {
   "metadata": {
    "ExecuteTime": {
     "end_time": "2025-03-22T14:46:55.860386Z",
     "start_time": "2025-03-22T14:46:55.843674Z"
    }
   },
   "cell_type": "code",
   "source": [
    "larger_df_3 = df_3[['playerID',  'year', 'G', 'A']]\n",
    "larger_df_3"
   ],
   "id": "d1864f91f1b48897",
   "outputs": [
    {
     "data": {
      "text/plain": [
       "        playerID  year     G     A\n",
       "8688   gonchse01  2001  26.0  33.0\n",
       "8689   gonchse01  2002  18.0  49.0\n",
       "8690   gonchse01  2003   7.0  42.0\n",
       "11982  kapanni01  2001   0.0   1.0\n",
       "11983  kapanni01  2002   5.0  29.0\n",
       "11984  kapanni01  2003   1.0   5.0\n",
       "18352  nedoran01  2001   0.0   2.0\n",
       "18353  nedoran01  2002   0.0   1.0\n",
       "18354  nedoran01  2003   2.0   0.0"
      ],
      "text/html": [
       "<div>\n",
       "<style scoped>\n",
       "    .dataframe tbody tr th:only-of-type {\n",
       "        vertical-align: middle;\n",
       "    }\n",
       "\n",
       "    .dataframe tbody tr th {\n",
       "        vertical-align: top;\n",
       "    }\n",
       "\n",
       "    .dataframe thead th {\n",
       "        text-align: right;\n",
       "    }\n",
       "</style>\n",
       "<table border=\"1\" class=\"dataframe\">\n",
       "  <thead>\n",
       "    <tr style=\"text-align: right;\">\n",
       "      <th></th>\n",
       "      <th>playerID</th>\n",
       "      <th>year</th>\n",
       "      <th>G</th>\n",
       "      <th>A</th>\n",
       "    </tr>\n",
       "  </thead>\n",
       "  <tbody>\n",
       "    <tr>\n",
       "      <th>8688</th>\n",
       "      <td>gonchse01</td>\n",
       "      <td>2001</td>\n",
       "      <td>26.0</td>\n",
       "      <td>33.0</td>\n",
       "    </tr>\n",
       "    <tr>\n",
       "      <th>8689</th>\n",
       "      <td>gonchse01</td>\n",
       "      <td>2002</td>\n",
       "      <td>18.0</td>\n",
       "      <td>49.0</td>\n",
       "    </tr>\n",
       "    <tr>\n",
       "      <th>8690</th>\n",
       "      <td>gonchse01</td>\n",
       "      <td>2003</td>\n",
       "      <td>7.0</td>\n",
       "      <td>42.0</td>\n",
       "    </tr>\n",
       "    <tr>\n",
       "      <th>11982</th>\n",
       "      <td>kapanni01</td>\n",
       "      <td>2001</td>\n",
       "      <td>0.0</td>\n",
       "      <td>1.0</td>\n",
       "    </tr>\n",
       "    <tr>\n",
       "      <th>11983</th>\n",
       "      <td>kapanni01</td>\n",
       "      <td>2002</td>\n",
       "      <td>5.0</td>\n",
       "      <td>29.0</td>\n",
       "    </tr>\n",
       "    <tr>\n",
       "      <th>11984</th>\n",
       "      <td>kapanni01</td>\n",
       "      <td>2003</td>\n",
       "      <td>1.0</td>\n",
       "      <td>5.0</td>\n",
       "    </tr>\n",
       "    <tr>\n",
       "      <th>18352</th>\n",
       "      <td>nedoran01</td>\n",
       "      <td>2001</td>\n",
       "      <td>0.0</td>\n",
       "      <td>2.0</td>\n",
       "    </tr>\n",
       "    <tr>\n",
       "      <th>18353</th>\n",
       "      <td>nedoran01</td>\n",
       "      <td>2002</td>\n",
       "      <td>0.0</td>\n",
       "      <td>1.0</td>\n",
       "    </tr>\n",
       "    <tr>\n",
       "      <th>18354</th>\n",
       "      <td>nedoran01</td>\n",
       "      <td>2003</td>\n",
       "      <td>2.0</td>\n",
       "      <td>0.0</td>\n",
       "    </tr>\n",
       "  </tbody>\n",
       "</table>\n",
       "</div>"
      ]
     },
     "execution_count": 36,
     "metadata": {},
     "output_type": "execute_result"
    }
   ],
   "execution_count": 36
  },
  {
   "metadata": {
    "ExecuteTime": {
     "end_time": "2025-03-22T14:48:16.666023Z",
     "start_time": "2025-03-22T14:48:16.658707Z"
    }
   },
   "cell_type": "code",
   "source": "result = larger_df_3.pivot(index=['playerID'], columns='year', values=['G', 'A'])",
   "id": "b6a300d6f80464a8",
   "outputs": [],
   "execution_count": 37
  },
  {
   "metadata": {
    "ExecuteTime": {
     "end_time": "2025-03-22T14:48:21.543009Z",
     "start_time": "2025-03-22T14:48:21.529239Z"
    }
   },
   "cell_type": "code",
   "source": "result",
   "id": "f4e56c3d74ffbb52",
   "outputs": [
    {
     "data": {
      "text/plain": [
       "              G                A            \n",
       "year       2001  2002 2003  2001  2002  2003\n",
       "playerID                                    \n",
       "gonchse01  26.0  18.0  7.0  33.0  49.0  42.0\n",
       "kapanni01   0.0   5.0  1.0   1.0  29.0   5.0\n",
       "nedoran01   0.0   0.0  2.0   2.0   1.0   0.0"
      ],
      "text/html": [
       "<div>\n",
       "<style scoped>\n",
       "    .dataframe tbody tr th:only-of-type {\n",
       "        vertical-align: middle;\n",
       "    }\n",
       "\n",
       "    .dataframe tbody tr th {\n",
       "        vertical-align: top;\n",
       "    }\n",
       "\n",
       "    .dataframe thead tr th {\n",
       "        text-align: left;\n",
       "    }\n",
       "\n",
       "    .dataframe thead tr:last-of-type th {\n",
       "        text-align: right;\n",
       "    }\n",
       "</style>\n",
       "<table border=\"1\" class=\"dataframe\">\n",
       "  <thead>\n",
       "    <tr>\n",
       "      <th></th>\n",
       "      <th colspan=\"3\" halign=\"left\">G</th>\n",
       "      <th colspan=\"3\" halign=\"left\">A</th>\n",
       "    </tr>\n",
       "    <tr>\n",
       "      <th>year</th>\n",
       "      <th>2001</th>\n",
       "      <th>2002</th>\n",
       "      <th>2003</th>\n",
       "      <th>2001</th>\n",
       "      <th>2002</th>\n",
       "      <th>2003</th>\n",
       "    </tr>\n",
       "    <tr>\n",
       "      <th>playerID</th>\n",
       "      <th></th>\n",
       "      <th></th>\n",
       "      <th></th>\n",
       "      <th></th>\n",
       "      <th></th>\n",
       "      <th></th>\n",
       "    </tr>\n",
       "  </thead>\n",
       "  <tbody>\n",
       "    <tr>\n",
       "      <th>gonchse01</th>\n",
       "      <td>26.0</td>\n",
       "      <td>18.0</td>\n",
       "      <td>7.0</td>\n",
       "      <td>33.0</td>\n",
       "      <td>49.0</td>\n",
       "      <td>42.0</td>\n",
       "    </tr>\n",
       "    <tr>\n",
       "      <th>kapanni01</th>\n",
       "      <td>0.0</td>\n",
       "      <td>5.0</td>\n",
       "      <td>1.0</td>\n",
       "      <td>1.0</td>\n",
       "      <td>29.0</td>\n",
       "      <td>5.0</td>\n",
       "    </tr>\n",
       "    <tr>\n",
       "      <th>nedoran01</th>\n",
       "      <td>0.0</td>\n",
       "      <td>0.0</td>\n",
       "      <td>2.0</td>\n",
       "      <td>2.0</td>\n",
       "      <td>1.0</td>\n",
       "      <td>0.0</td>\n",
       "    </tr>\n",
       "  </tbody>\n",
       "</table>\n",
       "</div>"
      ]
     },
     "execution_count": 38,
     "metadata": {},
     "output_type": "execute_result"
    }
   ],
   "execution_count": 38
  },
  {
   "metadata": {
    "ExecuteTime": {
     "end_time": "2025-03-22T14:53:35.881940Z",
     "start_time": "2025-03-22T14:53:35.872934Z"
    }
   },
   "cell_type": "code",
   "source": "result.index",
   "id": "24bb4fb53b1a27c4",
   "outputs": [
    {
     "data": {
      "text/plain": [
       "Index(['gonchse01', 'kapanni01', 'nedoran01'], dtype='object', name='playerID')"
      ]
     },
     "execution_count": 41,
     "metadata": {},
     "output_type": "execute_result"
    }
   ],
   "execution_count": 41
  },
  {
   "metadata": {
    "ExecuteTime": {
     "end_time": "2025-03-22T14:48:51.601561Z",
     "start_time": "2025-03-22T14:48:51.579274Z"
    }
   },
   "cell_type": "code",
   "source": "result.columns",
   "id": "15894c8f8dae8d5a",
   "outputs": [
    {
     "data": {
      "text/plain": [
       "MultiIndex([('G', 2001),\n",
       "            ('G', 2002),\n",
       "            ('G', 2003),\n",
       "            ('A', 2001),\n",
       "            ('A', 2002),\n",
       "            ('A', 2003)],\n",
       "           names=[None, 'year'])"
      ]
     },
     "execution_count": 39,
     "metadata": {},
     "output_type": "execute_result"
    }
   ],
   "execution_count": 39
  },
  {
   "metadata": {
    "ExecuteTime": {
     "end_time": "2025-03-22T14:55:21.484306Z",
     "start_time": "2025-03-22T14:55:21.475170Z"
    }
   },
   "cell_type": "code",
   "source": "result.iloc[2, 3]",
   "id": "f1e3ab6115798829",
   "outputs": [
    {
     "data": {
      "text/plain": [
       "np.float64(2.0)"
      ]
     },
     "execution_count": 43,
     "metadata": {},
     "output_type": "execute_result"
    }
   ],
   "execution_count": 43
  },
  {
   "metadata": {
    "ExecuteTime": {
     "end_time": "2025-03-22T14:57:11.626237Z",
     "start_time": "2025-03-22T14:57:11.617013Z"
    }
   },
   "cell_type": "code",
   "source": "result.loc['kapanni01', ('A', 2001)]",
   "id": "3ff8a29d83b81b55",
   "outputs": [
    {
     "data": {
      "text/plain": [
       "np.float64(1.0)"
      ]
     },
     "execution_count": 45,
     "metadata": {},
     "output_type": "execute_result"
    }
   ],
   "execution_count": 45
  },
  {
   "metadata": {},
   "cell_type": "code",
   "outputs": [],
   "execution_count": null,
   "source": "",
   "id": "bfc04b0dfe06229f"
  }
 ],
 "metadata": {
  "kernelspec": {
   "display_name": "Python 3",
   "language": "python",
   "name": "python3"
  },
  "language_info": {
   "codemirror_mode": {
    "name": "ipython",
    "version": 2
   },
   "file_extension": ".py",
   "mimetype": "text/x-python",
   "name": "python",
   "nbconvert_exporter": "python",
   "pygments_lexer": "ipython2",
   "version": "2.7.6"
  }
 },
 "nbformat": 4,
 "nbformat_minor": 5
}
