{
 "cells": [
  {
   "cell_type": "code",
   "id": "initial_id",
   "metadata": {
    "collapsed": true,
    "ExecuteTime": {
     "end_time": "2025-03-26T20:06:02.474066Z",
     "start_time": "2025-03-26T20:06:01.987836Z"
    }
   },
   "source": [
    "import pandas as pd\n",
    "import numpy as np\n",
    "from helpers.mem import memory_mib\n",
    "\n",
    "from set_paths import RA, INTER"
   ],
   "outputs": [],
   "execution_count": 1
  },
  {
   "metadata": {
    "ExecuteTime": {
     "end_time": "2025-03-26T20:16:39.664800Z",
     "start_time": "2025-03-26T20:16:39.639195Z"
    }
   },
   "cell_type": "code",
   "source": [
    "scoring = pd.read_pickle(INTER / \"master_score.pkl\")\n",
    "team_splits = pd.read_pickle(INTER / \"teams_team_splits_2.pkl\")"
   ],
   "id": "d39c283320fe43b",
   "outputs": [],
   "execution_count": 7
  },
  {
   "metadata": {
    "ExecuteTime": {
     "end_time": "2025-03-26T20:16:41.060245Z",
     "start_time": "2025-03-26T20:16:41.048230Z"
    }
   },
   "cell_type": "code",
   "source": "three_years = scoring.loc[(scoring['year'] > 2000) & (scoring['year'] < 2004)]",
   "id": "9ef219f77c24570d",
   "outputs": [],
   "execution_count": 8
  },
  {
   "metadata": {
    "ExecuteTime": {
     "end_time": "2025-03-26T20:16:42.316502Z",
     "start_time": "2025-03-26T20:16:42.310300Z"
    }
   },
   "cell_type": "code",
   "source": "three_years.shape",
   "id": "eb9382d52479f6b9",
   "outputs": [
    {
     "data": {
      "text/plain": [
       "(3296, 11)"
      ]
     },
     "execution_count": 9,
     "metadata": {},
     "output_type": "execute_result"
    }
   ],
   "execution_count": 9
  },
  {
   "metadata": {
    "ExecuteTime": {
     "end_time": "2025-03-26T20:16:44.017865Z",
     "start_time": "2025-03-26T20:16:44.009335Z"
    }
   },
   "cell_type": "code",
   "source": "three_years.columns",
   "id": "20156b8a3854f22",
   "outputs": [
    {
     "data": {
      "text/plain": [
       "Index(['firstName', 'lastName', 'pos', 'playerID', 'year', 'tmID', 'GP', 'G',\n",
       "       'A', 'Pts', 'SOG'],\n",
       "      dtype='object')"
      ]
     },
     "execution_count": 10,
     "metadata": {},
     "output_type": "execute_result"
    }
   ],
   "execution_count": 10
  },
  {
   "metadata": {
    "ExecuteTime": {
     "end_time": "2025-03-26T20:21:29.231418Z",
     "start_time": "2025-03-26T20:21:29.215313Z"
    }
   },
   "cell_type": "code",
   "source": "three_years = three_years.drop_duplicates(subset=['playerID', 'year'])",
   "id": "1ba56987d408d31b",
   "outputs": [],
   "execution_count": 11
  },
  {
   "metadata": {
    "ExecuteTime": {
     "end_time": "2025-03-26T20:30:20.476241Z",
     "start_time": "2025-03-26T20:30:20.460281Z"
    }
   },
   "cell_type": "code",
   "source": "three_years['playerID'].value_counts()",
   "id": "7b23696db254e87e",
   "outputs": [
    {
     "data": {
      "text/plain": [
       "playerID\n",
       "zyuzian01    3\n",
       "zubruda01    3\n",
       "adamscr01    3\n",
       "adamske01    3\n",
       "aebisda01    3\n",
       "            ..\n",
       "lilesjo01    1\n",
       "lintnri01    1\n",
       "aulinja01    1\n",
       "babchan01    1\n",
       "balejjo01    1\n",
       "Name: count, Length: 1320, dtype: int64"
      ]
     },
     "execution_count": 15,
     "metadata": {},
     "output_type": "execute_result"
    }
   ],
   "execution_count": 15
  },
  {
   "metadata": {
    "ExecuteTime": {
     "end_time": "2025-03-26T20:30:51.399949Z",
     "start_time": "2025-03-26T20:30:51.394996Z"
    }
   },
   "cell_type": "code",
   "source": "counts = three_years['playerID'].value_counts()",
   "id": "b33fb29b66010fe5",
   "outputs": [],
   "execution_count": 16
  },
  {
   "metadata": {
    "ExecuteTime": {
     "end_time": "2025-03-26T20:31:10.485712Z",
     "start_time": "2025-03-26T20:31:10.478883Z"
    }
   },
   "cell_type": "code",
   "source": "counts.shape",
   "id": "ae4fc12bfbedd583",
   "outputs": [
    {
     "data": {
      "text/plain": [
       "(1320,)"
      ]
     },
     "execution_count": 18,
     "metadata": {},
     "output_type": "execute_result"
    }
   ],
   "execution_count": 18
  },
  {
   "metadata": {
    "ExecuteTime": {
     "end_time": "2025-03-26T20:40:57.270517Z",
     "start_time": "2025-03-26T20:40:57.259342Z"
    }
   },
   "cell_type": "code",
   "source": [
    "index = counts.loc[counts == 3]\n",
    "index"
   ],
   "id": "3bd2fcc177fe09a9",
   "outputs": [
    {
     "data": {
      "text/plain": [
       "playerID\n",
       "zyuzian01    3\n",
       "zubruda01    3\n",
       "adamscr01    3\n",
       "adamske01    3\n",
       "aebisda01    3\n",
       "            ..\n",
       "amontto01    3\n",
       "allisja02    3\n",
       "allenbr01    3\n",
       "alfreda01    3\n",
       "albelto01    3\n",
       "Name: count, Length: 675, dtype: int64"
      ]
     },
     "execution_count": 20,
     "metadata": {},
     "output_type": "execute_result"
    }
   ],
   "execution_count": 20
  },
  {
   "metadata": {
    "ExecuteTime": {
     "end_time": "2025-03-26T21:10:30.784625Z",
     "start_time": "2025-03-26T21:10:30.769668Z"
    }
   },
   "cell_type": "code",
   "source": [
    "index = counts.loc[counts == 3].sample(3).index\n",
    "index"
   ],
   "id": "f699421e59941610",
   "outputs": [
    {
     "data": {
      "text/plain": [
       "Index(['zyuzian01', 'dingmch01', 'vishnvi01'], dtype='object', name='playerID')"
      ]
     },
     "execution_count": 32,
     "metadata": {},
     "output_type": "execute_result"
    }
   ],
   "execution_count": 32
  },
  {
   "metadata": {
    "ExecuteTime": {
     "end_time": "2025-03-26T21:10:37.996338Z",
     "start_time": "2025-03-26T21:10:37.977247Z"
    }
   },
   "cell_type": "code",
   "source": [
    "df_3 = three_years.loc[three_years['playerID'].isin(index)]\n",
    "df_3"
   ],
   "id": "3e020a7eb8b57ded",
   "outputs": [
    {
     "data": {
      "text/plain": [
       "      firstName    lastName pos   playerID  year tmID    GP    G     A   Pts  \\\n",
       "5814      Chris     Dingman   L  dingmch01  2001  CAR  30.0  0.0   1.0   1.0   \n",
       "5816      Chris     Dingman   L  dingmch01  2002  TBL  51.0  2.0   1.0   3.0   \n",
       "5817      Chris     Dingman   L  dingmch01  2003  TBL  74.0  1.0   5.0   6.0   \n",
       "26870    Vitaly  Vishnevski   D  vishnvi01  2001  ANA  74.0  0.0   3.0   3.0   \n",
       "26871    Vitaly  Vishnevski   D  vishnvi01  2002  ANA  80.0  2.0   6.0   8.0   \n",
       "26872    Vitaly  Vishnevski   D  vishnvi01  2003  ANA  73.0  6.0  10.0  16.0   \n",
       "28608    Andrei      Zyuzin   D  zyuzian01  2001  TBL   9.0  0.0   2.0   2.0   \n",
       "28610    Andrei      Zyuzin   D  zyuzian01  2002  NJD   1.0  0.0   1.0   1.0   \n",
       "28612    Andrei      Zyuzin   D  zyuzian01  2003  MIN  65.0  8.0  13.0  21.0   \n",
       "\n",
       "         SOG  \n",
       "5814    17.0  \n",
       "5816    41.0  \n",
       "5817    65.0  \n",
       "26870   54.0  \n",
       "26871   65.0  \n",
       "26872   86.0  \n",
       "28608   14.0  \n",
       "28610    0.0  \n",
       "28612  104.0  "
      ],
      "text/html": [
       "<div>\n",
       "<style scoped>\n",
       "    .dataframe tbody tr th:only-of-type {\n",
       "        vertical-align: middle;\n",
       "    }\n",
       "\n",
       "    .dataframe tbody tr th {\n",
       "        vertical-align: top;\n",
       "    }\n",
       "\n",
       "    .dataframe thead th {\n",
       "        text-align: right;\n",
       "    }\n",
       "</style>\n",
       "<table border=\"1\" class=\"dataframe\">\n",
       "  <thead>\n",
       "    <tr style=\"text-align: right;\">\n",
       "      <th></th>\n",
       "      <th>firstName</th>\n",
       "      <th>lastName</th>\n",
       "      <th>pos</th>\n",
       "      <th>playerID</th>\n",
       "      <th>year</th>\n",
       "      <th>tmID</th>\n",
       "      <th>GP</th>\n",
       "      <th>G</th>\n",
       "      <th>A</th>\n",
       "      <th>Pts</th>\n",
       "      <th>SOG</th>\n",
       "    </tr>\n",
       "  </thead>\n",
       "  <tbody>\n",
       "    <tr>\n",
       "      <th>5814</th>\n",
       "      <td>Chris</td>\n",
       "      <td>Dingman</td>\n",
       "      <td>L</td>\n",
       "      <td>dingmch01</td>\n",
       "      <td>2001</td>\n",
       "      <td>CAR</td>\n",
       "      <td>30.0</td>\n",
       "      <td>0.0</td>\n",
       "      <td>1.0</td>\n",
       "      <td>1.0</td>\n",
       "      <td>17.0</td>\n",
       "    </tr>\n",
       "    <tr>\n",
       "      <th>5816</th>\n",
       "      <td>Chris</td>\n",
       "      <td>Dingman</td>\n",
       "      <td>L</td>\n",
       "      <td>dingmch01</td>\n",
       "      <td>2002</td>\n",
       "      <td>TBL</td>\n",
       "      <td>51.0</td>\n",
       "      <td>2.0</td>\n",
       "      <td>1.0</td>\n",
       "      <td>3.0</td>\n",
       "      <td>41.0</td>\n",
       "    </tr>\n",
       "    <tr>\n",
       "      <th>5817</th>\n",
       "      <td>Chris</td>\n",
       "      <td>Dingman</td>\n",
       "      <td>L</td>\n",
       "      <td>dingmch01</td>\n",
       "      <td>2003</td>\n",
       "      <td>TBL</td>\n",
       "      <td>74.0</td>\n",
       "      <td>1.0</td>\n",
       "      <td>5.0</td>\n",
       "      <td>6.0</td>\n",
       "      <td>65.0</td>\n",
       "    </tr>\n",
       "    <tr>\n",
       "      <th>26870</th>\n",
       "      <td>Vitaly</td>\n",
       "      <td>Vishnevski</td>\n",
       "      <td>D</td>\n",
       "      <td>vishnvi01</td>\n",
       "      <td>2001</td>\n",
       "      <td>ANA</td>\n",
       "      <td>74.0</td>\n",
       "      <td>0.0</td>\n",
       "      <td>3.0</td>\n",
       "      <td>3.0</td>\n",
       "      <td>54.0</td>\n",
       "    </tr>\n",
       "    <tr>\n",
       "      <th>26871</th>\n",
       "      <td>Vitaly</td>\n",
       "      <td>Vishnevski</td>\n",
       "      <td>D</td>\n",
       "      <td>vishnvi01</td>\n",
       "      <td>2002</td>\n",
       "      <td>ANA</td>\n",
       "      <td>80.0</td>\n",
       "      <td>2.0</td>\n",
       "      <td>6.0</td>\n",
       "      <td>8.0</td>\n",
       "      <td>65.0</td>\n",
       "    </tr>\n",
       "    <tr>\n",
       "      <th>26872</th>\n",
       "      <td>Vitaly</td>\n",
       "      <td>Vishnevski</td>\n",
       "      <td>D</td>\n",
       "      <td>vishnvi01</td>\n",
       "      <td>2003</td>\n",
       "      <td>ANA</td>\n",
       "      <td>73.0</td>\n",
       "      <td>6.0</td>\n",
       "      <td>10.0</td>\n",
       "      <td>16.0</td>\n",
       "      <td>86.0</td>\n",
       "    </tr>\n",
       "    <tr>\n",
       "      <th>28608</th>\n",
       "      <td>Andrei</td>\n",
       "      <td>Zyuzin</td>\n",
       "      <td>D</td>\n",
       "      <td>zyuzian01</td>\n",
       "      <td>2001</td>\n",
       "      <td>TBL</td>\n",
       "      <td>9.0</td>\n",
       "      <td>0.0</td>\n",
       "      <td>2.0</td>\n",
       "      <td>2.0</td>\n",
       "      <td>14.0</td>\n",
       "    </tr>\n",
       "    <tr>\n",
       "      <th>28610</th>\n",
       "      <td>Andrei</td>\n",
       "      <td>Zyuzin</td>\n",
       "      <td>D</td>\n",
       "      <td>zyuzian01</td>\n",
       "      <td>2002</td>\n",
       "      <td>NJD</td>\n",
       "      <td>1.0</td>\n",
       "      <td>0.0</td>\n",
       "      <td>1.0</td>\n",
       "      <td>1.0</td>\n",
       "      <td>0.0</td>\n",
       "    </tr>\n",
       "    <tr>\n",
       "      <th>28612</th>\n",
       "      <td>Andrei</td>\n",
       "      <td>Zyuzin</td>\n",
       "      <td>D</td>\n",
       "      <td>zyuzian01</td>\n",
       "      <td>2003</td>\n",
       "      <td>MIN</td>\n",
       "      <td>65.0</td>\n",
       "      <td>8.0</td>\n",
       "      <td>13.0</td>\n",
       "      <td>21.0</td>\n",
       "      <td>104.0</td>\n",
       "    </tr>\n",
       "  </tbody>\n",
       "</table>\n",
       "</div>"
      ]
     },
     "execution_count": 33,
     "metadata": {},
     "output_type": "execute_result"
    }
   ],
   "execution_count": 33
  },
  {
   "metadata": {
    "ExecuteTime": {
     "end_time": "2025-03-26T21:10:46.055018Z",
     "start_time": "2025-03-26T21:10:46.036785Z"
    }
   },
   "cell_type": "code",
   "source": [
    "\n",
    "basic_df_3 = df_3[['playerID', 'year', 'G']]\n",
    "basic_df_3"
   ],
   "id": "d67dd8177b07d847",
   "outputs": [
    {
     "data": {
      "text/plain": [
       "        playerID  year    G\n",
       "5814   dingmch01  2001  0.0\n",
       "5816   dingmch01  2002  2.0\n",
       "5817   dingmch01  2003  1.0\n",
       "26870  vishnvi01  2001  0.0\n",
       "26871  vishnvi01  2002  2.0\n",
       "26872  vishnvi01  2003  6.0\n",
       "28608  zyuzian01  2001  0.0\n",
       "28610  zyuzian01  2002  0.0\n",
       "28612  zyuzian01  2003  8.0"
      ],
      "text/html": [
       "<div>\n",
       "<style scoped>\n",
       "    .dataframe tbody tr th:only-of-type {\n",
       "        vertical-align: middle;\n",
       "    }\n",
       "\n",
       "    .dataframe tbody tr th {\n",
       "        vertical-align: top;\n",
       "    }\n",
       "\n",
       "    .dataframe thead th {\n",
       "        text-align: right;\n",
       "    }\n",
       "</style>\n",
       "<table border=\"1\" class=\"dataframe\">\n",
       "  <thead>\n",
       "    <tr style=\"text-align: right;\">\n",
       "      <th></th>\n",
       "      <th>playerID</th>\n",
       "      <th>year</th>\n",
       "      <th>G</th>\n",
       "    </tr>\n",
       "  </thead>\n",
       "  <tbody>\n",
       "    <tr>\n",
       "      <th>5814</th>\n",
       "      <td>dingmch01</td>\n",
       "      <td>2001</td>\n",
       "      <td>0.0</td>\n",
       "    </tr>\n",
       "    <tr>\n",
       "      <th>5816</th>\n",
       "      <td>dingmch01</td>\n",
       "      <td>2002</td>\n",
       "      <td>2.0</td>\n",
       "    </tr>\n",
       "    <tr>\n",
       "      <th>5817</th>\n",
       "      <td>dingmch01</td>\n",
       "      <td>2003</td>\n",
       "      <td>1.0</td>\n",
       "    </tr>\n",
       "    <tr>\n",
       "      <th>26870</th>\n",
       "      <td>vishnvi01</td>\n",
       "      <td>2001</td>\n",
       "      <td>0.0</td>\n",
       "    </tr>\n",
       "    <tr>\n",
       "      <th>26871</th>\n",
       "      <td>vishnvi01</td>\n",
       "      <td>2002</td>\n",
       "      <td>2.0</td>\n",
       "    </tr>\n",
       "    <tr>\n",
       "      <th>26872</th>\n",
       "      <td>vishnvi01</td>\n",
       "      <td>2003</td>\n",
       "      <td>6.0</td>\n",
       "    </tr>\n",
       "    <tr>\n",
       "      <th>28608</th>\n",
       "      <td>zyuzian01</td>\n",
       "      <td>2001</td>\n",
       "      <td>0.0</td>\n",
       "    </tr>\n",
       "    <tr>\n",
       "      <th>28610</th>\n",
       "      <td>zyuzian01</td>\n",
       "      <td>2002</td>\n",
       "      <td>0.0</td>\n",
       "    </tr>\n",
       "    <tr>\n",
       "      <th>28612</th>\n",
       "      <td>zyuzian01</td>\n",
       "      <td>2003</td>\n",
       "      <td>8.0</td>\n",
       "    </tr>\n",
       "  </tbody>\n",
       "</table>\n",
       "</div>"
      ]
     },
     "execution_count": 34,
     "metadata": {},
     "output_type": "execute_result"
    }
   ],
   "execution_count": 34
  },
  {
   "metadata": {
    "ExecuteTime": {
     "end_time": "2025-03-26T21:10:50.758830Z",
     "start_time": "2025-03-26T21:10:50.744317Z"
    }
   },
   "cell_type": "code",
   "source": "basic_df_3.pivot(index='playerID' , columns='year', values='G' )",
   "id": "4e291095bf617a15",
   "outputs": [
    {
     "data": {
      "text/plain": [
       "year       2001  2002  2003\n",
       "playerID                   \n",
       "dingmch01   0.0   2.0   1.0\n",
       "vishnvi01   0.0   2.0   6.0\n",
       "zyuzian01   0.0   0.0   8.0"
      ],
      "text/html": [
       "<div>\n",
       "<style scoped>\n",
       "    .dataframe tbody tr th:only-of-type {\n",
       "        vertical-align: middle;\n",
       "    }\n",
       "\n",
       "    .dataframe tbody tr th {\n",
       "        vertical-align: top;\n",
       "    }\n",
       "\n",
       "    .dataframe thead th {\n",
       "        text-align: right;\n",
       "    }\n",
       "</style>\n",
       "<table border=\"1\" class=\"dataframe\">\n",
       "  <thead>\n",
       "    <tr style=\"text-align: right;\">\n",
       "      <th>year</th>\n",
       "      <th>2001</th>\n",
       "      <th>2002</th>\n",
       "      <th>2003</th>\n",
       "    </tr>\n",
       "    <tr>\n",
       "      <th>playerID</th>\n",
       "      <th></th>\n",
       "      <th></th>\n",
       "      <th></th>\n",
       "    </tr>\n",
       "  </thead>\n",
       "  <tbody>\n",
       "    <tr>\n",
       "      <th>dingmch01</th>\n",
       "      <td>0.0</td>\n",
       "      <td>2.0</td>\n",
       "      <td>1.0</td>\n",
       "    </tr>\n",
       "    <tr>\n",
       "      <th>vishnvi01</th>\n",
       "      <td>0.0</td>\n",
       "      <td>2.0</td>\n",
       "      <td>6.0</td>\n",
       "    </tr>\n",
       "    <tr>\n",
       "      <th>zyuzian01</th>\n",
       "      <td>0.0</td>\n",
       "      <td>0.0</td>\n",
       "      <td>8.0</td>\n",
       "    </tr>\n",
       "  </tbody>\n",
       "</table>\n",
       "</div>"
      ]
     },
     "execution_count": 35,
     "metadata": {},
     "output_type": "execute_result"
    }
   ],
   "execution_count": 35
  },
  {
   "metadata": {
    "ExecuteTime": {
     "end_time": "2025-03-26T21:11:23.020094Z",
     "start_time": "2025-03-26T21:11:23.013066Z"
    }
   },
   "cell_type": "code",
   "source": "pivot = basic_df_3.pivot(index='playerID' , columns='year', values='G' )",
   "id": "c5f6beb926b50448",
   "outputs": [],
   "execution_count": 36
  },
  {
   "metadata": {},
   "cell_type": "code",
   "outputs": [],
   "execution_count": null,
   "source": "",
   "id": "3ff62310f1f101ad"
  },
  {
   "metadata": {},
   "cell_type": "code",
   "outputs": [],
   "execution_count": null,
   "source": "",
   "id": "f1b7ed49096221f1"
  },
  {
   "metadata": {},
   "cell_type": "code",
   "outputs": [],
   "execution_count": null,
   "source": "",
   "id": "624ba211dcc70233"
  },
  {
   "metadata": {},
   "cell_type": "code",
   "outputs": [],
   "execution_count": null,
   "source": "",
   "id": "1d4ec5effda43c56"
  },
  {
   "metadata": {},
   "cell_type": "code",
   "outputs": [],
   "execution_count": null,
   "source": "",
   "id": "cf26a73b1b149778"
  },
  {
   "metadata": {},
   "cell_type": "code",
   "outputs": [],
   "execution_count": null,
   "source": "",
   "id": "c331ab1b9d690b11"
  },
  {
   "metadata": {},
   "cell_type": "code",
   "outputs": [],
   "execution_count": null,
   "source": "",
   "id": "70ca11a09eed7a7a"
  },
  {
   "metadata": {},
   "cell_type": "code",
   "outputs": [],
   "execution_count": null,
   "source": "",
   "id": "14964af290c93574"
  },
  {
   "metadata": {},
   "cell_type": "code",
   "outputs": [],
   "execution_count": null,
   "source": "",
   "id": "4deee65b605220ab"
  }
 ],
 "metadata": {
  "kernelspec": {
   "display_name": "Python 3",
   "language": "python",
   "name": "python3"
  },
  "language_info": {
   "codemirror_mode": {
    "name": "ipython",
    "version": 2
   },
   "file_extension": ".py",
   "mimetype": "text/x-python",
   "name": "python",
   "nbconvert_exporter": "python",
   "pygments_lexer": "ipython2",
   "version": "2.7.6"
  }
 },
 "nbformat": 4,
 "nbformat_minor": 5
}
