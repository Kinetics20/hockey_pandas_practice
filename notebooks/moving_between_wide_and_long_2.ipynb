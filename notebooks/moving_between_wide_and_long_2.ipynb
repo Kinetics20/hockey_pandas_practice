{
 "cells": [
  {
   "cell_type": "code",
   "id": "initial_id",
   "metadata": {
    "collapsed": true,
    "ExecuteTime": {
     "end_time": "2025-03-27T13:55:13.972963Z",
     "start_time": "2025-03-27T13:55:11.978640Z"
    }
   },
   "source": [
    "import pandas as pd\n",
    "import numpy as np\n",
    "from helpers.mem import memory_mib\n",
    "import matplotlib.pyplot as plt\n",
    "from set_paths import RA, INTER"
   ],
   "outputs": [],
   "execution_count": 24
  },
  {
   "metadata": {
    "ExecuteTime": {
     "end_time": "2025-03-27T09:41:59.046454Z",
     "start_time": "2025-03-27T09:41:58.961831Z"
    }
   },
   "cell_type": "code",
   "source": [
    "scoring = pd.read_pickle(INTER / \"master_score.pkl\")\n",
    "team_splits = pd.read_pickle(INTER / \"teams_team_splits_2.pkl\")"
   ],
   "id": "d39c283320fe43b",
   "outputs": [],
   "execution_count": 2
  },
  {
   "metadata": {
    "ExecuteTime": {
     "end_time": "2025-03-27T09:41:59.547771Z",
     "start_time": "2025-03-27T09:41:59.523533Z"
    }
   },
   "cell_type": "code",
   "source": "three_years = scoring.loc[(scoring['year'] > 2000) & (scoring['year'] < 2004)]",
   "id": "9ef219f77c24570d",
   "outputs": [],
   "execution_count": 3
  },
  {
   "metadata": {
    "ExecuteTime": {
     "end_time": "2025-03-27T09:41:59.687205Z",
     "start_time": "2025-03-27T09:41:59.670575Z"
    }
   },
   "cell_type": "code",
   "source": "three_years.shape",
   "id": "eb9382d52479f6b9",
   "outputs": [
    {
     "data": {
      "text/plain": [
       "(3296, 11)"
      ]
     },
     "execution_count": 4,
     "metadata": {},
     "output_type": "execute_result"
    }
   ],
   "execution_count": 4
  },
  {
   "metadata": {
    "ExecuteTime": {
     "end_time": "2025-03-27T09:41:59.841794Z",
     "start_time": "2025-03-27T09:41:59.817748Z"
    }
   },
   "cell_type": "code",
   "source": "three_years.columns",
   "id": "20156b8a3854f22",
   "outputs": [
    {
     "data": {
      "text/plain": [
       "Index(['firstName', 'lastName', 'pos', 'playerID', 'year', 'tmID', 'GP', 'G',\n",
       "       'A', 'Pts', 'SOG'],\n",
       "      dtype='object')"
      ]
     },
     "execution_count": 5,
     "metadata": {},
     "output_type": "execute_result"
    }
   ],
   "execution_count": 5
  },
  {
   "metadata": {
    "ExecuteTime": {
     "end_time": "2025-03-27T09:42:00.010842Z",
     "start_time": "2025-03-27T09:41:59.989084Z"
    }
   },
   "cell_type": "code",
   "source": "three_years = three_years.drop_duplicates(subset=['playerID', 'year'])",
   "id": "1ba56987d408d31b",
   "outputs": [],
   "execution_count": 6
  },
  {
   "metadata": {
    "ExecuteTime": {
     "end_time": "2025-03-27T09:42:00.186979Z",
     "start_time": "2025-03-27T09:42:00.155937Z"
    }
   },
   "cell_type": "code",
   "source": "three_years['playerID'].value_counts()",
   "id": "7b23696db254e87e",
   "outputs": [
    {
     "data": {
      "text/plain": [
       "playerID\n",
       "zyuzian01    3\n",
       "zubruda01    3\n",
       "adamscr01    3\n",
       "adamske01    3\n",
       "aebisda01    3\n",
       "            ..\n",
       "lilesjo01    1\n",
       "lintnri01    1\n",
       "aulinja01    1\n",
       "babchan01    1\n",
       "balejjo01    1\n",
       "Name: count, Length: 1320, dtype: int64"
      ]
     },
     "execution_count": 7,
     "metadata": {},
     "output_type": "execute_result"
    }
   ],
   "execution_count": 7
  },
  {
   "metadata": {
    "ExecuteTime": {
     "end_time": "2025-03-27T09:42:00.374844Z",
     "start_time": "2025-03-27T09:42:00.358227Z"
    }
   },
   "cell_type": "code",
   "source": "counts = three_years['playerID'].value_counts()",
   "id": "b33fb29b66010fe5",
   "outputs": [],
   "execution_count": 8
  },
  {
   "metadata": {
    "ExecuteTime": {
     "end_time": "2025-03-27T09:42:00.541027Z",
     "start_time": "2025-03-27T09:42:00.523303Z"
    }
   },
   "cell_type": "code",
   "source": "counts.shape",
   "id": "ae4fc12bfbedd583",
   "outputs": [
    {
     "data": {
      "text/plain": [
       "(1320,)"
      ]
     },
     "execution_count": 9,
     "metadata": {},
     "output_type": "execute_result"
    }
   ],
   "execution_count": 9
  },
  {
   "metadata": {
    "ExecuteTime": {
     "end_time": "2025-03-27T09:42:00.828742Z",
     "start_time": "2025-03-27T09:42:00.814296Z"
    }
   },
   "cell_type": "code",
   "source": [
    "index = counts.loc[counts == 3]\n",
    "index"
   ],
   "id": "3bd2fcc177fe09a9",
   "outputs": [
    {
     "data": {
      "text/plain": [
       "playerID\n",
       "zyuzian01    3\n",
       "zubruda01    3\n",
       "adamscr01    3\n",
       "adamske01    3\n",
       "aebisda01    3\n",
       "            ..\n",
       "amontto01    3\n",
       "allisja02    3\n",
       "allenbr01    3\n",
       "alfreda01    3\n",
       "albelto01    3\n",
       "Name: count, Length: 675, dtype: int64"
      ]
     },
     "execution_count": 10,
     "metadata": {},
     "output_type": "execute_result"
    }
   ],
   "execution_count": 10
  },
  {
   "metadata": {
    "ExecuteTime": {
     "end_time": "2025-03-27T09:42:01.086946Z",
     "start_time": "2025-03-27T09:42:01.071108Z"
    }
   },
   "cell_type": "code",
   "source": [
    "index = counts.loc[counts == 3].sample(3).index\n",
    "index"
   ],
   "id": "f699421e59941610",
   "outputs": [
    {
     "data": {
      "text/plain": [
       "Index(['gigueje01', 'robitlu01', 'luongro01'], dtype='object', name='playerID')"
      ]
     },
     "execution_count": 11,
     "metadata": {},
     "output_type": "execute_result"
    }
   ],
   "execution_count": 11
  },
  {
   "metadata": {
    "ExecuteTime": {
     "end_time": "2025-03-27T09:42:01.492634Z",
     "start_time": "2025-03-27T09:42:01.447240Z"
    }
   },
   "cell_type": "code",
   "source": [
    "df_3 = three_years.loc[three_years['playerID'].isin(index)]\n",
    "df_3"
   ],
   "id": "3e020a7eb8b57ded",
   "outputs": [
    {
     "data": {
      "text/plain": [
       "            firstName    lastName pos   playerID  year tmID    GP     G     A  \\\n",
       "8328   Jean-Sebastien     Giguere   G  gigueje01  2001  ANA  53.0   0.0   0.0   \n",
       "8329   Jean-Sebastien     Giguere   G  gigueje01  2002  ANA  65.0   0.0   0.0   \n",
       "8330   Jean-Sebastien     Giguere   G  gigueje01  2003  ANA  55.0   0.0   2.0   \n",
       "15157         Roberto      Luongo   G  luongro01  2001  FLO  58.0   0.0   1.0   \n",
       "15158         Roberto      Luongo   G  luongro01  2002  FLO  65.0   0.0   0.0   \n",
       "15159         Roberto      Luongo   G  luongro01  2003  FLO  72.0   0.0   3.0   \n",
       "21905             Luc  Robitaille   L  robitlu01  2001  DET  81.0  30.0  20.0   \n",
       "21906             Luc  Robitaille   L  robitlu01  2002  DET  81.0  11.0  20.0   \n",
       "21907             Luc  Robitaille   L  robitlu01  2003  LAK  80.0  22.0  29.0   \n",
       "\n",
       "        Pts    SOG  \n",
       "8328    0.0    0.0  \n",
       "8329    0.0    0.0  \n",
       "8330    2.0    0.0  \n",
       "15157   1.0    0.0  \n",
       "15158   0.0    0.0  \n",
       "15159   3.0    0.0  \n",
       "21905  50.0  190.0  \n",
       "21906  31.0  148.0  \n",
       "21907  51.0  221.0  "
      ],
      "text/html": [
       "<div>\n",
       "<style scoped>\n",
       "    .dataframe tbody tr th:only-of-type {\n",
       "        vertical-align: middle;\n",
       "    }\n",
       "\n",
       "    .dataframe tbody tr th {\n",
       "        vertical-align: top;\n",
       "    }\n",
       "\n",
       "    .dataframe thead th {\n",
       "        text-align: right;\n",
       "    }\n",
       "</style>\n",
       "<table border=\"1\" class=\"dataframe\">\n",
       "  <thead>\n",
       "    <tr style=\"text-align: right;\">\n",
       "      <th></th>\n",
       "      <th>firstName</th>\n",
       "      <th>lastName</th>\n",
       "      <th>pos</th>\n",
       "      <th>playerID</th>\n",
       "      <th>year</th>\n",
       "      <th>tmID</th>\n",
       "      <th>GP</th>\n",
       "      <th>G</th>\n",
       "      <th>A</th>\n",
       "      <th>Pts</th>\n",
       "      <th>SOG</th>\n",
       "    </tr>\n",
       "  </thead>\n",
       "  <tbody>\n",
       "    <tr>\n",
       "      <th>8328</th>\n",
       "      <td>Jean-Sebastien</td>\n",
       "      <td>Giguere</td>\n",
       "      <td>G</td>\n",
       "      <td>gigueje01</td>\n",
       "      <td>2001</td>\n",
       "      <td>ANA</td>\n",
       "      <td>53.0</td>\n",
       "      <td>0.0</td>\n",
       "      <td>0.0</td>\n",
       "      <td>0.0</td>\n",
       "      <td>0.0</td>\n",
       "    </tr>\n",
       "    <tr>\n",
       "      <th>8329</th>\n",
       "      <td>Jean-Sebastien</td>\n",
       "      <td>Giguere</td>\n",
       "      <td>G</td>\n",
       "      <td>gigueje01</td>\n",
       "      <td>2002</td>\n",
       "      <td>ANA</td>\n",
       "      <td>65.0</td>\n",
       "      <td>0.0</td>\n",
       "      <td>0.0</td>\n",
       "      <td>0.0</td>\n",
       "      <td>0.0</td>\n",
       "    </tr>\n",
       "    <tr>\n",
       "      <th>8330</th>\n",
       "      <td>Jean-Sebastien</td>\n",
       "      <td>Giguere</td>\n",
       "      <td>G</td>\n",
       "      <td>gigueje01</td>\n",
       "      <td>2003</td>\n",
       "      <td>ANA</td>\n",
       "      <td>55.0</td>\n",
       "      <td>0.0</td>\n",
       "      <td>2.0</td>\n",
       "      <td>2.0</td>\n",
       "      <td>0.0</td>\n",
       "    </tr>\n",
       "    <tr>\n",
       "      <th>15157</th>\n",
       "      <td>Roberto</td>\n",
       "      <td>Luongo</td>\n",
       "      <td>G</td>\n",
       "      <td>luongro01</td>\n",
       "      <td>2001</td>\n",
       "      <td>FLO</td>\n",
       "      <td>58.0</td>\n",
       "      <td>0.0</td>\n",
       "      <td>1.0</td>\n",
       "      <td>1.0</td>\n",
       "      <td>0.0</td>\n",
       "    </tr>\n",
       "    <tr>\n",
       "      <th>15158</th>\n",
       "      <td>Roberto</td>\n",
       "      <td>Luongo</td>\n",
       "      <td>G</td>\n",
       "      <td>luongro01</td>\n",
       "      <td>2002</td>\n",
       "      <td>FLO</td>\n",
       "      <td>65.0</td>\n",
       "      <td>0.0</td>\n",
       "      <td>0.0</td>\n",
       "      <td>0.0</td>\n",
       "      <td>0.0</td>\n",
       "    </tr>\n",
       "    <tr>\n",
       "      <th>15159</th>\n",
       "      <td>Roberto</td>\n",
       "      <td>Luongo</td>\n",
       "      <td>G</td>\n",
       "      <td>luongro01</td>\n",
       "      <td>2003</td>\n",
       "      <td>FLO</td>\n",
       "      <td>72.0</td>\n",
       "      <td>0.0</td>\n",
       "      <td>3.0</td>\n",
       "      <td>3.0</td>\n",
       "      <td>0.0</td>\n",
       "    </tr>\n",
       "    <tr>\n",
       "      <th>21905</th>\n",
       "      <td>Luc</td>\n",
       "      <td>Robitaille</td>\n",
       "      <td>L</td>\n",
       "      <td>robitlu01</td>\n",
       "      <td>2001</td>\n",
       "      <td>DET</td>\n",
       "      <td>81.0</td>\n",
       "      <td>30.0</td>\n",
       "      <td>20.0</td>\n",
       "      <td>50.0</td>\n",
       "      <td>190.0</td>\n",
       "    </tr>\n",
       "    <tr>\n",
       "      <th>21906</th>\n",
       "      <td>Luc</td>\n",
       "      <td>Robitaille</td>\n",
       "      <td>L</td>\n",
       "      <td>robitlu01</td>\n",
       "      <td>2002</td>\n",
       "      <td>DET</td>\n",
       "      <td>81.0</td>\n",
       "      <td>11.0</td>\n",
       "      <td>20.0</td>\n",
       "      <td>31.0</td>\n",
       "      <td>148.0</td>\n",
       "    </tr>\n",
       "    <tr>\n",
       "      <th>21907</th>\n",
       "      <td>Luc</td>\n",
       "      <td>Robitaille</td>\n",
       "      <td>L</td>\n",
       "      <td>robitlu01</td>\n",
       "      <td>2003</td>\n",
       "      <td>LAK</td>\n",
       "      <td>80.0</td>\n",
       "      <td>22.0</td>\n",
       "      <td>29.0</td>\n",
       "      <td>51.0</td>\n",
       "      <td>221.0</td>\n",
       "    </tr>\n",
       "  </tbody>\n",
       "</table>\n",
       "</div>"
      ]
     },
     "execution_count": 12,
     "metadata": {},
     "output_type": "execute_result"
    }
   ],
   "execution_count": 12
  },
  {
   "metadata": {
    "ExecuteTime": {
     "end_time": "2025-03-27T09:42:01.788265Z",
     "start_time": "2025-03-27T09:42:01.744958Z"
    }
   },
   "cell_type": "code",
   "source": [
    "\n",
    "basic_df_3 = df_3[['playerID', 'year', 'G']]\n",
    "basic_df_3"
   ],
   "id": "d67dd8177b07d847",
   "outputs": [
    {
     "data": {
      "text/plain": [
       "        playerID  year     G\n",
       "8328   gigueje01  2001   0.0\n",
       "8329   gigueje01  2002   0.0\n",
       "8330   gigueje01  2003   0.0\n",
       "15157  luongro01  2001   0.0\n",
       "15158  luongro01  2002   0.0\n",
       "15159  luongro01  2003   0.0\n",
       "21905  robitlu01  2001  30.0\n",
       "21906  robitlu01  2002  11.0\n",
       "21907  robitlu01  2003  22.0"
      ],
      "text/html": [
       "<div>\n",
       "<style scoped>\n",
       "    .dataframe tbody tr th:only-of-type {\n",
       "        vertical-align: middle;\n",
       "    }\n",
       "\n",
       "    .dataframe tbody tr th {\n",
       "        vertical-align: top;\n",
       "    }\n",
       "\n",
       "    .dataframe thead th {\n",
       "        text-align: right;\n",
       "    }\n",
       "</style>\n",
       "<table border=\"1\" class=\"dataframe\">\n",
       "  <thead>\n",
       "    <tr style=\"text-align: right;\">\n",
       "      <th></th>\n",
       "      <th>playerID</th>\n",
       "      <th>year</th>\n",
       "      <th>G</th>\n",
       "    </tr>\n",
       "  </thead>\n",
       "  <tbody>\n",
       "    <tr>\n",
       "      <th>8328</th>\n",
       "      <td>gigueje01</td>\n",
       "      <td>2001</td>\n",
       "      <td>0.0</td>\n",
       "    </tr>\n",
       "    <tr>\n",
       "      <th>8329</th>\n",
       "      <td>gigueje01</td>\n",
       "      <td>2002</td>\n",
       "      <td>0.0</td>\n",
       "    </tr>\n",
       "    <tr>\n",
       "      <th>8330</th>\n",
       "      <td>gigueje01</td>\n",
       "      <td>2003</td>\n",
       "      <td>0.0</td>\n",
       "    </tr>\n",
       "    <tr>\n",
       "      <th>15157</th>\n",
       "      <td>luongro01</td>\n",
       "      <td>2001</td>\n",
       "      <td>0.0</td>\n",
       "    </tr>\n",
       "    <tr>\n",
       "      <th>15158</th>\n",
       "      <td>luongro01</td>\n",
       "      <td>2002</td>\n",
       "      <td>0.0</td>\n",
       "    </tr>\n",
       "    <tr>\n",
       "      <th>15159</th>\n",
       "      <td>luongro01</td>\n",
       "      <td>2003</td>\n",
       "      <td>0.0</td>\n",
       "    </tr>\n",
       "    <tr>\n",
       "      <th>21905</th>\n",
       "      <td>robitlu01</td>\n",
       "      <td>2001</td>\n",
       "      <td>30.0</td>\n",
       "    </tr>\n",
       "    <tr>\n",
       "      <th>21906</th>\n",
       "      <td>robitlu01</td>\n",
       "      <td>2002</td>\n",
       "      <td>11.0</td>\n",
       "    </tr>\n",
       "    <tr>\n",
       "      <th>21907</th>\n",
       "      <td>robitlu01</td>\n",
       "      <td>2003</td>\n",
       "      <td>22.0</td>\n",
       "    </tr>\n",
       "  </tbody>\n",
       "</table>\n",
       "</div>"
      ]
     },
     "execution_count": 13,
     "metadata": {},
     "output_type": "execute_result"
    }
   ],
   "execution_count": 13
  },
  {
   "metadata": {
    "ExecuteTime": {
     "end_time": "2025-03-27T09:42:02.005337Z",
     "start_time": "2025-03-27T09:42:01.946955Z"
    }
   },
   "cell_type": "code",
   "source": "basic_df_3.pivot(index='playerID' , columns='year', values='G' )",
   "id": "4e291095bf617a15",
   "outputs": [
    {
     "data": {
      "text/plain": [
       "year       2001  2002  2003\n",
       "playerID                   \n",
       "gigueje01   0.0   0.0   0.0\n",
       "luongro01   0.0   0.0   0.0\n",
       "robitlu01  30.0  11.0  22.0"
      ],
      "text/html": [
       "<div>\n",
       "<style scoped>\n",
       "    .dataframe tbody tr th:only-of-type {\n",
       "        vertical-align: middle;\n",
       "    }\n",
       "\n",
       "    .dataframe tbody tr th {\n",
       "        vertical-align: top;\n",
       "    }\n",
       "\n",
       "    .dataframe thead th {\n",
       "        text-align: right;\n",
       "    }\n",
       "</style>\n",
       "<table border=\"1\" class=\"dataframe\">\n",
       "  <thead>\n",
       "    <tr style=\"text-align: right;\">\n",
       "      <th>year</th>\n",
       "      <th>2001</th>\n",
       "      <th>2002</th>\n",
       "      <th>2003</th>\n",
       "    </tr>\n",
       "    <tr>\n",
       "      <th>playerID</th>\n",
       "      <th></th>\n",
       "      <th></th>\n",
       "      <th></th>\n",
       "    </tr>\n",
       "  </thead>\n",
       "  <tbody>\n",
       "    <tr>\n",
       "      <th>gigueje01</th>\n",
       "      <td>0.0</td>\n",
       "      <td>0.0</td>\n",
       "      <td>0.0</td>\n",
       "    </tr>\n",
       "    <tr>\n",
       "      <th>luongro01</th>\n",
       "      <td>0.0</td>\n",
       "      <td>0.0</td>\n",
       "      <td>0.0</td>\n",
       "    </tr>\n",
       "    <tr>\n",
       "      <th>robitlu01</th>\n",
       "      <td>30.0</td>\n",
       "      <td>11.0</td>\n",
       "      <td>22.0</td>\n",
       "    </tr>\n",
       "  </tbody>\n",
       "</table>\n",
       "</div>"
      ]
     },
     "execution_count": 14,
     "metadata": {},
     "output_type": "execute_result"
    }
   ],
   "execution_count": 14
  },
  {
   "metadata": {
    "ExecuteTime": {
     "end_time": "2025-03-27T09:42:02.380277Z",
     "start_time": "2025-03-27T09:42:02.365916Z"
    }
   },
   "cell_type": "code",
   "source": "pivot = basic_df_3.pivot(index='playerID' , columns='year', values='G' )",
   "id": "c5f6beb926b50448",
   "outputs": [],
   "execution_count": 15
  },
  {
   "metadata": {
    "ExecuteTime": {
     "end_time": "2025-03-27T13:25:42.167558Z",
     "start_time": "2025-03-27T13:25:42.146025Z"
    }
   },
   "cell_type": "code",
   "source": "pivot.index",
   "id": "3ff62310f1f101ad",
   "outputs": [
    {
     "data": {
      "text/plain": [
       "Index(['gigueje01', 'luongro01', 'robitlu01'], dtype='object', name='playerID')"
      ]
     },
     "execution_count": 16,
     "metadata": {},
     "output_type": "execute_result"
    }
   ],
   "execution_count": 16
  },
  {
   "metadata": {
    "ExecuteTime": {
     "end_time": "2025-03-27T13:27:01.137484Z",
     "start_time": "2025-03-27T13:27:01.124523Z"
    }
   },
   "cell_type": "code",
   "source": "pivot.columns",
   "id": "f1b7ed49096221f1",
   "outputs": [
    {
     "data": {
      "text/plain": [
       "Index([2001, 2002, 2003], dtype='int64', name='year')"
      ]
     },
     "execution_count": 17,
     "metadata": {},
     "output_type": "execute_result"
    }
   ],
   "execution_count": 17
  },
  {
   "metadata": {
    "ExecuteTime": {
     "end_time": "2025-03-27T13:27:49.468480Z",
     "start_time": "2025-03-27T13:27:49.455793Z"
    }
   },
   "cell_type": "code",
   "source": "pivot.columns",
   "id": "624ba211dcc70233",
   "outputs": [
    {
     "data": {
      "text/plain": [
       "Index([2001, 2002, 2003], dtype='int64', name='year')"
      ]
     },
     "execution_count": 18,
     "metadata": {},
     "output_type": "execute_result"
    }
   ],
   "execution_count": 18
  },
  {
   "metadata": {
    "ExecuteTime": {
     "end_time": "2025-03-27T13:40:03.590020Z",
     "start_time": "2025-03-27T13:40:03.572162Z"
    }
   },
   "cell_type": "code",
   "source": "pivot.index.name",
   "id": "1d4ec5effda43c56",
   "outputs": [
    {
     "data": {
      "text/plain": [
       "'playerID'"
      ]
     },
     "execution_count": 19,
     "metadata": {},
     "output_type": "execute_result"
    }
   ],
   "execution_count": 19
  },
  {
   "metadata": {
    "ExecuteTime": {
     "end_time": "2025-03-27T13:41:21.899516Z",
     "start_time": "2025-03-27T13:41:21.890300Z"
    }
   },
   "cell_type": "code",
   "source": "pivot.columns.name",
   "id": "cf26a73b1b149778",
   "outputs": [
    {
     "data": {
      "text/plain": [
       "'year'"
      ]
     },
     "execution_count": 20,
     "metadata": {},
     "output_type": "execute_result"
    }
   ],
   "execution_count": 20
  },
  {
   "metadata": {
    "ExecuteTime": {
     "end_time": "2025-03-27T14:24:53.595344Z",
     "start_time": "2025-03-27T14:24:53.145241Z"
    }
   },
   "cell_type": "code",
   "source": [
    "ax1, ax2 = basic_df_3.set_index('playerID').plot(kind='bar', subplots=True)\n",
    "plt.show()"
   ],
   "id": "c331ab1b9d690b11",
   "outputs": [
    {
     "data": {
      "text/plain": [
       "<Figure size 640x480 with 2 Axes>"
      ],
      "image/png": "[encoded data removed]"
     },
     "metadata": {},
     "output_type": "display_data"
    }
   ],
   "execution_count": 33
  },
  {
   "metadata": {
    "ExecuteTime": {
     "end_time": "2025-03-27T14:32:28.614358Z",
     "start_time": "2025-03-27T14:32:28.367935Z"
    }
   },
   "cell_type": "code",
   "source": [
    "fig, ax = plt.subplots(figsize=(5, 3))\n",
    "\n",
    "pivot.plot(ax=ax, kind='bar')\n",
    "\n",
    "plt.show()"
   ],
   "id": "70ca11a09eed7a7a",
   "outputs": [
    {
     "data": {
      "text/plain": [
       "<Figure size 500x300 with 1 Axes>"
      ],
      "image/png": "[encoded data removed]"
     },
     "metadata": {},
     "output_type": "display_data"
    }
   ],
   "execution_count": 35
  },
  {
   "metadata": {
    "ExecuteTime": {
     "end_time": "2025-03-27T14:35:13.587061Z",
     "start_time": "2025-03-27T14:35:13.570231Z"
    }
   },
   "cell_type": "code",
   "source": "pivot",
   "id": "fb827bfa3271678a",
   "outputs": [
    {
     "data": {
      "text/plain": [
       "year       2001  2002  2003\n",
       "playerID                   \n",
       "gigueje01   0.0   0.0   0.0\n",
       "luongro01   0.0   0.0   0.0\n",
       "robitlu01  30.0  11.0  22.0"
      ],
      "text/html": [
       "<div>\n",
       "<style scoped>\n",
       "    .dataframe tbody tr th:only-of-type {\n",
       "        vertical-align: middle;\n",
       "    }\n",
       "\n",
       "    .dataframe tbody tr th {\n",
       "        vertical-align: top;\n",
       "    }\n",
       "\n",
       "    .dataframe thead th {\n",
       "        text-align: right;\n",
       "    }\n",
       "</style>\n",
       "<table border=\"1\" class=\"dataframe\">\n",
       "  <thead>\n",
       "    <tr style=\"text-align: right;\">\n",
       "      <th>year</th>\n",
       "      <th>2001</th>\n",
       "      <th>2002</th>\n",
       "      <th>2003</th>\n",
       "    </tr>\n",
       "    <tr>\n",
       "      <th>playerID</th>\n",
       "      <th></th>\n",
       "      <th></th>\n",
       "      <th></th>\n",
       "    </tr>\n",
       "  </thead>\n",
       "  <tbody>\n",
       "    <tr>\n",
       "      <th>gigueje01</th>\n",
       "      <td>0.0</td>\n",
       "      <td>0.0</td>\n",
       "      <td>0.0</td>\n",
       "    </tr>\n",
       "    <tr>\n",
       "      <th>luongro01</th>\n",
       "      <td>0.0</td>\n",
       "      <td>0.0</td>\n",
       "      <td>0.0</td>\n",
       "    </tr>\n",
       "    <tr>\n",
       "      <th>robitlu01</th>\n",
       "      <td>30.0</td>\n",
       "      <td>11.0</td>\n",
       "      <td>22.0</td>\n",
       "    </tr>\n",
       "  </tbody>\n",
       "</table>\n",
       "</div>"
      ]
     },
     "execution_count": 37,
     "metadata": {},
     "output_type": "execute_result"
    }
   ],
   "execution_count": 37
  },
  {
   "metadata": {
    "ExecuteTime": {
     "end_time": "2025-03-27T14:32:45.584267Z",
     "start_time": "2025-03-27T14:32:45.547221Z"
    }
   },
   "cell_type": "code",
   "source": "pivot.melt()",
   "id": "14964af290c93574",
   "outputs": [
    {
     "data": {
      "text/plain": [
       "   year  value\n",
       "0  2001    0.0\n",
       "1  2001    0.0\n",
       "2  2001   30.0\n",
       "3  2002    0.0\n",
       "4  2002    0.0\n",
       "5  2002   11.0\n",
       "6  2003    0.0\n",
       "7  2003    0.0\n",
       "8  2003   22.0"
      ],
      "text/html": [
       "<div>\n",
       "<style scoped>\n",
       "    .dataframe tbody tr th:only-of-type {\n",
       "        vertical-align: middle;\n",
       "    }\n",
       "\n",
       "    .dataframe tbody tr th {\n",
       "        vertical-align: top;\n",
       "    }\n",
       "\n",
       "    .dataframe thead th {\n",
       "        text-align: right;\n",
       "    }\n",
       "</style>\n",
       "<table border=\"1\" class=\"dataframe\">\n",
       "  <thead>\n",
       "    <tr style=\"text-align: right;\">\n",
       "      <th></th>\n",
       "      <th>year</th>\n",
       "      <th>value</th>\n",
       "    </tr>\n",
       "  </thead>\n",
       "  <tbody>\n",
       "    <tr>\n",
       "      <th>0</th>\n",
       "      <td>2001</td>\n",
       "      <td>0.0</td>\n",
       "    </tr>\n",
       "    <tr>\n",
       "      <th>1</th>\n",
       "      <td>2001</td>\n",
       "      <td>0.0</td>\n",
       "    </tr>\n",
       "    <tr>\n",
       "      <th>2</th>\n",
       "      <td>2001</td>\n",
       "      <td>30.0</td>\n",
       "    </tr>\n",
       "    <tr>\n",
       "      <th>3</th>\n",
       "      <td>2002</td>\n",
       "      <td>0.0</td>\n",
       "    </tr>\n",
       "    <tr>\n",
       "      <th>4</th>\n",
       "      <td>2002</td>\n",
       "      <td>0.0</td>\n",
       "    </tr>\n",
       "    <tr>\n",
       "      <th>5</th>\n",
       "      <td>2002</td>\n",
       "      <td>11.0</td>\n",
       "    </tr>\n",
       "    <tr>\n",
       "      <th>6</th>\n",
       "      <td>2003</td>\n",
       "      <td>0.0</td>\n",
       "    </tr>\n",
       "    <tr>\n",
       "      <th>7</th>\n",
       "      <td>2003</td>\n",
       "      <td>0.0</td>\n",
       "    </tr>\n",
       "    <tr>\n",
       "      <th>8</th>\n",
       "      <td>2003</td>\n",
       "      <td>22.0</td>\n",
       "    </tr>\n",
       "  </tbody>\n",
       "</table>\n",
       "</div>"
      ]
     },
     "execution_count": 36,
     "metadata": {},
     "output_type": "execute_result"
    }
   ],
   "execution_count": 36
  },
  {
   "metadata": {
    "ExecuteTime": {
     "end_time": "2025-03-27T14:41:32.976081Z",
     "start_time": "2025-03-27T14:41:32.966751Z"
    }
   },
   "cell_type": "code",
   "source": "pivot.reset_index(inplace=True)",
   "id": "951c09f2e637f307",
   "outputs": [],
   "execution_count": 39
  },
  {
   "metadata": {
    "ExecuteTime": {
     "end_time": "2025-03-27T14:41:35.953969Z",
     "start_time": "2025-03-27T14:41:35.926886Z"
    }
   },
   "cell_type": "code",
   "source": "pivot.melt(id_vars='playerID')",
   "id": "4deee65b605220ab",
   "outputs": [
    {
     "data": {
      "text/plain": [
       "    playerID  year  value\n",
       "0  gigueje01  2001    0.0\n",
       "1  luongro01  2001    0.0\n",
       "2  robitlu01  2001   30.0\n",
       "3  gigueje01  2002    0.0\n",
       "4  luongro01  2002    0.0\n",
       "5  robitlu01  2002   11.0\n",
       "6  gigueje01  2003    0.0\n",
       "7  luongro01  2003    0.0\n",
       "8  robitlu01  2003   22.0"
      ],
      "text/html": [
       "<div>\n",
       "<style scoped>\n",
       "    .dataframe tbody tr th:only-of-type {\n",
       "        vertical-align: middle;\n",
       "    }\n",
       "\n",
       "    .dataframe tbody tr th {\n",
       "        vertical-align: top;\n",
       "    }\n",
       "\n",
       "    .dataframe thead th {\n",
       "        text-align: right;\n",
       "    }\n",
       "</style>\n",
       "<table border=\"1\" class=\"dataframe\">\n",
       "  <thead>\n",
       "    <tr style=\"text-align: right;\">\n",
       "      <th></th>\n",
       "      <th>playerID</th>\n",
       "      <th>year</th>\n",
       "      <th>value</th>\n",
       "    </tr>\n",
       "  </thead>\n",
       "  <tbody>\n",
       "    <tr>\n",
       "      <th>0</th>\n",
       "      <td>gigueje01</td>\n",
       "      <td>2001</td>\n",
       "      <td>0.0</td>\n",
       "    </tr>\n",
       "    <tr>\n",
       "      <th>1</th>\n",
       "      <td>luongro01</td>\n",
       "      <td>2001</td>\n",
       "      <td>0.0</td>\n",
       "    </tr>\n",
       "    <tr>\n",
       "      <th>2</th>\n",
       "      <td>robitlu01</td>\n",
       "      <td>2001</td>\n",
       "      <td>30.0</td>\n",
       "    </tr>\n",
       "    <tr>\n",
       "      <th>3</th>\n",
       "      <td>gigueje01</td>\n",
       "      <td>2002</td>\n",
       "      <td>0.0</td>\n",
       "    </tr>\n",
       "    <tr>\n",
       "      <th>4</th>\n",
       "      <td>luongro01</td>\n",
       "      <td>2002</td>\n",
       "      <td>0.0</td>\n",
       "    </tr>\n",
       "    <tr>\n",
       "      <th>5</th>\n",
       "      <td>robitlu01</td>\n",
       "      <td>2002</td>\n",
       "      <td>11.0</td>\n",
       "    </tr>\n",
       "    <tr>\n",
       "      <th>6</th>\n",
       "      <td>gigueje01</td>\n",
       "      <td>2003</td>\n",
       "      <td>0.0</td>\n",
       "    </tr>\n",
       "    <tr>\n",
       "      <th>7</th>\n",
       "      <td>luongro01</td>\n",
       "      <td>2003</td>\n",
       "      <td>0.0</td>\n",
       "    </tr>\n",
       "    <tr>\n",
       "      <th>8</th>\n",
       "      <td>robitlu01</td>\n",
       "      <td>2003</td>\n",
       "      <td>22.0</td>\n",
       "    </tr>\n",
       "  </tbody>\n",
       "</table>\n",
       "</div>"
      ]
     },
     "execution_count": 40,
     "metadata": {},
     "output_type": "execute_result"
    }
   ],
   "execution_count": 40
  },
  {
   "metadata": {
    "ExecuteTime": {
     "end_time": "2025-03-27T14:44:44.210426Z",
     "start_time": "2025-03-27T14:44:44.185717Z"
    }
   },
   "cell_type": "code",
   "source": "pivot.melt(id_vars='playerID', var_name='year', value_name='G')",
   "id": "6dbab9e9a7593146",
   "outputs": [
    {
     "data": {
      "text/plain": [
       "    playerID  year     G\n",
       "0  gigueje01  2001   0.0\n",
       "1  luongro01  2001   0.0\n",
       "2  robitlu01  2001  30.0\n",
       "3  gigueje01  2002   0.0\n",
       "4  luongro01  2002   0.0\n",
       "5  robitlu01  2002  11.0\n",
       "6  gigueje01  2003   0.0\n",
       "7  luongro01  2003   0.0\n",
       "8  robitlu01  2003  22.0"
      ],
      "text/html": [
       "<div>\n",
       "<style scoped>\n",
       "    .dataframe tbody tr th:only-of-type {\n",
       "        vertical-align: middle;\n",
       "    }\n",
       "\n",
       "    .dataframe tbody tr th {\n",
       "        vertical-align: top;\n",
       "    }\n",
       "\n",
       "    .dataframe thead th {\n",
       "        text-align: right;\n",
       "    }\n",
       "</style>\n",
       "<table border=\"1\" class=\"dataframe\">\n",
       "  <thead>\n",
       "    <tr style=\"text-align: right;\">\n",
       "      <th></th>\n",
       "      <th>playerID</th>\n",
       "      <th>year</th>\n",
       "      <th>G</th>\n",
       "    </tr>\n",
       "  </thead>\n",
       "  <tbody>\n",
       "    <tr>\n",
       "      <th>0</th>\n",
       "      <td>gigueje01</td>\n",
       "      <td>2001</td>\n",
       "      <td>0.0</td>\n",
       "    </tr>\n",
       "    <tr>\n",
       "      <th>1</th>\n",
       "      <td>luongro01</td>\n",
       "      <td>2001</td>\n",
       "      <td>0.0</td>\n",
       "    </tr>\n",
       "    <tr>\n",
       "      <th>2</th>\n",
       "      <td>robitlu01</td>\n",
       "      <td>2001</td>\n",
       "      <td>30.0</td>\n",
       "    </tr>\n",
       "    <tr>\n",
       "      <th>3</th>\n",
       "      <td>gigueje01</td>\n",
       "      <td>2002</td>\n",
       "      <td>0.0</td>\n",
       "    </tr>\n",
       "    <tr>\n",
       "      <th>4</th>\n",
       "      <td>luongro01</td>\n",
       "      <td>2002</td>\n",
       "      <td>0.0</td>\n",
       "    </tr>\n",
       "    <tr>\n",
       "      <th>5</th>\n",
       "      <td>robitlu01</td>\n",
       "      <td>2002</td>\n",
       "      <td>11.0</td>\n",
       "    </tr>\n",
       "    <tr>\n",
       "      <th>6</th>\n",
       "      <td>gigueje01</td>\n",
       "      <td>2003</td>\n",
       "      <td>0.0</td>\n",
       "    </tr>\n",
       "    <tr>\n",
       "      <th>7</th>\n",
       "      <td>luongro01</td>\n",
       "      <td>2003</td>\n",
       "      <td>0.0</td>\n",
       "    </tr>\n",
       "    <tr>\n",
       "      <th>8</th>\n",
       "      <td>robitlu01</td>\n",
       "      <td>2003</td>\n",
       "      <td>22.0</td>\n",
       "    </tr>\n",
       "  </tbody>\n",
       "</table>\n",
       "</div>"
      ]
     },
     "execution_count": 41,
     "metadata": {},
     "output_type": "execute_result"
    }
   ],
   "execution_count": 41
  },
  {
   "metadata": {
    "ExecuteTime": {
     "end_time": "2025-03-27T14:47:20.669623Z",
     "start_time": "2025-03-27T14:47:20.619239Z"
    }
   },
   "cell_type": "code",
   "source": "pivot.melt(id_vars='playerID', value_vars=[2001, 2002],var_name='year', value_name='G')",
   "id": "13ec3ec4649f5a15",
   "outputs": [
    {
     "data": {
      "text/plain": [
       "    playerID  year     G\n",
       "0  gigueje01  2001   0.0\n",
       "1  luongro01  2001   0.0\n",
       "2  robitlu01  2001  30.0\n",
       "3  gigueje01  2002   0.0\n",
       "4  luongro01  2002   0.0\n",
       "5  robitlu01  2002  11.0"
      ],
      "text/html": [
       "<div>\n",
       "<style scoped>\n",
       "    .dataframe tbody tr th:only-of-type {\n",
       "        vertical-align: middle;\n",
       "    }\n",
       "\n",
       "    .dataframe tbody tr th {\n",
       "        vertical-align: top;\n",
       "    }\n",
       "\n",
       "    .dataframe thead th {\n",
       "        text-align: right;\n",
       "    }\n",
       "</style>\n",
       "<table border=\"1\" class=\"dataframe\">\n",
       "  <thead>\n",
       "    <tr style=\"text-align: right;\">\n",
       "      <th></th>\n",
       "      <th>playerID</th>\n",
       "      <th>year</th>\n",
       "      <th>G</th>\n",
       "    </tr>\n",
       "  </thead>\n",
       "  <tbody>\n",
       "    <tr>\n",
       "      <th>0</th>\n",
       "      <td>gigueje01</td>\n",
       "      <td>2001</td>\n",
       "      <td>0.0</td>\n",
       "    </tr>\n",
       "    <tr>\n",
       "      <th>1</th>\n",
       "      <td>luongro01</td>\n",
       "      <td>2001</td>\n",
       "      <td>0.0</td>\n",
       "    </tr>\n",
       "    <tr>\n",
       "      <th>2</th>\n",
       "      <td>robitlu01</td>\n",
       "      <td>2001</td>\n",
       "      <td>30.0</td>\n",
       "    </tr>\n",
       "    <tr>\n",
       "      <th>3</th>\n",
       "      <td>gigueje01</td>\n",
       "      <td>2002</td>\n",
       "      <td>0.0</td>\n",
       "    </tr>\n",
       "    <tr>\n",
       "      <th>4</th>\n",
       "      <td>luongro01</td>\n",
       "      <td>2002</td>\n",
       "      <td>0.0</td>\n",
       "    </tr>\n",
       "    <tr>\n",
       "      <th>5</th>\n",
       "      <td>robitlu01</td>\n",
       "      <td>2002</td>\n",
       "      <td>11.0</td>\n",
       "    </tr>\n",
       "  </tbody>\n",
       "</table>\n",
       "</div>"
      ]
     },
     "execution_count": 42,
     "metadata": {},
     "output_type": "execute_result"
    }
   ],
   "execution_count": 42
  },
  {
   "metadata": {
    "ExecuteTime": {
     "end_time": "2025-03-27T15:42:00.417502Z",
     "start_time": "2025-03-27T15:42:00.395488Z"
    }
   },
   "cell_type": "code",
   "source": [
    "larger_df_3 = df_3[['playerID', 'tmID', 'year', 'G']]\n",
    "larger_df_3"
   ],
   "id": "ac171ce723cd31c2",
   "outputs": [
    {
     "data": {
      "text/plain": [
       "        playerID tmID  year     G\n",
       "8328   gigueje01  ANA  2001   0.0\n",
       "8329   gigueje01  ANA  2002   0.0\n",
       "8330   gigueje01  ANA  2003   0.0\n",
       "15157  luongro01  FLO  2001   0.0\n",
       "15158  luongro01  FLO  2002   0.0\n",
       "15159  luongro01  FLO  2003   0.0\n",
       "21905  robitlu01  DET  2001  30.0\n",
       "21906  robitlu01  DET  2002  11.0\n",
       "21907  robitlu01  LAK  2003  22.0"
      ],
      "text/html": [
       "<div>\n",
       "<style scoped>\n",
       "    .dataframe tbody tr th:only-of-type {\n",
       "        vertical-align: middle;\n",
       "    }\n",
       "\n",
       "    .dataframe tbody tr th {\n",
       "        vertical-align: top;\n",
       "    }\n",
       "\n",
       "    .dataframe thead th {\n",
       "        text-align: right;\n",
       "    }\n",
       "</style>\n",
       "<table border=\"1\" class=\"dataframe\">\n",
       "  <thead>\n",
       "    <tr style=\"text-align: right;\">\n",
       "      <th></th>\n",
       "      <th>playerID</th>\n",
       "      <th>tmID</th>\n",
       "      <th>year</th>\n",
       "      <th>G</th>\n",
       "    </tr>\n",
       "  </thead>\n",
       "  <tbody>\n",
       "    <tr>\n",
       "      <th>8328</th>\n",
       "      <td>gigueje01</td>\n",
       "      <td>ANA</td>\n",
       "      <td>2001</td>\n",
       "      <td>0.0</td>\n",
       "    </tr>\n",
       "    <tr>\n",
       "      <th>8329</th>\n",
       "      <td>gigueje01</td>\n",
       "      <td>ANA</td>\n",
       "      <td>2002</td>\n",
       "      <td>0.0</td>\n",
       "    </tr>\n",
       "    <tr>\n",
       "      <th>8330</th>\n",
       "      <td>gigueje01</td>\n",
       "      <td>ANA</td>\n",
       "      <td>2003</td>\n",
       "      <td>0.0</td>\n",
       "    </tr>\n",
       "    <tr>\n",
       "      <th>15157</th>\n",
       "      <td>luongro01</td>\n",
       "      <td>FLO</td>\n",
       "      <td>2001</td>\n",
       "      <td>0.0</td>\n",
       "    </tr>\n",
       "    <tr>\n",
       "      <th>15158</th>\n",
       "      <td>luongro01</td>\n",
       "      <td>FLO</td>\n",
       "      <td>2002</td>\n",
       "      <td>0.0</td>\n",
       "    </tr>\n",
       "    <tr>\n",
       "      <th>15159</th>\n",
       "      <td>luongro01</td>\n",
       "      <td>FLO</td>\n",
       "      <td>2003</td>\n",
       "      <td>0.0</td>\n",
       "    </tr>\n",
       "    <tr>\n",
       "      <th>21905</th>\n",
       "      <td>robitlu01</td>\n",
       "      <td>DET</td>\n",
       "      <td>2001</td>\n",
       "      <td>30.0</td>\n",
       "    </tr>\n",
       "    <tr>\n",
       "      <th>21906</th>\n",
       "      <td>robitlu01</td>\n",
       "      <td>DET</td>\n",
       "      <td>2002</td>\n",
       "      <td>11.0</td>\n",
       "    </tr>\n",
       "    <tr>\n",
       "      <th>21907</th>\n",
       "      <td>robitlu01</td>\n",
       "      <td>LAK</td>\n",
       "      <td>2003</td>\n",
       "      <td>22.0</td>\n",
       "    </tr>\n",
       "  </tbody>\n",
       "</table>\n",
       "</div>"
      ]
     },
     "execution_count": 43,
     "metadata": {},
     "output_type": "execute_result"
    }
   ],
   "execution_count": 43
  },
  {
   "metadata": {
    "ExecuteTime": {
     "end_time": "2025-03-27T15:47:23.951408Z",
     "start_time": "2025-03-27T15:47:23.943619Z"
    }
   },
   "cell_type": "code",
   "source": "larger_df_3.columns",
   "id": "d1179e5c23da2185",
   "outputs": [
    {
     "data": {
      "text/plain": [
       "Index(['playerID', 'tmID', 'year', 'G'], dtype='object')"
      ]
     },
     "execution_count": 49,
     "metadata": {},
     "output_type": "execute_result"
    }
   ],
   "execution_count": 49
  },
  {
   "metadata": {
    "ExecuteTime": {
     "end_time": "2025-03-27T15:50:59.642790Z",
     "start_time": "2025-03-27T15:50:59.608518Z"
    }
   },
   "cell_type": "code",
   "source": "larger_df_3.pivot(index=['playerID', 'tmID'], columns='year', values='G')",
   "id": "f68d1f47965092d2",
   "outputs": [
    {
     "data": {
      "text/plain": [
       "year            2001  2002  2003\n",
       "playerID  tmID                  \n",
       "gigueje01 ANA    0.0   0.0   0.0\n",
       "luongro01 FLO    0.0   0.0   0.0\n",
       "robitlu01 DET   30.0  11.0   NaN\n",
       "          LAK    NaN   NaN  22.0"
      ],
      "text/html": [
       "<div>\n",
       "<style scoped>\n",
       "    .dataframe tbody tr th:only-of-type {\n",
       "        vertical-align: middle;\n",
       "    }\n",
       "\n",
       "    .dataframe tbody tr th {\n",
       "        vertical-align: top;\n",
       "    }\n",
       "\n",
       "    .dataframe thead th {\n",
       "        text-align: right;\n",
       "    }\n",
       "</style>\n",
       "<table border=\"1\" class=\"dataframe\">\n",
       "  <thead>\n",
       "    <tr style=\"text-align: right;\">\n",
       "      <th></th>\n",
       "      <th>year</th>\n",
       "      <th>2001</th>\n",
       "      <th>2002</th>\n",
       "      <th>2003</th>\n",
       "    </tr>\n",
       "    <tr>\n",
       "      <th>playerID</th>\n",
       "      <th>tmID</th>\n",
       "      <th></th>\n",
       "      <th></th>\n",
       "      <th></th>\n",
       "    </tr>\n",
       "  </thead>\n",
       "  <tbody>\n",
       "    <tr>\n",
       "      <th>gigueje01</th>\n",
       "      <th>ANA</th>\n",
       "      <td>0.0</td>\n",
       "      <td>0.0</td>\n",
       "      <td>0.0</td>\n",
       "    </tr>\n",
       "    <tr>\n",
       "      <th>luongro01</th>\n",
       "      <th>FLO</th>\n",
       "      <td>0.0</td>\n",
       "      <td>0.0</td>\n",
       "      <td>0.0</td>\n",
       "    </tr>\n",
       "    <tr>\n",
       "      <th rowspan=\"2\" valign=\"top\">robitlu01</th>\n",
       "      <th>DET</th>\n",
       "      <td>30.0</td>\n",
       "      <td>11.0</td>\n",
       "      <td>NaN</td>\n",
       "    </tr>\n",
       "    <tr>\n",
       "      <th>LAK</th>\n",
       "      <td>NaN</td>\n",
       "      <td>NaN</td>\n",
       "      <td>22.0</td>\n",
       "    </tr>\n",
       "  </tbody>\n",
       "</table>\n",
       "</div>"
      ]
     },
     "execution_count": 50,
     "metadata": {},
     "output_type": "execute_result"
    }
   ],
   "execution_count": 50
  },
  {
   "metadata": {
    "ExecuteTime": {
     "end_time": "2025-03-27T15:56:17.159800Z",
     "start_time": "2025-03-27T15:56:17.138007Z"
    }
   },
   "cell_type": "code",
   "source": [
    "larger_df_3 = df_3[['playerID', 'year', 'G', 'A']]\n",
    "larger_df_3"
   ],
   "id": "3a921d4533fc923b",
   "outputs": [
    {
     "data": {
      "text/plain": [
       "        playerID  year     G     A\n",
       "8328   gigueje01  2001   0.0   0.0\n",
       "8329   gigueje01  2002   0.0   0.0\n",
       "8330   gigueje01  2003   0.0   2.0\n",
       "15157  luongro01  2001   0.0   1.0\n",
       "15158  luongro01  2002   0.0   0.0\n",
       "15159  luongro01  2003   0.0   3.0\n",
       "21905  robitlu01  2001  30.0  20.0\n",
       "21906  robitlu01  2002  11.0  20.0\n",
       "21907  robitlu01  2003  22.0  29.0"
      ],
      "text/html": [
       "<div>\n",
       "<style scoped>\n",
       "    .dataframe tbody tr th:only-of-type {\n",
       "        vertical-align: middle;\n",
       "    }\n",
       "\n",
       "    .dataframe tbody tr th {\n",
       "        vertical-align: top;\n",
       "    }\n",
       "\n",
       "    .dataframe thead th {\n",
       "        text-align: right;\n",
       "    }\n",
       "</style>\n",
       "<table border=\"1\" class=\"dataframe\">\n",
       "  <thead>\n",
       "    <tr style=\"text-align: right;\">\n",
       "      <th></th>\n",
       "      <th>playerID</th>\n",
       "      <th>year</th>\n",
       "      <th>G</th>\n",
       "      <th>A</th>\n",
       "    </tr>\n",
       "  </thead>\n",
       "  <tbody>\n",
       "    <tr>\n",
       "      <th>8328</th>\n",
       "      <td>gigueje01</td>\n",
       "      <td>2001</td>\n",
       "      <td>0.0</td>\n",
       "      <td>0.0</td>\n",
       "    </tr>\n",
       "    <tr>\n",
       "      <th>8329</th>\n",
       "      <td>gigueje01</td>\n",
       "      <td>2002</td>\n",
       "      <td>0.0</td>\n",
       "      <td>0.0</td>\n",
       "    </tr>\n",
       "    <tr>\n",
       "      <th>8330</th>\n",
       "      <td>gigueje01</td>\n",
       "      <td>2003</td>\n",
       "      <td>0.0</td>\n",
       "      <td>2.0</td>\n",
       "    </tr>\n",
       "    <tr>\n",
       "      <th>15157</th>\n",
       "      <td>luongro01</td>\n",
       "      <td>2001</td>\n",
       "      <td>0.0</td>\n",
       "      <td>1.0</td>\n",
       "    </tr>\n",
       "    <tr>\n",
       "      <th>15158</th>\n",
       "      <td>luongro01</td>\n",
       "      <td>2002</td>\n",
       "      <td>0.0</td>\n",
       "      <td>0.0</td>\n",
       "    </tr>\n",
       "    <tr>\n",
       "      <th>15159</th>\n",
       "      <td>luongro01</td>\n",
       "      <td>2003</td>\n",
       "      <td>0.0</td>\n",
       "      <td>3.0</td>\n",
       "    </tr>\n",
       "    <tr>\n",
       "      <th>21905</th>\n",
       "      <td>robitlu01</td>\n",
       "      <td>2001</td>\n",
       "      <td>30.0</td>\n",
       "      <td>20.0</td>\n",
       "    </tr>\n",
       "    <tr>\n",
       "      <th>21906</th>\n",
       "      <td>robitlu01</td>\n",
       "      <td>2002</td>\n",
       "      <td>11.0</td>\n",
       "      <td>20.0</td>\n",
       "    </tr>\n",
       "    <tr>\n",
       "      <th>21907</th>\n",
       "      <td>robitlu01</td>\n",
       "      <td>2003</td>\n",
       "      <td>22.0</td>\n",
       "      <td>29.0</td>\n",
       "    </tr>\n",
       "  </tbody>\n",
       "</table>\n",
       "</div>"
      ]
     },
     "execution_count": 51,
     "metadata": {},
     "output_type": "execute_result"
    }
   ],
   "execution_count": 51
  },
  {
   "metadata": {
    "ExecuteTime": {
     "end_time": "2025-03-27T16:10:21.719887Z",
     "start_time": "2025-03-27T16:10:21.686987Z"
    }
   },
   "cell_type": "code",
   "source": [
    "result = larger_df_3.pivot(index=['playerID'], columns='year', values=['G', 'A'])\n",
    "result"
   ],
   "id": "eddb79f25f710bcf",
   "outputs": [
    {
     "data": {
      "text/plain": [
       "              G                 A            \n",
       "year       2001  2002  2003  2001  2002  2003\n",
       "playerID                                     \n",
       "gigueje01   0.0   0.0   0.0   0.0   0.0   2.0\n",
       "luongro01   0.0   0.0   0.0   1.0   0.0   3.0\n",
       "robitlu01  30.0  11.0  22.0  20.0  20.0  29.0"
      ],
      "text/html": [
       "<div>\n",
       "<style scoped>\n",
       "    .dataframe tbody tr th:only-of-type {\n",
       "        vertical-align: middle;\n",
       "    }\n",
       "\n",
       "    .dataframe tbody tr th {\n",
       "        vertical-align: top;\n",
       "    }\n",
       "\n",
       "    .dataframe thead tr th {\n",
       "        text-align: left;\n",
       "    }\n",
       "\n",
       "    .dataframe thead tr:last-of-type th {\n",
       "        text-align: right;\n",
       "    }\n",
       "</style>\n",
       "<table border=\"1\" class=\"dataframe\">\n",
       "  <thead>\n",
       "    <tr>\n",
       "      <th></th>\n",
       "      <th colspan=\"3\" halign=\"left\">G</th>\n",
       "      <th colspan=\"3\" halign=\"left\">A</th>\n",
       "    </tr>\n",
       "    <tr>\n",
       "      <th>year</th>\n",
       "      <th>2001</th>\n",
       "      <th>2002</th>\n",
       "      <th>2003</th>\n",
       "      <th>2001</th>\n",
       "      <th>2002</th>\n",
       "      <th>2003</th>\n",
       "    </tr>\n",
       "    <tr>\n",
       "      <th>playerID</th>\n",
       "      <th></th>\n",
       "      <th></th>\n",
       "      <th></th>\n",
       "      <th></th>\n",
       "      <th></th>\n",
       "      <th></th>\n",
       "    </tr>\n",
       "  </thead>\n",
       "  <tbody>\n",
       "    <tr>\n",
       "      <th>gigueje01</th>\n",
       "      <td>0.0</td>\n",
       "      <td>0.0</td>\n",
       "      <td>0.0</td>\n",
       "      <td>0.0</td>\n",
       "      <td>0.0</td>\n",
       "      <td>2.0</td>\n",
       "    </tr>\n",
       "    <tr>\n",
       "      <th>luongro01</th>\n",
       "      <td>0.0</td>\n",
       "      <td>0.0</td>\n",
       "      <td>0.0</td>\n",
       "      <td>1.0</td>\n",
       "      <td>0.0</td>\n",
       "      <td>3.0</td>\n",
       "    </tr>\n",
       "    <tr>\n",
       "      <th>robitlu01</th>\n",
       "      <td>30.0</td>\n",
       "      <td>11.0</td>\n",
       "      <td>22.0</td>\n",
       "      <td>20.0</td>\n",
       "      <td>20.0</td>\n",
       "      <td>29.0</td>\n",
       "    </tr>\n",
       "  </tbody>\n",
       "</table>\n",
       "</div>"
      ]
     },
     "execution_count": 54,
     "metadata": {},
     "output_type": "execute_result"
    }
   ],
   "execution_count": 54
  },
  {
   "metadata": {
    "ExecuteTime": {
     "end_time": "2025-03-27T16:13:58.176522Z",
     "start_time": "2025-03-27T16:13:58.163409Z"
    }
   },
   "cell_type": "code",
   "source": "result.columns",
   "id": "890c1863c01a69ad",
   "outputs": [
    {
     "data": {
      "text/plain": [
       "MultiIndex([('G', 2001),\n",
       "            ('G', 2002),\n",
       "            ('G', 2003),\n",
       "            ('A', 2001),\n",
       "            ('A', 2002),\n",
       "            ('A', 2003)],\n",
       "           names=[None, 'year'])"
      ]
     },
     "execution_count": 55,
     "metadata": {},
     "output_type": "execute_result"
    }
   ],
   "execution_count": 55
  },
  {
   "metadata": {
    "ExecuteTime": {
     "end_time": "2025-03-27T16:25:49.420247Z",
     "start_time": "2025-03-27T16:25:49.406015Z"
    }
   },
   "cell_type": "code",
   "source": "result.iloc[2, 3]",
   "id": "1981abd8d51b63be",
   "outputs": [
    {
     "data": {
      "text/plain": [
       "np.float64(20.0)"
      ]
     },
     "execution_count": 65,
     "metadata": {},
     "output_type": "execute_result"
    }
   ],
   "execution_count": 65
  },
  {
   "metadata": {
    "ExecuteTime": {
     "end_time": "2025-03-27T16:31:31.286085Z",
     "start_time": "2025-03-27T16:31:31.265395Z"
    }
   },
   "cell_type": "code",
   "source": "result.loc['luongro01', ('A', 2001)]",
   "id": "732f78e8a4cd8751",
   "outputs": [
    {
     "data": {
      "text/plain": [
       "np.float64(1.0)"
      ]
     },
     "execution_count": 67,
     "metadata": {},
     "output_type": "execute_result"
    }
   ],
   "execution_count": 67
  },
  {
   "metadata": {},
   "cell_type": "code",
   "outputs": [],
   "execution_count": null,
   "source": "",
   "id": "5d038d01aa55b558"
  }
 ],
 "metadata": {
  "kernelspec": {
   "display_name": "Python 3",
   "language": "python",
   "name": "python3"
  },
  "language_info": {
   "codemirror_mode": {
    "name": "ipython",
    "version": 2
   },
   "file_extension": ".py",
   "mimetype": "text/x-python",
   "name": "python",
   "nbconvert_exporter": "python",
   "pygments_lexer": "ipython2",
   "version": "2.7.6"
  }
 },
 "nbformat": 4,
 "nbformat_minor": 5
}
