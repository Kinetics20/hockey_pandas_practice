{
 "cells": [
  {
   "cell_type": "code",
   "id": "initial_id",
   "metadata": {
    "collapsed": true,
    "ExecuteTime": {
     "end_time": "2025-03-24T19:20:24.823778Z",
     "start_time": "2025-03-24T19:20:24.816115Z"
    }
   },
   "source": [
    "import pandas as pd\n",
    "import numpy as np\n",
    "from helpers.mem import memory_mib\n",
    "\n",
    "from set_paths import RA"
   ],
   "outputs": [],
   "execution_count": 33
  },
  {
   "metadata": {
    "ExecuteTime": {
     "end_time": "2025-03-24T18:15:44.862906Z",
     "start_time": "2025-03-24T18:15:44.689449Z"
    }
   },
   "cell_type": "code",
   "source": [
    "\n",
    "\n",
    "master = pd.read_csv(RA /'Master.csv')"
   ],
   "id": "a4690e3cd71da7b8",
   "outputs": [],
   "execution_count": 2
  },
  {
   "metadata": {
    "ExecuteTime": {
     "end_time": "2025-03-24T18:15:45.910371Z",
     "start_time": "2025-03-24T18:15:45.866949Z"
    }
   },
   "cell_type": "code",
   "source": "master.head()",
   "id": "82269c2c0d5325b9",
   "outputs": [
    {
     "data": {
      "text/plain": [
       "    playerID coachID hofID firstName    lastName nameNote         nameGiven  \\\n",
       "0  aaltoan01     NaN   NaN     Antti       Aalto      NaN             Antti   \n",
       "1  abbeybr01     NaN   NaN     Bruce       Abbey      NaN             Bruce   \n",
       "2  abbotge01     NaN   NaN    George      Abbott      NaN      George Henry   \n",
       "3  abbotre01     NaN   NaN       Reg      Abbott      NaN  Reginald Stewart   \n",
       "4  abdelju01     NaN   NaN    Justin  Abdelkader      NaN               NaN   \n",
       "\n",
       "   nameNick  height  weight  ... birthDay birthCountry  birthState  \\\n",
       "0       NaN    73.0   210.0  ...      4.0      Finland         NaN   \n",
       "1       NaN    73.0   185.0  ...     18.0       Canada          ON   \n",
       "2  Preacher    67.0   153.0  ...      3.0       Canada          ON   \n",
       "3       NaN    71.0   164.0  ...      4.0       Canada          MB   \n",
       "4       NaN    73.0   195.0  ...     25.0          USA          MI   \n",
       "\n",
       "      birthCity  deathYear  deathMon  deathDay  deathCountry deathState  \\\n",
       "0  Lappeenranta        NaN       NaN       NaN           NaN        NaN   \n",
       "1       Toronto        NaN       NaN       NaN           NaN        NaN   \n",
       "2      Synenham        NaN       NaN       NaN           NaN        NaN   \n",
       "3      Winnipeg        NaN       NaN       NaN           NaN        NaN   \n",
       "4      Muskegon        NaN       NaN       NaN           NaN        NaN   \n",
       "\n",
       "   deathCity  \n",
       "0        NaN  \n",
       "1        NaN  \n",
       "2        NaN  \n",
       "3        NaN  \n",
       "4        NaN  \n",
       "\n",
       "[5 rows x 31 columns]"
      ],
      "text/html": [
       "<div>\n",
       "<style scoped>\n",
       "    .dataframe tbody tr th:only-of-type {\n",
       "        vertical-align: middle;\n",
       "    }\n",
       "\n",
       "    .dataframe tbody tr th {\n",
       "        vertical-align: top;\n",
       "    }\n",
       "\n",
       "    .dataframe thead th {\n",
       "        text-align: right;\n",
       "    }\n",
       "</style>\n",
       "<table border=\"1\" class=\"dataframe\">\n",
       "  <thead>\n",
       "    <tr style=\"text-align: right;\">\n",
       "      <th></th>\n",
       "      <th>playerID</th>\n",
       "      <th>coachID</th>\n",
       "      <th>hofID</th>\n",
       "      <th>firstName</th>\n",
       "      <th>lastName</th>\n",
       "      <th>nameNote</th>\n",
       "      <th>nameGiven</th>\n",
       "      <th>nameNick</th>\n",
       "      <th>height</th>\n",
       "      <th>weight</th>\n",
       "      <th>...</th>\n",
       "      <th>birthDay</th>\n",
       "      <th>birthCountry</th>\n",
       "      <th>birthState</th>\n",
       "      <th>birthCity</th>\n",
       "      <th>deathYear</th>\n",
       "      <th>deathMon</th>\n",
       "      <th>deathDay</th>\n",
       "      <th>deathCountry</th>\n",
       "      <th>deathState</th>\n",
       "      <th>deathCity</th>\n",
       "    </tr>\n",
       "  </thead>\n",
       "  <tbody>\n",
       "    <tr>\n",
       "      <th>0</th>\n",
       "      <td>aaltoan01</td>\n",
       "      <td>NaN</td>\n",
       "      <td>NaN</td>\n",
       "      <td>Antti</td>\n",
       "      <td>Aalto</td>\n",
       "      <td>NaN</td>\n",
       "      <td>Antti</td>\n",
       "      <td>NaN</td>\n",
       "      <td>73.0</td>\n",
       "      <td>210.0</td>\n",
       "      <td>...</td>\n",
       "      <td>4.0</td>\n",
       "      <td>Finland</td>\n",
       "      <td>NaN</td>\n",
       "      <td>Lappeenranta</td>\n",
       "      <td>NaN</td>\n",
       "      <td>NaN</td>\n",
       "      <td>NaN</td>\n",
       "      <td>NaN</td>\n",
       "      <td>NaN</td>\n",
       "      <td>NaN</td>\n",
       "    </tr>\n",
       "    <tr>\n",
       "      <th>1</th>\n",
       "      <td>abbeybr01</td>\n",
       "      <td>NaN</td>\n",
       "      <td>NaN</td>\n",
       "      <td>Bruce</td>\n",
       "      <td>Abbey</td>\n",
       "      <td>NaN</td>\n",
       "      <td>Bruce</td>\n",
       "      <td>NaN</td>\n",
       "      <td>73.0</td>\n",
       "      <td>185.0</td>\n",
       "      <td>...</td>\n",
       "      <td>18.0</td>\n",
       "      <td>Canada</td>\n",
       "      <td>ON</td>\n",
       "      <td>Toronto</td>\n",
       "      <td>NaN</td>\n",
       "      <td>NaN</td>\n",
       "      <td>NaN</td>\n",
       "      <td>NaN</td>\n",
       "      <td>NaN</td>\n",
       "      <td>NaN</td>\n",
       "    </tr>\n",
       "    <tr>\n",
       "      <th>2</th>\n",
       "      <td>abbotge01</td>\n",
       "      <td>NaN</td>\n",
       "      <td>NaN</td>\n",
       "      <td>George</td>\n",
       "      <td>Abbott</td>\n",
       "      <td>NaN</td>\n",
       "      <td>George Henry</td>\n",
       "      <td>Preacher</td>\n",
       "      <td>67.0</td>\n",
       "      <td>153.0</td>\n",
       "      <td>...</td>\n",
       "      <td>3.0</td>\n",
       "      <td>Canada</td>\n",
       "      <td>ON</td>\n",
       "      <td>Synenham</td>\n",
       "      <td>NaN</td>\n",
       "      <td>NaN</td>\n",
       "      <td>NaN</td>\n",
       "      <td>NaN</td>\n",
       "      <td>NaN</td>\n",
       "      <td>NaN</td>\n",
       "    </tr>\n",
       "    <tr>\n",
       "      <th>3</th>\n",
       "      <td>abbotre01</td>\n",
       "      <td>NaN</td>\n",
       "      <td>NaN</td>\n",
       "      <td>Reg</td>\n",
       "      <td>Abbott</td>\n",
       "      <td>NaN</td>\n",
       "      <td>Reginald Stewart</td>\n",
       "      <td>NaN</td>\n",
       "      <td>71.0</td>\n",
       "      <td>164.0</td>\n",
       "      <td>...</td>\n",
       "      <td>4.0</td>\n",
       "      <td>Canada</td>\n",
       "      <td>MB</td>\n",
       "      <td>Winnipeg</td>\n",
       "      <td>NaN</td>\n",
       "      <td>NaN</td>\n",
       "      <td>NaN</td>\n",
       "      <td>NaN</td>\n",
       "      <td>NaN</td>\n",
       "      <td>NaN</td>\n",
       "    </tr>\n",
       "    <tr>\n",
       "      <th>4</th>\n",
       "      <td>abdelju01</td>\n",
       "      <td>NaN</td>\n",
       "      <td>NaN</td>\n",
       "      <td>Justin</td>\n",
       "      <td>Abdelkader</td>\n",
       "      <td>NaN</td>\n",
       "      <td>NaN</td>\n",
       "      <td>NaN</td>\n",
       "      <td>73.0</td>\n",
       "      <td>195.0</td>\n",
       "      <td>...</td>\n",
       "      <td>25.0</td>\n",
       "      <td>USA</td>\n",
       "      <td>MI</td>\n",
       "      <td>Muskegon</td>\n",
       "      <td>NaN</td>\n",
       "      <td>NaN</td>\n",
       "      <td>NaN</td>\n",
       "      <td>NaN</td>\n",
       "      <td>NaN</td>\n",
       "      <td>NaN</td>\n",
       "    </tr>\n",
       "  </tbody>\n",
       "</table>\n",
       "<p>5 rows × 31 columns</p>\n",
       "</div>"
      ]
     },
     "execution_count": 3,
     "metadata": {},
     "output_type": "execute_result"
    }
   ],
   "execution_count": 3
  },
  {
   "metadata": {
    "ExecuteTime": {
     "end_time": "2025-03-24T18:15:51.965604Z",
     "start_time": "2025-03-24T18:15:51.958739Z"
    }
   },
   "cell_type": "code",
   "source": "master.shape",
   "id": "2dce8b669cc7cce4",
   "outputs": [
    {
     "data": {
      "text/plain": [
       "(7761, 31)"
      ]
     },
     "execution_count": 4,
     "metadata": {},
     "output_type": "execute_result"
    }
   ],
   "execution_count": 4
  },
  {
   "metadata": {
    "ExecuteTime": {
     "end_time": "2025-03-24T18:15:53.364947Z",
     "start_time": "2025-03-24T18:15:53.353150Z"
    }
   },
   "cell_type": "code",
   "source": "master.columns",
   "id": "6e5d210dfdb48ac6",
   "outputs": [
    {
     "data": {
      "text/plain": [
       "Index(['playerID', 'coachID', 'hofID', 'firstName', 'lastName', 'nameNote',\n",
       "       'nameGiven', 'nameNick', 'height', 'weight', 'shootCatch', 'legendsID',\n",
       "       'ihdbID', 'hrefID', 'firstNHL', 'lastNHL', 'firstWHA', 'lastWHA', 'pos',\n",
       "       'birthYear', 'birthMon', 'birthDay', 'birthCountry', 'birthState',\n",
       "       'birthCity', 'deathYear', 'deathMon', 'deathDay', 'deathCountry',\n",
       "       'deathState', 'deathCity'],\n",
       "      dtype='object')"
      ]
     },
     "execution_count": 5,
     "metadata": {},
     "output_type": "execute_result"
    }
   ],
   "execution_count": 5
  },
  {
   "metadata": {
    "ExecuteTime": {
     "end_time": "2025-03-24T18:15:55.123405Z",
     "start_time": "2025-03-24T18:15:55.094069Z"
    }
   },
   "cell_type": "code",
   "source": "master.info()",
   "id": "5d6b9aecd42b39ef",
   "outputs": [
    {
     "name": "stdout",
     "output_type": "stream",
     "text": [
      "<class 'pandas.core.frame.DataFrame'>\n",
      "RangeIndex: 7761 entries, 0 to 7760\n",
      "Data columns (total 31 columns):\n",
      " #   Column        Non-Null Count  Dtype  \n",
      "---  ------        --------------  -----  \n",
      " 0   playerID      7520 non-null   object \n",
      " 1   coachID       395 non-null    object \n",
      " 2   hofID         366 non-null    object \n",
      " 3   firstName     7748 non-null   object \n",
      " 4   lastName      7761 non-null   object \n",
      " 5   nameNote      18 non-null     object \n",
      " 6   nameGiven     5985 non-null   object \n",
      " 7   nameNick      1306 non-null   object \n",
      " 8   height        7334 non-null   float64\n",
      " 9   weight        7336 non-null   float64\n",
      " 10  shootCatch    7048 non-null   object \n",
      " 11  legendsID     6577 non-null   object \n",
      " 12  ihdbID        7125 non-null   float64\n",
      " 13  hrefID        7457 non-null   object \n",
      " 14  firstNHL      6851 non-null   float64\n",
      " 15  lastNHL       6851 non-null   float64\n",
      " 16  firstWHA      903 non-null    float64\n",
      " 17  lastWHA       903 non-null    float64\n",
      " 18  pos           7447 non-null   object \n",
      " 19  birthYear     7543 non-null   float64\n",
      " 20  birthMon      7506 non-null   float64\n",
      " 21  birthDay      7504 non-null   float64\n",
      " 22  birthCountry  7396 non-null   object \n",
      " 23  birthState    6324 non-null   object \n",
      " 24  birthCity     7388 non-null   object \n",
      " 25  deathYear     1320 non-null   float64\n",
      " 26  deathMon      1173 non-null   float64\n",
      " 27  deathDay      1168 non-null   float64\n",
      " 28  deathCountry  498 non-null    object \n",
      " 29  deathState    471 non-null    object \n",
      " 30  deathCity     483 non-null    object \n",
      "dtypes: float64(13), object(18)\n",
      "memory usage: 1.8+ MB\n"
     ]
    }
   ],
   "execution_count": 6
  },
  {
   "metadata": {
    "ExecuteTime": {
     "end_time": "2025-03-24T18:15:56.921174Z",
     "start_time": "2025-03-24T18:15:56.904454Z"
    }
   },
   "cell_type": "code",
   "source": "master['hofID'].notnull().sum()",
   "id": "db4813cb21e53405",
   "outputs": [
    {
     "data": {
      "text/plain": [
       "np.int64(366)"
      ]
     },
     "execution_count": 7,
     "metadata": {},
     "output_type": "execute_result"
    }
   ],
   "execution_count": 7
  },
  {
   "metadata": {
    "ExecuteTime": {
     "end_time": "2025-03-24T18:15:58.274714Z",
     "start_time": "2025-03-24T18:15:58.262309Z"
    }
   },
   "cell_type": "code",
   "source": "master['hofID'].isnull().sum()",
   "id": "7615ed095a4c7b86",
   "outputs": [
    {
     "data": {
      "text/plain": [
       "np.int64(7395)"
      ]
     },
     "execution_count": 8,
     "metadata": {},
     "output_type": "execute_result"
    }
   ],
   "execution_count": 8
  },
  {
   "metadata": {
    "ExecuteTime": {
     "end_time": "2025-03-24T18:16:00.665732Z",
     "start_time": "2025-03-24T18:16:00.643232Z"
    }
   },
   "cell_type": "code",
   "source": "master['lastName'].value_counts(normalize=True, sort=True)",
   "id": "63c1b8da64243115",
   "outputs": [
    {
     "data": {
      "text/plain": [
       "lastName\n",
       "Smith        0.008891\n",
       "Brown        0.004123\n",
       "Wilson       0.003994\n",
       "Johnson      0.003479\n",
       "Murray       0.003350\n",
       "               ...   \n",
       "Zinger       0.000129\n",
       "Zimmerman    0.000129\n",
       "Zigomanis    0.000129\n",
       "Adamik       0.000129\n",
       "Adair        0.000129\n",
       "Name: proportion, Length: 5075, dtype: float64"
      ]
     },
     "execution_count": 9,
     "metadata": {},
     "output_type": "execute_result"
    }
   ],
   "execution_count": 9
  },
  {
   "metadata": {
    "ExecuteTime": {
     "end_time": "2025-03-24T18:16:03.521914Z",
     "start_time": "2025-03-24T18:16:03.500561Z"
    }
   },
   "cell_type": "code",
   "source": "master['playerID'].isnull().sum()",
   "id": "81f5297be1c854fb",
   "outputs": [
    {
     "data": {
      "text/plain": [
       "np.int64(241)"
      ]
     },
     "execution_count": 10,
     "metadata": {},
     "output_type": "execute_result"
    }
   ],
   "execution_count": 10
  },
  {
   "metadata": {
    "ExecuteTime": {
     "end_time": "2025-03-24T18:16:05.371428Z",
     "start_time": "2025-03-24T18:16:05.358500Z"
    }
   },
   "cell_type": "code",
   "source": [
    "(master['playerID']\n",
    ".pipe(pd.isnull)\n",
    ".value_counts())"
   ],
   "id": "c66c6f015e476cf1",
   "outputs": [
    {
     "data": {
      "text/plain": [
       "playerID\n",
       "False    7520\n",
       "True      241\n",
       "Name: count, dtype: int64"
      ]
     },
     "execution_count": 11,
     "metadata": {},
     "output_type": "execute_result"
    }
   ],
   "execution_count": 11
  },
  {
   "metadata": {
    "ExecuteTime": {
     "end_time": "2025-03-24T18:16:07.391936Z",
     "start_time": "2025-03-24T18:16:07.379004Z"
    }
   },
   "cell_type": "code",
   "source": [
    "(master['playerID']\n",
    ".pipe(pd.isnull)\n",
    ".value_counts(normalize=True))"
   ],
   "id": "743cdb3a6a0e4b55",
   "outputs": [
    {
     "data": {
      "text/plain": [
       "playerID\n",
       "False    0.968947\n",
       "True     0.031053\n",
       "Name: proportion, dtype: float64"
      ]
     },
     "execution_count": 12,
     "metadata": {},
     "output_type": "execute_result"
    }
   ],
   "execution_count": 12
  },
  {
   "metadata": {
    "ExecuteTime": {
     "end_time": "2025-03-24T18:16:11.771859Z",
     "start_time": "2025-03-24T18:16:11.729269Z"
    }
   },
   "cell_type": "code",
   "source": "master_original = master.copy()",
   "id": "e5c27ecc28733660",
   "outputs": [],
   "execution_count": 13
  },
  {
   "metadata": {
    "ExecuteTime": {
     "end_time": "2025-03-24T18:16:13.274083Z",
     "start_time": "2025-03-24T18:16:13.256300Z"
    }
   },
   "cell_type": "code",
   "source": "master.dropna(subset=['playerID'], inplace=True)",
   "id": "5989756c532edd22",
   "outputs": [],
   "execution_count": 14
  },
  {
   "metadata": {
    "ExecuteTime": {
     "end_time": "2025-03-24T18:16:15.926077Z",
     "start_time": "2025-03-24T18:16:15.916284Z"
    }
   },
   "cell_type": "code",
   "source": "master.shape",
   "id": "966401cb5d40b210",
   "outputs": [
    {
     "data": {
      "text/plain": [
       "(7520, 31)"
      ]
     },
     "execution_count": 15,
     "metadata": {},
     "output_type": "execute_result"
    }
   ],
   "execution_count": 15
  },
  {
   "metadata": {
    "ExecuteTime": {
     "end_time": "2025-03-24T18:16:17.788710Z",
     "start_time": "2025-03-24T18:16:17.779443Z"
    }
   },
   "cell_type": "code",
   "source": [
    "(master['playerID']\n",
    ".pipe(pd.isnull)\n",
    ".value_counts())"
   ],
   "id": "69a95c2f81289684",
   "outputs": [
    {
     "data": {
      "text/plain": [
       "playerID\n",
       "False    7520\n",
       "Name: count, dtype: int64"
      ]
     },
     "execution_count": 16,
     "metadata": {},
     "output_type": "execute_result"
    }
   ],
   "execution_count": 16
  },
  {
   "metadata": {
    "ExecuteTime": {
     "end_time": "2025-03-24T18:16:23.488916Z",
     "start_time": "2025-03-24T18:16:23.468682Z"
    }
   },
   "cell_type": "code",
   "source": "master.dropna(subset=['firstNHL', 'lastNHL'], how='all', inplace=True)",
   "id": "387742d099813852",
   "outputs": [],
   "execution_count": 17
  },
  {
   "metadata": {
    "ExecuteTime": {
     "end_time": "2025-03-24T18:16:25.468929Z",
     "start_time": "2025-03-24T18:16:25.463456Z"
    }
   },
   "cell_type": "code",
   "source": "master.shape",
   "id": "5bf4d1832ea90932",
   "outputs": [
    {
     "data": {
      "text/plain": [
       "(6851, 31)"
      ]
     },
     "execution_count": 18,
     "metadata": {},
     "output_type": "execute_result"
    }
   ],
   "execution_count": 18
  },
  {
   "metadata": {
    "ExecuteTime": {
     "end_time": "2025-03-24T18:16:27.320540Z",
     "start_time": "2025-03-24T18:16:27.304646Z"
    }
   },
   "cell_type": "code",
   "source": "master['lastNHL'].dtypes",
   "id": "ddb0450719460c5d",
   "outputs": [
    {
     "data": {
      "text/plain": [
       "dtype('float64')"
      ]
     },
     "execution_count": 19,
     "metadata": {},
     "output_type": "execute_result"
    }
   ],
   "execution_count": 19
  },
  {
   "metadata": {
    "ExecuteTime": {
     "end_time": "2025-03-24T18:16:31.740008Z",
     "start_time": "2025-03-24T18:16:31.723879Z"
    }
   },
   "cell_type": "code",
   "source": "master = master.loc[master['lastNHL'] >= 1980]",
   "id": "ec2a65bda2a15fe0",
   "outputs": [],
   "execution_count": 20
  },
  {
   "metadata": {
    "ExecuteTime": {
     "end_time": "2025-03-24T18:16:33.548112Z",
     "start_time": "2025-03-24T18:16:33.543341Z"
    }
   },
   "cell_type": "code",
   "source": [
    "columns_to_keep = [\"playerID\", \"firstName\", \"lastName\",\n",
    "                   \"pos\", \"birthYear\", \"birthMon\", \"birthDay\",\n",
    "                   \"birthCountry\", \"birthState\", \"birthCity\"]\n"
   ],
   "id": "e3d491db9718b6cf",
   "outputs": [],
   "execution_count": 21
  },
  {
   "metadata": {
    "ExecuteTime": {
     "end_time": "2025-03-24T18:16:35.489907Z",
     "start_time": "2025-03-24T18:16:35.478675Z"
    }
   },
   "cell_type": "code",
   "source": "master[columns_to_keep].shape",
   "id": "c92efe27db5bf51e",
   "outputs": [
    {
     "data": {
      "text/plain": [
       "(4627, 10)"
      ]
     },
     "execution_count": 22,
     "metadata": {},
     "output_type": "execute_result"
    }
   ],
   "execution_count": 22
  },
  {
   "metadata": {
    "ExecuteTime": {
     "end_time": "2025-03-24T18:16:38.124459Z",
     "start_time": "2025-03-24T18:16:38.109377Z"
    }
   },
   "cell_type": "code",
   "source": "master[[\"playerID\", \"firstName\"]]",
   "id": "7dbd19a6b296f0ff",
   "outputs": [
    {
     "data": {
      "text/plain": [
       "       playerID firstName\n",
       "0     aaltoan01     Antti\n",
       "4     abdelju01    Justin\n",
       "9      abidra01     Ramzi\n",
       "11    abrahth01    Thommy\n",
       "14    actonke01     Keith\n",
       "...         ...       ...\n",
       "7754  zubruda01   Dainius\n",
       "7755  zuccama01      Mats\n",
       "7756  zuckeja01     Jason\n",
       "7757   zukemi01      Mike\n",
       "7760  zyuzian01    Andrei\n",
       "\n",
       "[4627 rows x 2 columns]"
      ],
      "text/html": [
       "<div>\n",
       "<style scoped>\n",
       "    .dataframe tbody tr th:only-of-type {\n",
       "        vertical-align: middle;\n",
       "    }\n",
       "\n",
       "    .dataframe tbody tr th {\n",
       "        vertical-align: top;\n",
       "    }\n",
       "\n",
       "    .dataframe thead th {\n",
       "        text-align: right;\n",
       "    }\n",
       "</style>\n",
       "<table border=\"1\" class=\"dataframe\">\n",
       "  <thead>\n",
       "    <tr style=\"text-align: right;\">\n",
       "      <th></th>\n",
       "      <th>playerID</th>\n",
       "      <th>firstName</th>\n",
       "    </tr>\n",
       "  </thead>\n",
       "  <tbody>\n",
       "    <tr>\n",
       "      <th>0</th>\n",
       "      <td>aaltoan01</td>\n",
       "      <td>Antti</td>\n",
       "    </tr>\n",
       "    <tr>\n",
       "      <th>4</th>\n",
       "      <td>abdelju01</td>\n",
       "      <td>Justin</td>\n",
       "    </tr>\n",
       "    <tr>\n",
       "      <th>9</th>\n",
       "      <td>abidra01</td>\n",
       "      <td>Ramzi</td>\n",
       "    </tr>\n",
       "    <tr>\n",
       "      <th>11</th>\n",
       "      <td>abrahth01</td>\n",
       "      <td>Thommy</td>\n",
       "    </tr>\n",
       "    <tr>\n",
       "      <th>14</th>\n",
       "      <td>actonke01</td>\n",
       "      <td>Keith</td>\n",
       "    </tr>\n",
       "    <tr>\n",
       "      <th>...</th>\n",
       "      <td>...</td>\n",
       "      <td>...</td>\n",
       "    </tr>\n",
       "    <tr>\n",
       "      <th>7754</th>\n",
       "      <td>zubruda01</td>\n",
       "      <td>Dainius</td>\n",
       "    </tr>\n",
       "    <tr>\n",
       "      <th>7755</th>\n",
       "      <td>zuccama01</td>\n",
       "      <td>Mats</td>\n",
       "    </tr>\n",
       "    <tr>\n",
       "      <th>7756</th>\n",
       "      <td>zuckeja01</td>\n",
       "      <td>Jason</td>\n",
       "    </tr>\n",
       "    <tr>\n",
       "      <th>7757</th>\n",
       "      <td>zukemi01</td>\n",
       "      <td>Mike</td>\n",
       "    </tr>\n",
       "    <tr>\n",
       "      <th>7760</th>\n",
       "      <td>zyuzian01</td>\n",
       "      <td>Andrei</td>\n",
       "    </tr>\n",
       "  </tbody>\n",
       "</table>\n",
       "<p>4627 rows × 2 columns</p>\n",
       "</div>"
      ]
     },
     "execution_count": 23,
     "metadata": {},
     "output_type": "execute_result"
    }
   ],
   "execution_count": 23
  },
  {
   "metadata": {
    "ExecuteTime": {
     "end_time": "2025-03-24T18:16:57.760672Z",
     "start_time": "2025-03-24T18:16:57.738924Z"
    }
   },
   "cell_type": "code",
   "source": "master[[\"firstName\", \"playerID\"]]",
   "id": "4513f51de9e2ebe2",
   "outputs": [
    {
     "data": {
      "text/plain": [
       "     firstName   playerID\n",
       "0        Antti  aaltoan01\n",
       "4       Justin  abdelju01\n",
       "9        Ramzi   abidra01\n",
       "11      Thommy  abrahth01\n",
       "14       Keith  actonke01\n",
       "...        ...        ...\n",
       "7754   Dainius  zubruda01\n",
       "7755      Mats  zuccama01\n",
       "7756     Jason  zuckeja01\n",
       "7757      Mike   zukemi01\n",
       "7760    Andrei  zyuzian01\n",
       "\n",
       "[4627 rows x 2 columns]"
      ],
      "text/html": [
       "<div>\n",
       "<style scoped>\n",
       "    .dataframe tbody tr th:only-of-type {\n",
       "        vertical-align: middle;\n",
       "    }\n",
       "\n",
       "    .dataframe tbody tr th {\n",
       "        vertical-align: top;\n",
       "    }\n",
       "\n",
       "    .dataframe thead th {\n",
       "        text-align: right;\n",
       "    }\n",
       "</style>\n",
       "<table border=\"1\" class=\"dataframe\">\n",
       "  <thead>\n",
       "    <tr style=\"text-align: right;\">\n",
       "      <th></th>\n",
       "      <th>firstName</th>\n",
       "      <th>playerID</th>\n",
       "    </tr>\n",
       "  </thead>\n",
       "  <tbody>\n",
       "    <tr>\n",
       "      <th>0</th>\n",
       "      <td>Antti</td>\n",
       "      <td>aaltoan01</td>\n",
       "    </tr>\n",
       "    <tr>\n",
       "      <th>4</th>\n",
       "      <td>Justin</td>\n",
       "      <td>abdelju01</td>\n",
       "    </tr>\n",
       "    <tr>\n",
       "      <th>9</th>\n",
       "      <td>Ramzi</td>\n",
       "      <td>abidra01</td>\n",
       "    </tr>\n",
       "    <tr>\n",
       "      <th>11</th>\n",
       "      <td>Thommy</td>\n",
       "      <td>abrahth01</td>\n",
       "    </tr>\n",
       "    <tr>\n",
       "      <th>14</th>\n",
       "      <td>Keith</td>\n",
       "      <td>actonke01</td>\n",
       "    </tr>\n",
       "    <tr>\n",
       "      <th>...</th>\n",
       "      <td>...</td>\n",
       "      <td>...</td>\n",
       "    </tr>\n",
       "    <tr>\n",
       "      <th>7754</th>\n",
       "      <td>Dainius</td>\n",
       "      <td>zubruda01</td>\n",
       "    </tr>\n",
       "    <tr>\n",
       "      <th>7755</th>\n",
       "      <td>Mats</td>\n",
       "      <td>zuccama01</td>\n",
       "    </tr>\n",
       "    <tr>\n",
       "      <th>7756</th>\n",
       "      <td>Jason</td>\n",
       "      <td>zuckeja01</td>\n",
       "    </tr>\n",
       "    <tr>\n",
       "      <th>7757</th>\n",
       "      <td>Mike</td>\n",
       "      <td>zukemi01</td>\n",
       "    </tr>\n",
       "    <tr>\n",
       "      <th>7760</th>\n",
       "      <td>Andrei</td>\n",
       "      <td>zyuzian01</td>\n",
       "    </tr>\n",
       "  </tbody>\n",
       "</table>\n",
       "<p>4627 rows × 2 columns</p>\n",
       "</div>"
      ]
     },
     "execution_count": 24,
     "metadata": {},
     "output_type": "execute_result"
    }
   ],
   "execution_count": 24
  },
  {
   "metadata": {},
   "cell_type": "markdown",
   "source": [
    "[regex101](https://regex101.com/)\n",
    "\n",
    "### to regular expressions"
   ],
   "id": "18d584017282482"
  },
  {
   "metadata": {
    "ExecuteTime": {
     "end_time": "2025-03-24T18:16:58.162336Z",
     "start_time": "2025-03-24T18:16:58.142033Z"
    }
   },
   "cell_type": "code",
   "source": "master.filter(regex='(playerID|pos|^birth)|(Name$)').shape",
   "id": "3496f2fd72ad1f29",
   "outputs": [
    {
     "data": {
      "text/plain": [
       "(4627, 10)"
      ]
     },
     "execution_count": 25,
     "metadata": {},
     "output_type": "execute_result"
    }
   ],
   "execution_count": 25
  },
  {
   "metadata": {
    "ExecuteTime": {
     "end_time": "2025-03-24T18:50:53.988333Z",
     "start_time": "2025-03-24T18:50:53.978312Z"
    }
   },
   "cell_type": "code",
   "source": "master.filter(regex='playerID|pos|^birth|Name$').shape",
   "id": "42c2b9671290b0a0",
   "outputs": [
    {
     "data": {
      "text/plain": [
       "(4627, 10)"
      ]
     },
     "execution_count": 26,
     "metadata": {},
     "output_type": "execute_result"
    }
   ],
   "execution_count": 26
  },
  {
   "metadata": {
    "ExecuteTime": {
     "end_time": "2025-03-24T18:55:21.467071Z",
     "start_time": "2025-03-24T18:55:21.458749Z"
    }
   },
   "cell_type": "code",
   "source": "master = master[columns_to_keep]",
   "id": "2cf409fd71555430",
   "outputs": [],
   "execution_count": 27
  },
  {
   "metadata": {
    "ExecuteTime": {
     "end_time": "2025-03-24T18:55:38.989433Z",
     "start_time": "2025-03-24T18:55:38.982916Z"
    }
   },
   "cell_type": "code",
   "source": "master.shape",
   "id": "e19ae5a76bcfdb12",
   "outputs": [
    {
     "data": {
      "text/plain": [
       "(4627, 10)"
      ]
     },
     "execution_count": 29,
     "metadata": {},
     "output_type": "execute_result"
    }
   ],
   "execution_count": 29
  },
  {
   "metadata": {
    "ExecuteTime": {
     "end_time": "2025-03-24T18:55:51.883716Z",
     "start_time": "2025-03-24T18:55:51.856420Z"
    }
   },
   "cell_type": "code",
   "source": "master.head(2)",
   "id": "c19a34d0c9f85b76",
   "outputs": [
    {
     "data": {
      "text/plain": [
       "    playerID firstName    lastName pos  birthYear  birthMon  birthDay  \\\n",
       "0  aaltoan01     Antti       Aalto   C     1975.0       3.0       4.0   \n",
       "4  abdelju01    Justin  Abdelkader   L     1987.0       2.0      25.0   \n",
       "\n",
       "  birthCountry birthState     birthCity  \n",
       "0      Finland        NaN  Lappeenranta  \n",
       "4          USA         MI      Muskegon  "
      ],
      "text/html": [
       "<div>\n",
       "<style scoped>\n",
       "    .dataframe tbody tr th:only-of-type {\n",
       "        vertical-align: middle;\n",
       "    }\n",
       "\n",
       "    .dataframe tbody tr th {\n",
       "        vertical-align: top;\n",
       "    }\n",
       "\n",
       "    .dataframe thead th {\n",
       "        text-align: right;\n",
       "    }\n",
       "</style>\n",
       "<table border=\"1\" class=\"dataframe\">\n",
       "  <thead>\n",
       "    <tr style=\"text-align: right;\">\n",
       "      <th></th>\n",
       "      <th>playerID</th>\n",
       "      <th>firstName</th>\n",
       "      <th>lastName</th>\n",
       "      <th>pos</th>\n",
       "      <th>birthYear</th>\n",
       "      <th>birthMon</th>\n",
       "      <th>birthDay</th>\n",
       "      <th>birthCountry</th>\n",
       "      <th>birthState</th>\n",
       "      <th>birthCity</th>\n",
       "    </tr>\n",
       "  </thead>\n",
       "  <tbody>\n",
       "    <tr>\n",
       "      <th>0</th>\n",
       "      <td>aaltoan01</td>\n",
       "      <td>Antti</td>\n",
       "      <td>Aalto</td>\n",
       "      <td>C</td>\n",
       "      <td>1975.0</td>\n",
       "      <td>3.0</td>\n",
       "      <td>4.0</td>\n",
       "      <td>Finland</td>\n",
       "      <td>NaN</td>\n",
       "      <td>Lappeenranta</td>\n",
       "    </tr>\n",
       "    <tr>\n",
       "      <th>4</th>\n",
       "      <td>abdelju01</td>\n",
       "      <td>Justin</td>\n",
       "      <td>Abdelkader</td>\n",
       "      <td>L</td>\n",
       "      <td>1987.0</td>\n",
       "      <td>2.0</td>\n",
       "      <td>25.0</td>\n",
       "      <td>USA</td>\n",
       "      <td>MI</td>\n",
       "      <td>Muskegon</td>\n",
       "    </tr>\n",
       "  </tbody>\n",
       "</table>\n",
       "</div>"
      ]
     },
     "execution_count": 30,
     "metadata": {},
     "output_type": "execute_result"
    }
   ],
   "execution_count": 30
  },
  {
   "metadata": {
    "ExecuteTime": {
     "end_time": "2025-03-24T18:57:59.789073Z",
     "start_time": "2025-03-24T18:57:59.781877Z"
    }
   },
   "cell_type": "code",
   "source": "master.memory_usage().sum()",
   "id": "d6dcdb84256b910d",
   "outputs": [
    {
     "data": {
      "text/plain": [
       "np.int64(407176)"
      ]
     },
     "execution_count": 32,
     "metadata": {},
     "output_type": "execute_result"
    }
   ],
   "execution_count": 32
  },
  {
   "metadata": {
    "ExecuteTime": {
     "end_time": "2025-03-24T19:29:53.038455Z",
     "start_time": "2025-03-24T19:29:53.029512Z"
    }
   },
   "cell_type": "code",
   "source": "memory_mib(master)",
   "id": "e553e0745e378fa5",
   "outputs": [
    {
     "data": {
      "text/plain": [
       "'0.39 MiB'"
      ]
     },
     "execution_count": 34,
     "metadata": {},
     "output_type": "execute_result"
    }
   ],
   "execution_count": 34
  },
  {
   "metadata": {
    "ExecuteTime": {
     "end_time": "2025-03-24T19:30:39.905214Z",
     "start_time": "2025-03-24T19:30:39.896523Z"
    }
   },
   "cell_type": "code",
   "source": "memory_mib(master_original)",
   "id": "bb8f2b5ab43f257f",
   "outputs": [
    {
     "data": {
      "text/plain": [
       "'1.84 MiB'"
      ]
     },
     "execution_count": 35,
     "metadata": {},
     "output_type": "execute_result"
    }
   ],
   "execution_count": 35
  },
  {
   "metadata": {
    "ExecuteTime": {
     "end_time": "2025-03-24T19:33:57.423435Z",
     "start_time": "2025-03-24T19:33:57.415111Z"
    }
   },
   "cell_type": "code",
   "source": "master.shape",
   "id": "eb7514125b72706a",
   "outputs": [
    {
     "data": {
      "text/plain": [
       "(4627, 10)"
      ]
     },
     "execution_count": 36,
     "metadata": {},
     "output_type": "execute_result"
    }
   ],
   "execution_count": 36
  },
  {
   "metadata": {
    "ExecuteTime": {
     "end_time": "2025-03-24T19:37:10.654112Z",
     "start_time": "2025-03-24T19:37:10.645266Z"
    }
   },
   "cell_type": "code",
   "source": "master['pos'].value_counts()",
   "id": "88f3c6896648a044",
   "outputs": [
    {
     "data": {
      "text/plain": [
       "pos\n",
       "D      1418\n",
       "C      1037\n",
       "L       848\n",
       "R       832\n",
       "G       463\n",
       "F        28\n",
       "L/C       1\n",
       "Name: count, dtype: int64"
      ]
     },
     "execution_count": 37,
     "metadata": {},
     "output_type": "execute_result"
    }
   ],
   "execution_count": 37
  },
  {
   "metadata": {
    "ExecuteTime": {
     "end_time": "2025-03-24T19:42:24.466398Z",
     "start_time": "2025-03-24T19:42:24.458191Z"
    }
   },
   "cell_type": "code",
   "source": "pd.Categorical(master['pos'])",
   "id": "f7f9e9fa2dc988a6",
   "outputs": [
    {
     "data": {
      "text/plain": [
       "['C', 'L', 'L', 'D', 'C', ..., 'R', 'L', 'L', 'C', 'D']\n",
       "Length: 4627\n",
       "Categories (7, object): ['C', 'D', 'F', 'G', 'L', 'L/C', 'R']"
      ]
     },
     "execution_count": 38,
     "metadata": {},
     "output_type": "execute_result"
    }
   ],
   "execution_count": 38
  },
  {
   "metadata": {
    "ExecuteTime": {
     "end_time": "2025-03-24T20:01:42.544978Z",
     "start_time": "2025-03-24T20:01:42.537950Z"
    }
   },
   "cell_type": "code",
   "source": "master.loc[:, 'pos'] = pd.Categorical(master['pos'])",
   "id": "757aa786525bf8b7",
   "outputs": [],
   "execution_count": 43
  },
  {
   "metadata": {
    "ExecuteTime": {
     "end_time": "2025-03-24T20:01:45.924483Z",
     "start_time": "2025-03-24T20:01:45.915911Z"
    }
   },
   "cell_type": "code",
   "source": "master.dtypes",
   "id": "cad8f93286d6f8a0",
   "outputs": [
    {
     "data": {
      "text/plain": [
       "playerID         object\n",
       "firstName        object\n",
       "lastName         object\n",
       "pos              object\n",
       "birthYear       float64\n",
       "birthMon        float64\n",
       "birthDay        float64\n",
       "birthCountry     object\n",
       "birthState       object\n",
       "birthCity        object\n",
       "dtype: object"
      ]
     },
     "execution_count": 44,
     "metadata": {},
     "output_type": "execute_result"
    }
   ],
   "execution_count": 44
  },
  {
   "metadata": {},
   "cell_type": "code",
   "outputs": [],
   "execution_count": null,
   "source": "",
   "id": "7c22eaf14041f61e"
  },
  {
   "metadata": {},
   "cell_type": "code",
   "outputs": [],
   "execution_count": null,
   "source": "",
   "id": "d756262ebf33d058"
  }
 ],
 "metadata": {
  "kernelspec": {
   "display_name": "Python 3",
   "language": "python",
   "name": "python3"
  },
  "language_info": {
   "codemirror_mode": {
    "name": "ipython",
    "version": 2
   },
   "file_extension": ".py",
   "mimetype": "text/x-python",
   "name": "python",
   "nbconvert_exporter": "python",
   "pygments_lexer": "ipython2",
   "version": "2.7.6"
  }
 },
 "nbformat": 4,
 "nbformat_minor": 5
}
