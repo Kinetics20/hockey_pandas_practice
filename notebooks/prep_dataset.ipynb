{
 "cells": [
  {
   "cell_type": "code",
   "id": "initial_id",
   "metadata": {
    "collapsed": true,
    "ExecuteTime": {
     "end_time": "2025-03-25T13:57:12.426882Z",
     "start_time": "2025-03-25T13:57:12.419550Z"
    }
   },
   "source": [
    "import pandas as pd\n",
    "import numpy as np\n",
    "from helpers.mem import memory_mib\n",
    "\n",
    "from set_paths import RA, INTER"
   ],
   "outputs": [],
   "execution_count": 28
  },
  {
   "metadata": {
    "ExecuteTime": {
     "end_time": "2025-03-25T09:33:24.496325Z",
     "start_time": "2025-03-25T09:33:24.310565Z"
    }
   },
   "cell_type": "code",
   "source": [
    "\n",
    "\n",
    "master = pd.read_csv(RA /'Master.csv')"
   ],
   "id": "a4690e3cd71da7b8",
   "outputs": [],
   "execution_count": 2
  },
  {
   "metadata": {
    "ExecuteTime": {
     "end_time": "2025-03-24T18:15:45.910371Z",
     "start_time": "2025-03-24T18:15:45.866949Z"
    }
   },
   "cell_type": "code",
   "source": "master.head()",
   "id": "82269c2c0d5325b9",
   "outputs": [
    {
     "data": {
      "text/plain": [
       "    playerID coachID hofID firstName    lastName nameNote         nameGiven  \\\n",
       "0  aaltoan01     NaN   NaN     Antti       Aalto      NaN             Antti   \n",
       "1  abbeybr01     NaN   NaN     Bruce       Abbey      NaN             Bruce   \n",
       "2  abbotge01     NaN   NaN    George      Abbott      NaN      George Henry   \n",
       "3  abbotre01     NaN   NaN       Reg      Abbott      NaN  Reginald Stewart   \n",
       "4  abdelju01     NaN   NaN    Justin  Abdelkader      NaN               NaN   \n",
       "\n",
       "   nameNick  height  weight  ... birthDay birthCountry  birthState  \\\n",
       "0       NaN    73.0   210.0  ...      4.0      Finland         NaN   \n",
       "1       NaN    73.0   185.0  ...     18.0       Canada          ON   \n",
       "2  Preacher    67.0   153.0  ...      3.0       Canada          ON   \n",
       "3       NaN    71.0   164.0  ...      4.0       Canada          MB   \n",
       "4       NaN    73.0   195.0  ...     25.0          USA          MI   \n",
       "\n",
       "      birthCity  deathYear  deathMon  deathDay  deathCountry deathState  \\\n",
       "0  Lappeenranta        NaN       NaN       NaN           NaN        NaN   \n",
       "1       Toronto        NaN       NaN       NaN           NaN        NaN   \n",
       "2      Synenham        NaN       NaN       NaN           NaN        NaN   \n",
       "3      Winnipeg        NaN       NaN       NaN           NaN        NaN   \n",
       "4      Muskegon        NaN       NaN       NaN           NaN        NaN   \n",
       "\n",
       "   deathCity  \n",
       "0        NaN  \n",
       "1        NaN  \n",
       "2        NaN  \n",
       "3        NaN  \n",
       "4        NaN  \n",
       "\n",
       "[5 rows x 31 columns]"
      ],
      "text/html": [
       "<div>\n",
       "<style scoped>\n",
       "    .dataframe tbody tr th:only-of-type {\n",
       "        vertical-align: middle;\n",
       "    }\n",
       "\n",
       "    .dataframe tbody tr th {\n",
       "        vertical-align: top;\n",
       "    }\n",
       "\n",
       "    .dataframe thead th {\n",
       "        text-align: right;\n",
       "    }\n",
       "</style>\n",
       "<table border=\"1\" class=\"dataframe\">\n",
       "  <thead>\n",
       "    <tr style=\"text-align: right;\">\n",
       "      <th></th>\n",
       "      <th>playerID</th>\n",
       "      <th>coachID</th>\n",
       "      <th>hofID</th>\n",
       "      <th>firstName</th>\n",
       "      <th>lastName</th>\n",
       "      <th>nameNote</th>\n",
       "      <th>nameGiven</th>\n",
       "      <th>nameNick</th>\n",
       "      <th>height</th>\n",
       "      <th>weight</th>\n",
       "      <th>...</th>\n",
       "      <th>birthDay</th>\n",
       "      <th>birthCountry</th>\n",
       "      <th>birthState</th>\n",
       "      <th>birthCity</th>\n",
       "      <th>deathYear</th>\n",
       "      <th>deathMon</th>\n",
       "      <th>deathDay</th>\n",
       "      <th>deathCountry</th>\n",
       "      <th>deathState</th>\n",
       "      <th>deathCity</th>\n",
       "    </tr>\n",
       "  </thead>\n",
       "  <tbody>\n",
       "    <tr>\n",
       "      <th>0</th>\n",
       "      <td>aaltoan01</td>\n",
       "      <td>NaN</td>\n",
       "      <td>NaN</td>\n",
       "      <td>Antti</td>\n",
       "      <td>Aalto</td>\n",
       "      <td>NaN</td>\n",
       "      <td>Antti</td>\n",
       "      <td>NaN</td>\n",
       "      <td>73.0</td>\n",
       "      <td>210.0</td>\n",
       "      <td>...</td>\n",
       "      <td>4.0</td>\n",
       "      <td>Finland</td>\n",
       "      <td>NaN</td>\n",
       "      <td>Lappeenranta</td>\n",
       "      <td>NaN</td>\n",
       "      <td>NaN</td>\n",
       "      <td>NaN</td>\n",
       "      <td>NaN</td>\n",
       "      <td>NaN</td>\n",
       "      <td>NaN</td>\n",
       "    </tr>\n",
       "    <tr>\n",
       "      <th>1</th>\n",
       "      <td>abbeybr01</td>\n",
       "      <td>NaN</td>\n",
       "      <td>NaN</td>\n",
       "      <td>Bruce</td>\n",
       "      <td>Abbey</td>\n",
       "      <td>NaN</td>\n",
       "      <td>Bruce</td>\n",
       "      <td>NaN</td>\n",
       "      <td>73.0</td>\n",
       "      <td>185.0</td>\n",
       "      <td>...</td>\n",
       "      <td>18.0</td>\n",
       "      <td>Canada</td>\n",
       "      <td>ON</td>\n",
       "      <td>Toronto</td>\n",
       "      <td>NaN</td>\n",
       "      <td>NaN</td>\n",
       "      <td>NaN</td>\n",
       "      <td>NaN</td>\n",
       "      <td>NaN</td>\n",
       "      <td>NaN</td>\n",
       "    </tr>\n",
       "    <tr>\n",
       "      <th>2</th>\n",
       "      <td>abbotge01</td>\n",
       "      <td>NaN</td>\n",
       "      <td>NaN</td>\n",
       "      <td>George</td>\n",
       "      <td>Abbott</td>\n",
       "      <td>NaN</td>\n",
       "      <td>George Henry</td>\n",
       "      <td>Preacher</td>\n",
       "      <td>67.0</td>\n",
       "      <td>153.0</td>\n",
       "      <td>...</td>\n",
       "      <td>3.0</td>\n",
       "      <td>Canada</td>\n",
       "      <td>ON</td>\n",
       "      <td>Synenham</td>\n",
       "      <td>NaN</td>\n",
       "      <td>NaN</td>\n",
       "      <td>NaN</td>\n",
       "      <td>NaN</td>\n",
       "      <td>NaN</td>\n",
       "      <td>NaN</td>\n",
       "    </tr>\n",
       "    <tr>\n",
       "      <th>3</th>\n",
       "      <td>abbotre01</td>\n",
       "      <td>NaN</td>\n",
       "      <td>NaN</td>\n",
       "      <td>Reg</td>\n",
       "      <td>Abbott</td>\n",
       "      <td>NaN</td>\n",
       "      <td>Reginald Stewart</td>\n",
       "      <td>NaN</td>\n",
       "      <td>71.0</td>\n",
       "      <td>164.0</td>\n",
       "      <td>...</td>\n",
       "      <td>4.0</td>\n",
       "      <td>Canada</td>\n",
       "      <td>MB</td>\n",
       "      <td>Winnipeg</td>\n",
       "      <td>NaN</td>\n",
       "      <td>NaN</td>\n",
       "      <td>NaN</td>\n",
       "      <td>NaN</td>\n",
       "      <td>NaN</td>\n",
       "      <td>NaN</td>\n",
       "    </tr>\n",
       "    <tr>\n",
       "      <th>4</th>\n",
       "      <td>abdelju01</td>\n",
       "      <td>NaN</td>\n",
       "      <td>NaN</td>\n",
       "      <td>Justin</td>\n",
       "      <td>Abdelkader</td>\n",
       "      <td>NaN</td>\n",
       "      <td>NaN</td>\n",
       "      <td>NaN</td>\n",
       "      <td>73.0</td>\n",
       "      <td>195.0</td>\n",
       "      <td>...</td>\n",
       "      <td>25.0</td>\n",
       "      <td>USA</td>\n",
       "      <td>MI</td>\n",
       "      <td>Muskegon</td>\n",
       "      <td>NaN</td>\n",
       "      <td>NaN</td>\n",
       "      <td>NaN</td>\n",
       "      <td>NaN</td>\n",
       "      <td>NaN</td>\n",
       "      <td>NaN</td>\n",
       "    </tr>\n",
       "  </tbody>\n",
       "</table>\n",
       "<p>5 rows × 31 columns</p>\n",
       "</div>"
      ]
     },
     "execution_count": 3,
     "metadata": {},
     "output_type": "execute_result"
    }
   ],
   "execution_count": 3
  },
  {
   "metadata": {
    "ExecuteTime": {
     "end_time": "2025-03-24T18:15:51.965604Z",
     "start_time": "2025-03-24T18:15:51.958739Z"
    }
   },
   "cell_type": "code",
   "source": "master.shape",
   "id": "2dce8b669cc7cce4",
   "outputs": [
    {
     "data": {
      "text/plain": [
       "(7761, 31)"
      ]
     },
     "execution_count": 4,
     "metadata": {},
     "output_type": "execute_result"
    }
   ],
   "execution_count": 4
  },
  {
   "metadata": {
    "ExecuteTime": {
     "end_time": "2025-03-24T18:15:53.364947Z",
     "start_time": "2025-03-24T18:15:53.353150Z"
    }
   },
   "cell_type": "code",
   "source": "master.columns",
   "id": "6e5d210dfdb48ac6",
   "outputs": [
    {
     "data": {
      "text/plain": [
       "Index(['playerID', 'coachID', 'hofID', 'firstName', 'lastName', 'nameNote',\n",
       "       'nameGiven', 'nameNick', 'height', 'weight', 'shootCatch', 'legendsID',\n",
       "       'ihdbID', 'hrefID', 'firstNHL', 'lastNHL', 'firstWHA', 'lastWHA', 'pos',\n",
       "       'birthYear', 'birthMon', 'birthDay', 'birthCountry', 'birthState',\n",
       "       'birthCity', 'deathYear', 'deathMon', 'deathDay', 'deathCountry',\n",
       "       'deathState', 'deathCity'],\n",
       "      dtype='object')"
      ]
     },
     "execution_count": 5,
     "metadata": {},
     "output_type": "execute_result"
    }
   ],
   "execution_count": 5
  },
  {
   "metadata": {
    "ExecuteTime": {
     "end_time": "2025-03-24T18:15:55.123405Z",
     "start_time": "2025-03-24T18:15:55.094069Z"
    }
   },
   "cell_type": "code",
   "source": "master.info()",
   "id": "5d6b9aecd42b39ef",
   "outputs": [
    {
     "name": "stdout",
     "output_type": "stream",
     "text": [
      "<class 'pandas.core.frame.DataFrame'>\n",
      "RangeIndex: 7761 entries, 0 to 7760\n",
      "Data columns (total 31 columns):\n",
      " #   Column        Non-Null Count  Dtype  \n",
      "---  ------        --------------  -----  \n",
      " 0   playerID      7520 non-null   object \n",
      " 1   coachID       395 non-null    object \n",
      " 2   hofID         366 non-null    object \n",
      " 3   firstName     7748 non-null   object \n",
      " 4   lastName      7761 non-null   object \n",
      " 5   nameNote      18 non-null     object \n",
      " 6   nameGiven     5985 non-null   object \n",
      " 7   nameNick      1306 non-null   object \n",
      " 8   height        7334 non-null   float64\n",
      " 9   weight        7336 non-null   float64\n",
      " 10  shootCatch    7048 non-null   object \n",
      " 11  legendsID     6577 non-null   object \n",
      " 12  ihdbID        7125 non-null   float64\n",
      " 13  hrefID        7457 non-null   object \n",
      " 14  firstNHL      6851 non-null   float64\n",
      " 15  lastNHL       6851 non-null   float64\n",
      " 16  firstWHA      903 non-null    float64\n",
      " 17  lastWHA       903 non-null    float64\n",
      " 18  pos           7447 non-null   object \n",
      " 19  birthYear     7543 non-null   float64\n",
      " 20  birthMon      7506 non-null   float64\n",
      " 21  birthDay      7504 non-null   float64\n",
      " 22  birthCountry  7396 non-null   object \n",
      " 23  birthState    6324 non-null   object \n",
      " 24  birthCity     7388 non-null   object \n",
      " 25  deathYear     1320 non-null   float64\n",
      " 26  deathMon      1173 non-null   float64\n",
      " 27  deathDay      1168 non-null   float64\n",
      " 28  deathCountry  498 non-null    object \n",
      " 29  deathState    471 non-null    object \n",
      " 30  deathCity     483 non-null    object \n",
      "dtypes: float64(13), object(18)\n",
      "memory usage: 1.8+ MB\n"
     ]
    }
   ],
   "execution_count": 6
  },
  {
   "metadata": {
    "ExecuteTime": {
     "end_time": "2025-03-24T18:15:56.921174Z",
     "start_time": "2025-03-24T18:15:56.904454Z"
    }
   },
   "cell_type": "code",
   "source": "master['hofID'].notnull().sum()",
   "id": "db4813cb21e53405",
   "outputs": [
    {
     "data": {
      "text/plain": [
       "np.int64(366)"
      ]
     },
     "execution_count": 7,
     "metadata": {},
     "output_type": "execute_result"
    }
   ],
   "execution_count": 7
  },
  {
   "metadata": {
    "ExecuteTime": {
     "end_time": "2025-03-24T18:15:58.274714Z",
     "start_time": "2025-03-24T18:15:58.262309Z"
    }
   },
   "cell_type": "code",
   "source": "master['hofID'].isnull().sum()",
   "id": "7615ed095a4c7b86",
   "outputs": [
    {
     "data": {
      "text/plain": [
       "np.int64(7395)"
      ]
     },
     "execution_count": 8,
     "metadata": {},
     "output_type": "execute_result"
    }
   ],
   "execution_count": 8
  },
  {
   "metadata": {
    "ExecuteTime": {
     "end_time": "2025-03-24T18:16:00.665732Z",
     "start_time": "2025-03-24T18:16:00.643232Z"
    }
   },
   "cell_type": "code",
   "source": "master['lastName'].value_counts(normalize=True, sort=True)",
   "id": "63c1b8da64243115",
   "outputs": [
    {
     "data": {
      "text/plain": [
       "lastName\n",
       "Smith        0.008891\n",
       "Brown        0.004123\n",
       "Wilson       0.003994\n",
       "Johnson      0.003479\n",
       "Murray       0.003350\n",
       "               ...   \n",
       "Zinger       0.000129\n",
       "Zimmerman    0.000129\n",
       "Zigomanis    0.000129\n",
       "Adamik       0.000129\n",
       "Adair        0.000129\n",
       "Name: proportion, Length: 5075, dtype: float64"
      ]
     },
     "execution_count": 9,
     "metadata": {},
     "output_type": "execute_result"
    }
   ],
   "execution_count": 9
  },
  {
   "metadata": {
    "ExecuteTime": {
     "end_time": "2025-03-24T18:16:03.521914Z",
     "start_time": "2025-03-24T18:16:03.500561Z"
    }
   },
   "cell_type": "code",
   "source": "master['playerID'].isnull().sum()",
   "id": "81f5297be1c854fb",
   "outputs": [
    {
     "data": {
      "text/plain": [
       "np.int64(241)"
      ]
     },
     "execution_count": 10,
     "metadata": {},
     "output_type": "execute_result"
    }
   ],
   "execution_count": 10
  },
  {
   "metadata": {
    "ExecuteTime": {
     "end_time": "2025-03-24T18:16:05.371428Z",
     "start_time": "2025-03-24T18:16:05.358500Z"
    }
   },
   "cell_type": "code",
   "source": [
    "(master['playerID']\n",
    ".pipe(pd.isnull)\n",
    ".value_counts())"
   ],
   "id": "c66c6f015e476cf1",
   "outputs": [
    {
     "data": {
      "text/plain": [
       "playerID\n",
       "False    7520\n",
       "True      241\n",
       "Name: count, dtype: int64"
      ]
     },
     "execution_count": 11,
     "metadata": {},
     "output_type": "execute_result"
    }
   ],
   "execution_count": 11
  },
  {
   "metadata": {
    "ExecuteTime": {
     "end_time": "2025-03-24T18:16:07.391936Z",
     "start_time": "2025-03-24T18:16:07.379004Z"
    }
   },
   "cell_type": "code",
   "source": [
    "(master['playerID']\n",
    ".pipe(pd.isnull)\n",
    ".value_counts(normalize=True))"
   ],
   "id": "743cdb3a6a0e4b55",
   "outputs": [
    {
     "data": {
      "text/plain": [
       "playerID\n",
       "False    0.968947\n",
       "True     0.031053\n",
       "Name: proportion, dtype: float64"
      ]
     },
     "execution_count": 12,
     "metadata": {},
     "output_type": "execute_result"
    }
   ],
   "execution_count": 12
  },
  {
   "metadata": {
    "ExecuteTime": {
     "end_time": "2025-03-25T09:33:43.764775Z",
     "start_time": "2025-03-25T09:33:43.757942Z"
    }
   },
   "cell_type": "code",
   "source": "master_original = master.copy()",
   "id": "e5c27ecc28733660",
   "outputs": [],
   "execution_count": 3
  },
  {
   "metadata": {
    "ExecuteTime": {
     "end_time": "2025-03-25T09:33:48.716834Z",
     "start_time": "2025-03-25T09:33:48.670600Z"
    }
   },
   "cell_type": "code",
   "source": "master.dropna(subset=['playerID'], inplace=True)",
   "id": "5989756c532edd22",
   "outputs": [],
   "execution_count": 4
  },
  {
   "metadata": {
    "ExecuteTime": {
     "end_time": "2025-03-24T18:16:15.926077Z",
     "start_time": "2025-03-24T18:16:15.916284Z"
    }
   },
   "cell_type": "code",
   "source": "master.shape",
   "id": "966401cb5d40b210",
   "outputs": [
    {
     "data": {
      "text/plain": [
       "(7520, 31)"
      ]
     },
     "execution_count": 15,
     "metadata": {},
     "output_type": "execute_result"
    }
   ],
   "execution_count": 15
  },
  {
   "metadata": {
    "ExecuteTime": {
     "end_time": "2025-03-24T18:16:17.788710Z",
     "start_time": "2025-03-24T18:16:17.779443Z"
    }
   },
   "cell_type": "code",
   "source": [
    "(master['playerID']\n",
    ".pipe(pd.isnull)\n",
    ".value_counts())"
   ],
   "id": "69a95c2f81289684",
   "outputs": [
    {
     "data": {
      "text/plain": [
       "playerID\n",
       "False    7520\n",
       "Name: count, dtype: int64"
      ]
     },
     "execution_count": 16,
     "metadata": {},
     "output_type": "execute_result"
    }
   ],
   "execution_count": 16
  },
  {
   "metadata": {
    "ExecuteTime": {
     "end_time": "2025-03-25T09:34:03.077665Z",
     "start_time": "2025-03-25T09:34:03.062764Z"
    }
   },
   "cell_type": "code",
   "source": "master.dropna(subset=['firstNHL', 'lastNHL'], how='all', inplace=True)",
   "id": "387742d099813852",
   "outputs": [],
   "execution_count": 5
  },
  {
   "metadata": {
    "ExecuteTime": {
     "end_time": "2025-03-24T18:16:25.468929Z",
     "start_time": "2025-03-24T18:16:25.463456Z"
    }
   },
   "cell_type": "code",
   "source": "master.shape",
   "id": "5bf4d1832ea90932",
   "outputs": [
    {
     "data": {
      "text/plain": [
       "(6851, 31)"
      ]
     },
     "execution_count": 18,
     "metadata": {},
     "output_type": "execute_result"
    }
   ],
   "execution_count": 18
  },
  {
   "metadata": {
    "ExecuteTime": {
     "end_time": "2025-03-24T18:16:27.320540Z",
     "start_time": "2025-03-24T18:16:27.304646Z"
    }
   },
   "cell_type": "code",
   "source": "master['lastNHL'].dtypes",
   "id": "ddb0450719460c5d",
   "outputs": [
    {
     "data": {
      "text/plain": [
       "dtype('float64')"
      ]
     },
     "execution_count": 19,
     "metadata": {},
     "output_type": "execute_result"
    }
   ],
   "execution_count": 19
  },
  {
   "metadata": {
    "ExecuteTime": {
     "end_time": "2025-03-25T09:34:14.412207Z",
     "start_time": "2025-03-25T09:34:14.402327Z"
    }
   },
   "cell_type": "code",
   "source": "master = master.loc[master['lastNHL'] >= 1980]",
   "id": "ec2a65bda2a15fe0",
   "outputs": [],
   "execution_count": 6
  },
  {
   "metadata": {
    "ExecuteTime": {
     "end_time": "2025-03-25T09:34:18.339432Z",
     "start_time": "2025-03-25T09:34:18.333553Z"
    }
   },
   "cell_type": "code",
   "source": [
    "columns_to_keep = [\"playerID\", \"firstName\", \"lastName\",\n",
    "                   \"pos\", \"birthYear\", \"birthMon\", \"birthDay\",\n",
    "                   \"birthCountry\", \"birthState\", \"birthCity\"]\n"
   ],
   "id": "e3d491db9718b6cf",
   "outputs": [],
   "execution_count": 7
  },
  {
   "metadata": {
    "ExecuteTime": {
     "end_time": "2025-03-24T18:16:35.489907Z",
     "start_time": "2025-03-24T18:16:35.478675Z"
    }
   },
   "cell_type": "code",
   "source": "master[columns_to_keep].shape",
   "id": "c92efe27db5bf51e",
   "outputs": [
    {
     "data": {
      "text/plain": [
       "(4627, 10)"
      ]
     },
     "execution_count": 22,
     "metadata": {},
     "output_type": "execute_result"
    }
   ],
   "execution_count": 22
  },
  {
   "metadata": {
    "ExecuteTime": {
     "end_time": "2025-03-24T18:16:38.124459Z",
     "start_time": "2025-03-24T18:16:38.109377Z"
    }
   },
   "cell_type": "code",
   "source": "master[[\"playerID\", \"firstName\"]]",
   "id": "7dbd19a6b296f0ff",
   "outputs": [
    {
     "data": {
      "text/plain": [
       "       playerID firstName\n",
       "0     aaltoan01     Antti\n",
       "4     abdelju01    Justin\n",
       "9      abidra01     Ramzi\n",
       "11    abrahth01    Thommy\n",
       "14    actonke01     Keith\n",
       "...         ...       ...\n",
       "7754  zubruda01   Dainius\n",
       "7755  zuccama01      Mats\n",
       "7756  zuckeja01     Jason\n",
       "7757   zukemi01      Mike\n",
       "7760  zyuzian01    Andrei\n",
       "\n",
       "[4627 rows x 2 columns]"
      ],
      "text/html": [
       "<div>\n",
       "<style scoped>\n",
       "    .dataframe tbody tr th:only-of-type {\n",
       "        vertical-align: middle;\n",
       "    }\n",
       "\n",
       "    .dataframe tbody tr th {\n",
       "        vertical-align: top;\n",
       "    }\n",
       "\n",
       "    .dataframe thead th {\n",
       "        text-align: right;\n",
       "    }\n",
       "</style>\n",
       "<table border=\"1\" class=\"dataframe\">\n",
       "  <thead>\n",
       "    <tr style=\"text-align: right;\">\n",
       "      <th></th>\n",
       "      <th>playerID</th>\n",
       "      <th>firstName</th>\n",
       "    </tr>\n",
       "  </thead>\n",
       "  <tbody>\n",
       "    <tr>\n",
       "      <th>0</th>\n",
       "      <td>aaltoan01</td>\n",
       "      <td>Antti</td>\n",
       "    </tr>\n",
       "    <tr>\n",
       "      <th>4</th>\n",
       "      <td>abdelju01</td>\n",
       "      <td>Justin</td>\n",
       "    </tr>\n",
       "    <tr>\n",
       "      <th>9</th>\n",
       "      <td>abidra01</td>\n",
       "      <td>Ramzi</td>\n",
       "    </tr>\n",
       "    <tr>\n",
       "      <th>11</th>\n",
       "      <td>abrahth01</td>\n",
       "      <td>Thommy</td>\n",
       "    </tr>\n",
       "    <tr>\n",
       "      <th>14</th>\n",
       "      <td>actonke01</td>\n",
       "      <td>Keith</td>\n",
       "    </tr>\n",
       "    <tr>\n",
       "      <th>...</th>\n",
       "      <td>...</td>\n",
       "      <td>...</td>\n",
       "    </tr>\n",
       "    <tr>\n",
       "      <th>7754</th>\n",
       "      <td>zubruda01</td>\n",
       "      <td>Dainius</td>\n",
       "    </tr>\n",
       "    <tr>\n",
       "      <th>7755</th>\n",
       "      <td>zuccama01</td>\n",
       "      <td>Mats</td>\n",
       "    </tr>\n",
       "    <tr>\n",
       "      <th>7756</th>\n",
       "      <td>zuckeja01</td>\n",
       "      <td>Jason</td>\n",
       "    </tr>\n",
       "    <tr>\n",
       "      <th>7757</th>\n",
       "      <td>zukemi01</td>\n",
       "      <td>Mike</td>\n",
       "    </tr>\n",
       "    <tr>\n",
       "      <th>7760</th>\n",
       "      <td>zyuzian01</td>\n",
       "      <td>Andrei</td>\n",
       "    </tr>\n",
       "  </tbody>\n",
       "</table>\n",
       "<p>4627 rows × 2 columns</p>\n",
       "</div>"
      ]
     },
     "execution_count": 23,
     "metadata": {},
     "output_type": "execute_result"
    }
   ],
   "execution_count": 23
  },
  {
   "metadata": {
    "ExecuteTime": {
     "end_time": "2025-03-24T18:16:57.760672Z",
     "start_time": "2025-03-24T18:16:57.738924Z"
    }
   },
   "cell_type": "code",
   "source": "master[[\"firstName\", \"playerID\"]]",
   "id": "4513f51de9e2ebe2",
   "outputs": [
    {
     "data": {
      "text/plain": [
       "     firstName   playerID\n",
       "0        Antti  aaltoan01\n",
       "4       Justin  abdelju01\n",
       "9        Ramzi   abidra01\n",
       "11      Thommy  abrahth01\n",
       "14       Keith  actonke01\n",
       "...        ...        ...\n",
       "7754   Dainius  zubruda01\n",
       "7755      Mats  zuccama01\n",
       "7756     Jason  zuckeja01\n",
       "7757      Mike   zukemi01\n",
       "7760    Andrei  zyuzian01\n",
       "\n",
       "[4627 rows x 2 columns]"
      ],
      "text/html": [
       "<div>\n",
       "<style scoped>\n",
       "    .dataframe tbody tr th:only-of-type {\n",
       "        vertical-align: middle;\n",
       "    }\n",
       "\n",
       "    .dataframe tbody tr th {\n",
       "        vertical-align: top;\n",
       "    }\n",
       "\n",
       "    .dataframe thead th {\n",
       "        text-align: right;\n",
       "    }\n",
       "</style>\n",
       "<table border=\"1\" class=\"dataframe\">\n",
       "  <thead>\n",
       "    <tr style=\"text-align: right;\">\n",
       "      <th></th>\n",
       "      <th>firstName</th>\n",
       "      <th>playerID</th>\n",
       "    </tr>\n",
       "  </thead>\n",
       "  <tbody>\n",
       "    <tr>\n",
       "      <th>0</th>\n",
       "      <td>Antti</td>\n",
       "      <td>aaltoan01</td>\n",
       "    </tr>\n",
       "    <tr>\n",
       "      <th>4</th>\n",
       "      <td>Justin</td>\n",
       "      <td>abdelju01</td>\n",
       "    </tr>\n",
       "    <tr>\n",
       "      <th>9</th>\n",
       "      <td>Ramzi</td>\n",
       "      <td>abidra01</td>\n",
       "    </tr>\n",
       "    <tr>\n",
       "      <th>11</th>\n",
       "      <td>Thommy</td>\n",
       "      <td>abrahth01</td>\n",
       "    </tr>\n",
       "    <tr>\n",
       "      <th>14</th>\n",
       "      <td>Keith</td>\n",
       "      <td>actonke01</td>\n",
       "    </tr>\n",
       "    <tr>\n",
       "      <th>...</th>\n",
       "      <td>...</td>\n",
       "      <td>...</td>\n",
       "    </tr>\n",
       "    <tr>\n",
       "      <th>7754</th>\n",
       "      <td>Dainius</td>\n",
       "      <td>zubruda01</td>\n",
       "    </tr>\n",
       "    <tr>\n",
       "      <th>7755</th>\n",
       "      <td>Mats</td>\n",
       "      <td>zuccama01</td>\n",
       "    </tr>\n",
       "    <tr>\n",
       "      <th>7756</th>\n",
       "      <td>Jason</td>\n",
       "      <td>zuckeja01</td>\n",
       "    </tr>\n",
       "    <tr>\n",
       "      <th>7757</th>\n",
       "      <td>Mike</td>\n",
       "      <td>zukemi01</td>\n",
       "    </tr>\n",
       "    <tr>\n",
       "      <th>7760</th>\n",
       "      <td>Andrei</td>\n",
       "      <td>zyuzian01</td>\n",
       "    </tr>\n",
       "  </tbody>\n",
       "</table>\n",
       "<p>4627 rows × 2 columns</p>\n",
       "</div>"
      ]
     },
     "execution_count": 24,
     "metadata": {},
     "output_type": "execute_result"
    }
   ],
   "execution_count": 24
  },
  {
   "metadata": {},
   "cell_type": "markdown",
   "source": [
    "[regex101](https://regex101.com/)\n",
    "\n",
    "### to regular expressions"
   ],
   "id": "18d584017282482"
  },
  {
   "metadata": {
    "ExecuteTime": {
     "end_time": "2025-03-24T18:16:58.162336Z",
     "start_time": "2025-03-24T18:16:58.142033Z"
    }
   },
   "cell_type": "code",
   "source": "master.filter(regex='(playerID|pos|^birth)|(Name$)').shape",
   "id": "3496f2fd72ad1f29",
   "outputs": [
    {
     "data": {
      "text/plain": [
       "(4627, 10)"
      ]
     },
     "execution_count": 25,
     "metadata": {},
     "output_type": "execute_result"
    }
   ],
   "execution_count": 25
  },
  {
   "metadata": {
    "ExecuteTime": {
     "end_time": "2025-03-24T18:50:53.988333Z",
     "start_time": "2025-03-24T18:50:53.978312Z"
    }
   },
   "cell_type": "code",
   "source": "master.filter(regex='playerID|pos|^birth|Name$').shape",
   "id": "42c2b9671290b0a0",
   "outputs": [
    {
     "data": {
      "text/plain": [
       "(4627, 10)"
      ]
     },
     "execution_count": 26,
     "metadata": {},
     "output_type": "execute_result"
    }
   ],
   "execution_count": 26
  },
  {
   "metadata": {
    "ExecuteTime": {
     "end_time": "2025-03-25T09:34:40.902913Z",
     "start_time": "2025-03-25T09:34:40.890180Z"
    }
   },
   "cell_type": "code",
   "source": "master = master[columns_to_keep]",
   "id": "2cf409fd71555430",
   "outputs": [],
   "execution_count": 8
  },
  {
   "metadata": {
    "ExecuteTime": {
     "end_time": "2025-03-24T18:55:38.989433Z",
     "start_time": "2025-03-24T18:55:38.982916Z"
    }
   },
   "cell_type": "code",
   "source": "master.shape",
   "id": "e19ae5a76bcfdb12",
   "outputs": [
    {
     "data": {
      "text/plain": [
       "(4627, 10)"
      ]
     },
     "execution_count": 29,
     "metadata": {},
     "output_type": "execute_result"
    }
   ],
   "execution_count": 29
  },
  {
   "metadata": {
    "ExecuteTime": {
     "end_time": "2025-03-24T18:55:51.883716Z",
     "start_time": "2025-03-24T18:55:51.856420Z"
    }
   },
   "cell_type": "code",
   "source": "master.head(2)",
   "id": "c19a34d0c9f85b76",
   "outputs": [
    {
     "data": {
      "text/plain": [
       "    playerID firstName    lastName pos  birthYear  birthMon  birthDay  \\\n",
       "0  aaltoan01     Antti       Aalto   C     1975.0       3.0       4.0   \n",
       "4  abdelju01    Justin  Abdelkader   L     1987.0       2.0      25.0   \n",
       "\n",
       "  birthCountry birthState     birthCity  \n",
       "0      Finland        NaN  Lappeenranta  \n",
       "4          USA         MI      Muskegon  "
      ],
      "text/html": [
       "<div>\n",
       "<style scoped>\n",
       "    .dataframe tbody tr th:only-of-type {\n",
       "        vertical-align: middle;\n",
       "    }\n",
       "\n",
       "    .dataframe tbody tr th {\n",
       "        vertical-align: top;\n",
       "    }\n",
       "\n",
       "    .dataframe thead th {\n",
       "        text-align: right;\n",
       "    }\n",
       "</style>\n",
       "<table border=\"1\" class=\"dataframe\">\n",
       "  <thead>\n",
       "    <tr style=\"text-align: right;\">\n",
       "      <th></th>\n",
       "      <th>playerID</th>\n",
       "      <th>firstName</th>\n",
       "      <th>lastName</th>\n",
       "      <th>pos</th>\n",
       "      <th>birthYear</th>\n",
       "      <th>birthMon</th>\n",
       "      <th>birthDay</th>\n",
       "      <th>birthCountry</th>\n",
       "      <th>birthState</th>\n",
       "      <th>birthCity</th>\n",
       "    </tr>\n",
       "  </thead>\n",
       "  <tbody>\n",
       "    <tr>\n",
       "      <th>0</th>\n",
       "      <td>aaltoan01</td>\n",
       "      <td>Antti</td>\n",
       "      <td>Aalto</td>\n",
       "      <td>C</td>\n",
       "      <td>1975.0</td>\n",
       "      <td>3.0</td>\n",
       "      <td>4.0</td>\n",
       "      <td>Finland</td>\n",
       "      <td>NaN</td>\n",
       "      <td>Lappeenranta</td>\n",
       "    </tr>\n",
       "    <tr>\n",
       "      <th>4</th>\n",
       "      <td>abdelju01</td>\n",
       "      <td>Justin</td>\n",
       "      <td>Abdelkader</td>\n",
       "      <td>L</td>\n",
       "      <td>1987.0</td>\n",
       "      <td>2.0</td>\n",
       "      <td>25.0</td>\n",
       "      <td>USA</td>\n",
       "      <td>MI</td>\n",
       "      <td>Muskegon</td>\n",
       "    </tr>\n",
       "  </tbody>\n",
       "</table>\n",
       "</div>"
      ]
     },
     "execution_count": 30,
     "metadata": {},
     "output_type": "execute_result"
    }
   ],
   "execution_count": 30
  },
  {
   "metadata": {
    "ExecuteTime": {
     "end_time": "2025-03-24T18:57:59.789073Z",
     "start_time": "2025-03-24T18:57:59.781877Z"
    }
   },
   "cell_type": "code",
   "source": "master.memory_usage().sum()",
   "id": "d6dcdb84256b910d",
   "outputs": [
    {
     "data": {
      "text/plain": [
       "np.int64(407176)"
      ]
     },
     "execution_count": 32,
     "metadata": {},
     "output_type": "execute_result"
    }
   ],
   "execution_count": 32
  },
  {
   "metadata": {
    "ExecuteTime": {
     "end_time": "2025-03-25T09:34:52.964222Z",
     "start_time": "2025-03-25T09:34:52.951224Z"
    }
   },
   "cell_type": "code",
   "source": "memory_mib(master)",
   "id": "e553e0745e378fa5",
   "outputs": [
    {
     "data": {
      "text/plain": [
       "'0.39 MiB'"
      ]
     },
     "execution_count": 9,
     "metadata": {},
     "output_type": "execute_result"
    }
   ],
   "execution_count": 9
  },
  {
   "metadata": {
    "ExecuteTime": {
     "end_time": "2025-03-25T09:34:55.868382Z",
     "start_time": "2025-03-25T09:34:55.855606Z"
    }
   },
   "cell_type": "code",
   "source": "memory_mib(master_original)",
   "id": "bb8f2b5ab43f257f",
   "outputs": [
    {
     "data": {
      "text/plain": [
       "'1.84 MiB'"
      ]
     },
     "execution_count": 10,
     "metadata": {},
     "output_type": "execute_result"
    }
   ],
   "execution_count": 10
  },
  {
   "metadata": {
    "ExecuteTime": {
     "end_time": "2025-03-24T19:33:57.423435Z",
     "start_time": "2025-03-24T19:33:57.415111Z"
    }
   },
   "cell_type": "code",
   "source": "master.shape",
   "id": "eb7514125b72706a",
   "outputs": [
    {
     "data": {
      "text/plain": [
       "(4627, 10)"
      ]
     },
     "execution_count": 36,
     "metadata": {},
     "output_type": "execute_result"
    }
   ],
   "execution_count": 36
  },
  {
   "metadata": {
    "ExecuteTime": {
     "end_time": "2025-03-25T09:35:02.149836Z",
     "start_time": "2025-03-25T09:35:02.119888Z"
    }
   },
   "cell_type": "code",
   "source": "master['pos'].value_counts()",
   "id": "88f3c6896648a044",
   "outputs": [
    {
     "data": {
      "text/plain": [
       "pos\n",
       "D      1418\n",
       "C      1037\n",
       "L       848\n",
       "R       832\n",
       "G       463\n",
       "F        28\n",
       "L/C       1\n",
       "Name: count, dtype: int64"
      ]
     },
     "execution_count": 11,
     "metadata": {},
     "output_type": "execute_result"
    }
   ],
   "execution_count": 11
  },
  {
   "metadata": {
    "ExecuteTime": {
     "end_time": "2025-03-24T19:42:24.466398Z",
     "start_time": "2025-03-24T19:42:24.458191Z"
    }
   },
   "cell_type": "code",
   "source": "pd.Categorical(master['pos'])",
   "id": "f7f9e9fa2dc988a6",
   "outputs": [
    {
     "data": {
      "text/plain": [
       "['C', 'L', 'L', 'D', 'C', ..., 'R', 'L', 'L', 'C', 'D']\n",
       "Length: 4627\n",
       "Categories (7, object): ['C', 'D', 'F', 'G', 'L', 'L/C', 'R']"
      ]
     },
     "execution_count": 38,
     "metadata": {},
     "output_type": "execute_result"
    }
   ],
   "execution_count": 38
  },
  {
   "metadata": {
    "ExecuteTime": {
     "end_time": "2025-03-25T09:35:22.209477Z",
     "start_time": "2025-03-25T09:35:22.201945Z"
    }
   },
   "cell_type": "code",
   "source": "master.loc[:, 'pos'] = pd.Categorical(master['pos'])",
   "id": "757aa786525bf8b7",
   "outputs": [],
   "execution_count": 12
  },
  {
   "metadata": {
    "ExecuteTime": {
     "end_time": "2025-03-25T09:36:02.102010Z",
     "start_time": "2025-03-25T09:36:02.095132Z"
    }
   },
   "cell_type": "code",
   "source": "master['pos'] = pd.Categorical(master['pos'])",
   "id": "f4890d0b384aba88",
   "outputs": [],
   "execution_count": 14
  },
  {
   "metadata": {
    "ExecuteTime": {
     "end_time": "2025-03-25T09:36:12.016778Z",
     "start_time": "2025-03-25T09:36:12.004337Z"
    }
   },
   "cell_type": "code",
   "source": "master.dtypes",
   "id": "cad8f93286d6f8a0",
   "outputs": [
    {
     "data": {
      "text/plain": [
       "playerID          object\n",
       "firstName         object\n",
       "lastName          object\n",
       "pos             category\n",
       "birthYear        float64\n",
       "birthMon         float64\n",
       "birthDay         float64\n",
       "birthCountry      object\n",
       "birthState        object\n",
       "birthCity         object\n",
       "dtype: object"
      ]
     },
     "execution_count": 15,
     "metadata": {},
     "output_type": "execute_result"
    }
   ],
   "execution_count": 15
  },
  {
   "metadata": {
    "ExecuteTime": {
     "end_time": "2025-03-25T10:47:24.517488Z",
     "start_time": "2025-03-25T10:47:24.498868Z"
    }
   },
   "cell_type": "code",
   "source": "master['pos'].info",
   "id": "7c22eaf14041f61e",
   "outputs": [
    {
     "data": {
      "text/plain": [
       "<bound method Series.info of 0       C\n",
       "4       L\n",
       "9       L\n",
       "11      D\n",
       "14      C\n",
       "       ..\n",
       "7754    R\n",
       "7755    L\n",
       "7756    L\n",
       "7757    C\n",
       "7760    D\n",
       "Name: pos, Length: 4627, dtype: category\n",
       "Categories (7, object): ['C', 'D', 'F', 'G', 'L', 'L/C', 'R']>"
      ]
     },
     "execution_count": 19,
     "metadata": {},
     "output_type": "execute_result"
    }
   ],
   "execution_count": 19
  },
  {
   "metadata": {
    "ExecuteTime": {
     "end_time": "2025-03-25T10:59:50.100174Z",
     "start_time": "2025-03-25T10:59:50.086901Z"
    }
   },
   "cell_type": "code",
   "source": "memory_mib(master)",
   "id": "d756262ebf33d058",
   "outputs": [
    {
     "data": {
      "text/plain": [
       "'0.36 MiB'"
      ]
     },
     "execution_count": 20,
     "metadata": {},
     "output_type": "execute_result"
    }
   ],
   "execution_count": 20
  },
  {
   "metadata": {
    "ExecuteTime": {
     "end_time": "2025-03-25T11:01:17.791247Z",
     "start_time": "2025-03-25T11:01:17.780899Z"
    }
   },
   "cell_type": "code",
   "source": "master.memory_usage()",
   "id": "2f9fbe4a269e4042",
   "outputs": [
    {
     "data": {
      "text/plain": [
       "Index           37016\n",
       "playerID        37016\n",
       "firstName       37016\n",
       "lastName        37016\n",
       "pos              4983\n",
       "birthYear       37016\n",
       "birthMon        37016\n",
       "birthDay        37016\n",
       "birthCountry    37016\n",
       "birthState      37016\n",
       "birthCity       37016\n",
       "dtype: int64"
      ]
     },
     "execution_count": 21,
     "metadata": {},
     "output_type": "execute_result"
    }
   ],
   "execution_count": 21
  },
  {
   "metadata": {
    "ExecuteTime": {
     "end_time": "2025-03-25T11:20:27.115370Z",
     "start_time": "2025-03-25T11:20:27.102549Z"
    }
   },
   "cell_type": "code",
   "source": [
    "master['birthCountry'] = pd.Categorical(master['birthCountry'])\n",
    "master['birthState'] = pd.Categorical(master['birthState'])"
   ],
   "id": "326604a0d392501e",
   "outputs": [],
   "execution_count": 22
  },
  {
   "metadata": {
    "ExecuteTime": {
     "end_time": "2025-03-25T11:20:36.215364Z",
     "start_time": "2025-03-25T11:20:36.200251Z"
    }
   },
   "cell_type": "code",
   "source": "master.dtypes",
   "id": "2247214c8d8a7071",
   "outputs": [
    {
     "data": {
      "text/plain": [
       "playerID          object\n",
       "firstName         object\n",
       "lastName          object\n",
       "pos             category\n",
       "birthYear        float64\n",
       "birthMon         float64\n",
       "birthDay         float64\n",
       "birthCountry    category\n",
       "birthState      category\n",
       "birthCity         object\n",
       "dtype: object"
      ]
     },
     "execution_count": 23,
     "metadata": {},
     "output_type": "execute_result"
    }
   ],
   "execution_count": 23
  },
  {
   "metadata": {
    "ExecuteTime": {
     "end_time": "2025-03-25T11:24:09.173251Z",
     "start_time": "2025-03-25T11:24:09.163750Z"
    }
   },
   "cell_type": "code",
   "source": "master.set_index('playerID', inplace=True)",
   "id": "34a776f2149c3047",
   "outputs": [],
   "execution_count": 24
  },
  {
   "metadata": {
    "ExecuteTime": {
     "end_time": "2025-03-25T11:24:23.816782Z",
     "start_time": "2025-03-25T11:24:23.781609Z"
    }
   },
   "cell_type": "code",
   "source": "master.head()",
   "id": "662bba6b44f6e44c",
   "outputs": [
    {
     "data": {
      "text/plain": [
       "          firstName     lastName pos  birthYear  birthMon  birthDay  \\\n",
       "playerID                                                              \n",
       "aaltoan01     Antti        Aalto   C     1975.0       3.0       4.0   \n",
       "abdelju01    Justin   Abdelkader   L     1987.0       2.0      25.0   \n",
       "abidra01      Ramzi         Abid   L     1980.0       3.0      24.0   \n",
       "abrahth01    Thommy  Abrahamsson   D     1947.0       4.0      12.0   \n",
       "actonke01     Keith        Acton   C     1958.0       4.0      15.0   \n",
       "\n",
       "          birthCountry birthState     birthCity  \n",
       "playerID                                         \n",
       "aaltoan01      Finland        NaN  Lappeenranta  \n",
       "abdelju01          USA         MI      Muskegon  \n",
       "abidra01        Canada         QC      Montreal  \n",
       "abrahth01       Sweden        NaN       Leksand  \n",
       "actonke01       Canada         ON   Stouffville  "
      ],
      "text/html": [
       "<div>\n",
       "<style scoped>\n",
       "    .dataframe tbody tr th:only-of-type {\n",
       "        vertical-align: middle;\n",
       "    }\n",
       "\n",
       "    .dataframe tbody tr th {\n",
       "        vertical-align: top;\n",
       "    }\n",
       "\n",
       "    .dataframe thead th {\n",
       "        text-align: right;\n",
       "    }\n",
       "</style>\n",
       "<table border=\"1\" class=\"dataframe\">\n",
       "  <thead>\n",
       "    <tr style=\"text-align: right;\">\n",
       "      <th></th>\n",
       "      <th>firstName</th>\n",
       "      <th>lastName</th>\n",
       "      <th>pos</th>\n",
       "      <th>birthYear</th>\n",
       "      <th>birthMon</th>\n",
       "      <th>birthDay</th>\n",
       "      <th>birthCountry</th>\n",
       "      <th>birthState</th>\n",
       "      <th>birthCity</th>\n",
       "    </tr>\n",
       "    <tr>\n",
       "      <th>playerID</th>\n",
       "      <th></th>\n",
       "      <th></th>\n",
       "      <th></th>\n",
       "      <th></th>\n",
       "      <th></th>\n",
       "      <th></th>\n",
       "      <th></th>\n",
       "      <th></th>\n",
       "      <th></th>\n",
       "    </tr>\n",
       "  </thead>\n",
       "  <tbody>\n",
       "    <tr>\n",
       "      <th>aaltoan01</th>\n",
       "      <td>Antti</td>\n",
       "      <td>Aalto</td>\n",
       "      <td>C</td>\n",
       "      <td>1975.0</td>\n",
       "      <td>3.0</td>\n",
       "      <td>4.0</td>\n",
       "      <td>Finland</td>\n",
       "      <td>NaN</td>\n",
       "      <td>Lappeenranta</td>\n",
       "    </tr>\n",
       "    <tr>\n",
       "      <th>abdelju01</th>\n",
       "      <td>Justin</td>\n",
       "      <td>Abdelkader</td>\n",
       "      <td>L</td>\n",
       "      <td>1987.0</td>\n",
       "      <td>2.0</td>\n",
       "      <td>25.0</td>\n",
       "      <td>USA</td>\n",
       "      <td>MI</td>\n",
       "      <td>Muskegon</td>\n",
       "    </tr>\n",
       "    <tr>\n",
       "      <th>abidra01</th>\n",
       "      <td>Ramzi</td>\n",
       "      <td>Abid</td>\n",
       "      <td>L</td>\n",
       "      <td>1980.0</td>\n",
       "      <td>3.0</td>\n",
       "      <td>24.0</td>\n",
       "      <td>Canada</td>\n",
       "      <td>QC</td>\n",
       "      <td>Montreal</td>\n",
       "    </tr>\n",
       "    <tr>\n",
       "      <th>abrahth01</th>\n",
       "      <td>Thommy</td>\n",
       "      <td>Abrahamsson</td>\n",
       "      <td>D</td>\n",
       "      <td>1947.0</td>\n",
       "      <td>4.0</td>\n",
       "      <td>12.0</td>\n",
       "      <td>Sweden</td>\n",
       "      <td>NaN</td>\n",
       "      <td>Leksand</td>\n",
       "    </tr>\n",
       "    <tr>\n",
       "      <th>actonke01</th>\n",
       "      <td>Keith</td>\n",
       "      <td>Acton</td>\n",
       "      <td>C</td>\n",
       "      <td>1958.0</td>\n",
       "      <td>4.0</td>\n",
       "      <td>15.0</td>\n",
       "      <td>Canada</td>\n",
       "      <td>ON</td>\n",
       "      <td>Stouffville</td>\n",
       "    </tr>\n",
       "  </tbody>\n",
       "</table>\n",
       "</div>"
      ]
     },
     "execution_count": 25,
     "metadata": {},
     "output_type": "execute_result"
    }
   ],
   "execution_count": 25
  },
  {
   "metadata": {
    "ExecuteTime": {
     "end_time": "2025-03-25T11:26:42.060517Z",
     "start_time": "2025-03-25T11:26:42.041470Z"
    }
   },
   "cell_type": "code",
   "source": "master.columns",
   "id": "94afced1ff53a0c5",
   "outputs": [
    {
     "data": {
      "text/plain": [
       "Index(['firstName', 'lastName', 'pos', 'birthYear', 'birthMon', 'birthDay',\n",
       "       'birthCountry', 'birthState', 'birthCity'],\n",
       "      dtype='object')"
      ]
     },
     "execution_count": 26,
     "metadata": {},
     "output_type": "execute_result"
    }
   ],
   "execution_count": 26
  },
  {
   "metadata": {
    "ExecuteTime": {
     "end_time": "2025-03-25T13:43:36.858071Z",
     "start_time": "2025-03-25T13:43:36.816423Z"
    }
   },
   "cell_type": "code",
   "source": "master.dtypes",
   "id": "76e1042f1d71a26b",
   "outputs": [
    {
     "data": {
      "text/plain": [
       "firstName         object\n",
       "lastName          object\n",
       "pos             category\n",
       "birthYear        float64\n",
       "birthMon         float64\n",
       "birthDay         float64\n",
       "birthCountry    category\n",
       "birthState      category\n",
       "birthCity         object\n",
       "dtype: object"
      ]
     },
     "execution_count": 27,
     "metadata": {},
     "output_type": "execute_result"
    }
   ],
   "execution_count": 27
  },
  {
   "metadata": {
    "ExecuteTime": {
     "end_time": "2025-03-25T13:58:33.936130Z",
     "start_time": "2025-03-25T13:58:33.912311Z"
    }
   },
   "cell_type": "code",
   "source": "master.to_pickle(INTER / 'master_2.pkl')",
   "id": "d6fb7383a814d3ea",
   "outputs": [],
   "execution_count": 29
  },
  {
   "metadata": {},
   "cell_type": "markdown",
   "source": "---",
   "id": "350a623af8fbaac8"
  },
  {
   "metadata": {
    "ExecuteTime": {
     "end_time": "2025-03-25T14:49:19.152025Z",
     "start_time": "2025-03-25T14:49:18.969747Z"
    }
   },
   "cell_type": "code",
   "source": "scoring = pd.read_csv(RA/'Scoring.csv')",
   "id": "8274840d01918a4c",
   "outputs": [],
   "execution_count": 48
  },
  {
   "metadata": {
    "ExecuteTime": {
     "end_time": "2025-03-25T14:49:24.336787Z",
     "start_time": "2025-03-25T14:49:24.323598Z"
    }
   },
   "cell_type": "code",
   "source": "memory_mib(scoring)",
   "id": "8974ded6b954f36d",
   "outputs": [
    {
     "data": {
      "text/plain": [
       "'10.87 MiB'"
      ]
     },
     "execution_count": 49,
     "metadata": {},
     "output_type": "execute_result"
    }
   ],
   "execution_count": 49
  },
  {
   "metadata": {
    "ExecuteTime": {
     "end_time": "2025-03-25T14:12:16.083832Z",
     "start_time": "2025-03-25T14:12:16.070033Z"
    }
   },
   "cell_type": "code",
   "source": "scoring.columns",
   "id": "30eea8e7a452bb78",
   "outputs": [
    {
     "data": {
      "text/plain": [
       "Index(['playerID', 'year', 'stint', 'tmID', 'lgID', 'pos', 'GP', 'G', 'A',\n",
       "       'Pts', 'PIM', '+/-', 'PPG', 'PPA', 'SHG', 'SHA', 'GWG', 'GTG', 'SOG',\n",
       "       'PostGP', 'PostG', 'PostA', 'PostPts', 'PostPIM', 'Post+/-', 'PostPPG',\n",
       "       'PostPPA', 'PostSHG', 'PostSHA', 'PostGWG', 'PostSOG'],\n",
       "      dtype='object')"
      ]
     },
     "execution_count": 32,
     "metadata": {},
     "output_type": "execute_result"
    }
   ],
   "execution_count": 32
  },
  {
   "metadata": {
    "ExecuteTime": {
     "end_time": "2025-03-25T14:12:24.957080Z",
     "start_time": "2025-03-25T14:12:24.945710Z"
    }
   },
   "cell_type": "code",
   "source": "scoring.dtypes",
   "id": "5bd2e112ade0c870",
   "outputs": [
    {
     "data": {
      "text/plain": [
       "playerID     object\n",
       "year          int64\n",
       "stint         int64\n",
       "tmID         object\n",
       "lgID         object\n",
       "pos          object\n",
       "GP          float64\n",
       "G           float64\n",
       "A           float64\n",
       "Pts         float64\n",
       "PIM         float64\n",
       "+/-         float64\n",
       "PPG         float64\n",
       "PPA         float64\n",
       "SHG         float64\n",
       "SHA         float64\n",
       "GWG         float64\n",
       "GTG         float64\n",
       "SOG         float64\n",
       "PostGP      float64\n",
       "PostG       float64\n",
       "PostA       float64\n",
       "PostPts     float64\n",
       "PostPIM     float64\n",
       "Post+/-     float64\n",
       "PostPPG     float64\n",
       "PostPPA     float64\n",
       "PostSHG     float64\n",
       "PostSHA     float64\n",
       "PostGWG     float64\n",
       "PostSOG     float64\n",
       "dtype: object"
      ]
     },
     "execution_count": 33,
     "metadata": {},
     "output_type": "execute_result"
    }
   ],
   "execution_count": 33
  },
  {
   "metadata": {
    "ExecuteTime": {
     "end_time": "2025-03-25T14:13:13.244568Z",
     "start_time": "2025-03-25T14:13:13.201525Z"
    }
   },
   "cell_type": "code",
   "source": "scoring.info()",
   "id": "5d4142f759523935",
   "outputs": [
    {
     "name": "stdout",
     "output_type": "stream",
     "text": [
      "<class 'pandas.core.frame.DataFrame'>\n",
      "RangeIndex: 45967 entries, 0 to 45966\n",
      "Data columns (total 31 columns):\n",
      " #   Column    Non-Null Count  Dtype  \n",
      "---  ------    --------------  -----  \n",
      " 0   playerID  45967 non-null  object \n",
      " 1   year      45967 non-null  int64  \n",
      " 2   stint     45967 non-null  int64  \n",
      " 3   tmID      45967 non-null  object \n",
      " 4   lgID      45967 non-null  object \n",
      " 5   pos       45385 non-null  object \n",
      " 6   GP        45699 non-null  float64\n",
      " 7   G         45699 non-null  float64\n",
      " 8   A         45699 non-null  float64\n",
      " 9   Pts       45699 non-null  float64\n",
      " 10  PIM       45699 non-null  float64\n",
      " 11  +/-       36265 non-null  float64\n",
      " 12  PPG       37748 non-null  float64\n",
      " 13  PPA       23040 non-null  float64\n",
      " 14  SHG       37744 non-null  float64\n",
      " 15  SHA       23214 non-null  float64\n",
      " 16  GWG       36567 non-null  float64\n",
      " 17  GTG       28106 non-null  float64\n",
      " 18  SOG       36364 non-null  float64\n",
      " 19  PostGP    19153 non-null  float64\n",
      " 20  PostG     19153 non-null  float64\n",
      " 21  PostA     19094 non-null  float64\n",
      " 22  PostPts   19094 non-null  float64\n",
      " 23  PostPIM   19094 non-null  float64\n",
      " 24  Post+/-   11004 non-null  float64\n",
      " 25  PostPPG   14492 non-null  float64\n",
      " 26  PostPPA   8854 non-null   float64\n",
      " 27  PostSHG   14492 non-null  float64\n",
      " 28  PostSHA   8855 non-null   float64\n",
      " 29  PostGWG   15657 non-null  float64\n",
      " 30  PostSOG   10392 non-null  float64\n",
      "dtypes: float64(25), int64(2), object(4)\n",
      "memory usage: 10.9+ MB\n"
     ]
    }
   ],
   "execution_count": 34
  },
  {
   "metadata": {
    "ExecuteTime": {
     "end_time": "2025-03-25T14:24:44.514069Z",
     "start_time": "2025-03-25T14:24:44.490734Z"
    }
   },
   "cell_type": "code",
   "source": "scoring.loc[(scoring['lgID']=='NHL') & (scoring['year'] >= 1980)].shape",
   "id": "2ab0de14c02c254b",
   "outputs": [
    {
     "data": {
      "text/plain": [
       "(28616, 31)"
      ]
     },
     "execution_count": 37,
     "metadata": {},
     "output_type": "execute_result"
    }
   ],
   "execution_count": 37
  },
  {
   "metadata": {
    "ExecuteTime": {
     "end_time": "2025-03-25T14:49:32.822386Z",
     "start_time": "2025-03-25T14:49:32.804589Z"
    }
   },
   "cell_type": "code",
   "source": "scoring_original = scoring.copy()",
   "id": "b1e140dc9eedc0b6",
   "outputs": [],
   "execution_count": 50
  },
  {
   "metadata": {
    "ExecuteTime": {
     "end_time": "2025-03-25T14:25:59.739172Z",
     "start_time": "2025-03-25T14:25:59.660225Z"
    }
   },
   "cell_type": "code",
   "source": "scoring.query(\"lgID == 'NHL' and year >= 1980\").shape",
   "id": "99cf638f7b51a4e8",
   "outputs": [
    {
     "data": {
      "text/plain": [
       "(28616, 31)"
      ]
     },
     "execution_count": 39,
     "metadata": {},
     "output_type": "execute_result"
    }
   ],
   "execution_count": 39
  },
  {
   "metadata": {
    "ExecuteTime": {
     "end_time": "2025-03-25T14:49:36.740086Z",
     "start_time": "2025-03-25T14:49:36.712865Z"
    }
   },
   "cell_type": "code",
   "source": "scoring = scoring.loc[(scoring['lgID']=='NHL') & (scoring['year'] >= 1980)]",
   "id": "27bb8e239bf9685a",
   "outputs": [],
   "execution_count": 51
  },
  {
   "metadata": {
    "ExecuteTime": {
     "end_time": "2025-03-25T14:34:07.562909Z",
     "start_time": "2025-03-25T14:34:07.552644Z"
    }
   },
   "cell_type": "code",
   "source": "scoring.shape",
   "id": "f375bdefa9274f86",
   "outputs": [
    {
     "data": {
      "text/plain": [
       "(28616, 31)"
      ]
     },
     "execution_count": 41,
     "metadata": {},
     "output_type": "execute_result"
    }
   ],
   "execution_count": 41
  },
  {
   "metadata": {
    "ExecuteTime": {
     "end_time": "2025-03-25T14:49:41.829845Z",
     "start_time": "2025-03-25T14:49:41.818565Z"
    }
   },
   "cell_type": "code",
   "source": "scoring.iloc[:, [0, 1, 3, 6, 7, 8, 9, 14]].columns",
   "id": "b53a9b5a5339bc82",
   "outputs": [
    {
     "data": {
      "text/plain": [
       "Index(['playerID', 'year', 'tmID', 'GP', 'G', 'A', 'Pts', 'SHG'], dtype='object')"
      ]
     },
     "execution_count": 52,
     "metadata": {},
     "output_type": "execute_result"
    }
   ],
   "execution_count": 52
  },
  {
   "metadata": {
    "ExecuteTime": {
     "end_time": "2025-03-25T14:49:44.950062Z",
     "start_time": "2025-03-25T14:49:44.935850Z"
    }
   },
   "cell_type": "code",
   "source": "scoring.filter(regex='^(?!(Post|PP|SH))').columns",
   "id": "af4bc8eddbcb82c8",
   "outputs": [
    {
     "data": {
      "text/plain": [
       "Index(['playerID', 'year', 'stint', 'tmID', 'lgID', 'pos', 'GP', 'G', 'A',\n",
       "       'Pts', 'PIM', '+/-', 'GWG', 'GTG', 'SOG'],\n",
       "      dtype='object')"
      ]
     },
     "execution_count": 53,
     "metadata": {},
     "output_type": "execute_result"
    }
   ],
   "execution_count": 53
  },
  {
   "metadata": {
    "ExecuteTime": {
     "end_time": "2025-03-25T14:50:41.612458Z",
     "start_time": "2025-03-25T14:50:41.597223Z"
    }
   },
   "cell_type": "code",
   "source": "scoring.filter(regex='^(?!(Post|PP|SH)).*').columns",
   "id": "a66ec9a9178faef7",
   "outputs": [
    {
     "data": {
      "text/plain": [
       "Index(['playerID', 'year', 'stint', 'tmID', 'lgID', 'pos', 'GP', 'G', 'A',\n",
       "       'Pts', 'PIM', '+/-', 'GWG', 'GTG', 'SOG'],\n",
       "      dtype='object')"
      ]
     },
     "execution_count": 54,
     "metadata": {},
     "output_type": "execute_result"
    }
   ],
   "execution_count": 54
  },
  {
   "metadata": {
    "ExecuteTime": {
     "end_time": "2025-03-25T14:53:36.147082Z",
     "start_time": "2025-03-25T14:53:36.135565Z"
    }
   },
   "cell_type": "code",
   "source": "scoring.filter(regex='^(Post|PP|SH)').columns",
   "id": "b113bf335a704352",
   "outputs": [
    {
     "data": {
      "text/plain": [
       "Index(['PPG', 'PPA', 'SHG', 'SHA', 'PostGP', 'PostG', 'PostA', 'PostPts',\n",
       "       'PostPIM', 'Post+/-', 'PostPPG', 'PostPPA', 'PostSHG', 'PostSHA',\n",
       "       'PostGWG', 'PostSOG'],\n",
       "      dtype='object')"
      ]
     },
     "execution_count": 55,
     "metadata": {},
     "output_type": "execute_result"
    }
   ],
   "execution_count": 55
  },
  {
   "metadata": {
    "ExecuteTime": {
     "end_time": "2025-03-25T15:07:51.455608Z",
     "start_time": "2025-03-25T15:07:51.442837Z"
    }
   },
   "cell_type": "code",
   "source": "scoring = scoring.filter(regex='^(?!(Post|PP|SH)).*')",
   "id": "12b880869d090719",
   "outputs": [],
   "execution_count": 56
  },
  {
   "metadata": {
    "ExecuteTime": {
     "end_time": "2025-03-25T15:11:19.764254Z",
     "start_time": "2025-03-25T15:11:19.754052Z"
    }
   },
   "cell_type": "code",
   "source": [
    "scoring = scoring.iloc[:, [0, 1, 3, 6, 7, 8, 9, 14]]\n",
    "scoring.columns"
   ],
   "id": "371648a8d7808c82",
   "outputs": [
    {
     "data": {
      "text/plain": [
       "Index(['playerID', 'year', 'tmID', 'GP', 'G', 'A', 'Pts', 'SOG'], dtype='object')"
      ]
     },
     "execution_count": 58,
     "metadata": {},
     "output_type": "execute_result"
    }
   ],
   "execution_count": 58
  },
  {
   "metadata": {
    "ExecuteTime": {
     "end_time": "2025-03-25T15:23:37.804402Z",
     "start_time": "2025-03-25T15:23:37.781335Z"
    }
   },
   "cell_type": "code",
   "source": "scoring['tmID'].value_counts(sort=True)",
   "id": "f939dbe431439ef",
   "outputs": [
    {
     "data": {
      "text/plain": [
       "tmID\n",
       "PIT    1166\n",
       "NYR    1160\n",
       "TOR    1159\n",
       "LAK    1158\n",
       "NYI    1155\n",
       "BOS    1147\n",
       "PHI    1133\n",
       "CAL    1121\n",
       "WAS    1120\n",
       "EDM    1120\n",
       "CHI    1114\n",
       "STL    1107\n",
       "VAN    1096\n",
       "MTL    1082\n",
       "BUF    1080\n",
       "DET    1039\n",
       "NJD     989\n",
       "TBL     715\n",
       "SJS     679\n",
       "OTT     673\n",
       "FLO     656\n",
       "DAL     637\n",
       "HAR     633\n",
       "WIN     584\n",
       "QUE     572\n",
       "PHO     557\n",
       "COL     548\n",
       "MNS     507\n",
       "CAR     464\n",
       "NAS     463\n",
       "CBS     423\n",
       "ANA     422\n",
       "ATL     410\n",
       "MIN     384\n",
       "AND     224\n",
       "COR      81\n",
       "WPG      38\n",
       "Name: count, dtype: int64"
      ]
     },
     "execution_count": 60,
     "metadata": {},
     "output_type": "execute_result"
    }
   ],
   "execution_count": 60
  },
  {
   "metadata": {
    "ExecuteTime": {
     "end_time": "2025-03-25T15:32:24.949112Z",
     "start_time": "2025-03-25T15:32:24.938614Z"
    }
   },
   "cell_type": "code",
   "source": "scoring.loc[:, 'tmID'] = pd.Categorical(scoring['tmID'])",
   "id": "605f9d3e91552748",
   "outputs": [],
   "execution_count": 61
  },
  {
   "metadata": {
    "ExecuteTime": {
     "end_time": "2025-03-25T15:35:13.439882Z",
     "start_time": "2025-03-25T15:35:13.426679Z"
    }
   },
   "cell_type": "code",
   "source": [
    "# master['pos'] = pd.Categorical(master['pos'])\n",
    "scoring['pos'] = pd.Categorical(scoring['tmID'])"
   ],
   "id": "342e91d6daf8d3ba",
   "outputs": [],
   "execution_count": 64
  },
  {
   "metadata": {
    "ExecuteTime": {
     "end_time": "2025-03-25T15:35:17.215483Z",
     "start_time": "2025-03-25T15:35:17.204028Z"
    }
   },
   "cell_type": "code",
   "source": "memory_mib(scoring)",
   "id": "b56c756f61e1f0e8",
   "outputs": [
    {
     "data": {
      "text/plain": [
       "'1.99 MiB'"
      ]
     },
     "execution_count": 65,
     "metadata": {},
     "output_type": "execute_result"
    }
   ],
   "execution_count": 65
  },
  {
   "metadata": {
    "ExecuteTime": {
     "end_time": "2025-03-25T15:35:22.180677Z",
     "start_time": "2025-03-25T15:35:22.170287Z"
    }
   },
   "cell_type": "code",
   "source": "scoring.dtypes",
   "id": "478fa48a1093d51",
   "outputs": [
    {
     "data": {
      "text/plain": [
       "playerID      object\n",
       "year           int64\n",
       "tmID          object\n",
       "GP           float64\n",
       "G            float64\n",
       "A            float64\n",
       "Pts          float64\n",
       "SOG          float64\n",
       "pos         category\n",
       "dtype: object"
      ]
     },
     "execution_count": 66,
     "metadata": {},
     "output_type": "execute_result"
    }
   ],
   "execution_count": 66
  },
  {
   "metadata": {
    "ExecuteTime": {
     "end_time": "2025-03-25T15:37:43.889861Z",
     "start_time": "2025-03-25T15:37:43.861334Z"
    }
   },
   "cell_type": "code",
   "source": "scoring.reset_index().head()",
   "id": "182af8caa83970cb",
   "outputs": [
    {
     "data": {
      "text/plain": [
       "   index   playerID  year tmID    GP    G     A   Pts    SOG  pos\n",
       "0      0  aaltoan01  1997  ANA   3.0  0.0   0.0   0.0    1.0  ANA\n",
       "1      1  aaltoan01  1998  ANA  73.0  3.0   5.0   8.0   61.0  ANA\n",
       "2      2  aaltoan01  1999  ANA  63.0  7.0  11.0  18.0  102.0  ANA\n",
       "3      3  aaltoan01  2000  ANA  12.0  1.0   1.0   2.0   18.0  ANA\n",
       "4      7  abdelju01  2007  DET   2.0  0.0   0.0   0.0    6.0  DET"
      ],
      "text/html": [
       "<div>\n",
       "<style scoped>\n",
       "    .dataframe tbody tr th:only-of-type {\n",
       "        vertical-align: middle;\n",
       "    }\n",
       "\n",
       "    .dataframe tbody tr th {\n",
       "        vertical-align: top;\n",
       "    }\n",
       "\n",
       "    .dataframe thead th {\n",
       "        text-align: right;\n",
       "    }\n",
       "</style>\n",
       "<table border=\"1\" class=\"dataframe\">\n",
       "  <thead>\n",
       "    <tr style=\"text-align: right;\">\n",
       "      <th></th>\n",
       "      <th>index</th>\n",
       "      <th>playerID</th>\n",
       "      <th>year</th>\n",
       "      <th>tmID</th>\n",
       "      <th>GP</th>\n",
       "      <th>G</th>\n",
       "      <th>A</th>\n",
       "      <th>Pts</th>\n",
       "      <th>SOG</th>\n",
       "      <th>pos</th>\n",
       "    </tr>\n",
       "  </thead>\n",
       "  <tbody>\n",
       "    <tr>\n",
       "      <th>0</th>\n",
       "      <td>0</td>\n",
       "      <td>aaltoan01</td>\n",
       "      <td>1997</td>\n",
       "      <td>ANA</td>\n",
       "      <td>3.0</td>\n",
       "      <td>0.0</td>\n",
       "      <td>0.0</td>\n",
       "      <td>0.0</td>\n",
       "      <td>1.0</td>\n",
       "      <td>ANA</td>\n",
       "    </tr>\n",
       "    <tr>\n",
       "      <th>1</th>\n",
       "      <td>1</td>\n",
       "      <td>aaltoan01</td>\n",
       "      <td>1998</td>\n",
       "      <td>ANA</td>\n",
       "      <td>73.0</td>\n",
       "      <td>3.0</td>\n",
       "      <td>5.0</td>\n",
       "      <td>8.0</td>\n",
       "      <td>61.0</td>\n",
       "      <td>ANA</td>\n",
       "    </tr>\n",
       "    <tr>\n",
       "      <th>2</th>\n",
       "      <td>2</td>\n",
       "      <td>aaltoan01</td>\n",
       "      <td>1999</td>\n",
       "      <td>ANA</td>\n",
       "      <td>63.0</td>\n",
       "      <td>7.0</td>\n",
       "      <td>11.0</td>\n",
       "      <td>18.0</td>\n",
       "      <td>102.0</td>\n",
       "      <td>ANA</td>\n",
       "    </tr>\n",
       "    <tr>\n",
       "      <th>3</th>\n",
       "      <td>3</td>\n",
       "      <td>aaltoan01</td>\n",
       "      <td>2000</td>\n",
       "      <td>ANA</td>\n",
       "      <td>12.0</td>\n",
       "      <td>1.0</td>\n",
       "      <td>1.0</td>\n",
       "      <td>2.0</td>\n",
       "      <td>18.0</td>\n",
       "      <td>ANA</td>\n",
       "    </tr>\n",
       "    <tr>\n",
       "      <th>4</th>\n",
       "      <td>7</td>\n",
       "      <td>abdelju01</td>\n",
       "      <td>2007</td>\n",
       "      <td>DET</td>\n",
       "      <td>2.0</td>\n",
       "      <td>0.0</td>\n",
       "      <td>0.0</td>\n",
       "      <td>0.0</td>\n",
       "      <td>6.0</td>\n",
       "      <td>DET</td>\n",
       "    </tr>\n",
       "  </tbody>\n",
       "</table>\n",
       "</div>"
      ]
     },
     "execution_count": 67,
     "metadata": {},
     "output_type": "execute_result"
    }
   ],
   "execution_count": 67
  },
  {
   "metadata": {
    "ExecuteTime": {
     "end_time": "2025-03-25T15:43:28.783110Z",
     "start_time": "2025-03-25T15:43:28.777607Z"
    }
   },
   "cell_type": "code",
   "source": "scoring.reset_index(drop=True, inplace=True)",
   "id": "f75e60a88146da21",
   "outputs": [],
   "execution_count": 68
  },
  {
   "metadata": {
    "ExecuteTime": {
     "end_time": "2025-03-25T15:44:11.703273Z",
     "start_time": "2025-03-25T15:44:11.674096Z"
    }
   },
   "cell_type": "code",
   "source": "scoring.head()",
   "id": "a0ecaac14af7fe79",
   "outputs": [
    {
     "data": {
      "text/plain": [
       "    playerID  year tmID    GP    G     A   Pts    SOG  pos\n",
       "0  aaltoan01  1997  ANA   3.0  0.0   0.0   0.0    1.0  ANA\n",
       "1  aaltoan01  1998  ANA  73.0  3.0   5.0   8.0   61.0  ANA\n",
       "2  aaltoan01  1999  ANA  63.0  7.0  11.0  18.0  102.0  ANA\n",
       "3  aaltoan01  2000  ANA  12.0  1.0   1.0   2.0   18.0  ANA\n",
       "4  abdelju01  2007  DET   2.0  0.0   0.0   0.0    6.0  DET"
      ],
      "text/html": [
       "<div>\n",
       "<style scoped>\n",
       "    .dataframe tbody tr th:only-of-type {\n",
       "        vertical-align: middle;\n",
       "    }\n",
       "\n",
       "    .dataframe tbody tr th {\n",
       "        vertical-align: top;\n",
       "    }\n",
       "\n",
       "    .dataframe thead th {\n",
       "        text-align: right;\n",
       "    }\n",
       "</style>\n",
       "<table border=\"1\" class=\"dataframe\">\n",
       "  <thead>\n",
       "    <tr style=\"text-align: right;\">\n",
       "      <th></th>\n",
       "      <th>playerID</th>\n",
       "      <th>year</th>\n",
       "      <th>tmID</th>\n",
       "      <th>GP</th>\n",
       "      <th>G</th>\n",
       "      <th>A</th>\n",
       "      <th>Pts</th>\n",
       "      <th>SOG</th>\n",
       "      <th>pos</th>\n",
       "    </tr>\n",
       "  </thead>\n",
       "  <tbody>\n",
       "    <tr>\n",
       "      <th>0</th>\n",
       "      <td>aaltoan01</td>\n",
       "      <td>1997</td>\n",
       "      <td>ANA</td>\n",
       "      <td>3.0</td>\n",
       "      <td>0.0</td>\n",
       "      <td>0.0</td>\n",
       "      <td>0.0</td>\n",
       "      <td>1.0</td>\n",
       "      <td>ANA</td>\n",
       "    </tr>\n",
       "    <tr>\n",
       "      <th>1</th>\n",
       "      <td>aaltoan01</td>\n",
       "      <td>1998</td>\n",
       "      <td>ANA</td>\n",
       "      <td>73.0</td>\n",
       "      <td>3.0</td>\n",
       "      <td>5.0</td>\n",
       "      <td>8.0</td>\n",
       "      <td>61.0</td>\n",
       "      <td>ANA</td>\n",
       "    </tr>\n",
       "    <tr>\n",
       "      <th>2</th>\n",
       "      <td>aaltoan01</td>\n",
       "      <td>1999</td>\n",
       "      <td>ANA</td>\n",
       "      <td>63.0</td>\n",
       "      <td>7.0</td>\n",
       "      <td>11.0</td>\n",
       "      <td>18.0</td>\n",
       "      <td>102.0</td>\n",
       "      <td>ANA</td>\n",
       "    </tr>\n",
       "    <tr>\n",
       "      <th>3</th>\n",
       "      <td>aaltoan01</td>\n",
       "      <td>2000</td>\n",
       "      <td>ANA</td>\n",
       "      <td>12.0</td>\n",
       "      <td>1.0</td>\n",
       "      <td>1.0</td>\n",
       "      <td>2.0</td>\n",
       "      <td>18.0</td>\n",
       "      <td>ANA</td>\n",
       "    </tr>\n",
       "    <tr>\n",
       "      <th>4</th>\n",
       "      <td>abdelju01</td>\n",
       "      <td>2007</td>\n",
       "      <td>DET</td>\n",
       "      <td>2.0</td>\n",
       "      <td>0.0</td>\n",
       "      <td>0.0</td>\n",
       "      <td>0.0</td>\n",
       "      <td>6.0</td>\n",
       "      <td>DET</td>\n",
       "    </tr>\n",
       "  </tbody>\n",
       "</table>\n",
       "</div>"
      ]
     },
     "execution_count": 69,
     "metadata": {},
     "output_type": "execute_result"
    }
   ],
   "execution_count": 69
  },
  {
   "metadata": {
    "ExecuteTime": {
     "end_time": "2025-03-25T15:53:51.089307Z",
     "start_time": "2025-03-25T15:53:51.071535Z"
    }
   },
   "cell_type": "code",
   "source": "scoring.to_pickle(INTER / 'scoring_2.pkl')",
   "id": "768b48501294d66c",
   "outputs": [],
   "execution_count": 70
  },
  {
   "metadata": {},
   "cell_type": "markdown",
   "source": "---",
   "id": "30ef26bcdccff17d"
  },
  {
   "metadata": {},
   "cell_type": "markdown",
   "source": "### nwsinwpcwpi",
   "id": "28e6e89aa730e2f3"
  },
  {
   "metadata": {
    "ExecuteTime": {
     "end_time": "2025-03-25T15:58:24.331655Z",
     "start_time": "2025-03-25T15:58:24.316443Z"
    }
   },
   "cell_type": "code",
   "source": "teams = pd.read_csv(RA / 'Teams.csv')",
   "id": "bffc63490bd6d6e1",
   "outputs": [],
   "execution_count": 71
  },
  {
   "metadata": {
    "ExecuteTime": {
     "end_time": "2025-03-25T16:14:47.995572Z",
     "start_time": "2025-03-25T16:14:47.943728Z"
    }
   },
   "cell_type": "code",
   "source": "teams.head(1)",
   "id": "d9c71dc63d72c233",
   "outputs": [
    {
     "data": {
      "text/plain": [
       "   year lgID tmID franchID confID divID  rank playoff   G  W  ...   GA  \\\n",
       "0  1909  NHA  COB      BKN    NaN   NaN     4     NaN  12  4  ...  104   \n",
       "\n",
       "                  name  PIM  BenchMinor  PPG  PPC  SHA  PKG PKC  SHF  \n",
       "0  Cobalt Silver Kings  NaN         NaN  NaN  NaN  NaN  NaN NaN  NaN  \n",
       "\n",
       "[1 rows x 27 columns]"
      ],
      "text/html": [
       "<div>\n",
       "<style scoped>\n",
       "    .dataframe tbody tr th:only-of-type {\n",
       "        vertical-align: middle;\n",
       "    }\n",
       "\n",
       "    .dataframe tbody tr th {\n",
       "        vertical-align: top;\n",
       "    }\n",
       "\n",
       "    .dataframe thead th {\n",
       "        text-align: right;\n",
       "    }\n",
       "</style>\n",
       "<table border=\"1\" class=\"dataframe\">\n",
       "  <thead>\n",
       "    <tr style=\"text-align: right;\">\n",
       "      <th></th>\n",
       "      <th>year</th>\n",
       "      <th>lgID</th>\n",
       "      <th>tmID</th>\n",
       "      <th>franchID</th>\n",
       "      <th>confID</th>\n",
       "      <th>divID</th>\n",
       "      <th>rank</th>\n",
       "      <th>playoff</th>\n",
       "      <th>G</th>\n",
       "      <th>W</th>\n",
       "      <th>...</th>\n",
       "      <th>GA</th>\n",
       "      <th>name</th>\n",
       "      <th>PIM</th>\n",
       "      <th>BenchMinor</th>\n",
       "      <th>PPG</th>\n",
       "      <th>PPC</th>\n",
       "      <th>SHA</th>\n",
       "      <th>PKG</th>\n",
       "      <th>PKC</th>\n",
       "      <th>SHF</th>\n",
       "    </tr>\n",
       "  </thead>\n",
       "  <tbody>\n",
       "    <tr>\n",
       "      <th>0</th>\n",
       "      <td>1909</td>\n",
       "      <td>NHA</td>\n",
       "      <td>COB</td>\n",
       "      <td>BKN</td>\n",
       "      <td>NaN</td>\n",
       "      <td>NaN</td>\n",
       "      <td>4</td>\n",
       "      <td>NaN</td>\n",
       "      <td>12</td>\n",
       "      <td>4</td>\n",
       "      <td>...</td>\n",
       "      <td>104</td>\n",
       "      <td>Cobalt Silver Kings</td>\n",
       "      <td>NaN</td>\n",
       "      <td>NaN</td>\n",
       "      <td>NaN</td>\n",
       "      <td>NaN</td>\n",
       "      <td>NaN</td>\n",
       "      <td>NaN</td>\n",
       "      <td>NaN</td>\n",
       "      <td>NaN</td>\n",
       "    </tr>\n",
       "  </tbody>\n",
       "</table>\n",
       "<p>1 rows × 27 columns</p>\n",
       "</div>"
      ]
     },
     "execution_count": 72,
     "metadata": {},
     "output_type": "execute_result"
    }
   ],
   "execution_count": 72
  },
  {
   "metadata": {
    "ExecuteTime": {
     "end_time": "2025-03-25T16:24:32.233224Z",
     "start_time": "2025-03-25T16:24:32.217246Z"
    }
   },
   "cell_type": "code",
   "source": "teams.loc[(teams['lgID']=='NHL') & (teams['year'] >= 1980)].shape",
   "id": "13fd6597930f0bd7",
   "outputs": [
    {
     "data": {
      "text/plain": [
       "(792, 27)"
      ]
     },
     "execution_count": 73,
     "metadata": {},
     "output_type": "execute_result"
    }
   ],
   "execution_count": 73
  },
  {
   "metadata": {
    "ExecuteTime": {
     "end_time": "2025-03-25T16:33:35.786831Z",
     "start_time": "2025-03-25T16:33:35.770258Z"
    }
   },
   "cell_type": "code",
   "source": "teams = teams.query(\"lgID == 'NHL' and year >= 1980\")",
   "id": "a1f917a4994161b1",
   "outputs": [],
   "execution_count": 75
  },
  {
   "metadata": {
    "ExecuteTime": {
     "end_time": "2025-03-25T16:34:46.492927Z",
     "start_time": "2025-03-25T16:34:46.468850Z"
    }
   },
   "cell_type": "code",
   "source": "teams.nunique()",
   "id": "ac46ea12004e175d",
   "outputs": [
    {
     "data": {
      "text/plain": [
       "year           31\n",
       "lgID            1\n",
       "tmID           37\n",
       "franchID       30\n",
       "confID          4\n",
       "divID          10\n",
       "rank            7\n",
       "playoff        10\n",
       "G               4\n",
       "W              49\n",
       "L              50\n",
       "T              20\n",
       "OTL            18\n",
       "Pts            91\n",
       "SoW            15\n",
       "SoL            12\n",
       "GF            214\n",
       "GA            219\n",
       "name           37\n",
       "PIM           603\n",
       "BenchMinor     23\n",
       "PPG            85\n",
       "PPC           245\n",
       "SHA            22\n",
       "PKG            85\n",
       "PKC           250\n",
       "SHF            28\n",
       "dtype: int64"
      ]
     },
     "execution_count": 76,
     "metadata": {},
     "output_type": "execute_result"
    }
   ],
   "execution_count": 76
  },
  {
   "metadata": {
    "ExecuteTime": {
     "end_time": "2025-03-25T16:40:11.071372Z",
     "start_time": "2025-03-25T16:40:11.060804Z"
    }
   },
   "cell_type": "code",
   "source": "teams.loc[:,'tmID'] = pd.Categorical(teams['tmID'])",
   "id": "c4039e5045ba109d",
   "outputs": [],
   "execution_count": 77
  },
  {
   "metadata": {
    "ExecuteTime": {
     "end_time": "2025-03-25T16:40:35.319372Z",
     "start_time": "2025-03-25T16:40:35.302619Z"
    }
   },
   "cell_type": "code",
   "source": "teams['tmID'].info()",
   "id": "9a2f377a1462713d",
   "outputs": [
    {
     "name": "stdout",
     "output_type": "stream",
     "text": [
      "<class 'pandas.core.series.Series'>\n",
      "Index: 792 entries, 727 to 1518\n",
      "Series name: tmID\n",
      "Non-Null Count  Dtype \n",
      "--------------  ----- \n",
      "792 non-null    object\n",
      "dtypes: object(1)\n",
      "memory usage: 12.4+ KB\n"
     ]
    }
   ],
   "execution_count": 79
  },
  {
   "metadata": {
    "ExecuteTime": {
     "end_time": "2025-03-25T16:44:17.017522Z",
     "start_time": "2025-03-25T16:44:17.008558Z"
    }
   },
   "cell_type": "code",
   "source": "teams.to_pickle(INTER / 'teams_2.pkl')",
   "id": "854e295b8c525327",
   "outputs": [],
   "execution_count": 80
  },
  {
   "metadata": {},
   "cell_type": "markdown",
   "source": "---",
   "id": "879ebf96d66c16d9"
  },
  {
   "metadata": {
    "ExecuteTime": {
     "end_time": "2025-03-25T16:47:30.047212Z",
     "start_time": "2025-03-25T16:47:30.033883Z"
    }
   },
   "cell_type": "code",
   "source": "team_splits = pd.read_csv(RA / 'TeamSplits.csv')",
   "id": "d0e6462c1d9e11b7",
   "outputs": [],
   "execution_count": 83
  },
  {
   "metadata": {
    "ExecuteTime": {
     "end_time": "2025-03-25T16:47:54.900293Z",
     "start_time": "2025-03-25T16:47:54.867299Z"
    }
   },
   "cell_type": "code",
   "source": "team_splits.head(1)",
   "id": "4252bf31f5dd87cd",
   "outputs": [
    {
     "data": {
      "text/plain": [
       "   year lgID tmID  hW  hL   hT  hOTL  rW  rL   rT  ...  FebT  FebOL  MarW  \\\n",
       "0  1909  NHA  COB   2   4  0.0   NaN   2   4  0.0  ...   0.0    NaN   1.0   \n",
       "\n",
       "   MarL  MarT  MarOL  AprW  AprL  AprT  AprOL  \n",
       "0   4.0   0.0    NaN   NaN   NaN   NaN    NaN  \n",
       "\n",
       "[1 rows x 43 columns]"
      ],
      "text/html": [
       "<div>\n",
       "<style scoped>\n",
       "    .dataframe tbody tr th:only-of-type {\n",
       "        vertical-align: middle;\n",
       "    }\n",
       "\n",
       "    .dataframe tbody tr th {\n",
       "        vertical-align: top;\n",
       "    }\n",
       "\n",
       "    .dataframe thead th {\n",
       "        text-align: right;\n",
       "    }\n",
       "</style>\n",
       "<table border=\"1\" class=\"dataframe\">\n",
       "  <thead>\n",
       "    <tr style=\"text-align: right;\">\n",
       "      <th></th>\n",
       "      <th>year</th>\n",
       "      <th>lgID</th>\n",
       "      <th>tmID</th>\n",
       "      <th>hW</th>\n",
       "      <th>hL</th>\n",
       "      <th>hT</th>\n",
       "      <th>hOTL</th>\n",
       "      <th>rW</th>\n",
       "      <th>rL</th>\n",
       "      <th>rT</th>\n",
       "      <th>...</th>\n",
       "      <th>FebT</th>\n",
       "      <th>FebOL</th>\n",
       "      <th>MarW</th>\n",
       "      <th>MarL</th>\n",
       "      <th>MarT</th>\n",
       "      <th>MarOL</th>\n",
       "      <th>AprW</th>\n",
       "      <th>AprL</th>\n",
       "      <th>AprT</th>\n",
       "      <th>AprOL</th>\n",
       "    </tr>\n",
       "  </thead>\n",
       "  <tbody>\n",
       "    <tr>\n",
       "      <th>0</th>\n",
       "      <td>1909</td>\n",
       "      <td>NHA</td>\n",
       "      <td>COB</td>\n",
       "      <td>2</td>\n",
       "      <td>4</td>\n",
       "      <td>0.0</td>\n",
       "      <td>NaN</td>\n",
       "      <td>2</td>\n",
       "      <td>4</td>\n",
       "      <td>0.0</td>\n",
       "      <td>...</td>\n",
       "      <td>0.0</td>\n",
       "      <td>NaN</td>\n",
       "      <td>1.0</td>\n",
       "      <td>4.0</td>\n",
       "      <td>0.0</td>\n",
       "      <td>NaN</td>\n",
       "      <td>NaN</td>\n",
       "      <td>NaN</td>\n",
       "      <td>NaN</td>\n",
       "      <td>NaN</td>\n",
       "    </tr>\n",
       "  </tbody>\n",
       "</table>\n",
       "<p>1 rows × 43 columns</p>\n",
       "</div>"
      ]
     },
     "execution_count": 84,
     "metadata": {},
     "output_type": "execute_result"
    }
   ],
   "execution_count": 84
  },
  {
   "metadata": {
    "ExecuteTime": {
     "end_time": "2025-03-25T16:53:38.260472Z",
     "start_time": "2025-03-25T16:53:38.251198Z"
    }
   },
   "cell_type": "code",
   "source": "team_splits = team_splits.loc[(team_splits['lgID'] == 'NHL') & (team_splits['year'] >= 1980)]",
   "id": "7cf412c7186fb11",
   "outputs": [],
   "execution_count": 86
  },
  {
   "metadata": {
    "ExecuteTime": {
     "end_time": "2025-03-25T16:59:51.243370Z",
     "start_time": "2025-03-25T16:59:51.231590Z"
    }
   },
   "cell_type": "code",
   "source": [
    "cols_to_drop = team_splits.columns[3:11]\n",
    "team_splits.drop(columns=cols_to_drop, inplace=True)"
   ],
   "id": "45ef10ebf111de7c",
   "outputs": [],
   "execution_count": 87
  },
  {
   "metadata": {
    "ExecuteTime": {
     "end_time": "2025-03-25T17:04:28.493Z",
     "start_time": "2025-03-25T17:04:28.483568Z"
    }
   },
   "cell_type": "code",
   "source": "team_splits.drop(columns='lgID', inplace=True)",
   "id": "72c89adb3400dc89",
   "outputs": [],
   "execution_count": 88
  },
  {
   "metadata": {
    "ExecuteTime": {
     "end_time": "2025-03-25T17:07:53.204679Z",
     "start_time": "2025-03-25T17:07:53.197536Z"
    }
   },
   "cell_type": "code",
   "source": "team_splits.loc[:, 'tmID'] = pd.Categorical(team_splits['tmID'])",
   "id": "1004c1ea2b03b699",
   "outputs": [],
   "execution_count": 89
  },
  {
   "metadata": {
    "ExecuteTime": {
     "end_time": "2025-03-25T17:08:35.536662Z",
     "start_time": "2025-03-25T17:08:35.518484Z"
    }
   },
   "cell_type": "code",
   "source": "team_splits.to_pickle(INTER / 'team_splits_2.pkl')",
   "id": "77d7c21f137fb96e",
   "outputs": [],
   "execution_count": 90
  },
  {
   "metadata": {},
   "cell_type": "code",
   "outputs": [],
   "execution_count": null,
   "source": "",
   "id": "b25687f669a74b18"
  }
 ],
 "metadata": {
  "kernelspec": {
   "display_name": "Python 3",
   "language": "python",
   "name": "python3"
  },
  "language_info": {
   "codemirror_mode": {
    "name": "ipython",
    "version": 2
   },
   "file_extension": ".py",
   "mimetype": "text/x-python",
   "name": "python",
   "nbconvert_exporter": "python",
   "pygments_lexer": "ipython2",
   "version": "2.7.6"
  }
 },
 "nbformat": 4,
 "nbformat_minor": 5
}
