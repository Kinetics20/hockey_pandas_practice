{
 "cells": [
  {
   "cell_type": "code",
   "id": "initial_id",
   "metadata": {
    "collapsed": true,
    "ExecuteTime": {
     "end_time": "2025-03-22T10:36:13.957910Z",
     "start_time": "2025-03-22T10:36:12.838520Z"
    }
   },
   "source": [
    "import os\n",
    "import pandas as pd\n",
    "import matplotlib.pyplot as plt\n",
    "import numpy as np\n",
    "from jupyter_core.migrate import regex\n",
    "\n",
    "from settings import RAW, INTERIM\n",
    "# import seaborn as sns\n",
    "from helpers.memory import memory_mib"
   ],
   "outputs": [],
   "execution_count": 1
  },
  {
   "metadata": {
    "ExecuteTime": {
     "end_time": "2025-03-22T10:36:13.970936Z",
     "start_time": "2025-03-22T10:36:13.964793Z"
    }
   },
   "cell_type": "code",
   "source": "# data_path = os.path.join('..', 'data', 'raw')",
   "id": "4448d4d4d251fc9d",
   "outputs": [],
   "execution_count": 2
  },
  {
   "metadata": {
    "ExecuteTime": {
     "end_time": "2025-03-22T10:36:14.253833Z",
     "start_time": "2025-03-22T10:36:14.188417Z"
    }
   },
   "cell_type": "code",
   "source": [
    "\n",
    "\n",
    "master = pd.read_csv(RAW /\"Master.csv\")"
   ],
   "id": "124217c68a5c8c50",
   "outputs": [],
   "execution_count": 3
  },
  {
   "metadata": {
    "ExecuteTime": {
     "end_time": "2025-03-22T10:36:14.380125Z",
     "start_time": "2025-03-22T10:36:14.320637Z"
    }
   },
   "cell_type": "code",
   "source": "master.head()",
   "id": "f5b8cc3846c07e4f",
   "outputs": [
    {
     "data": {
      "text/plain": [
       "    playerID coachID hofID firstName    lastName nameNote         nameGiven  \\\n",
       "0  aaltoan01     NaN   NaN     Antti       Aalto      NaN             Antti   \n",
       "1  abbeybr01     NaN   NaN     Bruce       Abbey      NaN             Bruce   \n",
       "2  abbotge01     NaN   NaN    George      Abbott      NaN      George Henry   \n",
       "3  abbotre01     NaN   NaN       Reg      Abbott      NaN  Reginald Stewart   \n",
       "4  abdelju01     NaN   NaN    Justin  Abdelkader      NaN               NaN   \n",
       "\n",
       "   nameNick  height  weight  ... birthDay birthCountry  birthState  \\\n",
       "0       NaN    73.0   210.0  ...      4.0      Finland         NaN   \n",
       "1       NaN    73.0   185.0  ...     18.0       Canada          ON   \n",
       "2  Preacher    67.0   153.0  ...      3.0       Canada          ON   \n",
       "3       NaN    71.0   164.0  ...      4.0       Canada          MB   \n",
       "4       NaN    73.0   195.0  ...     25.0          USA          MI   \n",
       "\n",
       "      birthCity  deathYear  deathMon  deathDay  deathCountry deathState  \\\n",
       "0  Lappeenranta        NaN       NaN       NaN           NaN        NaN   \n",
       "1       Toronto        NaN       NaN       NaN           NaN        NaN   \n",
       "2      Synenham        NaN       NaN       NaN           NaN        NaN   \n",
       "3      Winnipeg        NaN       NaN       NaN           NaN        NaN   \n",
       "4      Muskegon        NaN       NaN       NaN           NaN        NaN   \n",
       "\n",
       "   deathCity  \n",
       "0        NaN  \n",
       "1        NaN  \n",
       "2        NaN  \n",
       "3        NaN  \n",
       "4        NaN  \n",
       "\n",
       "[5 rows x 31 columns]"
      ],
      "text/html": [
       "<div>\n",
       "<style scoped>\n",
       "    .dataframe tbody tr th:only-of-type {\n",
       "        vertical-align: middle;\n",
       "    }\n",
       "\n",
       "    .dataframe tbody tr th {\n",
       "        vertical-align: top;\n",
       "    }\n",
       "\n",
       "    .dataframe thead th {\n",
       "        text-align: right;\n",
       "    }\n",
       "</style>\n",
       "<table border=\"1\" class=\"dataframe\">\n",
       "  <thead>\n",
       "    <tr style=\"text-align: right;\">\n",
       "      <th></th>\n",
       "      <th>playerID</th>\n",
       "      <th>coachID</th>\n",
       "      <th>hofID</th>\n",
       "      <th>firstName</th>\n",
       "      <th>lastName</th>\n",
       "      <th>nameNote</th>\n",
       "      <th>nameGiven</th>\n",
       "      <th>nameNick</th>\n",
       "      <th>height</th>\n",
       "      <th>weight</th>\n",
       "      <th>...</th>\n",
       "      <th>birthDay</th>\n",
       "      <th>birthCountry</th>\n",
       "      <th>birthState</th>\n",
       "      <th>birthCity</th>\n",
       "      <th>deathYear</th>\n",
       "      <th>deathMon</th>\n",
       "      <th>deathDay</th>\n",
       "      <th>deathCountry</th>\n",
       "      <th>deathState</th>\n",
       "      <th>deathCity</th>\n",
       "    </tr>\n",
       "  </thead>\n",
       "  <tbody>\n",
       "    <tr>\n",
       "      <th>0</th>\n",
       "      <td>aaltoan01</td>\n",
       "      <td>NaN</td>\n",
       "      <td>NaN</td>\n",
       "      <td>Antti</td>\n",
       "      <td>Aalto</td>\n",
       "      <td>NaN</td>\n",
       "      <td>Antti</td>\n",
       "      <td>NaN</td>\n",
       "      <td>73.0</td>\n",
       "      <td>210.0</td>\n",
       "      <td>...</td>\n",
       "      <td>4.0</td>\n",
       "      <td>Finland</td>\n",
       "      <td>NaN</td>\n",
       "      <td>Lappeenranta</td>\n",
       "      <td>NaN</td>\n",
       "      <td>NaN</td>\n",
       "      <td>NaN</td>\n",
       "      <td>NaN</td>\n",
       "      <td>NaN</td>\n",
       "      <td>NaN</td>\n",
       "    </tr>\n",
       "    <tr>\n",
       "      <th>1</th>\n",
       "      <td>abbeybr01</td>\n",
       "      <td>NaN</td>\n",
       "      <td>NaN</td>\n",
       "      <td>Bruce</td>\n",
       "      <td>Abbey</td>\n",
       "      <td>NaN</td>\n",
       "      <td>Bruce</td>\n",
       "      <td>NaN</td>\n",
       "      <td>73.0</td>\n",
       "      <td>185.0</td>\n",
       "      <td>...</td>\n",
       "      <td>18.0</td>\n",
       "      <td>Canada</td>\n",
       "      <td>ON</td>\n",
       "      <td>Toronto</td>\n",
       "      <td>NaN</td>\n",
       "      <td>NaN</td>\n",
       "      <td>NaN</td>\n",
       "      <td>NaN</td>\n",
       "      <td>NaN</td>\n",
       "      <td>NaN</td>\n",
       "    </tr>\n",
       "    <tr>\n",
       "      <th>2</th>\n",
       "      <td>abbotge01</td>\n",
       "      <td>NaN</td>\n",
       "      <td>NaN</td>\n",
       "      <td>George</td>\n",
       "      <td>Abbott</td>\n",
       "      <td>NaN</td>\n",
       "      <td>George Henry</td>\n",
       "      <td>Preacher</td>\n",
       "      <td>67.0</td>\n",
       "      <td>153.0</td>\n",
       "      <td>...</td>\n",
       "      <td>3.0</td>\n",
       "      <td>Canada</td>\n",
       "      <td>ON</td>\n",
       "      <td>Synenham</td>\n",
       "      <td>NaN</td>\n",
       "      <td>NaN</td>\n",
       "      <td>NaN</td>\n",
       "      <td>NaN</td>\n",
       "      <td>NaN</td>\n",
       "      <td>NaN</td>\n",
       "    </tr>\n",
       "    <tr>\n",
       "      <th>3</th>\n",
       "      <td>abbotre01</td>\n",
       "      <td>NaN</td>\n",
       "      <td>NaN</td>\n",
       "      <td>Reg</td>\n",
       "      <td>Abbott</td>\n",
       "      <td>NaN</td>\n",
       "      <td>Reginald Stewart</td>\n",
       "      <td>NaN</td>\n",
       "      <td>71.0</td>\n",
       "      <td>164.0</td>\n",
       "      <td>...</td>\n",
       "      <td>4.0</td>\n",
       "      <td>Canada</td>\n",
       "      <td>MB</td>\n",
       "      <td>Winnipeg</td>\n",
       "      <td>NaN</td>\n",
       "      <td>NaN</td>\n",
       "      <td>NaN</td>\n",
       "      <td>NaN</td>\n",
       "      <td>NaN</td>\n",
       "      <td>NaN</td>\n",
       "    </tr>\n",
       "    <tr>\n",
       "      <th>4</th>\n",
       "      <td>abdelju01</td>\n",
       "      <td>NaN</td>\n",
       "      <td>NaN</td>\n",
       "      <td>Justin</td>\n",
       "      <td>Abdelkader</td>\n",
       "      <td>NaN</td>\n",
       "      <td>NaN</td>\n",
       "      <td>NaN</td>\n",
       "      <td>73.0</td>\n",
       "      <td>195.0</td>\n",
       "      <td>...</td>\n",
       "      <td>25.0</td>\n",
       "      <td>USA</td>\n",
       "      <td>MI</td>\n",
       "      <td>Muskegon</td>\n",
       "      <td>NaN</td>\n",
       "      <td>NaN</td>\n",
       "      <td>NaN</td>\n",
       "      <td>NaN</td>\n",
       "      <td>NaN</td>\n",
       "      <td>NaN</td>\n",
       "    </tr>\n",
       "  </tbody>\n",
       "</table>\n",
       "<p>5 rows × 31 columns</p>\n",
       "</div>"
      ]
     },
     "execution_count": 4,
     "metadata": {},
     "output_type": "execute_result"
    }
   ],
   "execution_count": 4
  },
  {
   "metadata": {
    "ExecuteTime": {
     "end_time": "2025-03-22T10:36:14.522811Z",
     "start_time": "2025-03-22T10:36:14.504268Z"
    }
   },
   "cell_type": "code",
   "source": "master.info()",
   "id": "abb957a2e261263b",
   "outputs": [
    {
     "name": "stdout",
     "output_type": "stream",
     "text": [
      "<class 'pandas.core.frame.DataFrame'>\n",
      "RangeIndex: 7761 entries, 0 to 7760\n",
      "Data columns (total 31 columns):\n",
      " #   Column        Non-Null Count  Dtype  \n",
      "---  ------        --------------  -----  \n",
      " 0   playerID      7520 non-null   object \n",
      " 1   coachID       395 non-null    object \n",
      " 2   hofID         366 non-null    object \n",
      " 3   firstName     7748 non-null   object \n",
      " 4   lastName      7761 non-null   object \n",
      " 5   nameNote      18 non-null     object \n",
      " 6   nameGiven     5985 non-null   object \n",
      " 7   nameNick      1306 non-null   object \n",
      " 8   height        7334 non-null   float64\n",
      " 9   weight        7336 non-null   float64\n",
      " 10  shootCatch    7048 non-null   object \n",
      " 11  legendsID     6577 non-null   object \n",
      " 12  ihdbID        7125 non-null   float64\n",
      " 13  hrefID        7457 non-null   object \n",
      " 14  firstNHL      6851 non-null   float64\n",
      " 15  lastNHL       6851 non-null   float64\n",
      " 16  firstWHA      903 non-null    float64\n",
      " 17  lastWHA       903 non-null    float64\n",
      " 18  pos           7447 non-null   object \n",
      " 19  birthYear     7543 non-null   float64\n",
      " 20  birthMon      7506 non-null   float64\n",
      " 21  birthDay      7504 non-null   float64\n",
      " 22  birthCountry  7396 non-null   object \n",
      " 23  birthState    6324 non-null   object \n",
      " 24  birthCity     7388 non-null   object \n",
      " 25  deathYear     1320 non-null   float64\n",
      " 26  deathMon      1173 non-null   float64\n",
      " 27  deathDay      1168 non-null   float64\n",
      " 28  deathCountry  498 non-null    object \n",
      " 29  deathState    471 non-null    object \n",
      " 30  deathCity     483 non-null    object \n",
      "dtypes: float64(13), object(18)\n",
      "memory usage: 1.8+ MB\n"
     ]
    }
   ],
   "execution_count": 5
  },
  {
   "metadata": {
    "ExecuteTime": {
     "end_time": "2025-03-22T10:36:14.551773Z",
     "start_time": "2025-03-22T10:36:14.542719Z"
    }
   },
   "cell_type": "code",
   "source": "master.shape",
   "id": "66ed1238adc579f5",
   "outputs": [
    {
     "data": {
      "text/plain": [
       "(7761, 31)"
      ]
     },
     "execution_count": 6,
     "metadata": {},
     "output_type": "execute_result"
    }
   ],
   "execution_count": 6
  },
  {
   "metadata": {
    "ExecuteTime": {
     "end_time": "2025-03-22T10:36:14.708019Z",
     "start_time": "2025-03-22T10:36:14.696066Z"
    }
   },
   "cell_type": "code",
   "source": [
    "(master['playerID']\n",
    " .pipe(pd.isnull)\n",
    " .value_counts(normalize=True))"
   ],
   "id": "6d0e162aa1956846",
   "outputs": [
    {
     "data": {
      "text/plain": [
       "playerID\n",
       "False    0.968947\n",
       "True     0.031053\n",
       "Name: proportion, dtype: float64"
      ]
     },
     "execution_count": 7,
     "metadata": {},
     "output_type": "execute_result"
    }
   ],
   "execution_count": 7
  },
  {
   "metadata": {
    "ExecuteTime": {
     "end_time": "2025-03-22T10:36:14.947598Z",
     "start_time": "2025-03-22T10:36:14.930903Z"
    }
   },
   "cell_type": "code",
   "source": "pd.isnull(master['playerID']).value_counts()",
   "id": "6da9d1ff6f475be5",
   "outputs": [
    {
     "data": {
      "text/plain": [
       "playerID\n",
       "False    7520\n",
       "True      241\n",
       "Name: count, dtype: int64"
      ]
     },
     "execution_count": 8,
     "metadata": {},
     "output_type": "execute_result"
    }
   ],
   "execution_count": 8
  },
  {
   "metadata": {
    "ExecuteTime": {
     "end_time": "2025-03-22T10:36:15.162672Z",
     "start_time": "2025-03-22T10:36:15.121447Z"
    }
   },
   "cell_type": "code",
   "source": "master_original = master.copy()",
   "id": "6c6c87b1eb16b663",
   "outputs": [],
   "execution_count": 9
  },
  {
   "metadata": {
    "ExecuteTime": {
     "end_time": "2025-03-22T10:36:15.498593Z",
     "start_time": "2025-03-22T10:36:15.464514Z"
    }
   },
   "cell_type": "code",
   "source": "master.dropna(subset=['playerID'], inplace=True)",
   "id": "37aa3bdc28073f97",
   "outputs": [],
   "execution_count": 10
  },
  {
   "metadata": {
    "ExecuteTime": {
     "end_time": "2025-03-22T10:36:15.792620Z",
     "start_time": "2025-03-22T10:36:15.776831Z"
    }
   },
   "cell_type": "code",
   "source": "master.shape",
   "id": "6d256bc469601001",
   "outputs": [
    {
     "data": {
      "text/plain": [
       "(7520, 31)"
      ]
     },
     "execution_count": 11,
     "metadata": {},
     "output_type": "execute_result"
    }
   ],
   "execution_count": 11
  },
  {
   "metadata": {
    "ExecuteTime": {
     "end_time": "2025-03-22T10:36:16.009073Z",
     "start_time": "2025-03-22T10:36:15.977165Z"
    }
   },
   "cell_type": "code",
   "source": [
    "(master['playerID']\n",
    " .pipe(pd.isnull)\n",
    " .value_counts())"
   ],
   "id": "99524802265a77be",
   "outputs": [
    {
     "data": {
      "text/plain": [
       "playerID\n",
       "False    7520\n",
       "Name: count, dtype: int64"
      ]
     },
     "execution_count": 12,
     "metadata": {},
     "output_type": "execute_result"
    }
   ],
   "execution_count": 12
  },
  {
   "metadata": {
    "ExecuteTime": {
     "end_time": "2025-03-22T10:36:16.312018Z",
     "start_time": "2025-03-22T10:36:16.289790Z"
    }
   },
   "cell_type": "code",
   "source": "master.dropna(subset=['firstNHL', 'lastNHL'], how='all', inplace=True)",
   "id": "f62a784db308d35b",
   "outputs": [],
   "execution_count": 13
  },
  {
   "metadata": {
    "ExecuteTime": {
     "end_time": "2025-03-22T10:36:16.448242Z",
     "start_time": "2025-03-22T10:36:16.441078Z"
    }
   },
   "cell_type": "code",
   "source": "master.shape",
   "id": "d7339198a8e67a49",
   "outputs": [
    {
     "data": {
      "text/plain": [
       "(6851, 31)"
      ]
     },
     "execution_count": 14,
     "metadata": {},
     "output_type": "execute_result"
    }
   ],
   "execution_count": 14
  },
  {
   "metadata": {
    "ExecuteTime": {
     "end_time": "2025-03-22T10:36:16.650891Z",
     "start_time": "2025-03-22T10:36:16.635603Z"
    }
   },
   "cell_type": "code",
   "source": "master.dtypes",
   "id": "a52c0d39d1f3c075",
   "outputs": [
    {
     "data": {
      "text/plain": [
       "playerID         object\n",
       "coachID          object\n",
       "hofID            object\n",
       "firstName        object\n",
       "lastName         object\n",
       "nameNote         object\n",
       "nameGiven        object\n",
       "nameNick         object\n",
       "height          float64\n",
       "weight          float64\n",
       "shootCatch       object\n",
       "legendsID        object\n",
       "ihdbID          float64\n",
       "hrefID           object\n",
       "firstNHL        float64\n",
       "lastNHL         float64\n",
       "firstWHA        float64\n",
       "lastWHA         float64\n",
       "pos              object\n",
       "birthYear       float64\n",
       "birthMon        float64\n",
       "birthDay        float64\n",
       "birthCountry     object\n",
       "birthState       object\n",
       "birthCity        object\n",
       "deathYear       float64\n",
       "deathMon        float64\n",
       "deathDay        float64\n",
       "deathCountry     object\n",
       "deathState       object\n",
       "deathCity        object\n",
       "dtype: object"
      ]
     },
     "execution_count": 15,
     "metadata": {},
     "output_type": "execute_result"
    }
   ],
   "execution_count": 15
  },
  {
   "metadata": {
    "ExecuteTime": {
     "end_time": "2025-03-22T10:36:16.893960Z",
     "start_time": "2025-03-22T10:36:16.882557Z"
    }
   },
   "cell_type": "code",
   "source": "master['lastNHL'].dtypes",
   "id": "77c5745f92a3a2c7",
   "outputs": [
    {
     "data": {
      "text/plain": [
       "dtype('float64')"
      ]
     },
     "execution_count": 16,
     "metadata": {},
     "output_type": "execute_result"
    }
   ],
   "execution_count": 16
  },
  {
   "metadata": {
    "ExecuteTime": {
     "end_time": "2025-03-22T10:36:17.014221Z",
     "start_time": "2025-03-22T10:36:16.997117Z"
    }
   },
   "cell_type": "code",
   "source": "master['lastNHL'].sample(n=10)",
   "id": "bbaad535c0c451d5",
   "outputs": [
    {
     "data": {
      "text/plain": [
       "2691    2010.0\n",
       "6260    1998.0\n",
       "4067    1946.0\n",
       "1788    1968.0\n",
       "716     2011.0\n",
       "1341    1956.0\n",
       "5613    1980.0\n",
       "19      1982.0\n",
       "3129    1917.0\n",
       "6479    1986.0\n",
       "Name: lastNHL, dtype: float64"
      ]
     },
     "execution_count": 17,
     "metadata": {},
     "output_type": "execute_result"
    }
   ],
   "execution_count": 17
  },
  {
   "metadata": {
    "ExecuteTime": {
     "end_time": "2025-03-22T10:36:17.244767Z",
     "start_time": "2025-03-22T10:36:17.144472Z"
    }
   },
   "cell_type": "code",
   "source": "master.query('lastNHL >= 1980')",
   "id": "aff6f1e208046c3c",
   "outputs": [
    {
     "data": {
      "text/plain": [
       "       playerID coachID hofID firstName     lastName nameNote     nameGiven  \\\n",
       "0     aaltoan01     NaN   NaN     Antti        Aalto      NaN         Antti   \n",
       "4     abdelju01     NaN   NaN    Justin   Abdelkader      NaN           NaN   \n",
       "9      abidra01     NaN   NaN     Ramzi         Abid      NaN           NaN   \n",
       "11    abrahth01     NaN   NaN    Thommy  Abrahamsson      NaN    Thommy Ulf   \n",
       "14    actonke01     NaN   NaN     Keith        Acton      NaN  Keith Edward   \n",
       "...         ...     ...   ...       ...          ...      ...           ...   \n",
       "7754  zubruda01     NaN   NaN   Dainius       Zubrus      NaN       Dainius   \n",
       "7755  zuccama01     NaN   NaN      Mats   Zuccarello      NaN           NaN   \n",
       "7756  zuckeja01     NaN   NaN     Jason       Zucker      NaN           NaN   \n",
       "7757   zukemi01     NaN   NaN      Mike         Zuke      NaN  Michael Zuke   \n",
       "7760  zyuzian01     NaN   NaN    Andrei       Zyuzin      NaN        Andrei   \n",
       "\n",
       "     nameNick  height  weight  ... birthDay birthCountry  birthState  \\\n",
       "0         NaN    73.0   210.0  ...      4.0      Finland         NaN   \n",
       "4         NaN    73.0   195.0  ...     25.0          USA          MI   \n",
       "9         NaN    74.0   210.0  ...     24.0       Canada          QC   \n",
       "11        NaN    74.0   185.0  ...     12.0       Sweden         NaN   \n",
       "14      Woody    68.0   170.0  ...     15.0       Canada          ON   \n",
       "...       ...     ...     ...  ...      ...          ...         ...   \n",
       "7754      NaN    77.0   225.0  ...     16.0    Lithuania         NaN   \n",
       "7755      NaN    67.0   174.0  ...      1.0       Norway         NaN   \n",
       "7756      NaN    71.0   174.0  ...     16.0          NaN         NaN   \n",
       "7757      NaN    72.0   180.0  ...     16.0       Canada          ON   \n",
       "7760      NaN    73.0   208.0  ...     21.0       Russia         NaN   \n",
       "\n",
       "             birthCity  deathYear  deathMon  deathDay  deathCountry  \\\n",
       "0         Lappeenranta        NaN       NaN       NaN           NaN   \n",
       "4             Muskegon        NaN       NaN       NaN           NaN   \n",
       "9             Montreal        NaN       NaN       NaN           NaN   \n",
       "11             Leksand        NaN       NaN       NaN           NaN   \n",
       "14         Stouffville        NaN       NaN       NaN           NaN   \n",
       "...                ...        ...       ...       ...           ...   \n",
       "7754        Elektrenai        NaN       NaN       NaN           NaN   \n",
       "7755              Oslo        NaN       NaN       NaN           NaN   \n",
       "7756               NaN        NaN       NaN       NaN           NaN   \n",
       "7757  Sault Ste. Marie        NaN       NaN       NaN           NaN   \n",
       "7760               Ufa        NaN       NaN       NaN           NaN   \n",
       "\n",
       "     deathState  deathCity  \n",
       "0           NaN        NaN  \n",
       "4           NaN        NaN  \n",
       "9           NaN        NaN  \n",
       "11          NaN        NaN  \n",
       "14          NaN        NaN  \n",
       "...         ...        ...  \n",
       "7754        NaN        NaN  \n",
       "7755        NaN        NaN  \n",
       "7756        NaN        NaN  \n",
       "7757        NaN        NaN  \n",
       "7760        NaN        NaN  \n",
       "\n",
       "[4627 rows x 31 columns]"
      ],
      "text/html": [
       "<div>\n",
       "<style scoped>\n",
       "    .dataframe tbody tr th:only-of-type {\n",
       "        vertical-align: middle;\n",
       "    }\n",
       "\n",
       "    .dataframe tbody tr th {\n",
       "        vertical-align: top;\n",
       "    }\n",
       "\n",
       "    .dataframe thead th {\n",
       "        text-align: right;\n",
       "    }\n",
       "</style>\n",
       "<table border=\"1\" class=\"dataframe\">\n",
       "  <thead>\n",
       "    <tr style=\"text-align: right;\">\n",
       "      <th></th>\n",
       "      <th>playerID</th>\n",
       "      <th>coachID</th>\n",
       "      <th>hofID</th>\n",
       "      <th>firstName</th>\n",
       "      <th>lastName</th>\n",
       "      <th>nameNote</th>\n",
       "      <th>nameGiven</th>\n",
       "      <th>nameNick</th>\n",
       "      <th>height</th>\n",
       "      <th>weight</th>\n",
       "      <th>...</th>\n",
       "      <th>birthDay</th>\n",
       "      <th>birthCountry</th>\n",
       "      <th>birthState</th>\n",
       "      <th>birthCity</th>\n",
       "      <th>deathYear</th>\n",
       "      <th>deathMon</th>\n",
       "      <th>deathDay</th>\n",
       "      <th>deathCountry</th>\n",
       "      <th>deathState</th>\n",
       "      <th>deathCity</th>\n",
       "    </tr>\n",
       "  </thead>\n",
       "  <tbody>\n",
       "    <tr>\n",
       "      <th>0</th>\n",
       "      <td>aaltoan01</td>\n",
       "      <td>NaN</td>\n",
       "      <td>NaN</td>\n",
       "      <td>Antti</td>\n",
       "      <td>Aalto</td>\n",
       "      <td>NaN</td>\n",
       "      <td>Antti</td>\n",
       "      <td>NaN</td>\n",
       "      <td>73.0</td>\n",
       "      <td>210.0</td>\n",
       "      <td>...</td>\n",
       "      <td>4.0</td>\n",
       "      <td>Finland</td>\n",
       "      <td>NaN</td>\n",
       "      <td>Lappeenranta</td>\n",
       "      <td>NaN</td>\n",
       "      <td>NaN</td>\n",
       "      <td>NaN</td>\n",
       "      <td>NaN</td>\n",
       "      <td>NaN</td>\n",
       "      <td>NaN</td>\n",
       "    </tr>\n",
       "    <tr>\n",
       "      <th>4</th>\n",
       "      <td>abdelju01</td>\n",
       "      <td>NaN</td>\n",
       "      <td>NaN</td>\n",
       "      <td>Justin</td>\n",
       "      <td>Abdelkader</td>\n",
       "      <td>NaN</td>\n",
       "      <td>NaN</td>\n",
       "      <td>NaN</td>\n",
       "      <td>73.0</td>\n",
       "      <td>195.0</td>\n",
       "      <td>...</td>\n",
       "      <td>25.0</td>\n",
       "      <td>USA</td>\n",
       "      <td>MI</td>\n",
       "      <td>Muskegon</td>\n",
       "      <td>NaN</td>\n",
       "      <td>NaN</td>\n",
       "      <td>NaN</td>\n",
       "      <td>NaN</td>\n",
       "      <td>NaN</td>\n",
       "      <td>NaN</td>\n",
       "    </tr>\n",
       "    <tr>\n",
       "      <th>9</th>\n",
       "      <td>abidra01</td>\n",
       "      <td>NaN</td>\n",
       "      <td>NaN</td>\n",
       "      <td>Ramzi</td>\n",
       "      <td>Abid</td>\n",
       "      <td>NaN</td>\n",
       "      <td>NaN</td>\n",
       "      <td>NaN</td>\n",
       "      <td>74.0</td>\n",
       "      <td>210.0</td>\n",
       "      <td>...</td>\n",
       "      <td>24.0</td>\n",
       "      <td>Canada</td>\n",
       "      <td>QC</td>\n",
       "      <td>Montreal</td>\n",
       "      <td>NaN</td>\n",
       "      <td>NaN</td>\n",
       "      <td>NaN</td>\n",
       "      <td>NaN</td>\n",
       "      <td>NaN</td>\n",
       "      <td>NaN</td>\n",
       "    </tr>\n",
       "    <tr>\n",
       "      <th>11</th>\n",
       "      <td>abrahth01</td>\n",
       "      <td>NaN</td>\n",
       "      <td>NaN</td>\n",
       "      <td>Thommy</td>\n",
       "      <td>Abrahamsson</td>\n",
       "      <td>NaN</td>\n",
       "      <td>Thommy Ulf</td>\n",
       "      <td>NaN</td>\n",
       "      <td>74.0</td>\n",
       "      <td>185.0</td>\n",
       "      <td>...</td>\n",
       "      <td>12.0</td>\n",
       "      <td>Sweden</td>\n",
       "      <td>NaN</td>\n",
       "      <td>Leksand</td>\n",
       "      <td>NaN</td>\n",
       "      <td>NaN</td>\n",
       "      <td>NaN</td>\n",
       "      <td>NaN</td>\n",
       "      <td>NaN</td>\n",
       "      <td>NaN</td>\n",
       "    </tr>\n",
       "    <tr>\n",
       "      <th>14</th>\n",
       "      <td>actonke01</td>\n",
       "      <td>NaN</td>\n",
       "      <td>NaN</td>\n",
       "      <td>Keith</td>\n",
       "      <td>Acton</td>\n",
       "      <td>NaN</td>\n",
       "      <td>Keith Edward</td>\n",
       "      <td>Woody</td>\n",
       "      <td>68.0</td>\n",
       "      <td>170.0</td>\n",
       "      <td>...</td>\n",
       "      <td>15.0</td>\n",
       "      <td>Canada</td>\n",
       "      <td>ON</td>\n",
       "      <td>Stouffville</td>\n",
       "      <td>NaN</td>\n",
       "      <td>NaN</td>\n",
       "      <td>NaN</td>\n",
       "      <td>NaN</td>\n",
       "      <td>NaN</td>\n",
       "      <td>NaN</td>\n",
       "    </tr>\n",
       "    <tr>\n",
       "      <th>...</th>\n",
       "      <td>...</td>\n",
       "      <td>...</td>\n",
       "      <td>...</td>\n",
       "      <td>...</td>\n",
       "      <td>...</td>\n",
       "      <td>...</td>\n",
       "      <td>...</td>\n",
       "      <td>...</td>\n",
       "      <td>...</td>\n",
       "      <td>...</td>\n",
       "      <td>...</td>\n",
       "      <td>...</td>\n",
       "      <td>...</td>\n",
       "      <td>...</td>\n",
       "      <td>...</td>\n",
       "      <td>...</td>\n",
       "      <td>...</td>\n",
       "      <td>...</td>\n",
       "      <td>...</td>\n",
       "      <td>...</td>\n",
       "      <td>...</td>\n",
       "    </tr>\n",
       "    <tr>\n",
       "      <th>7754</th>\n",
       "      <td>zubruda01</td>\n",
       "      <td>NaN</td>\n",
       "      <td>NaN</td>\n",
       "      <td>Dainius</td>\n",
       "      <td>Zubrus</td>\n",
       "      <td>NaN</td>\n",
       "      <td>Dainius</td>\n",
       "      <td>NaN</td>\n",
       "      <td>77.0</td>\n",
       "      <td>225.0</td>\n",
       "      <td>...</td>\n",
       "      <td>16.0</td>\n",
       "      <td>Lithuania</td>\n",
       "      <td>NaN</td>\n",
       "      <td>Elektrenai</td>\n",
       "      <td>NaN</td>\n",
       "      <td>NaN</td>\n",
       "      <td>NaN</td>\n",
       "      <td>NaN</td>\n",
       "      <td>NaN</td>\n",
       "      <td>NaN</td>\n",
       "    </tr>\n",
       "    <tr>\n",
       "      <th>7755</th>\n",
       "      <td>zuccama01</td>\n",
       "      <td>NaN</td>\n",
       "      <td>NaN</td>\n",
       "      <td>Mats</td>\n",
       "      <td>Zuccarello</td>\n",
       "      <td>NaN</td>\n",
       "      <td>NaN</td>\n",
       "      <td>NaN</td>\n",
       "      <td>67.0</td>\n",
       "      <td>174.0</td>\n",
       "      <td>...</td>\n",
       "      <td>1.0</td>\n",
       "      <td>Norway</td>\n",
       "      <td>NaN</td>\n",
       "      <td>Oslo</td>\n",
       "      <td>NaN</td>\n",
       "      <td>NaN</td>\n",
       "      <td>NaN</td>\n",
       "      <td>NaN</td>\n",
       "      <td>NaN</td>\n",
       "      <td>NaN</td>\n",
       "    </tr>\n",
       "    <tr>\n",
       "      <th>7756</th>\n",
       "      <td>zuckeja01</td>\n",
       "      <td>NaN</td>\n",
       "      <td>NaN</td>\n",
       "      <td>Jason</td>\n",
       "      <td>Zucker</td>\n",
       "      <td>NaN</td>\n",
       "      <td>NaN</td>\n",
       "      <td>NaN</td>\n",
       "      <td>71.0</td>\n",
       "      <td>174.0</td>\n",
       "      <td>...</td>\n",
       "      <td>16.0</td>\n",
       "      <td>NaN</td>\n",
       "      <td>NaN</td>\n",
       "      <td>NaN</td>\n",
       "      <td>NaN</td>\n",
       "      <td>NaN</td>\n",
       "      <td>NaN</td>\n",
       "      <td>NaN</td>\n",
       "      <td>NaN</td>\n",
       "      <td>NaN</td>\n",
       "    </tr>\n",
       "    <tr>\n",
       "      <th>7757</th>\n",
       "      <td>zukemi01</td>\n",
       "      <td>NaN</td>\n",
       "      <td>NaN</td>\n",
       "      <td>Mike</td>\n",
       "      <td>Zuke</td>\n",
       "      <td>NaN</td>\n",
       "      <td>Michael Zuke</td>\n",
       "      <td>NaN</td>\n",
       "      <td>72.0</td>\n",
       "      <td>180.0</td>\n",
       "      <td>...</td>\n",
       "      <td>16.0</td>\n",
       "      <td>Canada</td>\n",
       "      <td>ON</td>\n",
       "      <td>Sault Ste. Marie</td>\n",
       "      <td>NaN</td>\n",
       "      <td>NaN</td>\n",
       "      <td>NaN</td>\n",
       "      <td>NaN</td>\n",
       "      <td>NaN</td>\n",
       "      <td>NaN</td>\n",
       "    </tr>\n",
       "    <tr>\n",
       "      <th>7760</th>\n",
       "      <td>zyuzian01</td>\n",
       "      <td>NaN</td>\n",
       "      <td>NaN</td>\n",
       "      <td>Andrei</td>\n",
       "      <td>Zyuzin</td>\n",
       "      <td>NaN</td>\n",
       "      <td>Andrei</td>\n",
       "      <td>NaN</td>\n",
       "      <td>73.0</td>\n",
       "      <td>208.0</td>\n",
       "      <td>...</td>\n",
       "      <td>21.0</td>\n",
       "      <td>Russia</td>\n",
       "      <td>NaN</td>\n",
       "      <td>Ufa</td>\n",
       "      <td>NaN</td>\n",
       "      <td>NaN</td>\n",
       "      <td>NaN</td>\n",
       "      <td>NaN</td>\n",
       "      <td>NaN</td>\n",
       "      <td>NaN</td>\n",
       "    </tr>\n",
       "  </tbody>\n",
       "</table>\n",
       "<p>4627 rows × 31 columns</p>\n",
       "</div>"
      ]
     },
     "execution_count": 18,
     "metadata": {},
     "output_type": "execute_result"
    }
   ],
   "execution_count": 18
  },
  {
   "metadata": {
    "ExecuteTime": {
     "end_time": "2025-03-22T10:36:17.532272Z",
     "start_time": "2025-03-22T10:36:17.515393Z"
    }
   },
   "cell_type": "code",
   "source": "master = master.loc[master['lastNHL'] >= 1980]",
   "id": "10a6b62d4fdc6c2a",
   "outputs": [],
   "execution_count": 19
  },
  {
   "metadata": {
    "ExecuteTime": {
     "end_time": "2025-03-22T10:36:17.819475Z",
     "start_time": "2025-03-22T10:36:17.760157Z"
    }
   },
   "cell_type": "code",
   "source": "master.head()",
   "id": "3d758e72580b85ff",
   "outputs": [
    {
     "data": {
      "text/plain": [
       "     playerID coachID hofID firstName     lastName nameNote     nameGiven  \\\n",
       "0   aaltoan01     NaN   NaN     Antti        Aalto      NaN         Antti   \n",
       "4   abdelju01     NaN   NaN    Justin   Abdelkader      NaN           NaN   \n",
       "9    abidra01     NaN   NaN     Ramzi         Abid      NaN           NaN   \n",
       "11  abrahth01     NaN   NaN    Thommy  Abrahamsson      NaN    Thommy Ulf   \n",
       "14  actonke01     NaN   NaN     Keith        Acton      NaN  Keith Edward   \n",
       "\n",
       "   nameNick  height  weight  ... birthDay birthCountry  birthState  \\\n",
       "0       NaN    73.0   210.0  ...      4.0      Finland         NaN   \n",
       "4       NaN    73.0   195.0  ...     25.0          USA          MI   \n",
       "9       NaN    74.0   210.0  ...     24.0       Canada          QC   \n",
       "11      NaN    74.0   185.0  ...     12.0       Sweden         NaN   \n",
       "14    Woody    68.0   170.0  ...     15.0       Canada          ON   \n",
       "\n",
       "       birthCity  deathYear  deathMon  deathDay  deathCountry deathState  \\\n",
       "0   Lappeenranta        NaN       NaN       NaN           NaN        NaN   \n",
       "4       Muskegon        NaN       NaN       NaN           NaN        NaN   \n",
       "9       Montreal        NaN       NaN       NaN           NaN        NaN   \n",
       "11       Leksand        NaN       NaN       NaN           NaN        NaN   \n",
       "14   Stouffville        NaN       NaN       NaN           NaN        NaN   \n",
       "\n",
       "    deathCity  \n",
       "0         NaN  \n",
       "4         NaN  \n",
       "9         NaN  \n",
       "11        NaN  \n",
       "14        NaN  \n",
       "\n",
       "[5 rows x 31 columns]"
      ],
      "text/html": [
       "<div>\n",
       "<style scoped>\n",
       "    .dataframe tbody tr th:only-of-type {\n",
       "        vertical-align: middle;\n",
       "    }\n",
       "\n",
       "    .dataframe tbody tr th {\n",
       "        vertical-align: top;\n",
       "    }\n",
       "\n",
       "    .dataframe thead th {\n",
       "        text-align: right;\n",
       "    }\n",
       "</style>\n",
       "<table border=\"1\" class=\"dataframe\">\n",
       "  <thead>\n",
       "    <tr style=\"text-align: right;\">\n",
       "      <th></th>\n",
       "      <th>playerID</th>\n",
       "      <th>coachID</th>\n",
       "      <th>hofID</th>\n",
       "      <th>firstName</th>\n",
       "      <th>lastName</th>\n",
       "      <th>nameNote</th>\n",
       "      <th>nameGiven</th>\n",
       "      <th>nameNick</th>\n",
       "      <th>height</th>\n",
       "      <th>weight</th>\n",
       "      <th>...</th>\n",
       "      <th>birthDay</th>\n",
       "      <th>birthCountry</th>\n",
       "      <th>birthState</th>\n",
       "      <th>birthCity</th>\n",
       "      <th>deathYear</th>\n",
       "      <th>deathMon</th>\n",
       "      <th>deathDay</th>\n",
       "      <th>deathCountry</th>\n",
       "      <th>deathState</th>\n",
       "      <th>deathCity</th>\n",
       "    </tr>\n",
       "  </thead>\n",
       "  <tbody>\n",
       "    <tr>\n",
       "      <th>0</th>\n",
       "      <td>aaltoan01</td>\n",
       "      <td>NaN</td>\n",
       "      <td>NaN</td>\n",
       "      <td>Antti</td>\n",
       "      <td>Aalto</td>\n",
       "      <td>NaN</td>\n",
       "      <td>Antti</td>\n",
       "      <td>NaN</td>\n",
       "      <td>73.0</td>\n",
       "      <td>210.0</td>\n",
       "      <td>...</td>\n",
       "      <td>4.0</td>\n",
       "      <td>Finland</td>\n",
       "      <td>NaN</td>\n",
       "      <td>Lappeenranta</td>\n",
       "      <td>NaN</td>\n",
       "      <td>NaN</td>\n",
       "      <td>NaN</td>\n",
       "      <td>NaN</td>\n",
       "      <td>NaN</td>\n",
       "      <td>NaN</td>\n",
       "    </tr>\n",
       "    <tr>\n",
       "      <th>4</th>\n",
       "      <td>abdelju01</td>\n",
       "      <td>NaN</td>\n",
       "      <td>NaN</td>\n",
       "      <td>Justin</td>\n",
       "      <td>Abdelkader</td>\n",
       "      <td>NaN</td>\n",
       "      <td>NaN</td>\n",
       "      <td>NaN</td>\n",
       "      <td>73.0</td>\n",
       "      <td>195.0</td>\n",
       "      <td>...</td>\n",
       "      <td>25.0</td>\n",
       "      <td>USA</td>\n",
       "      <td>MI</td>\n",
       "      <td>Muskegon</td>\n",
       "      <td>NaN</td>\n",
       "      <td>NaN</td>\n",
       "      <td>NaN</td>\n",
       "      <td>NaN</td>\n",
       "      <td>NaN</td>\n",
       "      <td>NaN</td>\n",
       "    </tr>\n",
       "    <tr>\n",
       "      <th>9</th>\n",
       "      <td>abidra01</td>\n",
       "      <td>NaN</td>\n",
       "      <td>NaN</td>\n",
       "      <td>Ramzi</td>\n",
       "      <td>Abid</td>\n",
       "      <td>NaN</td>\n",
       "      <td>NaN</td>\n",
       "      <td>NaN</td>\n",
       "      <td>74.0</td>\n",
       "      <td>210.0</td>\n",
       "      <td>...</td>\n",
       "      <td>24.0</td>\n",
       "      <td>Canada</td>\n",
       "      <td>QC</td>\n",
       "      <td>Montreal</td>\n",
       "      <td>NaN</td>\n",
       "      <td>NaN</td>\n",
       "      <td>NaN</td>\n",
       "      <td>NaN</td>\n",
       "      <td>NaN</td>\n",
       "      <td>NaN</td>\n",
       "    </tr>\n",
       "    <tr>\n",
       "      <th>11</th>\n",
       "      <td>abrahth01</td>\n",
       "      <td>NaN</td>\n",
       "      <td>NaN</td>\n",
       "      <td>Thommy</td>\n",
       "      <td>Abrahamsson</td>\n",
       "      <td>NaN</td>\n",
       "      <td>Thommy Ulf</td>\n",
       "      <td>NaN</td>\n",
       "      <td>74.0</td>\n",
       "      <td>185.0</td>\n",
       "      <td>...</td>\n",
       "      <td>12.0</td>\n",
       "      <td>Sweden</td>\n",
       "      <td>NaN</td>\n",
       "      <td>Leksand</td>\n",
       "      <td>NaN</td>\n",
       "      <td>NaN</td>\n",
       "      <td>NaN</td>\n",
       "      <td>NaN</td>\n",
       "      <td>NaN</td>\n",
       "      <td>NaN</td>\n",
       "    </tr>\n",
       "    <tr>\n",
       "      <th>14</th>\n",
       "      <td>actonke01</td>\n",
       "      <td>NaN</td>\n",
       "      <td>NaN</td>\n",
       "      <td>Keith</td>\n",
       "      <td>Acton</td>\n",
       "      <td>NaN</td>\n",
       "      <td>Keith Edward</td>\n",
       "      <td>Woody</td>\n",
       "      <td>68.0</td>\n",
       "      <td>170.0</td>\n",
       "      <td>...</td>\n",
       "      <td>15.0</td>\n",
       "      <td>Canada</td>\n",
       "      <td>ON</td>\n",
       "      <td>Stouffville</td>\n",
       "      <td>NaN</td>\n",
       "      <td>NaN</td>\n",
       "      <td>NaN</td>\n",
       "      <td>NaN</td>\n",
       "      <td>NaN</td>\n",
       "      <td>NaN</td>\n",
       "    </tr>\n",
       "  </tbody>\n",
       "</table>\n",
       "<p>5 rows × 31 columns</p>\n",
       "</div>"
      ]
     },
     "execution_count": 20,
     "metadata": {},
     "output_type": "execute_result"
    }
   ],
   "execution_count": 20
  },
  {
   "metadata": {
    "ExecuteTime": {
     "end_time": "2025-03-22T10:36:18.224938Z",
     "start_time": "2025-03-22T10:36:18.214846Z"
    }
   },
   "cell_type": "code",
   "source": [
    "columns_to_keep = [\"playerID\", \"firstName\", \"lastName\",\n",
    "                   \"pos\", \"birthYear\", \"birthMon\", \"birthDay\",\n",
    "                   \"birthCountry\", \"birthState\", \"birthCity\"]"
   ],
   "id": "5a0fa77176aa4e82",
   "outputs": [],
   "execution_count": 21
  },
  {
   "metadata": {
    "ExecuteTime": {
     "end_time": "2025-03-22T10:36:18.376633Z",
     "start_time": "2025-03-22T10:36:18.357883Z"
    }
   },
   "cell_type": "code",
   "source": "master[columns_to_keep].shape",
   "id": "a2caef5ae7407150",
   "outputs": [
    {
     "data": {
      "text/plain": [
       "(4627, 10)"
      ]
     },
     "execution_count": 22,
     "metadata": {},
     "output_type": "execute_result"
    }
   ],
   "execution_count": 22
  },
  {
   "metadata": {},
   "cell_type": "markdown",
   "source": "[101 Regex](https://regex101.com/)",
   "id": "822e61aedeefab57"
  },
  {
   "metadata": {
    "ExecuteTime": {
     "end_time": "2025-03-22T10:36:18.608778Z",
     "start_time": "2025-03-22T10:36:18.590289Z"
    }
   },
   "cell_type": "code",
   "source": "master.filter(regex='(playerID|pos|^birth) |(Name$)').shape",
   "id": "c6ed0e72d17f035d",
   "outputs": [
    {
     "data": {
      "text/plain": [
       "(4627, 2)"
      ]
     },
     "execution_count": 23,
     "metadata": {},
     "output_type": "execute_result"
    }
   ],
   "execution_count": 23
  },
  {
   "metadata": {
    "ExecuteTime": {
     "end_time": "2025-03-22T10:36:18.836323Z",
     "start_time": "2025-03-22T10:36:18.823179Z"
    }
   },
   "cell_type": "code",
   "source": "master = master[columns_to_keep]",
   "id": "fd5a6b7cf3262c4f",
   "outputs": [],
   "execution_count": 24
  },
  {
   "metadata": {
    "ExecuteTime": {
     "end_time": "2025-03-22T10:36:19.005963Z",
     "start_time": "2025-03-22T10:36:18.995796Z"
    }
   },
   "cell_type": "code",
   "source": "master.memory_usage().sum()",
   "id": "80bb06c6288963f1",
   "outputs": [
    {
     "data": {
      "text/plain": [
       "np.int64(407176)"
      ]
     },
     "execution_count": 25,
     "metadata": {},
     "output_type": "execute_result"
    }
   ],
   "execution_count": 25
  },
  {
   "metadata": {
    "ExecuteTime": {
     "end_time": "2025-03-22T10:36:19.231570Z",
     "start_time": "2025-03-22T10:36:19.190438Z"
    }
   },
   "cell_type": "code",
   "source": "memory_mib(master)",
   "id": "edff653f29d00a37",
   "outputs": [
    {
     "data": {
      "text/plain": [
       "' 1.80 MiB'"
      ]
     },
     "execution_count": 26,
     "metadata": {},
     "output_type": "execute_result"
    }
   ],
   "execution_count": 26
  },
  {
   "metadata": {
    "ExecuteTime": {
     "end_time": "2025-03-22T10:36:19.397100Z",
     "start_time": "2025-03-22T10:36:19.294062Z"
    }
   },
   "cell_type": "code",
   "source": "memory_mib(master_original)",
   "id": "788654d34b42ca5",
   "outputs": [
    {
     "data": {
      "text/plain": [
       "' 6.82 MiB'"
      ]
     },
     "execution_count": 27,
     "metadata": {},
     "output_type": "execute_result"
    }
   ],
   "execution_count": 27
  },
  {
   "metadata": {
    "ExecuteTime": {
     "end_time": "2025-03-22T10:36:19.493636Z",
     "start_time": "2025-03-22T10:36:19.477908Z"
    }
   },
   "cell_type": "code",
   "source": "master.shape",
   "id": "adf2857631be0902",
   "outputs": [
    {
     "data": {
      "text/plain": [
       "(4627, 10)"
      ]
     },
     "execution_count": 28,
     "metadata": {},
     "output_type": "execute_result"
    }
   ],
   "execution_count": 28
  },
  {
   "metadata": {
    "ExecuteTime": {
     "end_time": "2025-03-22T10:36:19.609443Z",
     "start_time": "2025-03-22T10:36:19.588550Z"
    }
   },
   "cell_type": "code",
   "source": "master['pos'].value_counts()",
   "id": "b8933ab3a3c430c4",
   "outputs": [
    {
     "data": {
      "text/plain": [
       "pos\n",
       "D      1418\n",
       "C      1037\n",
       "L       848\n",
       "R       832\n",
       "G       463\n",
       "F        28\n",
       "L/C       1\n",
       "Name: count, dtype: int64"
      ]
     },
     "execution_count": 29,
     "metadata": {},
     "output_type": "execute_result"
    }
   ],
   "execution_count": 29
  },
  {
   "metadata": {
    "ExecuteTime": {
     "end_time": "2025-03-22T10:36:19.720605Z",
     "start_time": "2025-03-22T10:36:19.711405Z"
    }
   },
   "cell_type": "code",
   "source": "pd.Categorical(master['pos'])",
   "id": "796642690ce6f159",
   "outputs": [
    {
     "data": {
      "text/plain": [
       "['C', 'L', 'L', 'D', 'C', ..., 'R', 'L', 'L', 'C', 'D']\n",
       "Length: 4627\n",
       "Categories (7, object): ['C', 'D', 'F', 'G', 'L', 'L/C', 'R']"
      ]
     },
     "execution_count": 30,
     "metadata": {},
     "output_type": "execute_result"
    }
   ],
   "execution_count": 30
  },
  {
   "metadata": {},
   "cell_type": "markdown",
   "source": [
    "# !!!!\n",
    "\n",
    "### Copy-On-Write\n",
    "\n",
    "##### tak nie robimy\n",
    "\n",
    "```python\n",
    "master['pos'] = pd.Categorical(master['pos'])\n",
    "```"
   ],
   "id": "1f4267fc3d8126e3"
  },
  {
   "metadata": {
    "ExecuteTime": {
     "end_time": "2025-03-22T10:36:20.553925Z",
     "start_time": "2025-03-22T10:36:19.796086Z"
    }
   },
   "cell_type": "code",
   "source": "master.loc['pos'] = pd.Categorical(master['pos'])",
   "id": "56335389709695cb",
   "outputs": [
    {
     "ename": "ValueError",
     "evalue": "cannot set a row with mismatched columns",
     "output_type": "error",
     "traceback": [
      "\u001B[31m---------------------------------------------------------------------------\u001B[39m",
      "\u001B[31mValueError\u001B[39m                                Traceback (most recent call last)",
      "\u001B[36mCell\u001B[39m\u001B[36m \u001B[39m\u001B[32mIn[31]\u001B[39m\u001B[32m, line 1\u001B[39m\n\u001B[32m----> \u001B[39m\u001B[32m1\u001B[39m \u001B[43mmaster\u001B[49m\u001B[43m.\u001B[49m\u001B[43mloc\u001B[49m\u001B[43m[\u001B[49m\u001B[33;43m'\u001B[39;49m\u001B[33;43mpos\u001B[39;49m\u001B[33;43m'\u001B[39;49m\u001B[43m]\u001B[49m = pd.Categorical(master[\u001B[33m'\u001B[39m\u001B[33mpos\u001B[39m\u001B[33m'\u001B[39m])\n",
      "\u001B[36mFile \u001B[39m\u001B[32m~/projects/data_science/hockey_df/.venv/lib/python3.13/site-packages/pandas/core/indexing.py:911\u001B[39m, in \u001B[36m_LocationIndexer.__setitem__\u001B[39m\u001B[34m(self, key, value)\u001B[39m\n\u001B[32m    908\u001B[39m \u001B[38;5;28mself\u001B[39m._has_valid_setitem_indexer(key)\n\u001B[32m    910\u001B[39m iloc = \u001B[38;5;28mself\u001B[39m \u001B[38;5;28;01mif\u001B[39;00m \u001B[38;5;28mself\u001B[39m.name == \u001B[33m\"\u001B[39m\u001B[33miloc\u001B[39m\u001B[33m\"\u001B[39m \u001B[38;5;28;01melse\u001B[39;00m \u001B[38;5;28mself\u001B[39m.obj.iloc\n\u001B[32m--> \u001B[39m\u001B[32m911\u001B[39m \u001B[43miloc\u001B[49m\u001B[43m.\u001B[49m\u001B[43m_setitem_with_indexer\u001B[49m\u001B[43m(\u001B[49m\u001B[43mindexer\u001B[49m\u001B[43m,\u001B[49m\u001B[43m \u001B[49m\u001B[43mvalue\u001B[49m\u001B[43m,\u001B[49m\u001B[43m \u001B[49m\u001B[38;5;28;43mself\u001B[39;49m\u001B[43m.\u001B[49m\u001B[43mname\u001B[49m\u001B[43m)\u001B[49m\n",
      "\u001B[36mFile \u001B[39m\u001B[32m~/projects/data_science/hockey_df/.venv/lib/python3.13/site-packages/pandas/core/indexing.py:1932\u001B[39m, in \u001B[36m_iLocIndexer._setitem_with_indexer\u001B[39m\u001B[34m(self, indexer, value, name)\u001B[39m\n\u001B[32m   1929\u001B[39m     indexer, missing = convert_missing_indexer(indexer)\n\u001B[32m   1931\u001B[39m     \u001B[38;5;28;01mif\u001B[39;00m missing:\n\u001B[32m-> \u001B[39m\u001B[32m1932\u001B[39m         \u001B[38;5;28;43mself\u001B[39;49m\u001B[43m.\u001B[49m\u001B[43m_setitem_with_indexer_missing\u001B[49m\u001B[43m(\u001B[49m\u001B[43mindexer\u001B[49m\u001B[43m,\u001B[49m\u001B[43m \u001B[49m\u001B[43mvalue\u001B[49m\u001B[43m)\u001B[49m\n\u001B[32m   1933\u001B[39m         \u001B[38;5;28;01mreturn\u001B[39;00m\n\u001B[32m   1935\u001B[39m \u001B[38;5;28;01mif\u001B[39;00m name == \u001B[33m\"\u001B[39m\u001B[33mloc\u001B[39m\u001B[33m\"\u001B[39m:\n\u001B[32m   1936\u001B[39m     \u001B[38;5;66;03m# must come after setting of missing\u001B[39;00m\n",
      "\u001B[36mFile \u001B[39m\u001B[32m~/projects/data_science/hockey_df/.venv/lib/python3.13/site-packages/pandas/core/indexing.py:2306\u001B[39m, in \u001B[36m_iLocIndexer._setitem_with_indexer_missing\u001B[39m\u001B[34m(self, indexer, value)\u001B[39m\n\u001B[32m   2303\u001B[39m     \u001B[38;5;28;01mif\u001B[39;00m is_list_like_indexer(value):\n\u001B[32m   2304\u001B[39m         \u001B[38;5;66;03m# must have conforming columns\u001B[39;00m\n\u001B[32m   2305\u001B[39m         \u001B[38;5;28;01mif\u001B[39;00m \u001B[38;5;28mlen\u001B[39m(value) != \u001B[38;5;28mlen\u001B[39m(\u001B[38;5;28mself\u001B[39m.obj.columns):\n\u001B[32m-> \u001B[39m\u001B[32m2306\u001B[39m             \u001B[38;5;28;01mraise\u001B[39;00m \u001B[38;5;167;01mValueError\u001B[39;00m(\u001B[33m\"\u001B[39m\u001B[33mcannot set a row with mismatched columns\u001B[39m\u001B[33m\"\u001B[39m)\n\u001B[32m   2308\u001B[39m     value = Series(value, index=\u001B[38;5;28mself\u001B[39m.obj.columns, name=indexer)\n\u001B[32m   2310\u001B[39m \u001B[38;5;28;01mif\u001B[39;00m \u001B[38;5;129;01mnot\u001B[39;00m \u001B[38;5;28mlen\u001B[39m(\u001B[38;5;28mself\u001B[39m.obj):\n\u001B[32m   2311\u001B[39m     \u001B[38;5;66;03m# We will ignore the existing dtypes instead of using\u001B[39;00m\n\u001B[32m   2312\u001B[39m     \u001B[38;5;66;03m#  internals.concat logic\u001B[39;00m\n",
      "\u001B[31mValueError\u001B[39m: cannot set a row with mismatched columns"
     ]
    }
   ],
   "execution_count": 31
  },
  {
   "metadata": {
    "ExecuteTime": {
     "end_time": "2025-03-22T10:36:20.609492829Z",
     "start_time": "2025-03-22T10:09:50.325300Z"
    }
   },
   "cell_type": "code",
   "source": "master.dtypes",
   "id": "8bb4c6b46e5315d0",
   "outputs": [
    {
     "data": {
      "text/plain": [
       "playerID          object\n",
       "firstName         object\n",
       "lastName          object\n",
       "pos             category\n",
       "birthYear        float64\n",
       "birthMon         float64\n",
       "birthDay         float64\n",
       "birthCountry      object\n",
       "birthState        object\n",
       "birthCity         object\n",
       "dtype: object"
      ]
     },
     "execution_count": 41,
     "metadata": {},
     "output_type": "execute_result"
    }
   ],
   "execution_count": 41
  },
  {
   "metadata": {
    "ExecuteTime": {
     "end_time": "2025-03-22T10:36:20.681833363Z",
     "start_time": "2025-03-22T10:10:43.569030Z"
    }
   },
   "cell_type": "code",
   "source": "memory_mib(master)",
   "id": "8791eb118465e8e1",
   "outputs": [
    {
     "data": {
      "text/plain": [
       "' 1.58 MiB'"
      ]
     },
     "execution_count": 42,
     "metadata": {},
     "output_type": "execute_result"
    }
   ],
   "execution_count": 42
  },
  {
   "metadata": {
    "ExecuteTime": {
     "end_time": "2025-03-22T10:36:20.711158130Z",
     "start_time": "2025-03-22T10:10:56.184175Z"
    }
   },
   "cell_type": "code",
   "source": "master.memory_usage()",
   "id": "c51888b01267a823",
   "outputs": [
    {
     "data": {
      "text/plain": [
       "Index           37016\n",
       "playerID        37016\n",
       "firstName       37016\n",
       "lastName        37016\n",
       "pos              4983\n",
       "birthYear       37016\n",
       "birthMon        37016\n",
       "birthDay        37016\n",
       "birthCountry    37016\n",
       "birthState      37016\n",
       "birthCity       37016\n",
       "dtype: int64"
      ]
     },
     "execution_count": 43,
     "metadata": {},
     "output_type": "execute_result"
    }
   ],
   "execution_count": 43
  },
  {
   "metadata": {},
   "cell_type": "code",
   "outputs": [],
   "execution_count": null,
   "source": [
    "master.loc[:,'birthCountry'] = pd.Categorical(master['birthCountry'])\n",
    "master.loc[:,'birthState'] = pd.Categorical(master['birthState'])"
   ],
   "id": "db95d5ad7ab6c87"
  },
  {
   "metadata": {
    "ExecuteTime": {
     "end_time": "2025-03-22T10:36:20.764224388Z",
     "start_time": "2025-03-22T10:24:55.612981Z"
    }
   },
   "cell_type": "code",
   "source": "master.set_index('playerID', inplace=True)",
   "id": "6cd72e8101a80fe2",
   "outputs": [],
   "execution_count": 50
  },
  {
   "metadata": {
    "ExecuteTime": {
     "end_time": "2025-03-22T10:36:20.770895764Z",
     "start_time": "2025-03-22T10:25:07.670950Z"
    }
   },
   "cell_type": "code",
   "source": "master.head()",
   "id": "6efd602ddeefbead",
   "outputs": [
    {
     "data": {
      "text/plain": [
       "          firstName     lastName pos  birthYear  birthMon  birthDay  \\\n",
       "playerID                                                              \n",
       "aaltoan01     Antti        Aalto   C     1975.0       3.0       4.0   \n",
       "abdelju01    Justin   Abdelkader   L     1987.0       2.0      25.0   \n",
       "abidra01      Ramzi         Abid   L     1980.0       3.0      24.0   \n",
       "abrahth01    Thommy  Abrahamsson   D     1947.0       4.0      12.0   \n",
       "actonke01     Keith        Acton   C     1958.0       4.0      15.0   \n",
       "\n",
       "          birthCountry birthState     birthCity  \n",
       "playerID                                         \n",
       "aaltoan01      Finland        NaN  Lappeenranta  \n",
       "abdelju01          USA         MI      Muskegon  \n",
       "abidra01        Canada         QC      Montreal  \n",
       "abrahth01       Sweden        NaN       Leksand  \n",
       "actonke01       Canada         ON   Stouffville  "
      ],
      "text/html": [
       "<div>\n",
       "<style scoped>\n",
       "    .dataframe tbody tr th:only-of-type {\n",
       "        vertical-align: middle;\n",
       "    }\n",
       "\n",
       "    .dataframe tbody tr th {\n",
       "        vertical-align: top;\n",
       "    }\n",
       "\n",
       "    .dataframe thead th {\n",
       "        text-align: right;\n",
       "    }\n",
       "</style>\n",
       "<table border=\"1\" class=\"dataframe\">\n",
       "  <thead>\n",
       "    <tr style=\"text-align: right;\">\n",
       "      <th></th>\n",
       "      <th>firstName</th>\n",
       "      <th>lastName</th>\n",
       "      <th>pos</th>\n",
       "      <th>birthYear</th>\n",
       "      <th>birthMon</th>\n",
       "      <th>birthDay</th>\n",
       "      <th>birthCountry</th>\n",
       "      <th>birthState</th>\n",
       "      <th>birthCity</th>\n",
       "    </tr>\n",
       "    <tr>\n",
       "      <th>playerID</th>\n",
       "      <th></th>\n",
       "      <th></th>\n",
       "      <th></th>\n",
       "      <th></th>\n",
       "      <th></th>\n",
       "      <th></th>\n",
       "      <th></th>\n",
       "      <th></th>\n",
       "      <th></th>\n",
       "    </tr>\n",
       "  </thead>\n",
       "  <tbody>\n",
       "    <tr>\n",
       "      <th>aaltoan01</th>\n",
       "      <td>Antti</td>\n",
       "      <td>Aalto</td>\n",
       "      <td>C</td>\n",
       "      <td>1975.0</td>\n",
       "      <td>3.0</td>\n",
       "      <td>4.0</td>\n",
       "      <td>Finland</td>\n",
       "      <td>NaN</td>\n",
       "      <td>Lappeenranta</td>\n",
       "    </tr>\n",
       "    <tr>\n",
       "      <th>abdelju01</th>\n",
       "      <td>Justin</td>\n",
       "      <td>Abdelkader</td>\n",
       "      <td>L</td>\n",
       "      <td>1987.0</td>\n",
       "      <td>2.0</td>\n",
       "      <td>25.0</td>\n",
       "      <td>USA</td>\n",
       "      <td>MI</td>\n",
       "      <td>Muskegon</td>\n",
       "    </tr>\n",
       "    <tr>\n",
       "      <th>abidra01</th>\n",
       "      <td>Ramzi</td>\n",
       "      <td>Abid</td>\n",
       "      <td>L</td>\n",
       "      <td>1980.0</td>\n",
       "      <td>3.0</td>\n",
       "      <td>24.0</td>\n",
       "      <td>Canada</td>\n",
       "      <td>QC</td>\n",
       "      <td>Montreal</td>\n",
       "    </tr>\n",
       "    <tr>\n",
       "      <th>abrahth01</th>\n",
       "      <td>Thommy</td>\n",
       "      <td>Abrahamsson</td>\n",
       "      <td>D</td>\n",
       "      <td>1947.0</td>\n",
       "      <td>4.0</td>\n",
       "      <td>12.0</td>\n",
       "      <td>Sweden</td>\n",
       "      <td>NaN</td>\n",
       "      <td>Leksand</td>\n",
       "    </tr>\n",
       "    <tr>\n",
       "      <th>actonke01</th>\n",
       "      <td>Keith</td>\n",
       "      <td>Acton</td>\n",
       "      <td>C</td>\n",
       "      <td>1958.0</td>\n",
       "      <td>4.0</td>\n",
       "      <td>15.0</td>\n",
       "      <td>Canada</td>\n",
       "      <td>ON</td>\n",
       "      <td>Stouffville</td>\n",
       "    </tr>\n",
       "  </tbody>\n",
       "</table>\n",
       "</div>"
      ]
     },
     "execution_count": 51,
     "metadata": {},
     "output_type": "execute_result"
    }
   ],
   "execution_count": 51
  },
  {
   "metadata": {
    "ExecuteTime": {
     "end_time": "2025-03-22T10:36:20.772700063Z",
     "start_time": "2025-03-22T10:25:12.288568Z"
    }
   },
   "cell_type": "code",
   "source": "master.dtypes",
   "id": "9c9166d4c8b2c69",
   "outputs": [
    {
     "data": {
      "text/plain": [
       "firstName         object\n",
       "lastName          object\n",
       "pos             category\n",
       "birthYear        float64\n",
       "birthMon         float64\n",
       "birthDay         float64\n",
       "birthCountry      object\n",
       "birthState        object\n",
       "birthCity         object\n",
       "dtype: object"
      ]
     },
     "execution_count": 52,
     "metadata": {},
     "output_type": "execute_result"
    }
   ],
   "execution_count": 52
  },
  {
   "metadata": {
    "ExecuteTime": {
     "end_time": "2025-03-22T10:36:25.602582Z",
     "start_time": "2025-03-22T10:36:25.590325Z"
    }
   },
   "cell_type": "code",
   "source": "master.to_pickle(INTERIM / 'master.pkl')",
   "id": "346ae904b1b12b40",
   "outputs": [],
   "execution_count": 32
  },
  {
   "metadata": {},
   "cell_type": "markdown",
   "source": "---",
   "id": "120ea425bf79a30b"
  },
  {
   "metadata": {
    "ExecuteTime": {
     "end_time": "2025-03-22T11:21:41.530197Z",
     "start_time": "2025-03-22T11:21:41.352215Z"
    }
   },
   "cell_type": "code",
   "source": "scoring = pd.read_csv(RAW /\"Scoring.csv\")",
   "id": "cb817f4745f2314a",
   "outputs": [],
   "execution_count": 73
  },
  {
   "metadata": {
    "ExecuteTime": {
     "end_time": "2025-03-22T10:50:28.063460Z",
     "start_time": "2025-03-22T10:50:27.951870Z"
    }
   },
   "cell_type": "code",
   "source": "memory_mib(scoring)",
   "id": "8a00d3108dc52e9",
   "outputs": [
    {
     "data": {
      "text/plain": [
       "' 18.75 MiB'"
      ]
     },
     "execution_count": 35,
     "metadata": {},
     "output_type": "execute_result"
    }
   ],
   "execution_count": 35
  },
  {
   "metadata": {
    "ExecuteTime": {
     "end_time": "2025-03-22T10:50:54.641915Z",
     "start_time": "2025-03-22T10:50:54.633876Z"
    }
   },
   "cell_type": "code",
   "source": "scoring.shape",
   "id": "821e8d673b487c7a",
   "outputs": [
    {
     "data": {
      "text/plain": [
       "(45967, 31)"
      ]
     },
     "execution_count": 36,
     "metadata": {},
     "output_type": "execute_result"
    }
   ],
   "execution_count": 36
  },
  {
   "metadata": {
    "ExecuteTime": {
     "end_time": "2025-03-22T10:51:25.918288Z",
     "start_time": "2025-03-22T10:51:25.909831Z"
    }
   },
   "cell_type": "code",
   "source": "scoring.columns",
   "id": "a5f09f012014a521",
   "outputs": [
    {
     "data": {
      "text/plain": [
       "Index(['playerID', 'year', 'stint', 'tmID', 'lgID', 'pos', 'GP', 'G', 'A',\n",
       "       'Pts', 'PIM', '+/-', 'PPG', 'PPA', 'SHG', 'SHA', 'GWG', 'GTG', 'SOG',\n",
       "       'PostGP', 'PostG', 'PostA', 'PostPts', 'PostPIM', 'Post+/-', 'PostPPG',\n",
       "       'PostPPA', 'PostSHG', 'PostSHA', 'PostGWG', 'PostSOG'],\n",
       "      dtype='object')"
      ]
     },
     "execution_count": 37,
     "metadata": {},
     "output_type": "execute_result"
    }
   ],
   "execution_count": 37
  },
  {
   "metadata": {
    "ExecuteTime": {
     "end_time": "2025-03-22T10:51:45.943747Z",
     "start_time": "2025-03-22T10:51:45.934815Z"
    }
   },
   "cell_type": "code",
   "source": "scoring.dtypes",
   "id": "5aa9b44f0803ef31",
   "outputs": [
    {
     "data": {
      "text/plain": [
       "playerID     object\n",
       "year          int64\n",
       "stint         int64\n",
       "tmID         object\n",
       "lgID         object\n",
       "pos          object\n",
       "GP          float64\n",
       "G           float64\n",
       "A           float64\n",
       "Pts         float64\n",
       "PIM         float64\n",
       "+/-         float64\n",
       "PPG         float64\n",
       "PPA         float64\n",
       "SHG         float64\n",
       "SHA         float64\n",
       "GWG         float64\n",
       "GTG         float64\n",
       "SOG         float64\n",
       "PostGP      float64\n",
       "PostG       float64\n",
       "PostA       float64\n",
       "PostPts     float64\n",
       "PostPIM     float64\n",
       "Post+/-     float64\n",
       "PostPPG     float64\n",
       "PostPPA     float64\n",
       "PostSHG     float64\n",
       "PostSHA     float64\n",
       "PostGWG     float64\n",
       "PostSOG     float64\n",
       "dtype: object"
      ]
     },
     "execution_count": 38,
     "metadata": {},
     "output_type": "execute_result"
    }
   ],
   "execution_count": 38
  },
  {
   "metadata": {
    "ExecuteTime": {
     "end_time": "2025-03-22T10:52:33.648981Z",
     "start_time": "2025-03-22T10:52:33.622948Z"
    }
   },
   "cell_type": "code",
   "source": "scoring.info()",
   "id": "5df0ee5b8dd4fa38",
   "outputs": [
    {
     "name": "stdout",
     "output_type": "stream",
     "text": [
      "<class 'pandas.core.frame.DataFrame'>\n",
      "RangeIndex: 45967 entries, 0 to 45966\n",
      "Data columns (total 31 columns):\n",
      " #   Column    Non-Null Count  Dtype  \n",
      "---  ------    --------------  -----  \n",
      " 0   playerID  45967 non-null  object \n",
      " 1   year      45967 non-null  int64  \n",
      " 2   stint     45967 non-null  int64  \n",
      " 3   tmID      45967 non-null  object \n",
      " 4   lgID      45967 non-null  object \n",
      " 5   pos       45385 non-null  object \n",
      " 6   GP        45699 non-null  float64\n",
      " 7   G         45699 non-null  float64\n",
      " 8   A         45699 non-null  float64\n",
      " 9   Pts       45699 non-null  float64\n",
      " 10  PIM       45699 non-null  float64\n",
      " 11  +/-       36265 non-null  float64\n",
      " 12  PPG       37748 non-null  float64\n",
      " 13  PPA       23040 non-null  float64\n",
      " 14  SHG       37744 non-null  float64\n",
      " 15  SHA       23214 non-null  float64\n",
      " 16  GWG       36567 non-null  float64\n",
      " 17  GTG       28106 non-null  float64\n",
      " 18  SOG       36364 non-null  float64\n",
      " 19  PostGP    19153 non-null  float64\n",
      " 20  PostG     19153 non-null  float64\n",
      " 21  PostA     19094 non-null  float64\n",
      " 22  PostPts   19094 non-null  float64\n",
      " 23  PostPIM   19094 non-null  float64\n",
      " 24  Post+/-   11004 non-null  float64\n",
      " 25  PostPPG   14492 non-null  float64\n",
      " 26  PostPPA   8854 non-null   float64\n",
      " 27  PostSHG   14492 non-null  float64\n",
      " 28  PostSHA   8855 non-null   float64\n",
      " 29  PostGWG   15657 non-null  float64\n",
      " 30  PostSOG   10392 non-null  float64\n",
      "dtypes: float64(25), int64(2), object(4)\n",
      "memory usage: 10.9+ MB\n"
     ]
    }
   ],
   "execution_count": 39
  },
  {
   "metadata": {
    "ExecuteTime": {
     "end_time": "2025-03-22T10:53:40.455742Z",
     "start_time": "2025-03-22T10:53:40.414263Z"
    }
   },
   "cell_type": "code",
   "source": "scoring.sample(n=10)",
   "id": "f133f7111c681ad4",
   "outputs": [
    {
     "data": {
      "text/plain": [
       "        playerID  year  stint tmID lgID pos    GP     G     A   Pts  ...  \\\n",
       "28918  mongemi01  1990      1  STL  NHL   C   7.0   1.0   1.0   2.0  ...   \n",
       "23492  leitebo01  1964      1  BOS  NHL   C  18.0   3.0   1.0   4.0  ...   \n",
       "21931  labrada01  1976      1  WIJ  WHA   L  64.0  24.0  27.0  51.0  ...   \n",
       "16402  hebenan01  1960      1  NYR  NHL   R  70.0  26.0  28.0  54.0  ...   \n",
       "29130  morozal01  1998      1  PIT  NHL   R  67.0   9.0  10.0  19.0  ...   \n",
       "36544  ruututu01  2007      1  CHI  NHL   L  60.0   6.0  15.0  21.0  ...   \n",
       "20992   kocida01  2008      1  TBL  NHL   L  33.0   1.0   1.0   2.0  ...   \n",
       "13193  gardnca01  1954      1  BOS  NHL   C  70.0  16.0  22.0  38.0  ...   \n",
       "6595   chornma01  1983      1  PIT  NHL   D   4.0   0.0   1.0   1.0  ...   \n",
       "17272  hodsoke01  1997      1  DET  NHL   G  21.0   0.0   0.0   0.0  ...   \n",
       "\n",
       "       PostA  PostPts  PostPIM  Post+/-  PostPPG  PostPPA  PostSHG  PostSHA  \\\n",
       "28918    NaN      NaN      NaN      NaN      NaN      NaN      NaN      NaN   \n",
       "23492    NaN      NaN      NaN      NaN      NaN      NaN      NaN      NaN   \n",
       "21931   17.0     24.0     15.0      8.0      NaN      NaN      NaN      NaN   \n",
       "16402    NaN      NaN      NaN      NaN      NaN      NaN      NaN      NaN   \n",
       "29130    1.0      2.0      0.0      1.0      0.0      0.0      0.0      0.0   \n",
       "36544    NaN      NaN      NaN      NaN      NaN      NaN      NaN      NaN   \n",
       "20992    NaN      NaN      NaN      NaN      NaN      NaN      NaN      NaN   \n",
       "13193    0.0      0.0      4.0      NaN      NaN      NaN      NaN      NaN   \n",
       "6595     NaN      NaN      NaN      NaN      NaN      NaN      NaN      NaN   \n",
       "17272    0.0      0.0      0.0      0.0      0.0      0.0      0.0      0.0   \n",
       "\n",
       "       PostGWG  PostSOG  \n",
       "28918      NaN      NaN  \n",
       "23492      NaN      NaN  \n",
       "21931      1.0      NaN  \n",
       "16402      NaN      NaN  \n",
       "29130      0.0     13.0  \n",
       "36544      NaN      NaN  \n",
       "20992      NaN      NaN  \n",
       "13193      NaN      NaN  \n",
       "6595       NaN      NaN  \n",
       "17272      0.0      0.0  \n",
       "\n",
       "[10 rows x 31 columns]"
      ],
      "text/html": [
       "<div>\n",
       "<style scoped>\n",
       "    .dataframe tbody tr th:only-of-type {\n",
       "        vertical-align: middle;\n",
       "    }\n",
       "\n",
       "    .dataframe tbody tr th {\n",
       "        vertical-align: top;\n",
       "    }\n",
       "\n",
       "    .dataframe thead th {\n",
       "        text-align: right;\n",
       "    }\n",
       "</style>\n",
       "<table border=\"1\" class=\"dataframe\">\n",
       "  <thead>\n",
       "    <tr style=\"text-align: right;\">\n",
       "      <th></th>\n",
       "      <th>playerID</th>\n",
       "      <th>year</th>\n",
       "      <th>stint</th>\n",
       "      <th>tmID</th>\n",
       "      <th>lgID</th>\n",
       "      <th>pos</th>\n",
       "      <th>GP</th>\n",
       "      <th>G</th>\n",
       "      <th>A</th>\n",
       "      <th>Pts</th>\n",
       "      <th>...</th>\n",
       "      <th>PostA</th>\n",
       "      <th>PostPts</th>\n",
       "      <th>PostPIM</th>\n",
       "      <th>Post+/-</th>\n",
       "      <th>PostPPG</th>\n",
       "      <th>PostPPA</th>\n",
       "      <th>PostSHG</th>\n",
       "      <th>PostSHA</th>\n",
       "      <th>PostGWG</th>\n",
       "      <th>PostSOG</th>\n",
       "    </tr>\n",
       "  </thead>\n",
       "  <tbody>\n",
       "    <tr>\n",
       "      <th>28918</th>\n",
       "      <td>mongemi01</td>\n",
       "      <td>1990</td>\n",
       "      <td>1</td>\n",
       "      <td>STL</td>\n",
       "      <td>NHL</td>\n",
       "      <td>C</td>\n",
       "      <td>7.0</td>\n",
       "      <td>1.0</td>\n",
       "      <td>1.0</td>\n",
       "      <td>2.0</td>\n",
       "      <td>...</td>\n",
       "      <td>NaN</td>\n",
       "      <td>NaN</td>\n",
       "      <td>NaN</td>\n",
       "      <td>NaN</td>\n",
       "      <td>NaN</td>\n",
       "      <td>NaN</td>\n",
       "      <td>NaN</td>\n",
       "      <td>NaN</td>\n",
       "      <td>NaN</td>\n",
       "      <td>NaN</td>\n",
       "    </tr>\n",
       "    <tr>\n",
       "      <th>23492</th>\n",
       "      <td>leitebo01</td>\n",
       "      <td>1964</td>\n",
       "      <td>1</td>\n",
       "      <td>BOS</td>\n",
       "      <td>NHL</td>\n",
       "      <td>C</td>\n",
       "      <td>18.0</td>\n",
       "      <td>3.0</td>\n",
       "      <td>1.0</td>\n",
       "      <td>4.0</td>\n",
       "      <td>...</td>\n",
       "      <td>NaN</td>\n",
       "      <td>NaN</td>\n",
       "      <td>NaN</td>\n",
       "      <td>NaN</td>\n",
       "      <td>NaN</td>\n",
       "      <td>NaN</td>\n",
       "      <td>NaN</td>\n",
       "      <td>NaN</td>\n",
       "      <td>NaN</td>\n",
       "      <td>NaN</td>\n",
       "    </tr>\n",
       "    <tr>\n",
       "      <th>21931</th>\n",
       "      <td>labrada01</td>\n",
       "      <td>1976</td>\n",
       "      <td>1</td>\n",
       "      <td>WIJ</td>\n",
       "      <td>WHA</td>\n",
       "      <td>L</td>\n",
       "      <td>64.0</td>\n",
       "      <td>24.0</td>\n",
       "      <td>27.0</td>\n",
       "      <td>51.0</td>\n",
       "      <td>...</td>\n",
       "      <td>17.0</td>\n",
       "      <td>24.0</td>\n",
       "      <td>15.0</td>\n",
       "      <td>8.0</td>\n",
       "      <td>NaN</td>\n",
       "      <td>NaN</td>\n",
       "      <td>NaN</td>\n",
       "      <td>NaN</td>\n",
       "      <td>1.0</td>\n",
       "      <td>NaN</td>\n",
       "    </tr>\n",
       "    <tr>\n",
       "      <th>16402</th>\n",
       "      <td>hebenan01</td>\n",
       "      <td>1960</td>\n",
       "      <td>1</td>\n",
       "      <td>NYR</td>\n",
       "      <td>NHL</td>\n",
       "      <td>R</td>\n",
       "      <td>70.0</td>\n",
       "      <td>26.0</td>\n",
       "      <td>28.0</td>\n",
       "      <td>54.0</td>\n",
       "      <td>...</td>\n",
       "      <td>NaN</td>\n",
       "      <td>NaN</td>\n",
       "      <td>NaN</td>\n",
       "      <td>NaN</td>\n",
       "      <td>NaN</td>\n",
       "      <td>NaN</td>\n",
       "      <td>NaN</td>\n",
       "      <td>NaN</td>\n",
       "      <td>NaN</td>\n",
       "      <td>NaN</td>\n",
       "    </tr>\n",
       "    <tr>\n",
       "      <th>29130</th>\n",
       "      <td>morozal01</td>\n",
       "      <td>1998</td>\n",
       "      <td>1</td>\n",
       "      <td>PIT</td>\n",
       "      <td>NHL</td>\n",
       "      <td>R</td>\n",
       "      <td>67.0</td>\n",
       "      <td>9.0</td>\n",
       "      <td>10.0</td>\n",
       "      <td>19.0</td>\n",
       "      <td>...</td>\n",
       "      <td>1.0</td>\n",
       "      <td>2.0</td>\n",
       "      <td>0.0</td>\n",
       "      <td>1.0</td>\n",
       "      <td>0.0</td>\n",
       "      <td>0.0</td>\n",
       "      <td>0.0</td>\n",
       "      <td>0.0</td>\n",
       "      <td>0.0</td>\n",
       "      <td>13.0</td>\n",
       "    </tr>\n",
       "    <tr>\n",
       "      <th>36544</th>\n",
       "      <td>ruututu01</td>\n",
       "      <td>2007</td>\n",
       "      <td>1</td>\n",
       "      <td>CHI</td>\n",
       "      <td>NHL</td>\n",
       "      <td>L</td>\n",
       "      <td>60.0</td>\n",
       "      <td>6.0</td>\n",
       "      <td>15.0</td>\n",
       "      <td>21.0</td>\n",
       "      <td>...</td>\n",
       "      <td>NaN</td>\n",
       "      <td>NaN</td>\n",
       "      <td>NaN</td>\n",
       "      <td>NaN</td>\n",
       "      <td>NaN</td>\n",
       "      <td>NaN</td>\n",
       "      <td>NaN</td>\n",
       "      <td>NaN</td>\n",
       "      <td>NaN</td>\n",
       "      <td>NaN</td>\n",
       "    </tr>\n",
       "    <tr>\n",
       "      <th>20992</th>\n",
       "      <td>kocida01</td>\n",
       "      <td>2008</td>\n",
       "      <td>1</td>\n",
       "      <td>TBL</td>\n",
       "      <td>NHL</td>\n",
       "      <td>L</td>\n",
       "      <td>33.0</td>\n",
       "      <td>1.0</td>\n",
       "      <td>1.0</td>\n",
       "      <td>2.0</td>\n",
       "      <td>...</td>\n",
       "      <td>NaN</td>\n",
       "      <td>NaN</td>\n",
       "      <td>NaN</td>\n",
       "      <td>NaN</td>\n",
       "      <td>NaN</td>\n",
       "      <td>NaN</td>\n",
       "      <td>NaN</td>\n",
       "      <td>NaN</td>\n",
       "      <td>NaN</td>\n",
       "      <td>NaN</td>\n",
       "    </tr>\n",
       "    <tr>\n",
       "      <th>13193</th>\n",
       "      <td>gardnca01</td>\n",
       "      <td>1954</td>\n",
       "      <td>1</td>\n",
       "      <td>BOS</td>\n",
       "      <td>NHL</td>\n",
       "      <td>C</td>\n",
       "      <td>70.0</td>\n",
       "      <td>16.0</td>\n",
       "      <td>22.0</td>\n",
       "      <td>38.0</td>\n",
       "      <td>...</td>\n",
       "      <td>0.0</td>\n",
       "      <td>0.0</td>\n",
       "      <td>4.0</td>\n",
       "      <td>NaN</td>\n",
       "      <td>NaN</td>\n",
       "      <td>NaN</td>\n",
       "      <td>NaN</td>\n",
       "      <td>NaN</td>\n",
       "      <td>NaN</td>\n",
       "      <td>NaN</td>\n",
       "    </tr>\n",
       "    <tr>\n",
       "      <th>6595</th>\n",
       "      <td>chornma01</td>\n",
       "      <td>1983</td>\n",
       "      <td>1</td>\n",
       "      <td>PIT</td>\n",
       "      <td>NHL</td>\n",
       "      <td>D</td>\n",
       "      <td>4.0</td>\n",
       "      <td>0.0</td>\n",
       "      <td>1.0</td>\n",
       "      <td>1.0</td>\n",
       "      <td>...</td>\n",
       "      <td>NaN</td>\n",
       "      <td>NaN</td>\n",
       "      <td>NaN</td>\n",
       "      <td>NaN</td>\n",
       "      <td>NaN</td>\n",
       "      <td>NaN</td>\n",
       "      <td>NaN</td>\n",
       "      <td>NaN</td>\n",
       "      <td>NaN</td>\n",
       "      <td>NaN</td>\n",
       "    </tr>\n",
       "    <tr>\n",
       "      <th>17272</th>\n",
       "      <td>hodsoke01</td>\n",
       "      <td>1997</td>\n",
       "      <td>1</td>\n",
       "      <td>DET</td>\n",
       "      <td>NHL</td>\n",
       "      <td>G</td>\n",
       "      <td>21.0</td>\n",
       "      <td>0.0</td>\n",
       "      <td>0.0</td>\n",
       "      <td>0.0</td>\n",
       "      <td>...</td>\n",
       "      <td>0.0</td>\n",
       "      <td>0.0</td>\n",
       "      <td>0.0</td>\n",
       "      <td>0.0</td>\n",
       "      <td>0.0</td>\n",
       "      <td>0.0</td>\n",
       "      <td>0.0</td>\n",
       "      <td>0.0</td>\n",
       "      <td>0.0</td>\n",
       "      <td>0.0</td>\n",
       "    </tr>\n",
       "  </tbody>\n",
       "</table>\n",
       "<p>10 rows × 31 columns</p>\n",
       "</div>"
      ]
     },
     "execution_count": 40,
     "metadata": {},
     "output_type": "execute_result"
    }
   ],
   "execution_count": 40
  },
  {
   "metadata": {
    "ExecuteTime": {
     "end_time": "2025-03-22T11:21:47.507443Z",
     "start_time": "2025-03-22T11:21:47.494430Z"
    }
   },
   "cell_type": "code",
   "source": [
    "\n",
    "scoring_original = scoring.copy()"
   ],
   "id": "44dd2ed1d55a2e0f",
   "outputs": [],
   "execution_count": 74
  },
  {
   "metadata": {
    "ExecuteTime": {
     "end_time": "2025-03-22T11:21:50.025520Z",
     "start_time": "2025-03-22T11:21:50.000494Z"
    }
   },
   "cell_type": "code",
   "source": "scoring = scoring.loc[(scoring['lgID'] == 'NHL') & (scoring['year'] >= 1980)]",
   "id": "921fda17cab2ca87",
   "outputs": [],
   "execution_count": 75
  },
  {
   "metadata": {
    "ExecuteTime": {
     "end_time": "2025-03-22T11:21:53.960358Z",
     "start_time": "2025-03-22T11:21:53.950925Z"
    }
   },
   "cell_type": "code",
   "source": "scoring.iloc[:, [0, 1, 3, 6, 7, 8, 9, 14]].columns",
   "id": "63b1f2b916d4542a",
   "outputs": [
    {
     "data": {
      "text/plain": [
       "Index(['playerID', 'year', 'tmID', 'GP', 'G', 'A', 'Pts', 'SHG'], dtype='object')"
      ]
     },
     "execution_count": 76,
     "metadata": {},
     "output_type": "execute_result"
    }
   ],
   "execution_count": 76
  },
  {
   "metadata": {
    "ExecuteTime": {
     "end_time": "2025-03-22T11:22:13.236233Z",
     "start_time": "2025-03-22T11:22:13.228646Z"
    }
   },
   "cell_type": "code",
   "source": "scoring = scoring.filter(regex='^(?!Post|PP|SH).*')",
   "id": "5a66ad9db6713efa",
   "outputs": [],
   "execution_count": 77
  },
  {
   "metadata": {
    "ExecuteTime": {
     "end_time": "2025-03-22T11:17:44.185997Z",
     "start_time": "2025-03-22T11:17:44.145306Z"
    }
   },
   "cell_type": "code",
   "source": "",
   "id": "b88dc428038c74be",
   "outputs": [
    {
     "ename": "AttributeError",
     "evalue": "'Index' object has no attribute 'columns'",
     "output_type": "error",
     "traceback": [
      "\u001B[31m---------------------------------------------------------------------------\u001B[39m",
      "\u001B[31mAttributeError\u001B[39m                            Traceback (most recent call last)",
      "\u001B[36mCell\u001B[39m\u001B[36m \u001B[39m\u001B[32mIn[63]\u001B[39m\u001B[32m, line 1\u001B[39m\n\u001B[32m----> \u001B[39m\u001B[32m1\u001B[39m \u001B[43mscoring\u001B[49m\u001B[43m.\u001B[49m\u001B[43mcolumns\u001B[49m()\n",
      "\u001B[31mAttributeError\u001B[39m: 'Index' object has no attribute 'columns'"
     ]
    }
   ],
   "execution_count": 63
  },
  {
   "metadata": {
    "ExecuteTime": {
     "end_time": "2025-03-22T11:22:27.084836Z",
     "start_time": "2025-03-22T11:22:27.077200Z"
    }
   },
   "cell_type": "code",
   "source": "scoring = scoring.iloc[:, [0, 1, 3, 6, 7, 8, 9, 14]]",
   "id": "dbf56c997d63e515",
   "outputs": [],
   "execution_count": 79
  },
  {
   "metadata": {
    "ExecuteTime": {
     "end_time": "2025-03-22T11:22:29.878098Z",
     "start_time": "2025-03-22T11:22:29.871724Z"
    }
   },
   "cell_type": "code",
   "source": "scoring.columns",
   "id": "4145001b37f53a9f",
   "outputs": [
    {
     "data": {
      "text/plain": [
       "Index(['playerID', 'year', 'tmID', 'GP', 'G', 'A', 'Pts', 'SOG'], dtype='object')"
      ]
     },
     "execution_count": 80,
     "metadata": {},
     "output_type": "execute_result"
    }
   ],
   "execution_count": 80
  },
  {
   "metadata": {
    "ExecuteTime": {
     "end_time": "2025-03-22T11:22:54.654907Z",
     "start_time": "2025-03-22T11:22:54.634639Z"
    }
   },
   "cell_type": "code",
   "source": "scoring['tmID'].value_counts()",
   "id": "6ecb5dea9f010816",
   "outputs": [
    {
     "data": {
      "text/plain": [
       "tmID\n",
       "PIT    1166\n",
       "NYR    1160\n",
       "TOR    1159\n",
       "LAK    1158\n",
       "NYI    1155\n",
       "BOS    1147\n",
       "PHI    1133\n",
       "CAL    1121\n",
       "WAS    1120\n",
       "EDM    1120\n",
       "CHI    1114\n",
       "STL    1107\n",
       "VAN    1096\n",
       "MTL    1082\n",
       "BUF    1080\n",
       "DET    1039\n",
       "NJD     989\n",
       "TBL     715\n",
       "SJS     679\n",
       "OTT     673\n",
       "FLO     656\n",
       "DAL     637\n",
       "HAR     633\n",
       "WIN     584\n",
       "QUE     572\n",
       "PHO     557\n",
       "COL     548\n",
       "MNS     507\n",
       "CAR     464\n",
       "NAS     463\n",
       "CBS     423\n",
       "ANA     422\n",
       "ATL     410\n",
       "MIN     384\n",
       "AND     224\n",
       "COR      81\n",
       "WPG      38\n",
       "Name: count, dtype: int64"
      ]
     },
     "execution_count": 81,
     "metadata": {},
     "output_type": "execute_result"
    }
   ],
   "execution_count": 81
  },
  {
   "metadata": {
    "ExecuteTime": {
     "end_time": "2025-03-22T11:24:20.518582Z",
     "start_time": "2025-03-22T11:24:20.510113Z"
    }
   },
   "cell_type": "code",
   "source": "scoring.loc[:, 'tmID'] =pd.Categorical(scoring['tmID'])",
   "id": "e81c32b96f2f871e",
   "outputs": [],
   "execution_count": 82
  },
  {
   "metadata": {
    "ExecuteTime": {
     "end_time": "2025-03-22T11:24:58.044803Z",
     "start_time": "2025-03-22T11:24:58.028481Z"
    }
   },
   "cell_type": "code",
   "source": "scoring.head()",
   "id": "a470bf5f4fda64f3",
   "outputs": [
    {
     "data": {
      "text/plain": [
       "    playerID  year tmID    GP    G     A   Pts    SOG\n",
       "0  aaltoan01  1997  ANA   3.0  0.0   0.0   0.0    1.0\n",
       "1  aaltoan01  1998  ANA  73.0  3.0   5.0   8.0   61.0\n",
       "2  aaltoan01  1999  ANA  63.0  7.0  11.0  18.0  102.0\n",
       "3  aaltoan01  2000  ANA  12.0  1.0   1.0   2.0   18.0\n",
       "7  abdelju01  2007  DET   2.0  0.0   0.0   0.0    6.0"
      ],
      "text/html": [
       "<div>\n",
       "<style scoped>\n",
       "    .dataframe tbody tr th:only-of-type {\n",
       "        vertical-align: middle;\n",
       "    }\n",
       "\n",
       "    .dataframe tbody tr th {\n",
       "        vertical-align: top;\n",
       "    }\n",
       "\n",
       "    .dataframe thead th {\n",
       "        text-align: right;\n",
       "    }\n",
       "</style>\n",
       "<table border=\"1\" class=\"dataframe\">\n",
       "  <thead>\n",
       "    <tr style=\"text-align: right;\">\n",
       "      <th></th>\n",
       "      <th>playerID</th>\n",
       "      <th>year</th>\n",
       "      <th>tmID</th>\n",
       "      <th>GP</th>\n",
       "      <th>G</th>\n",
       "      <th>A</th>\n",
       "      <th>Pts</th>\n",
       "      <th>SOG</th>\n",
       "    </tr>\n",
       "  </thead>\n",
       "  <tbody>\n",
       "    <tr>\n",
       "      <th>0</th>\n",
       "      <td>aaltoan01</td>\n",
       "      <td>1997</td>\n",
       "      <td>ANA</td>\n",
       "      <td>3.0</td>\n",
       "      <td>0.0</td>\n",
       "      <td>0.0</td>\n",
       "      <td>0.0</td>\n",
       "      <td>1.0</td>\n",
       "    </tr>\n",
       "    <tr>\n",
       "      <th>1</th>\n",
       "      <td>aaltoan01</td>\n",
       "      <td>1998</td>\n",
       "      <td>ANA</td>\n",
       "      <td>73.0</td>\n",
       "      <td>3.0</td>\n",
       "      <td>5.0</td>\n",
       "      <td>8.0</td>\n",
       "      <td>61.0</td>\n",
       "    </tr>\n",
       "    <tr>\n",
       "      <th>2</th>\n",
       "      <td>aaltoan01</td>\n",
       "      <td>1999</td>\n",
       "      <td>ANA</td>\n",
       "      <td>63.0</td>\n",
       "      <td>7.0</td>\n",
       "      <td>11.0</td>\n",
       "      <td>18.0</td>\n",
       "      <td>102.0</td>\n",
       "    </tr>\n",
       "    <tr>\n",
       "      <th>3</th>\n",
       "      <td>aaltoan01</td>\n",
       "      <td>2000</td>\n",
       "      <td>ANA</td>\n",
       "      <td>12.0</td>\n",
       "      <td>1.0</td>\n",
       "      <td>1.0</td>\n",
       "      <td>2.0</td>\n",
       "      <td>18.0</td>\n",
       "    </tr>\n",
       "    <tr>\n",
       "      <th>7</th>\n",
       "      <td>abdelju01</td>\n",
       "      <td>2007</td>\n",
       "      <td>DET</td>\n",
       "      <td>2.0</td>\n",
       "      <td>0.0</td>\n",
       "      <td>0.0</td>\n",
       "      <td>0.0</td>\n",
       "      <td>6.0</td>\n",
       "    </tr>\n",
       "  </tbody>\n",
       "</table>\n",
       "</div>"
      ]
     },
     "execution_count": 83,
     "metadata": {},
     "output_type": "execute_result"
    }
   ],
   "execution_count": 83
  },
  {
   "metadata": {
    "ExecuteTime": {
     "end_time": "2025-03-22T11:26:33.033480Z",
     "start_time": "2025-03-22T11:26:33.006157Z"
    }
   },
   "cell_type": "code",
   "source": "scoring.reset_index(drop=True).head()",
   "id": "7ccd9c0cac68a8e9",
   "outputs": [
    {
     "data": {
      "text/plain": [
       "    playerID  year tmID    GP    G     A   Pts    SOG\n",
       "0  aaltoan01  1997  ANA   3.0  0.0   0.0   0.0    1.0\n",
       "1  aaltoan01  1998  ANA  73.0  3.0   5.0   8.0   61.0\n",
       "2  aaltoan01  1999  ANA  63.0  7.0  11.0  18.0  102.0\n",
       "3  aaltoan01  2000  ANA  12.0  1.0   1.0   2.0   18.0\n",
       "4  abdelju01  2007  DET   2.0  0.0   0.0   0.0    6.0"
      ],
      "text/html": [
       "<div>\n",
       "<style scoped>\n",
       "    .dataframe tbody tr th:only-of-type {\n",
       "        vertical-align: middle;\n",
       "    }\n",
       "\n",
       "    .dataframe tbody tr th {\n",
       "        vertical-align: top;\n",
       "    }\n",
       "\n",
       "    .dataframe thead th {\n",
       "        text-align: right;\n",
       "    }\n",
       "</style>\n",
       "<table border=\"1\" class=\"dataframe\">\n",
       "  <thead>\n",
       "    <tr style=\"text-align: right;\">\n",
       "      <th></th>\n",
       "      <th>playerID</th>\n",
       "      <th>year</th>\n",
       "      <th>tmID</th>\n",
       "      <th>GP</th>\n",
       "      <th>G</th>\n",
       "      <th>A</th>\n",
       "      <th>Pts</th>\n",
       "      <th>SOG</th>\n",
       "    </tr>\n",
       "  </thead>\n",
       "  <tbody>\n",
       "    <tr>\n",
       "      <th>0</th>\n",
       "      <td>aaltoan01</td>\n",
       "      <td>1997</td>\n",
       "      <td>ANA</td>\n",
       "      <td>3.0</td>\n",
       "      <td>0.0</td>\n",
       "      <td>0.0</td>\n",
       "      <td>0.0</td>\n",
       "      <td>1.0</td>\n",
       "    </tr>\n",
       "    <tr>\n",
       "      <th>1</th>\n",
       "      <td>aaltoan01</td>\n",
       "      <td>1998</td>\n",
       "      <td>ANA</td>\n",
       "      <td>73.0</td>\n",
       "      <td>3.0</td>\n",
       "      <td>5.0</td>\n",
       "      <td>8.0</td>\n",
       "      <td>61.0</td>\n",
       "    </tr>\n",
       "    <tr>\n",
       "      <th>2</th>\n",
       "      <td>aaltoan01</td>\n",
       "      <td>1999</td>\n",
       "      <td>ANA</td>\n",
       "      <td>63.0</td>\n",
       "      <td>7.0</td>\n",
       "      <td>11.0</td>\n",
       "      <td>18.0</td>\n",
       "      <td>102.0</td>\n",
       "    </tr>\n",
       "    <tr>\n",
       "      <th>3</th>\n",
       "      <td>aaltoan01</td>\n",
       "      <td>2000</td>\n",
       "      <td>ANA</td>\n",
       "      <td>12.0</td>\n",
       "      <td>1.0</td>\n",
       "      <td>1.0</td>\n",
       "      <td>2.0</td>\n",
       "      <td>18.0</td>\n",
       "    </tr>\n",
       "    <tr>\n",
       "      <th>4</th>\n",
       "      <td>abdelju01</td>\n",
       "      <td>2007</td>\n",
       "      <td>DET</td>\n",
       "      <td>2.0</td>\n",
       "      <td>0.0</td>\n",
       "      <td>0.0</td>\n",
       "      <td>0.0</td>\n",
       "      <td>6.0</td>\n",
       "    </tr>\n",
       "  </tbody>\n",
       "</table>\n",
       "</div>"
      ]
     },
     "execution_count": 85,
     "metadata": {},
     "output_type": "execute_result"
    }
   ],
   "execution_count": 85
  },
  {
   "metadata": {
    "ExecuteTime": {
     "end_time": "2025-03-22T11:27:56.342467Z",
     "start_time": "2025-03-22T11:27:56.337127Z"
    }
   },
   "cell_type": "code",
   "source": "scoring.reset_index(drop=True, inplace=True)",
   "id": "beca5efc9db4309a",
   "outputs": [],
   "execution_count": 86
  },
  {
   "metadata": {
    "ExecuteTime": {
     "end_time": "2025-03-22T11:31:45.041315Z",
     "start_time": "2025-03-22T11:31:45.025434Z"
    }
   },
   "cell_type": "code",
   "source": "scoring.to_pickle(INTERIM / 'scoring.pkl')",
   "id": "aacd16dda6b0f390",
   "outputs": [],
   "execution_count": 87
  },
  {
   "metadata": {},
   "cell_type": "markdown",
   "source": "---",
   "id": "328f79b728450bec"
  },
  {
   "metadata": {
    "ExecuteTime": {
     "end_time": "2025-03-22T11:39:06.874446Z",
     "start_time": "2025-03-22T11:39:06.863161Z"
    }
   },
   "cell_type": "code",
   "source": "teams = pd.read_csv(RAW /\"Teams.csv\")",
   "id": "280ae5f54bcc5032",
   "outputs": [],
   "execution_count": 93
  },
  {
   "metadata": {
    "ExecuteTime": {
     "end_time": "2025-03-22T11:39:09.226226Z",
     "start_time": "2025-03-22T11:39:09.220005Z"
    }
   },
   "cell_type": "code",
   "source": "teams.shape",
   "id": "c53fb0be84c853f7",
   "outputs": [
    {
     "data": {
      "text/plain": [
       "(1519, 27)"
      ]
     },
     "execution_count": 94,
     "metadata": {},
     "output_type": "execute_result"
    }
   ],
   "execution_count": 94
  },
  {
   "metadata": {
    "ExecuteTime": {
     "end_time": "2025-03-22T11:39:11.397599Z",
     "start_time": "2025-03-22T11:39:11.390828Z"
    }
   },
   "cell_type": "code",
   "source": "teams.columns",
   "id": "166326310fb5865e",
   "outputs": [
    {
     "data": {
      "text/plain": [
       "Index(['year', 'lgID', 'tmID', 'franchID', 'confID', 'divID', 'rank',\n",
       "       'playoff', 'G', 'W', 'L', 'T', 'OTL', 'Pts', 'SoW', 'SoL', 'GF', 'GA',\n",
       "       'name', 'PIM', 'BenchMinor', 'PPG', 'PPC', 'SHA', 'PKG', 'PKC', 'SHF'],\n",
       "      dtype='object')"
      ]
     },
     "execution_count": 95,
     "metadata": {},
     "output_type": "execute_result"
    }
   ],
   "execution_count": 95
  },
  {
   "metadata": {
    "ExecuteTime": {
     "end_time": "2025-03-22T11:33:47.727075Z",
     "start_time": "2025-03-22T11:33:47.688804Z"
    }
   },
   "cell_type": "code",
   "source": "teams.sample(n=10)",
   "id": "d99aece89b93fff4",
   "outputs": [
    {
     "data": {
      "text/plain": [
       "      year  lgID tmID franchID confID divID  rank playoff   G   W  ...   GA  \\\n",
       "1045  1994   NHL  OTT      OTT     EC    NE     7     NaN  48   9  ...  174   \n",
       "108   1922  PCHA  VAM      VMR    NaN   NaN     1    SCSF  30  17  ...   88   \n",
       "513   1972   NHL  PIT      PIT    NaN    WD     5     NaN  78  32  ...  265   \n",
       "633   1976   NHL  PHI      PHI     CC    PT     1      SF  80  48  ...  213   \n",
       "1175  1999   NHL  NAS      NAS     WC    CE     4     NaN  82  28  ...  240   \n",
       "358   1953   NHL  TOR      TOR    NaN   NaN     3      SF  70  32  ...  131   \n",
       "953   1990   NHL  STL      STL     CC    NO     2      DF  80  47  ...  250   \n",
       "1512  2011   NHL  SJS      SJS     WC    PC     2     CQF  82  43  ...  210   \n",
       "257   1937   NHL  NYR      NYR    NaN    AM     2      QF  48  27  ...   96   \n",
       "271   1939   NHL  NYR      NYR    NaN   NaN     2      SC  48  27  ...   77   \n",
       "\n",
       "                     name     PIM  BenchMinor   PPG    PPC   SHA   PKG    PKC  \\\n",
       "1045      Ottawa Senators   749.0         8.0  31.0  215.0   6.0  39.0  199.0   \n",
       "108     Vancouver Maroons     NaN         NaN   NaN    NaN   NaN   NaN    NaN   \n",
       "513   Pittsburgh Penguins   866.0         6.0  52.0  301.0   7.0  49.0  264.0   \n",
       "633   Philadelphia Flyers  1547.0         6.0  52.0  236.0   3.0  57.0  326.0   \n",
       "1175  Nashville Predators   946.0        14.0  41.0  304.0  11.0  46.0  309.0   \n",
       "358   Toronto Maple Leafs  1022.0         NaN   NaN    NaN   NaN   NaN    NaN   \n",
       "953       St. Louis Blues  1987.0        16.0  70.0  348.0  18.0  55.0  339.0   \n",
       "1512      San Jose Sharks   785.0        18.0  57.0  270.0   4.0  52.0  225.0   \n",
       "257      New York Rangers   445.0         NaN   NaN    NaN   NaN   NaN    NaN   \n",
       "271      New York Rangers   510.0         NaN   NaN    NaN   NaN   NaN    NaN   \n",
       "\n",
       "       SHF  \n",
       "1045   1.0  \n",
       "108    NaN  \n",
       "513   10.0  \n",
       "633   11.0  \n",
       "1175   9.0  \n",
       "358    NaN  \n",
       "953   10.0  \n",
       "1512   3.0  \n",
       "257    NaN  \n",
       "271    NaN  \n",
       "\n",
       "[10 rows x 27 columns]"
      ],
      "text/html": [
       "<div>\n",
       "<style scoped>\n",
       "    .dataframe tbody tr th:only-of-type {\n",
       "        vertical-align: middle;\n",
       "    }\n",
       "\n",
       "    .dataframe tbody tr th {\n",
       "        vertical-align: top;\n",
       "    }\n",
       "\n",
       "    .dataframe thead th {\n",
       "        text-align: right;\n",
       "    }\n",
       "</style>\n",
       "<table border=\"1\" class=\"dataframe\">\n",
       "  <thead>\n",
       "    <tr style=\"text-align: right;\">\n",
       "      <th></th>\n",
       "      <th>year</th>\n",
       "      <th>lgID</th>\n",
       "      <th>tmID</th>\n",
       "      <th>franchID</th>\n",
       "      <th>confID</th>\n",
       "      <th>divID</th>\n",
       "      <th>rank</th>\n",
       "      <th>playoff</th>\n",
       "      <th>G</th>\n",
       "      <th>W</th>\n",
       "      <th>...</th>\n",
       "      <th>GA</th>\n",
       "      <th>name</th>\n",
       "      <th>PIM</th>\n",
       "      <th>BenchMinor</th>\n",
       "      <th>PPG</th>\n",
       "      <th>PPC</th>\n",
       "      <th>SHA</th>\n",
       "      <th>PKG</th>\n",
       "      <th>PKC</th>\n",
       "      <th>SHF</th>\n",
       "    </tr>\n",
       "  </thead>\n",
       "  <tbody>\n",
       "    <tr>\n",
       "      <th>1045</th>\n",
       "      <td>1994</td>\n",
       "      <td>NHL</td>\n",
       "      <td>OTT</td>\n",
       "      <td>OTT</td>\n",
       "      <td>EC</td>\n",
       "      <td>NE</td>\n",
       "      <td>7</td>\n",
       "      <td>NaN</td>\n",
       "      <td>48</td>\n",
       "      <td>9</td>\n",
       "      <td>...</td>\n",
       "      <td>174</td>\n",
       "      <td>Ottawa Senators</td>\n",
       "      <td>749.0</td>\n",
       "      <td>8.0</td>\n",
       "      <td>31.0</td>\n",
       "      <td>215.0</td>\n",
       "      <td>6.0</td>\n",
       "      <td>39.0</td>\n",
       "      <td>199.0</td>\n",
       "      <td>1.0</td>\n",
       "    </tr>\n",
       "    <tr>\n",
       "      <th>108</th>\n",
       "      <td>1922</td>\n",
       "      <td>PCHA</td>\n",
       "      <td>VAM</td>\n",
       "      <td>VMR</td>\n",
       "      <td>NaN</td>\n",
       "      <td>NaN</td>\n",
       "      <td>1</td>\n",
       "      <td>SCSF</td>\n",
       "      <td>30</td>\n",
       "      <td>17</td>\n",
       "      <td>...</td>\n",
       "      <td>88</td>\n",
       "      <td>Vancouver Maroons</td>\n",
       "      <td>NaN</td>\n",
       "      <td>NaN</td>\n",
       "      <td>NaN</td>\n",
       "      <td>NaN</td>\n",
       "      <td>NaN</td>\n",
       "      <td>NaN</td>\n",
       "      <td>NaN</td>\n",
       "      <td>NaN</td>\n",
       "    </tr>\n",
       "    <tr>\n",
       "      <th>513</th>\n",
       "      <td>1972</td>\n",
       "      <td>NHL</td>\n",
       "      <td>PIT</td>\n",
       "      <td>PIT</td>\n",
       "      <td>NaN</td>\n",
       "      <td>WD</td>\n",
       "      <td>5</td>\n",
       "      <td>NaN</td>\n",
       "      <td>78</td>\n",
       "      <td>32</td>\n",
       "      <td>...</td>\n",
       "      <td>265</td>\n",
       "      <td>Pittsburgh Penguins</td>\n",
       "      <td>866.0</td>\n",
       "      <td>6.0</td>\n",
       "      <td>52.0</td>\n",
       "      <td>301.0</td>\n",
       "      <td>7.0</td>\n",
       "      <td>49.0</td>\n",
       "      <td>264.0</td>\n",
       "      <td>10.0</td>\n",
       "    </tr>\n",
       "    <tr>\n",
       "      <th>633</th>\n",
       "      <td>1976</td>\n",
       "      <td>NHL</td>\n",
       "      <td>PHI</td>\n",
       "      <td>PHI</td>\n",
       "      <td>CC</td>\n",
       "      <td>PT</td>\n",
       "      <td>1</td>\n",
       "      <td>SF</td>\n",
       "      <td>80</td>\n",
       "      <td>48</td>\n",
       "      <td>...</td>\n",
       "      <td>213</td>\n",
       "      <td>Philadelphia Flyers</td>\n",
       "      <td>1547.0</td>\n",
       "      <td>6.0</td>\n",
       "      <td>52.0</td>\n",
       "      <td>236.0</td>\n",
       "      <td>3.0</td>\n",
       "      <td>57.0</td>\n",
       "      <td>326.0</td>\n",
       "      <td>11.0</td>\n",
       "    </tr>\n",
       "    <tr>\n",
       "      <th>1175</th>\n",
       "      <td>1999</td>\n",
       "      <td>NHL</td>\n",
       "      <td>NAS</td>\n",
       "      <td>NAS</td>\n",
       "      <td>WC</td>\n",
       "      <td>CE</td>\n",
       "      <td>4</td>\n",
       "      <td>NaN</td>\n",
       "      <td>82</td>\n",
       "      <td>28</td>\n",
       "      <td>...</td>\n",
       "      <td>240</td>\n",
       "      <td>Nashville Predators</td>\n",
       "      <td>946.0</td>\n",
       "      <td>14.0</td>\n",
       "      <td>41.0</td>\n",
       "      <td>304.0</td>\n",
       "      <td>11.0</td>\n",
       "      <td>46.0</td>\n",
       "      <td>309.0</td>\n",
       "      <td>9.0</td>\n",
       "    </tr>\n",
       "    <tr>\n",
       "      <th>358</th>\n",
       "      <td>1953</td>\n",
       "      <td>NHL</td>\n",
       "      <td>TOR</td>\n",
       "      <td>TOR</td>\n",
       "      <td>NaN</td>\n",
       "      <td>NaN</td>\n",
       "      <td>3</td>\n",
       "      <td>SF</td>\n",
       "      <td>70</td>\n",
       "      <td>32</td>\n",
       "      <td>...</td>\n",
       "      <td>131</td>\n",
       "      <td>Toronto Maple Leafs</td>\n",
       "      <td>1022.0</td>\n",
       "      <td>NaN</td>\n",
       "      <td>NaN</td>\n",
       "      <td>NaN</td>\n",
       "      <td>NaN</td>\n",
       "      <td>NaN</td>\n",
       "      <td>NaN</td>\n",
       "      <td>NaN</td>\n",
       "    </tr>\n",
       "    <tr>\n",
       "      <th>953</th>\n",
       "      <td>1990</td>\n",
       "      <td>NHL</td>\n",
       "      <td>STL</td>\n",
       "      <td>STL</td>\n",
       "      <td>CC</td>\n",
       "      <td>NO</td>\n",
       "      <td>2</td>\n",
       "      <td>DF</td>\n",
       "      <td>80</td>\n",
       "      <td>47</td>\n",
       "      <td>...</td>\n",
       "      <td>250</td>\n",
       "      <td>St. Louis Blues</td>\n",
       "      <td>1987.0</td>\n",
       "      <td>16.0</td>\n",
       "      <td>70.0</td>\n",
       "      <td>348.0</td>\n",
       "      <td>18.0</td>\n",
       "      <td>55.0</td>\n",
       "      <td>339.0</td>\n",
       "      <td>10.0</td>\n",
       "    </tr>\n",
       "    <tr>\n",
       "      <th>1512</th>\n",
       "      <td>2011</td>\n",
       "      <td>NHL</td>\n",
       "      <td>SJS</td>\n",
       "      <td>SJS</td>\n",
       "      <td>WC</td>\n",
       "      <td>PC</td>\n",
       "      <td>2</td>\n",
       "      <td>CQF</td>\n",
       "      <td>82</td>\n",
       "      <td>43</td>\n",
       "      <td>...</td>\n",
       "      <td>210</td>\n",
       "      <td>San Jose Sharks</td>\n",
       "      <td>785.0</td>\n",
       "      <td>18.0</td>\n",
       "      <td>57.0</td>\n",
       "      <td>270.0</td>\n",
       "      <td>4.0</td>\n",
       "      <td>52.0</td>\n",
       "      <td>225.0</td>\n",
       "      <td>3.0</td>\n",
       "    </tr>\n",
       "    <tr>\n",
       "      <th>257</th>\n",
       "      <td>1937</td>\n",
       "      <td>NHL</td>\n",
       "      <td>NYR</td>\n",
       "      <td>NYR</td>\n",
       "      <td>NaN</td>\n",
       "      <td>AM</td>\n",
       "      <td>2</td>\n",
       "      <td>QF</td>\n",
       "      <td>48</td>\n",
       "      <td>27</td>\n",
       "      <td>...</td>\n",
       "      <td>96</td>\n",
       "      <td>New York Rangers</td>\n",
       "      <td>445.0</td>\n",
       "      <td>NaN</td>\n",
       "      <td>NaN</td>\n",
       "      <td>NaN</td>\n",
       "      <td>NaN</td>\n",
       "      <td>NaN</td>\n",
       "      <td>NaN</td>\n",
       "      <td>NaN</td>\n",
       "    </tr>\n",
       "    <tr>\n",
       "      <th>271</th>\n",
       "      <td>1939</td>\n",
       "      <td>NHL</td>\n",
       "      <td>NYR</td>\n",
       "      <td>NYR</td>\n",
       "      <td>NaN</td>\n",
       "      <td>NaN</td>\n",
       "      <td>2</td>\n",
       "      <td>SC</td>\n",
       "      <td>48</td>\n",
       "      <td>27</td>\n",
       "      <td>...</td>\n",
       "      <td>77</td>\n",
       "      <td>New York Rangers</td>\n",
       "      <td>510.0</td>\n",
       "      <td>NaN</td>\n",
       "      <td>NaN</td>\n",
       "      <td>NaN</td>\n",
       "      <td>NaN</td>\n",
       "      <td>NaN</td>\n",
       "      <td>NaN</td>\n",
       "      <td>NaN</td>\n",
       "    </tr>\n",
       "  </tbody>\n",
       "</table>\n",
       "<p>10 rows × 27 columns</p>\n",
       "</div>"
      ]
     },
     "execution_count": 91,
     "metadata": {},
     "output_type": "execute_result"
    }
   ],
   "execution_count": 91
  },
  {
   "metadata": {},
   "cell_type": "markdown",
   "source": "",
   "id": "e88c7a3ebe38fcb0"
  },
  {
   "metadata": {
    "ExecuteTime": {
     "end_time": "2025-03-22T11:39:19.972516Z",
     "start_time": "2025-03-22T11:39:19.960922Z"
    }
   },
   "cell_type": "code",
   "source": "teams.loc[(teams['lgID'] == 'NHL') & (teams['year'] >= 1980)].shape",
   "id": "8dc40270d96ff42d",
   "outputs": [
    {
     "data": {
      "text/plain": [
       "(792, 27)"
      ]
     },
     "execution_count": 96,
     "metadata": {},
     "output_type": "execute_result"
    }
   ],
   "execution_count": 96
  },
  {
   "metadata": {
    "ExecuteTime": {
     "end_time": "2025-03-22T11:40:29.703905Z",
     "start_time": "2025-03-22T11:40:29.690768Z"
    }
   },
   "cell_type": "code",
   "source": "teams.query(\"lgID == 'NHL' and year >= 1980\").shape",
   "id": "38615534ee5ee0c",
   "outputs": [
    {
     "data": {
      "text/plain": [
       "(792, 27)"
      ]
     },
     "execution_count": 97,
     "metadata": {},
     "output_type": "execute_result"
    }
   ],
   "execution_count": 97
  },
  {
   "metadata": {
    "ExecuteTime": {
     "end_time": "2025-03-22T11:42:41.749060Z",
     "start_time": "2025-03-22T11:42:41.740823Z"
    }
   },
   "cell_type": "code",
   "source": "teams = teams.loc[(teams['lgID'] == 'NHL') & (teams['year'] >= 1980)]",
   "id": "409be5004dc68719",
   "outputs": [],
   "execution_count": 98
  },
  {
   "metadata": {
    "ExecuteTime": {
     "end_time": "2025-03-22T11:44:12.257501Z",
     "start_time": "2025-03-22T11:44:12.236902Z"
    }
   },
   "cell_type": "code",
   "source": "teams.nunique()",
   "id": "e89a7a5632727cd",
   "outputs": [
    {
     "data": {
      "text/plain": [
       "year           31\n",
       "lgID            1\n",
       "tmID           37\n",
       "franchID       30\n",
       "confID          4\n",
       "divID          10\n",
       "rank            7\n",
       "playoff        10\n",
       "G               4\n",
       "W              49\n",
       "L              50\n",
       "T              20\n",
       "OTL            18\n",
       "Pts            91\n",
       "SoW            15\n",
       "SoL            12\n",
       "GF            214\n",
       "GA            219\n",
       "name           37\n",
       "PIM           603\n",
       "BenchMinor     23\n",
       "PPG            85\n",
       "PPC           245\n",
       "SHA            22\n",
       "PKG            85\n",
       "PKC           250\n",
       "SHF            28\n",
       "dtype: int64"
      ]
     },
     "execution_count": 100,
     "metadata": {},
     "output_type": "execute_result"
    }
   ],
   "execution_count": 100
  },
  {
   "metadata": {
    "ExecuteTime": {
     "end_time": "2025-03-22T11:47:20.467188Z",
     "start_time": "2025-03-22T11:47:20.461089Z"
    }
   },
   "cell_type": "code",
   "source": "teams.loc[:,'tmID'] = pd.Categorical(teams['tmID'])",
   "id": "2c52e20950f9bf72",
   "outputs": [],
   "execution_count": 101
  },
  {
   "metadata": {
    "ExecuteTime": {
     "end_time": "2025-03-22T11:47:37.843318Z",
     "start_time": "2025-03-22T11:47:37.837674Z"
    }
   },
   "cell_type": "code",
   "source": "teams.to_pickle(INTERIM / 'teams.pkl')",
   "id": "31988e46cb48d038",
   "outputs": [],
   "execution_count": 102
  },
  {
   "metadata": {
    "ExecuteTime": {
     "end_time": "2025-03-22T11:48:34.446139Z",
     "start_time": "2025-03-22T11:48:34.434140Z"
    }
   },
   "cell_type": "code",
   "source": "teams_splits = pd.read_csv(RAW /\"TeamSplits.csv\")",
   "id": "3efdbce2b27f8172",
   "outputs": [],
   "execution_count": 104
  },
  {
   "metadata": {
    "ExecuteTime": {
     "end_time": "2025-03-22T11:48:52.730781Z",
     "start_time": "2025-03-22T11:48:52.693821Z"
    }
   },
   "cell_type": "code",
   "source": "teams_splits.sample(n=10)",
   "id": "a6b07293b5ebe5b0",
   "outputs": [
    {
     "data": {
      "text/plain": [
       "      year  lgID tmID  hW  hL   hT  hOTL  rW  rL   rT  ...  FebT  FebOL  MarW  \\\n",
       "214   1932   NHL  NYR  12   7  5.0   NaN  11  10  3.0  ...   3.0    NaN   3.0   \n",
       "77    1918  PCHA  VML   6   4  0.0   NaN   6   4  0.0  ...   0.0    NaN   2.0   \n",
       "104   1922   NHL  MTL  10   2  0.0   NaN   3   7  2.0  ...   0.0    NaN   2.0   \n",
       "1092  1996   NHL  HAR  23  15  3.0   NaN   9  24  8.0  ...   2.0    NaN   5.0   \n",
       "994   1992   NHL  PHI  23  14  5.0   NaN  13  23  6.0  ...   4.0    NaN   6.0   \n",
       "466   1969   NHL  MTL  21   9  8.0   NaN  17  13  8.0  ...   2.0    NaN   6.0   \n",
       "575   1974   WHA  CHC  18  20  1.0   NaN  12  27  0.0  ...   0.0    NaN   3.0   \n",
       "1044  1994   NHL  NYR  11  10  3.0   NaN  11  13  0.0  ...   3.0    NaN   4.0   \n",
       "677   1977   WHA  SOV   0   0  0.0   NaN   3   4  1.0  ...   NaN    NaN   NaN   \n",
       "97    1921  PCHA  VA2   6   5  1.0   NaN   5   7  0.0  ...   0.0    NaN   NaN   \n",
       "\n",
       "      MarL  MarT  MarOL  AprW  AprL  AprT  AprOL  \n",
       "214    4.0   1.0    NaN   NaN   NaN   NaN    NaN  \n",
       "77     1.0   0.0    NaN   NaN   NaN   NaN    NaN  \n",
       "104    0.0   0.0    NaN   NaN   NaN   NaN    NaN  \n",
       "1092   7.0   1.0    NaN   3.0   3.0   1.0    NaN  \n",
       "994    6.0   0.0    NaN   8.0   1.0   0.0    NaN  \n",
       "466    4.0   3.0    NaN   1.0   2.0   0.0    NaN  \n",
       "575   11.0   0.0    NaN   2.0   1.0   0.0    NaN  \n",
       "1044   8.0   0.0    NaN   9.0   6.0   0.0    NaN  \n",
       "677    NaN   NaN    NaN   NaN   NaN   NaN    NaN  \n",
       "97     NaN   NaN    NaN   NaN   NaN   NaN    NaN  \n",
       "\n",
       "[10 rows x 43 columns]"
      ],
      "text/html": [
       "<div>\n",
       "<style scoped>\n",
       "    .dataframe tbody tr th:only-of-type {\n",
       "        vertical-align: middle;\n",
       "    }\n",
       "\n",
       "    .dataframe tbody tr th {\n",
       "        vertical-align: top;\n",
       "    }\n",
       "\n",
       "    .dataframe thead th {\n",
       "        text-align: right;\n",
       "    }\n",
       "</style>\n",
       "<table border=\"1\" class=\"dataframe\">\n",
       "  <thead>\n",
       "    <tr style=\"text-align: right;\">\n",
       "      <th></th>\n",
       "      <th>year</th>\n",
       "      <th>lgID</th>\n",
       "      <th>tmID</th>\n",
       "      <th>hW</th>\n",
       "      <th>hL</th>\n",
       "      <th>hT</th>\n",
       "      <th>hOTL</th>\n",
       "      <th>rW</th>\n",
       "      <th>rL</th>\n",
       "      <th>rT</th>\n",
       "      <th>...</th>\n",
       "      <th>FebT</th>\n",
       "      <th>FebOL</th>\n",
       "      <th>MarW</th>\n",
       "      <th>MarL</th>\n",
       "      <th>MarT</th>\n",
       "      <th>MarOL</th>\n",
       "      <th>AprW</th>\n",
       "      <th>AprL</th>\n",
       "      <th>AprT</th>\n",
       "      <th>AprOL</th>\n",
       "    </tr>\n",
       "  </thead>\n",
       "  <tbody>\n",
       "    <tr>\n",
       "      <th>214</th>\n",
       "      <td>1932</td>\n",
       "      <td>NHL</td>\n",
       "      <td>NYR</td>\n",
       "      <td>12</td>\n",
       "      <td>7</td>\n",
       "      <td>5.0</td>\n",
       "      <td>NaN</td>\n",
       "      <td>11</td>\n",
       "      <td>10</td>\n",
       "      <td>3.0</td>\n",
       "      <td>...</td>\n",
       "      <td>3.0</td>\n",
       "      <td>NaN</td>\n",
       "      <td>3.0</td>\n",
       "      <td>4.0</td>\n",
       "      <td>1.0</td>\n",
       "      <td>NaN</td>\n",
       "      <td>NaN</td>\n",
       "      <td>NaN</td>\n",
       "      <td>NaN</td>\n",
       "      <td>NaN</td>\n",
       "    </tr>\n",
       "    <tr>\n",
       "      <th>77</th>\n",
       "      <td>1918</td>\n",
       "      <td>PCHA</td>\n",
       "      <td>VML</td>\n",
       "      <td>6</td>\n",
       "      <td>4</td>\n",
       "      <td>0.0</td>\n",
       "      <td>NaN</td>\n",
       "      <td>6</td>\n",
       "      <td>4</td>\n",
       "      <td>0.0</td>\n",
       "      <td>...</td>\n",
       "      <td>0.0</td>\n",
       "      <td>NaN</td>\n",
       "      <td>2.0</td>\n",
       "      <td>1.0</td>\n",
       "      <td>0.0</td>\n",
       "      <td>NaN</td>\n",
       "      <td>NaN</td>\n",
       "      <td>NaN</td>\n",
       "      <td>NaN</td>\n",
       "      <td>NaN</td>\n",
       "    </tr>\n",
       "    <tr>\n",
       "      <th>104</th>\n",
       "      <td>1922</td>\n",
       "      <td>NHL</td>\n",
       "      <td>MTL</td>\n",
       "      <td>10</td>\n",
       "      <td>2</td>\n",
       "      <td>0.0</td>\n",
       "      <td>NaN</td>\n",
       "      <td>3</td>\n",
       "      <td>7</td>\n",
       "      <td>2.0</td>\n",
       "      <td>...</td>\n",
       "      <td>0.0</td>\n",
       "      <td>NaN</td>\n",
       "      <td>2.0</td>\n",
       "      <td>0.0</td>\n",
       "      <td>0.0</td>\n",
       "      <td>NaN</td>\n",
       "      <td>NaN</td>\n",
       "      <td>NaN</td>\n",
       "      <td>NaN</td>\n",
       "      <td>NaN</td>\n",
       "    </tr>\n",
       "    <tr>\n",
       "      <th>1092</th>\n",
       "      <td>1996</td>\n",
       "      <td>NHL</td>\n",
       "      <td>HAR</td>\n",
       "      <td>23</td>\n",
       "      <td>15</td>\n",
       "      <td>3.0</td>\n",
       "      <td>NaN</td>\n",
       "      <td>9</td>\n",
       "      <td>24</td>\n",
       "      <td>8.0</td>\n",
       "      <td>...</td>\n",
       "      <td>2.0</td>\n",
       "      <td>NaN</td>\n",
       "      <td>5.0</td>\n",
       "      <td>7.0</td>\n",
       "      <td>1.0</td>\n",
       "      <td>NaN</td>\n",
       "      <td>3.0</td>\n",
       "      <td>3.0</td>\n",
       "      <td>1.0</td>\n",
       "      <td>NaN</td>\n",
       "    </tr>\n",
       "    <tr>\n",
       "      <th>994</th>\n",
       "      <td>1992</td>\n",
       "      <td>NHL</td>\n",
       "      <td>PHI</td>\n",
       "      <td>23</td>\n",
       "      <td>14</td>\n",
       "      <td>5.0</td>\n",
       "      <td>NaN</td>\n",
       "      <td>13</td>\n",
       "      <td>23</td>\n",
       "      <td>6.0</td>\n",
       "      <td>...</td>\n",
       "      <td>4.0</td>\n",
       "      <td>NaN</td>\n",
       "      <td>6.0</td>\n",
       "      <td>6.0</td>\n",
       "      <td>0.0</td>\n",
       "      <td>NaN</td>\n",
       "      <td>8.0</td>\n",
       "      <td>1.0</td>\n",
       "      <td>0.0</td>\n",
       "      <td>NaN</td>\n",
       "    </tr>\n",
       "    <tr>\n",
       "      <th>466</th>\n",
       "      <td>1969</td>\n",
       "      <td>NHL</td>\n",
       "      <td>MTL</td>\n",
       "      <td>21</td>\n",
       "      <td>9</td>\n",
       "      <td>8.0</td>\n",
       "      <td>NaN</td>\n",
       "      <td>17</td>\n",
       "      <td>13</td>\n",
       "      <td>8.0</td>\n",
       "      <td>...</td>\n",
       "      <td>2.0</td>\n",
       "      <td>NaN</td>\n",
       "      <td>6.0</td>\n",
       "      <td>4.0</td>\n",
       "      <td>3.0</td>\n",
       "      <td>NaN</td>\n",
       "      <td>1.0</td>\n",
       "      <td>2.0</td>\n",
       "      <td>0.0</td>\n",
       "      <td>NaN</td>\n",
       "    </tr>\n",
       "    <tr>\n",
       "      <th>575</th>\n",
       "      <td>1974</td>\n",
       "      <td>WHA</td>\n",
       "      <td>CHC</td>\n",
       "      <td>18</td>\n",
       "      <td>20</td>\n",
       "      <td>1.0</td>\n",
       "      <td>NaN</td>\n",
       "      <td>12</td>\n",
       "      <td>27</td>\n",
       "      <td>0.0</td>\n",
       "      <td>...</td>\n",
       "      <td>0.0</td>\n",
       "      <td>NaN</td>\n",
       "      <td>3.0</td>\n",
       "      <td>11.0</td>\n",
       "      <td>0.0</td>\n",
       "      <td>NaN</td>\n",
       "      <td>2.0</td>\n",
       "      <td>1.0</td>\n",
       "      <td>0.0</td>\n",
       "      <td>NaN</td>\n",
       "    </tr>\n",
       "    <tr>\n",
       "      <th>1044</th>\n",
       "      <td>1994</td>\n",
       "      <td>NHL</td>\n",
       "      <td>NYR</td>\n",
       "      <td>11</td>\n",
       "      <td>10</td>\n",
       "      <td>3.0</td>\n",
       "      <td>NaN</td>\n",
       "      <td>11</td>\n",
       "      <td>13</td>\n",
       "      <td>0.0</td>\n",
       "      <td>...</td>\n",
       "      <td>3.0</td>\n",
       "      <td>NaN</td>\n",
       "      <td>4.0</td>\n",
       "      <td>8.0</td>\n",
       "      <td>0.0</td>\n",
       "      <td>NaN</td>\n",
       "      <td>9.0</td>\n",
       "      <td>6.0</td>\n",
       "      <td>0.0</td>\n",
       "      <td>NaN</td>\n",
       "    </tr>\n",
       "    <tr>\n",
       "      <th>677</th>\n",
       "      <td>1977</td>\n",
       "      <td>WHA</td>\n",
       "      <td>SOV</td>\n",
       "      <td>0</td>\n",
       "      <td>0</td>\n",
       "      <td>0.0</td>\n",
       "      <td>NaN</td>\n",
       "      <td>3</td>\n",
       "      <td>4</td>\n",
       "      <td>1.0</td>\n",
       "      <td>...</td>\n",
       "      <td>NaN</td>\n",
       "      <td>NaN</td>\n",
       "      <td>NaN</td>\n",
       "      <td>NaN</td>\n",
       "      <td>NaN</td>\n",
       "      <td>NaN</td>\n",
       "      <td>NaN</td>\n",
       "      <td>NaN</td>\n",
       "      <td>NaN</td>\n",
       "      <td>NaN</td>\n",
       "    </tr>\n",
       "    <tr>\n",
       "      <th>97</th>\n",
       "      <td>1921</td>\n",
       "      <td>PCHA</td>\n",
       "      <td>VA2</td>\n",
       "      <td>6</td>\n",
       "      <td>5</td>\n",
       "      <td>1.0</td>\n",
       "      <td>NaN</td>\n",
       "      <td>5</td>\n",
       "      <td>7</td>\n",
       "      <td>0.0</td>\n",
       "      <td>...</td>\n",
       "      <td>0.0</td>\n",
       "      <td>NaN</td>\n",
       "      <td>NaN</td>\n",
       "      <td>NaN</td>\n",
       "      <td>NaN</td>\n",
       "      <td>NaN</td>\n",
       "      <td>NaN</td>\n",
       "      <td>NaN</td>\n",
       "      <td>NaN</td>\n",
       "      <td>NaN</td>\n",
       "    </tr>\n",
       "  </tbody>\n",
       "</table>\n",
       "<p>10 rows × 43 columns</p>\n",
       "</div>"
      ]
     },
     "execution_count": 105,
     "metadata": {},
     "output_type": "execute_result"
    }
   ],
   "execution_count": 105
  },
  {
   "metadata": {
    "ExecuteTime": {
     "end_time": "2025-03-22T11:49:52.280200Z",
     "start_time": "2025-03-22T11:49:52.269998Z"
    }
   },
   "cell_type": "code",
   "source": "teams_splits.columns",
   "id": "bb354d3656fee55c",
   "outputs": [
    {
     "data": {
      "text/plain": [
       "Index(['year', 'lgID', 'tmID', 'hW', 'hL', 'hT', 'hOTL', 'rW', 'rL', 'rT',\n",
       "       'rOTL', 'SepW', 'SepL', 'SepT', 'SepOL', 'OctW', 'OctL', 'OctT',\n",
       "       'OctOL', 'NovW', 'NovL', 'NovT', 'NovOL', 'DecW', 'DecL', 'DecT',\n",
       "       'DecOL', 'JanW', 'JanL', 'JanT', 'JanOL', 'FebW', 'FebL', 'FebT',\n",
       "       'FebOL', 'MarW', 'MarL', 'MarT', 'MarOL', 'AprW', 'AprL', 'AprT',\n",
       "       'AprOL'],\n",
       "      dtype='object')"
      ]
     },
     "execution_count": 106,
     "metadata": {},
     "output_type": "execute_result"
    }
   ],
   "execution_count": 106
  },
  {
   "metadata": {
    "ExecuteTime": {
     "end_time": "2025-03-22T11:50:05.615315Z",
     "start_time": "2025-03-22T11:50:05.602595Z"
    }
   },
   "cell_type": "code",
   "source": "teams_splits.info()",
   "id": "491685422917e004",
   "outputs": [
    {
     "name": "stdout",
     "output_type": "stream",
     "text": [
      "<class 'pandas.core.frame.DataFrame'>\n",
      "RangeIndex: 1519 entries, 0 to 1518\n",
      "Data columns (total 43 columns):\n",
      " #   Column  Non-Null Count  Dtype  \n",
      "---  ------  --------------  -----  \n",
      " 0   year    1519 non-null   int64  \n",
      " 1   lgID    1519 non-null   object \n",
      " 2   tmID    1519 non-null   object \n",
      " 3   hW      1519 non-null   int64  \n",
      " 4   hL      1519 non-null   int64  \n",
      " 5   hT      1309 non-null   float64\n",
      " 6   hOTL    358 non-null    float64\n",
      " 7   rW      1519 non-null   int64  \n",
      " 8   rL      1519 non-null   int64  \n",
      " 9   rT      1309 non-null   float64\n",
      " 10  rOTL    358 non-null    float64\n",
      " 11  SepW    2 non-null      float64\n",
      " 12  SepL    2 non-null      float64\n",
      " 13  SepT    0 non-null      float64\n",
      " 14  SepOL   2 non-null      float64\n",
      " 15  OctW    1199 non-null   float64\n",
      " 16  OctL    1199 non-null   float64\n",
      " 17  OctT    989 non-null    float64\n",
      " 18  OctOL   358 non-null    float64\n",
      " 19  NovW    1358 non-null   float64\n",
      " 20  NovL    1358 non-null   float64\n",
      " 21  NovT    1148 non-null   float64\n",
      " 22  NovOL   358 non-null    float64\n",
      " 23  DecW    1473 non-null   float64\n",
      " 24  DecL    1473 non-null   float64\n",
      " 25  DecT    1263 non-null   float64\n",
      " 26  DecOL   358 non-null    float64\n",
      " 27  JanW    1515 non-null   float64\n",
      " 28  JanL    1515 non-null   float64\n",
      " 29  JanT    1305 non-null   float64\n",
      " 30  JanOL   358 non-null    float64\n",
      " 31  FebW    1510 non-null   float64\n",
      " 32  FebL    1510 non-null   float64\n",
      " 33  FebT    1300 non-null   float64\n",
      " 34  FebOL   358 non-null    float64\n",
      " 35  MarW    1485 non-null   float64\n",
      " 36  MarL    1485 non-null   float64\n",
      " 37  MarT    1275 non-null   float64\n",
      " 38  MarOL   358 non-null    float64\n",
      " 39  AprW    1018 non-null   float64\n",
      " 40  AprL    1018 non-null   float64\n",
      " 41  AprT    808 non-null    float64\n",
      " 42  AprOL   358 non-null    float64\n",
      "dtypes: float64(36), int64(5), object(2)\n",
      "memory usage: 510.4+ KB\n"
     ]
    }
   ],
   "execution_count": 107
  },
  {
   "metadata": {
    "ExecuteTime": {
     "end_time": "2025-03-22T11:53:12.156650Z",
     "start_time": "2025-03-22T11:53:12.147675Z"
    }
   },
   "cell_type": "code",
   "source": "team_splits = teams_splits.loc[(teams_splits['lgID'] == 'NHL') & (teams_splits['year'] >= 1980)]",
   "id": "1b6886a37d926f82",
   "outputs": [],
   "execution_count": 108
  },
  {
   "metadata": {
    "ExecuteTime": {
     "end_time": "2025-03-22T11:56:43.520395Z",
     "start_time": "2025-03-22T11:56:43.513964Z"
    }
   },
   "cell_type": "code",
   "source": [
    "cols_to_drop = team_splits.columns[3:11]\n",
    "teams_splits.drop(columns=cols_to_drop, inplace=True)"
   ],
   "id": "6b4fbdd7481dfc6c",
   "outputs": [],
   "execution_count": 109
  },
  {
   "metadata": {
    "ExecuteTime": {
     "end_time": "2025-03-22T11:58:08.282854Z",
     "start_time": "2025-03-22T11:58:08.276821Z"
    }
   },
   "cell_type": "code",
   "source": "teams_splits.drop(columns='lgID', inplace=True)",
   "id": "f47799289c47853d",
   "outputs": [],
   "execution_count": 110
  },
  {
   "metadata": {
    "ExecuteTime": {
     "end_time": "2025-03-22T12:00:34.092977Z",
     "start_time": "2025-03-22T12:00:34.085901Z"
    }
   },
   "cell_type": "code",
   "source": "teams_splits.loc[:,'tmID'] = pd.Categorical(teams_splits['tmID'])",
   "id": "5bb696fa634fde56",
   "outputs": [],
   "execution_count": 111
  },
  {
   "metadata": {
    "ExecuteTime": {
     "end_time": "2025-03-22T12:01:43.987573Z",
     "start_time": "2025-03-22T12:01:43.981056Z"
    }
   },
   "cell_type": "code",
   "source": "teams_splits.to_pickle(INTERIM / 'teams_splits.pkl')",
   "id": "e71710783204143c",
   "outputs": [],
   "execution_count": 112
  },
  {
   "metadata": {},
   "cell_type": "code",
   "outputs": [],
   "execution_count": null,
   "source": "",
   "id": "646edfe7a4110ce"
  }
 ],
 "metadata": {
  "kernelspec": {
   "display_name": "Python 3",
   "language": "python",
   "name": "python3"
  },
  "language_info": {
   "codemirror_mode": {
    "name": "ipython",
    "version": 2
   },
   "file_extension": ".py",
   "mimetype": "text/x-python",
   "name": "python",
   "nbconvert_exporter": "python",
   "pygments_lexer": "ipython2",
   "version": "2.7.6"
  }
 },
 "nbformat": 4,
 "nbformat_minor": 5
}
